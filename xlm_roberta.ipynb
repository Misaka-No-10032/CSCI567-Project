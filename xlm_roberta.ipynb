{
 "cells": [
  {
   "cell_type": "code",
   "execution_count": 1,
   "metadata": {},
   "outputs": [],
   "source": [
    "import numpy as np\n",
    "import pandas as pd\n",
    "import os\n",
    "\n",
    "from datasets import load_dataset, DatasetDict\n",
    "\n",
    "import evaluate\n",
    "\n",
    "from transformers import (\n",
    "    AutoTokenizer,\n",
    "    AutoModelForSequenceClassification,\n",
    "    DataCollatorWithPadding,\n",
    "    TrainingArguments,\n",
    "    Trainer,\n",
    "    EarlyStoppingCallback,\n",
    ")\n",
    "\n",
    "import matplotlib.pyplot as plt"
   ]
  },
  {
   "cell_type": "code",
   "execution_count": 2,
   "metadata": {},
   "outputs": [],
   "source": [
    "INPUT_DIR = \"/input0\"\n",
    "OUTPUT_DIR = \"/output/output/xlm-roberta\"\n",
    "CHECKPOINT = \"symanto/xlm-roberta-base-snli-mnli-anli-xnli\""
   ]
  },
  {
   "cell_type": "code",
   "execution_count": 3,
   "metadata": {},
   "outputs": [
    {
     "data": {
      "text/plain": [
       "DatasetDict({\n",
       "    train: Dataset({\n",
       "        features: ['id', 'premise', 'hypothesis', 'lang_abv', 'language', 'label'],\n",
       "        num_rows: 9696\n",
       "    })\n",
       "    val: Dataset({\n",
       "        features: ['id', 'premise', 'hypothesis', 'lang_abv', 'language', 'label'],\n",
       "        num_rows: 2424\n",
       "    })\n",
       "    test: Dataset({\n",
       "        features: ['id', 'premise', 'hypothesis', 'lang_abv', 'language'],\n",
       "        num_rows: 5195\n",
       "    })\n",
       "})"
      ]
     },
     "execution_count": 3,
     "metadata": {},
     "output_type": "execute_result"
    }
   ],
   "source": [
    "# Load data\n",
    "data = load_dataset(\"csv\", data_files=os.path.join(INPUT_DIR, \"train.csv\"), trust_remote_code=True, split=\"train\")\n",
    "data = data.train_test_split(0.2)\n",
    "\n",
    "data = DatasetDict(\n",
    "    {\n",
    "        \"train\": data[\"train\"],\n",
    "        \"val\": data[\"test\"],\n",
    "        \"test\": load_dataset(\"csv\", data_files=os.path.join(INPUT_DIR, \"test.csv\"), trust_remote_code=True, split=\"train\"),\n",
    "    }\n",
    ")\n",
    "\n",
    "data"
   ]
  },
  {
   "cell_type": "code",
   "execution_count": 4,
   "metadata": {},
   "outputs": [
    {
     "data": {
      "text/html": [
       "<div>\n",
       "<style scoped>\n",
       "    .dataframe tbody tr th:only-of-type {\n",
       "        vertical-align: middle;\n",
       "    }\n",
       "\n",
       "    .dataframe tbody tr th {\n",
       "        vertical-align: top;\n",
       "    }\n",
       "\n",
       "    .dataframe thead th {\n",
       "        text-align: right;\n",
       "    }\n",
       "</style>\n",
       "<table border=\"1\" class=\"dataframe\">\n",
       "  <thead>\n",
       "    <tr style=\"text-align: right;\">\n",
       "      <th></th>\n",
       "      <th>id</th>\n",
       "      <th>premise</th>\n",
       "      <th>hypothesis</th>\n",
       "      <th>lang_abv</th>\n",
       "      <th>language</th>\n",
       "      <th>label</th>\n",
       "    </tr>\n",
       "  </thead>\n",
       "  <tbody>\n",
       "    <tr>\n",
       "      <th>0</th>\n",
       "      <td>526fb6300a</td>\n",
       "      <td>อาคารเก่าแก่แห่งนี้จัดการจัดการแสดง Edinburgh ...</td>\n",
       "      <td>อาคารมีการนำเสนอภาพนิ่ง 3D เกี่ยวกับประวัติศาส...</td>\n",
       "      <td>th</td>\n",
       "      <td>Thai</td>\n",
       "      <td>0</td>\n",
       "    </tr>\n",
       "    <tr>\n",
       "      <th>1</th>\n",
       "      <td>26eda399a9</td>\n",
       "      <td>did you well it's not just that are there enou...</td>\n",
       "      <td>there still aren't enough jobs for everyone here</td>\n",
       "      <td>en</td>\n",
       "      <td>English</td>\n",
       "      <td>2</td>\n",
       "    </tr>\n",
       "    <tr>\n",
       "      <th>2</th>\n",
       "      <td>e5faa29d99</td>\n",
       "      <td>Although a mile long, its name is misleading b...</td>\n",
       "      <td>It is a mile long, each street spanning about ...</td>\n",
       "      <td>en</td>\n",
       "      <td>English</td>\n",
       "      <td>1</td>\n",
       "    </tr>\n",
       "    <tr>\n",
       "      <th>3</th>\n",
       "      <td>4a7224abd7</td>\n",
       "      <td>yeah yeah seven percent or something it depend...</td>\n",
       "      <td>It a place like Dallas it's seven percent.</td>\n",
       "      <td>en</td>\n",
       "      <td>English</td>\n",
       "      <td>2</td>\n",
       "    </tr>\n",
       "    <tr>\n",
       "      <th>4</th>\n",
       "      <td>e936568670</td>\n",
       "      <td>While documenting the basis for judgments can ...</td>\n",
       "      <td>Documenting nonjudgmental information can pose...</td>\n",
       "      <td>en</td>\n",
       "      <td>English</td>\n",
       "      <td>0</td>\n",
       "    </tr>\n",
       "  </tbody>\n",
       "</table>\n",
       "</div>"
      ],
      "text/plain": [
       "           id                                            premise  \\\n",
       "0  526fb6300a  อาคารเก่าแก่แห่งนี้จัดการจัดการแสดง Edinburgh ...   \n",
       "1  26eda399a9  did you well it's not just that are there enou...   \n",
       "2  e5faa29d99  Although a mile long, its name is misleading b...   \n",
       "3  4a7224abd7  yeah yeah seven percent or something it depend...   \n",
       "4  e936568670  While documenting the basis for judgments can ...   \n",
       "\n",
       "                                          hypothesis lang_abv language  label  \n",
       "0  อาคารมีการนำเสนอภาพนิ่ง 3D เกี่ยวกับประวัติศาส...       th     Thai      0  \n",
       "1   there still aren't enough jobs for everyone here       en  English      2  \n",
       "2  It is a mile long, each street spanning about ...       en  English      1  \n",
       "3         It a place like Dallas it's seven percent.       en  English      2  \n",
       "4  Documenting nonjudgmental information can pose...       en  English      0  "
      ]
     },
     "execution_count": 4,
     "metadata": {},
     "output_type": "execute_result"
    }
   ],
   "source": [
    "df = data[\"train\"].to_pandas()\n",
    "df.head()"
   ]
  },
  {
   "cell_type": "code",
   "execution_count": 5,
   "metadata": {},
   "outputs": [
    {
     "data": {
      "text/html": [
       "<div>\n",
       "<style scoped>\n",
       "    .dataframe tbody tr th:only-of-type {\n",
       "        vertical-align: middle;\n",
       "    }\n",
       "\n",
       "    .dataframe tbody tr th {\n",
       "        vertical-align: top;\n",
       "    }\n",
       "\n",
       "    .dataframe thead th {\n",
       "        text-align: right;\n",
       "    }\n",
       "</style>\n",
       "<table border=\"1\" class=\"dataframe\">\n",
       "  <thead>\n",
       "    <tr style=\"text-align: right;\">\n",
       "      <th></th>\n",
       "      <th>premise</th>\n",
       "      <th>hypothesis</th>\n",
       "      <th>lang_abv</th>\n",
       "      <th>language</th>\n",
       "    </tr>\n",
       "  </thead>\n",
       "  <tbody>\n",
       "    <tr>\n",
       "      <th>count</th>\n",
       "      <td>9696</td>\n",
       "      <td>9696</td>\n",
       "      <td>9696</td>\n",
       "      <td>9696</td>\n",
       "    </tr>\n",
       "    <tr>\n",
       "      <th>unique</th>\n",
       "      <td>7055</td>\n",
       "      <td>9696</td>\n",
       "      <td>15</td>\n",
       "      <td>15</td>\n",
       "    </tr>\n",
       "    <tr>\n",
       "      <th>top</th>\n",
       "      <td>You can alternate lazy days on the beach with ...</td>\n",
       "      <td>อาคารมีการนำเสนอภาพนิ่ง 3D เกี่ยวกับประวัติศาส...</td>\n",
       "      <td>en</td>\n",
       "      <td>English</td>\n",
       "    </tr>\n",
       "    <tr>\n",
       "      <th>freq</th>\n",
       "      <td>3</td>\n",
       "      <td>1</td>\n",
       "      <td>5518</td>\n",
       "      <td>5518</td>\n",
       "    </tr>\n",
       "  </tbody>\n",
       "</table>\n",
       "</div>"
      ],
      "text/plain": [
       "                                                  premise  \\\n",
       "count                                                9696   \n",
       "unique                                               7055   \n",
       "top     You can alternate lazy days on the beach with ...   \n",
       "freq                                                    3   \n",
       "\n",
       "                                               hypothesis lang_abv language  \n",
       "count                                                9696     9696     9696  \n",
       "unique                                               9696       15       15  \n",
       "top     อาคารมีการนำเสนอภาพนิ่ง 3D เกี่ยวกับประวัติศาส...       en  English  \n",
       "freq                                                    1     5518     5518  "
      ]
     },
     "execution_count": 5,
     "metadata": {},
     "output_type": "execute_result"
    }
   ],
   "source": [
    "df[[\"premise\", \"hypothesis\", \"lang_abv\", \"language\"]].describe()"
   ]
  },
  {
   "cell_type": "code",
   "execution_count": 6,
   "metadata": {},
   "outputs": [
    {
     "data": {
      "text/plain": [
       "lang_abv  language  \n",
       "en        English       5518\n",
       "zh        Chinese        323\n",
       "ar        Arabic         322\n",
       "sw        Swahili        313\n",
       "hi        Hindi          309\n",
       "ur        Urdu           304\n",
       "fr        French         301\n",
       "ru        Russian        300\n",
       "vi        Vietnamese     296\n",
       "th        Thai           295\n",
       "es        Spanish        291\n",
       "tr        Turkish        290\n",
       "el        Greek          287\n",
       "bg        Bulgarian      274\n",
       "de        German         273\n",
       "Name: count, dtype: int64"
      ]
     },
     "execution_count": 6,
     "metadata": {},
     "output_type": "execute_result"
    }
   ],
   "source": [
    "df[[\"lang_abv\", \"language\"]].value_counts()"
   ]
  },
  {
   "cell_type": "code",
   "execution_count": 7,
   "metadata": {},
   "outputs": [
    {
     "data": {
      "text/plain": [
       "id            0\n",
       "premise       0\n",
       "hypothesis    0\n",
       "lang_abv      0\n",
       "language      0\n",
       "label         0\n",
       "dtype: int64"
      ]
     },
     "execution_count": 7,
     "metadata": {},
     "output_type": "execute_result"
    }
   ],
   "source": [
    "df.isna().sum()"
   ]
  },
  {
   "cell_type": "code",
   "execution_count": 8,
   "metadata": {},
   "outputs": [
    {
     "data": {
      "text/plain": [
       "XLMRobertaForSequenceClassification(\n",
       "  (roberta): XLMRobertaModel(\n",
       "    (embeddings): XLMRobertaEmbeddings(\n",
       "      (word_embeddings): Embedding(250002, 768, padding_idx=1)\n",
       "      (position_embeddings): Embedding(514, 768, padding_idx=1)\n",
       "      (token_type_embeddings): Embedding(1, 768)\n",
       "      (LayerNorm): LayerNorm((768,), eps=1e-05, elementwise_affine=True)\n",
       "      (dropout): Dropout(p=0.1, inplace=False)\n",
       "    )\n",
       "    (encoder): XLMRobertaEncoder(\n",
       "      (layer): ModuleList(\n",
       "        (0-11): 12 x XLMRobertaLayer(\n",
       "          (attention): XLMRobertaAttention(\n",
       "            (self): XLMRobertaSelfAttention(\n",
       "              (query): Linear(in_features=768, out_features=768, bias=True)\n",
       "              (key): Linear(in_features=768, out_features=768, bias=True)\n",
       "              (value): Linear(in_features=768, out_features=768, bias=True)\n",
       "              (dropout): Dropout(p=0.1, inplace=False)\n",
       "            )\n",
       "            (output): XLMRobertaSelfOutput(\n",
       "              (dense): Linear(in_features=768, out_features=768, bias=True)\n",
       "              (LayerNorm): LayerNorm((768,), eps=1e-05, elementwise_affine=True)\n",
       "              (dropout): Dropout(p=0.1, inplace=False)\n",
       "            )\n",
       "          )\n",
       "          (intermediate): XLMRobertaIntermediate(\n",
       "            (dense): Linear(in_features=768, out_features=3072, bias=True)\n",
       "            (intermediate_act_fn): GELUActivation()\n",
       "          )\n",
       "          (output): XLMRobertaOutput(\n",
       "            (dense): Linear(in_features=3072, out_features=768, bias=True)\n",
       "            (LayerNorm): LayerNorm((768,), eps=1e-05, elementwise_affine=True)\n",
       "            (dropout): Dropout(p=0.1, inplace=False)\n",
       "          )\n",
       "        )\n",
       "      )\n",
       "    )\n",
       "  )\n",
       "  (classifier): XLMRobertaClassificationHead(\n",
       "    (dense): Linear(in_features=768, out_features=768, bias=True)\n",
       "    (dropout): Dropout(p=0.1, inplace=False)\n",
       "    (out_proj): Linear(in_features=768, out_features=3, bias=True)\n",
       "  )\n",
       ")"
      ]
     },
     "execution_count": 8,
     "metadata": {},
     "output_type": "execute_result"
    }
   ],
   "source": [
    "tokenizer = AutoTokenizer.from_pretrained(CHECKPOINT, truncation=True)\n",
    "model = AutoModelForSequenceClassification.from_pretrained(CHECKPOINT, num_labels=3)\n",
    "\n",
    "data_collator = DataCollatorWithPadding(tokenizer=tokenizer)\n",
    "\n",
    "model"
   ]
  },
  {
   "cell_type": "code",
   "execution_count": 9,
   "metadata": {},
   "outputs": [
    {
     "data": {
      "application/vnd.jupyter.widget-view+json": {
       "model_id": "03805bab397a4801921fb83b160e2b01",
       "version_major": 2,
       "version_minor": 0
      },
      "text/plain": [
       "Map:   0%|          | 0/9696 [00:00<?, ? examples/s]"
      ]
     },
     "metadata": {},
     "output_type": "display_data"
    },
    {
     "data": {
      "application/vnd.jupyter.widget-view+json": {
       "model_id": "95a0fa3b71b249e3aae59cbf756b9439",
       "version_major": 2,
       "version_minor": 0
      },
      "text/plain": [
       "Map:   0%|          | 0/2424 [00:00<?, ? examples/s]"
      ]
     },
     "metadata": {},
     "output_type": "display_data"
    },
    {
     "data": {
      "application/vnd.jupyter.widget-view+json": {
       "model_id": "440a26f729a24f87b2c0a0c81f38b400",
       "version_major": 2,
       "version_minor": 0
      },
      "text/plain": [
       "Map:   0%|          | 0/5195 [00:00<?, ? examples/s]"
      ]
     },
     "metadata": {},
     "output_type": "display_data"
    },
    {
     "data": {
      "text/plain": [
       "DatasetDict({\n",
       "    train: Dataset({\n",
       "        features: ['id', 'premise', 'hypothesis', 'lang_abv', 'language', 'label', 'text', 'input_ids', 'attention_mask'],\n",
       "        num_rows: 9696\n",
       "    })\n",
       "    val: Dataset({\n",
       "        features: ['id', 'premise', 'hypothesis', 'lang_abv', 'language', 'label', 'text', 'input_ids', 'attention_mask'],\n",
       "        num_rows: 2424\n",
       "    })\n",
       "    test: Dataset({\n",
       "        features: ['id', 'premise', 'hypothesis', 'lang_abv', 'language', 'text', 'input_ids', 'attention_mask'],\n",
       "        num_rows: 5195\n",
       "    })\n",
       "})"
      ]
     },
     "execution_count": 9,
     "metadata": {},
     "output_type": "execute_result"
    }
   ],
   "source": [
    "def preprocess_data(batch):\n",
    "    batch[\"text\"] = [\n",
    "        x1 + f\" {tokenizer.sep_token} \" + x2\n",
    "        for x1, x2 in zip(batch[\"premise\"], batch[\"hypothesis\"])\n",
    "    ]\n",
    "    return tokenizer(batch[\"text\"])\n",
    "\n",
    "data = data.map(preprocess_data, batched=True)\n",
    "data"
   ]
  },
  {
   "cell_type": "code",
   "execution_count": 10,
   "metadata": {},
   "outputs": [
    {
     "name": "stderr",
     "output_type": "stream",
     "text": [
      "huggingface/tokenizers: The current process just got forked, after parallelism has already been used. Disabling parallelism to avoid deadlocks...\n",
      "To disable this warning, you can either:\n",
      "\t- Avoid using `tokenizers` before the fork if possible\n",
      "\t- Explicitly set the environment variable TOKENIZERS_PARALLELISM=(true | false)\n"
     ]
    },
    {
     "data": {
      "text/plain": [
       "TrainingArguments(\n",
       "_n_gpu=1,\n",
       "accelerator_config={'split_batches': False, 'dispatch_batches': None, 'even_batches': True, 'use_seedable_sampler': True, 'gradient_accumulation_kwargs': None},\n",
       "adafactor=False,\n",
       "adam_beta1=0.9,\n",
       "adam_beta2=0.999,\n",
       "adam_epsilon=1e-08,\n",
       "auto_find_batch_size=False,\n",
       "bf16=False,\n",
       "bf16_full_eval=False,\n",
       "data_seed=None,\n",
       "dataloader_drop_last=False,\n",
       "dataloader_num_workers=0,\n",
       "dataloader_persistent_workers=False,\n",
       "dataloader_pin_memory=True,\n",
       "dataloader_prefetch_factor=None,\n",
       "ddp_backend=None,\n",
       "ddp_broadcast_buffers=None,\n",
       "ddp_bucket_cap_mb=None,\n",
       "ddp_find_unused_parameters=None,\n",
       "ddp_timeout=1800,\n",
       "debug=[],\n",
       "deepspeed=None,\n",
       "disable_tqdm=False,\n",
       "dispatch_batches=None,\n",
       "do_eval=True,\n",
       "do_predict=False,\n",
       "do_train=False,\n",
       "eval_accumulation_steps=None,\n",
       "eval_delay=0,\n",
       "eval_do_concat_batches=True,\n",
       "eval_steps=200,\n",
       "evaluation_strategy=steps,\n",
       "fp16=True,\n",
       "fp16_backend=auto,\n",
       "fp16_full_eval=False,\n",
       "fp16_opt_level=O1,\n",
       "fsdp=[],\n",
       "fsdp_config={'min_num_params': 0, 'xla': False, 'xla_fsdp_v2': False, 'xla_fsdp_grad_ckpt': False},\n",
       "fsdp_min_num_params=0,\n",
       "fsdp_transformer_layer_cls_to_wrap=None,\n",
       "full_determinism=False,\n",
       "gradient_accumulation_steps=1,\n",
       "gradient_checkpointing=False,\n",
       "gradient_checkpointing_kwargs=None,\n",
       "greater_is_better=True,\n",
       "group_by_length=False,\n",
       "half_precision_backend=auto,\n",
       "hub_always_push=False,\n",
       "hub_model_id=None,\n",
       "hub_private_repo=False,\n",
       "hub_strategy=every_save,\n",
       "hub_token=<HUB_TOKEN>,\n",
       "ignore_data_skip=False,\n",
       "include_inputs_for_metrics=False,\n",
       "include_num_input_tokens_seen=False,\n",
       "include_tokens_per_second=False,\n",
       "jit_mode_eval=False,\n",
       "label_names=None,\n",
       "label_smoothing_factor=0.0,\n",
       "learning_rate=2e-05,\n",
       "length_column_name=length,\n",
       "load_best_model_at_end=True,\n",
       "local_rank=0,\n",
       "log_level=passive,\n",
       "log_level_replica=warning,\n",
       "log_on_each_node=True,\n",
       "logging_dir=/output/output/xlm-roberta/logs,\n",
       "logging_first_step=False,\n",
       "logging_nan_inf_filter=True,\n",
       "logging_steps=200,\n",
       "logging_strategy=steps,\n",
       "lr_scheduler_kwargs={},\n",
       "lr_scheduler_type=linear,\n",
       "max_grad_norm=1.0,\n",
       "max_steps=-1,\n",
       "metric_for_best_model=accuracy,\n",
       "mp_parameters=,\n",
       "neftune_noise_alpha=None,\n",
       "no_cuda=False,\n",
       "num_train_epochs=5,\n",
       "optim=adamw_torch,\n",
       "optim_args=None,\n",
       "optim_target_modules=None,\n",
       "output_dir=/output/output/xlm-roberta/results,\n",
       "overwrite_output_dir=False,\n",
       "past_index=-1,\n",
       "per_device_eval_batch_size=16,\n",
       "per_device_train_batch_size=16,\n",
       "prediction_loss_only=False,\n",
       "push_to_hub=False,\n",
       "push_to_hub_model_id=None,\n",
       "push_to_hub_organization=None,\n",
       "push_to_hub_token=<PUSH_TO_HUB_TOKEN>,\n",
       "ray_scope=last,\n",
       "remove_unused_columns=True,\n",
       "report_to=[],\n",
       "resume_from_checkpoint=None,\n",
       "run_name=/output/output/xlm-roberta/results,\n",
       "save_on_each_node=False,\n",
       "save_only_model=True,\n",
       "save_safetensors=True,\n",
       "save_steps=200,\n",
       "save_strategy=steps,\n",
       "save_total_limit=3,\n",
       "seed=42,\n",
       "skip_memory_metrics=True,\n",
       "split_batches=None,\n",
       "tf32=None,\n",
       "torch_compile=False,\n",
       "torch_compile_backend=None,\n",
       "torch_compile_mode=None,\n",
       "torchdynamo=None,\n",
       "tpu_metrics_debug=False,\n",
       "tpu_num_cores=None,\n",
       "use_cpu=False,\n",
       "use_ipex=False,\n",
       "use_legacy_prediction_loop=False,\n",
       "use_mps_device=False,\n",
       "warmup_ratio=0.0,\n",
       "warmup_steps=0,\n",
       "weight_decay=0.005,\n",
       ")"
      ]
     },
     "execution_count": 10,
     "metadata": {},
     "output_type": "execute_result"
    }
   ],
   "source": [
    "def compute_metrics(eval_pred):\n",
    "    metric = evaluate.load(\"accuracy\")\n",
    "    preds, labels = eval_pred\n",
    "    preds = np.argmax(preds, axis=1)\n",
    "    return metric.compute(predictions=preds, references=labels)\n",
    "\n",
    "\n",
    "train_args = TrainingArguments(\n",
    "    output_dir=os.path.join(OUTPUT_DIR, \"results\"),\n",
    "    logging_dir=os.path.join(OUTPUT_DIR, \"logs\"),\n",
    "    report_to=[],\n",
    "    evaluation_strategy=\"steps\",\n",
    "    eval_steps=200,\n",
    "    logging_steps=200,\n",
    "    save_steps=200,\n",
    "    per_device_eval_batch_size=16,\n",
    "    per_device_train_batch_size=16,\n",
    "    learning_rate=2e-5,\n",
    "    weight_decay=0.005,\n",
    "    num_train_epochs=5,\n",
    "    fp16=True,\n",
    "    load_best_model_at_end=True,\n",
    "    metric_for_best_model=\"accuracy\",\n",
    "    save_total_limit=3,\n",
    "    save_only_model=True,\n",
    ")\n",
    "\n",
    "train_args"
   ]
  },
  {
   "cell_type": "code",
   "execution_count": 11,
   "metadata": {},
   "outputs": [
    {
     "data": {
      "text/html": [
       "\n",
       "    <div>\n",
       "      \n",
       "      <progress value='1400' max='3030' style='width:300px; height:20px; vertical-align: middle;'></progress>\n",
       "      [1400/3030 03:52 < 04:30, 6.02 it/s, Epoch 2/5]\n",
       "    </div>\n",
       "    <table border=\"1\" class=\"dataframe\">\n",
       "  <thead>\n",
       " <tr style=\"text-align: left;\">\n",
       "      <th>Step</th>\n",
       "      <th>Training Loss</th>\n",
       "      <th>Validation Loss</th>\n",
       "      <th>Accuracy</th>\n",
       "    </tr>\n",
       "  </thead>\n",
       "  <tbody>\n",
       "    <tr>\n",
       "      <td>200</td>\n",
       "      <td>0.324200</td>\n",
       "      <td>0.301612</td>\n",
       "      <td>0.882426</td>\n",
       "    </tr>\n",
       "    <tr>\n",
       "      <td>400</td>\n",
       "      <td>0.360800</td>\n",
       "      <td>0.326739</td>\n",
       "      <td>0.878300</td>\n",
       "    </tr>\n",
       "    <tr>\n",
       "      <td>600</td>\n",
       "      <td>0.347300</td>\n",
       "      <td>0.302524</td>\n",
       "      <td>0.884488</td>\n",
       "    </tr>\n",
       "    <tr>\n",
       "      <td>800</td>\n",
       "      <td>0.241500</td>\n",
       "      <td>0.369915</td>\n",
       "      <td>0.885726</td>\n",
       "    </tr>\n",
       "    <tr>\n",
       "      <td>1000</td>\n",
       "      <td>0.202900</td>\n",
       "      <td>0.443394</td>\n",
       "      <td>0.880776</td>\n",
       "    </tr>\n",
       "    <tr>\n",
       "      <td>1200</td>\n",
       "      <td>0.234700</td>\n",
       "      <td>0.379496</td>\n",
       "      <td>0.879538</td>\n",
       "    </tr>\n",
       "    <tr>\n",
       "      <td>1400</td>\n",
       "      <td>0.180400</td>\n",
       "      <td>0.594200</td>\n",
       "      <td>0.880776</td>\n",
       "    </tr>\n",
       "  </tbody>\n",
       "</table><p>"
      ],
      "text/plain": [
       "<IPython.core.display.HTML object>"
      ]
     },
     "metadata": {},
     "output_type": "display_data"
    },
    {
     "data": {
      "application/vnd.jupyter.widget-view+json": {
       "model_id": "f2b6c29ad95d4297a95f134dde3edb8e",
       "version_major": 2,
       "version_minor": 0
      },
      "text/plain": [
       "Downloading builder script:   0%|          | 0.00/4.20k [00:00<?, ?B/s]"
      ]
     },
     "metadata": {},
     "output_type": "display_data"
    },
    {
     "name": "stderr",
     "output_type": "stream",
     "text": [
      "Using the latest cached version of the module from /root/.cache/huggingface/modules/evaluate_modules/metrics/evaluate-metric--accuracy/f887c0aab52c2d38e1f8a215681126379eca617f96c447638f751434e8e65b14 (last modified on Thu May  2 01:42:39 2024) since it couldn't be found locally at evaluate-metric--accuracy, or remotely on the Hugging Face Hub.\n"
     ]
    },
    {
     "data": {
      "text/plain": [
       "TrainOutput(global_step=1400, training_loss=0.27024753843035015, metrics={'train_runtime': 233.9322, 'train_samples_per_second': 207.24, 'train_steps_per_second': 12.952, 'total_flos': 957889064121696.0, 'train_loss': 0.27024753843035015, 'epoch': 2.31023102310231})"
      ]
     },
     "execution_count": 11,
     "metadata": {},
     "output_type": "execute_result"
    }
   ],
   "source": [
    "trainer = Trainer(\n",
    "    model=model,\n",
    "    args=train_args,\n",
    "    data_collator=data_collator,\n",
    "    train_dataset=data[\"train\"],\n",
    "    eval_dataset=data[\"val\"],\n",
    "    tokenizer=tokenizer,\n",
    "    compute_metrics=compute_metrics,\n",
    "    callbacks=[EarlyStoppingCallback(3)],\n",
    ")\n",
    "\n",
    "trainer.train()"
   ]
  },
  {
   "cell_type": "code",
   "execution_count": 12,
   "metadata": {},
   "outputs": [
    {
     "data": {
      "text/plain": [
       "[{'loss': 0.3242,\n",
       "  'grad_norm': 4.449669361114502,\n",
       "  'learning_rate': 1.8706270627062708e-05,\n",
       "  'epoch': 0.33003300330033003,\n",
       "  'step': 200},\n",
       " {'eval_loss': 0.3016122281551361,\n",
       "  'eval_accuracy': 0.8824257425742574,\n",
       "  'eval_runtime': 4.4942,\n",
       "  'eval_samples_per_second': 539.364,\n",
       "  'eval_steps_per_second': 33.821,\n",
       "  'epoch': 0.33003300330033003,\n",
       "  'step': 200},\n",
       " {'loss': 0.3608,\n",
       "  'grad_norm': 23.575103759765625,\n",
       "  'learning_rate': 1.7392739273927396e-05,\n",
       "  'epoch': 0.6600660066006601,\n",
       "  'step': 400},\n",
       " {'eval_loss': 0.3267388641834259,\n",
       "  'eval_accuracy': 0.8783003300330033,\n",
       "  'eval_runtime': 105.8904,\n",
       "  'eval_samples_per_second': 22.892,\n",
       "  'eval_steps_per_second': 1.435,\n",
       "  'epoch': 0.6600660066006601,\n",
       "  'step': 400},\n",
       " {'loss': 0.3473,\n",
       "  'grad_norm': 24.919466018676758,\n",
       "  'learning_rate': 1.6072607260726074e-05,\n",
       "  'epoch': 0.9900990099009901,\n",
       "  'step': 600},\n",
       " {'eval_loss': 0.30252429842948914,\n",
       "  'eval_accuracy': 0.8844884488448845,\n",
       "  'eval_runtime': 3.7349,\n",
       "  'eval_samples_per_second': 649.017,\n",
       "  'eval_steps_per_second': 40.697,\n",
       "  'epoch': 0.9900990099009901,\n",
       "  'step': 600},\n",
       " {'loss': 0.2415,\n",
       "  'grad_norm': 14.8742036819458,\n",
       "  'learning_rate': 1.4752475247524753e-05,\n",
       "  'epoch': 1.3201320132013201,\n",
       "  'step': 800},\n",
       " {'eval_loss': 0.36991530656814575,\n",
       "  'eval_accuracy': 0.8857260726072608,\n",
       "  'eval_runtime': 3.9397,\n",
       "  'eval_samples_per_second': 615.27,\n",
       "  'eval_steps_per_second': 38.581,\n",
       "  'epoch': 1.3201320132013201,\n",
       "  'step': 800},\n",
       " {'loss': 0.2029,\n",
       "  'grad_norm': 16.685686111450195,\n",
       "  'learning_rate': 1.3432343234323433e-05,\n",
       "  'epoch': 1.6501650165016502,\n",
       "  'step': 1000},\n",
       " {'eval_loss': 0.4433935284614563,\n",
       "  'eval_accuracy': 0.8807755775577558,\n",
       "  'eval_runtime': 3.7901,\n",
       "  'eval_samples_per_second': 639.565,\n",
       "  'eval_steps_per_second': 40.105,\n",
       "  'epoch': 1.6501650165016502,\n",
       "  'step': 1000},\n",
       " {'loss': 0.2347,\n",
       "  'grad_norm': 5.908134460449219,\n",
       "  'learning_rate': 1.211881188118812e-05,\n",
       "  'epoch': 1.9801980198019802,\n",
       "  'step': 1200},\n",
       " {'eval_loss': 0.37949585914611816,\n",
       "  'eval_accuracy': 0.8795379537953796,\n",
       "  'eval_runtime': 3.4202,\n",
       "  'eval_samples_per_second': 708.74,\n",
       "  'eval_steps_per_second': 44.442,\n",
       "  'epoch': 1.9801980198019802,\n",
       "  'step': 1200},\n",
       " {'loss': 0.1804,\n",
       "  'grad_norm': 0.7685185670852661,\n",
       "  'learning_rate': 1.0798679867986799e-05,\n",
       "  'epoch': 2.31023102310231,\n",
       "  'step': 1400},\n",
       " {'eval_loss': 0.5941998362541199,\n",
       "  'eval_accuracy': 0.8807755775577558,\n",
       "  'eval_runtime': 3.4293,\n",
       "  'eval_samples_per_second': 706.859,\n",
       "  'eval_steps_per_second': 44.325,\n",
       "  'epoch': 2.31023102310231,\n",
       "  'step': 1400},\n",
       " {'train_runtime': 233.9322,\n",
       "  'train_samples_per_second': 207.24,\n",
       "  'train_steps_per_second': 12.952,\n",
       "  'total_flos': 957889064121696.0,\n",
       "  'train_loss': 0.27024753843035015,\n",
       "  'epoch': 2.31023102310231,\n",
       "  'step': 1400}]"
      ]
     },
     "execution_count": 12,
     "metadata": {},
     "output_type": "execute_result"
    }
   ],
   "source": [
    "log = trainer.state.log_history\n",
    "log"
   ]
  },
  {
   "cell_type": "code",
   "execution_count": 13,
   "metadata": {},
   "outputs": [
    {
     "data": {
      "image/png": "[encoded data removed]",
      "text/plain": [
       "<Figure size 1000x500 with 2 Axes>"
      ]
     },
     "metadata": {},
     "output_type": "display_data"
    }
   ],
   "source": [
    "steps = []\n",
    "train_loss = []\n",
    "eval_loss = []\n",
    "eval_acc = []\n",
    "\n",
    "for i in range(0, len(log) - 1, 2):\n",
    "    train_log = log[i]\n",
    "    eval_log = log[i + 1]\n",
    "    steps.append(train_log[\"step\"])\n",
    "    train_loss.append(train_log[\"loss\"])\n",
    "    eval_loss.append(eval_log[\"eval_loss\"])\n",
    "    eval_acc.append(eval_log[\"eval_accuracy\"])\n",
    "\n",
    "plt.figure(figsize=(10, 5))\n",
    "\n",
    "\n",
    "plt.subplot(1, 2, 1)\n",
    "plt.title(\"xlm-roberta loss vs step\")\n",
    "plt.xlabel(\"# steps\")\n",
    "plt.ylabel(\"loss\")\n",
    "plt.plot(steps, train_loss, label=\"training loss\")\n",
    "plt.plot(steps, eval_loss, label=\"eval loss\")\n",
    "plt.legend()\n",
    "\n",
    "plt.subplot(1, 2, 2)\n",
    "plt.title(\"xlm-roberta acc vs step\")\n",
    "plt.xlabel(\"# steps\")\n",
    "plt.ylabel(\"acc\")\n",
    "plt.plot(steps, eval_acc, label=\"eval acc\")\n",
    "plt.legend()\n",
    "\n",
    "plt.tight_layout()\n",
    "plt.show()"
   ]
  },
  {
   "cell_type": "code",
   "execution_count": 14,
   "metadata": {},
   "outputs": [
    {
     "data": {
      "text/html": [
       "\n",
       "    <div>\n",
       "      \n",
       "      <progress value='6' max='325' style='width:300px; height:20px; vertical-align: middle;'></progress>\n",
       "      [  6/325 00:00 < 00:03, 80.34 it/s]\n",
       "    </div>\n",
       "    "
      ],
      "text/plain": [
       "<IPython.core.display.HTML object>"
      ]
     },
     "metadata": {},
     "output_type": "display_data"
    },
    {
     "data": {
      "text/plain": [
       "PredictionOutput(predictions=array([[-3.2832031, -2.7265625,  6.0351562],\n",
       "       [-3.0117188,  5.828125 , -3.5039062],\n",
       "       [ 6.3945312, -2.4941406, -2.5410156],\n",
       "       ...,\n",
       "       [ 6.2421875, -2.3613281, -2.4902344],\n",
       "       [ 4.1367188, -1.5185547, -1.6474609],\n",
       "       [-3.5859375, -1.8964844,  5.4257812]], dtype=float32), label_ids=None, metrics={'test_runtime': 3.7463, 'test_samples_per_second': 1386.711, 'test_steps_per_second': 86.753})"
      ]
     },
     "execution_count": 14,
     "metadata": {},
     "output_type": "execute_result"
    }
   ],
   "source": [
    "preds = trainer.predict(data[\"test\"])\n",
    "preds"
   ]
  },
  {
   "cell_type": "code",
   "execution_count": 15,
   "metadata": {},
   "outputs": [],
   "source": [
    "pd.DataFrame(\n",
    "    {\"id\": data[\"test\"][\"id\"], \"prediction\": np.argmax(preds.predictions, axis=1)}\n",
    ").to_csv(os.path.join(OUTPUT_DIR, \"submission.csv\"), header=True, index=False)"
   ]
  },
  {
   "cell_type": "code",
   "execution_count": null,
   "metadata": {},
   "outputs": [],
   "source": []
  }
 ],
 "metadata": {
  "kernelspec": {
   "display_name": "Python 3 (ipykernel)",
   "language": "python",
   "name": "python3"
  },
  "language_info": {
   "codemirror_mode": {
    "name": "ipython",
    "version": 3
   },
   "file_extension": ".py",
   "mimetype": "text/x-python",
   "name": "python",
   "nbconvert_exporter": "python",
   "pygments_lexer": "ipython3",
   "version": "3.8.19"
  }
 },
 "nbformat": 4,
 "nbformat_minor": 4
}

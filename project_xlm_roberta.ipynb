{
 "cells": [
  {
   "cell_type": "code",
   "execution_count": 1,
   "metadata": {},
   "outputs": [],
   "source": [
    "!pip install --upgrade -q transformers datasets"
   ]
  },
  {
   "cell_type": "code",
   "execution_count": 2,
   "metadata": {},
   "outputs": [],
   "source": [
    "!pip install --upgrade -q pyarrow"
   ]
  },
  {
   "cell_type": "code",
   "execution_count": 3,
   "metadata": {},
   "outputs": [
    {
     "name": "stdout",
     "output_type": "stream",
     "text": [
      "Looking in indexes: https://download.pytorch.org/whl/cu118\n",
      "Requirement already satisfied: torch in c:\\users\\andyp\\appdata\\local\\programs\\python\\python311\\lib\\site-packages (2.2.2+cu118)\n",
      "Requirement already satisfied: torchvision in c:\\users\\andyp\\appdata\\local\\programs\\python\\python311\\lib\\site-packages (0.17.2+cu118)\n",
      "Requirement already satisfied: torchaudio in c:\\users\\andyp\\appdata\\local\\programs\\python\\python311\\lib\\site-packages (2.2.2+cu118)\n",
      "Requirement already satisfied: filelock in c:\\users\\andyp\\appdata\\local\\programs\\python\\python311\\lib\\site-packages (from torch) (3.13.4)\n",
      "Requirement already satisfied: typing-extensions>=4.8.0 in c:\\users\\andyp\\appdata\\roaming\\python\\python311\\site-packages (from torch) (4.11.0)\n",
      "Requirement already satisfied: sympy in c:\\users\\andyp\\appdata\\local\\programs\\python\\python311\\lib\\site-packages (from torch) (1.12)\n",
      "Requirement already satisfied: networkx in c:\\users\\andyp\\appdata\\local\\programs\\python\\python311\\lib\\site-packages (from torch) (3.3)\n",
      "Requirement already satisfied: jinja2 in c:\\users\\andyp\\appdata\\local\\programs\\python\\python311\\lib\\site-packages (from torch) (3.1.3)\n",
      "Requirement already satisfied: fsspec in c:\\users\\andyp\\appdata\\local\\programs\\python\\python311\\lib\\site-packages (from torch) (2024.2.0)\n",
      "Requirement already satisfied: numpy in c:\\users\\andyp\\appdata\\local\\programs\\python\\python311\\lib\\site-packages (from torchvision) (1.26.4)\n",
      "Requirement already satisfied: pillow!=8.3.*,>=5.3.0 in c:\\users\\andyp\\appdata\\local\\programs\\python\\python311\\lib\\site-packages (from torchvision) (10.2.0)\n",
      "Requirement already satisfied: MarkupSafe>=2.0 in c:\\users\\andyp\\appdata\\local\\programs\\python\\python311\\lib\\site-packages (from jinja2->torch) (2.1.5)\n",
      "Requirement already satisfied: mpmath>=0.19 in c:\\users\\andyp\\appdata\\local\\programs\\python\\python311\\lib\\site-packages (from sympy->torch) (1.3.0)\n"
     ]
    }
   ],
   "source": [
    "!pip install --upgrade torch torchvision torchaudio --index-url https://download.pytorch.org/whl/cu118"
   ]
  },
  {
   "cell_type": "code",
   "execution_count": 4,
   "metadata": {},
   "outputs": [],
   "source": [
    "!pip install --upgrade -q transformers[torch]"
   ]
  },
  {
   "cell_type": "code",
   "execution_count": 5,
   "metadata": {},
   "outputs": [
    {
     "name": "stdout",
     "output_type": "stream",
     "text": [
      "contradictory-my-dear-watson\\sample_submission.csv\n",
      "contradictory-my-dear-watson\\test.csv\n",
      "contradictory-my-dear-watson\\train.csv\n"
     ]
    }
   ],
   "source": [
    "import numpy as np \n",
    "import pandas as pd \n",
    "import os\n",
    "\n",
    "for dirname, _, filenames in os.walk('contradictory-my-dear-watson'):\n",
    "    for filename in filenames:\n",
    "        print(os.path.join(dirname, filename))"
   ]
  },
  {
   "cell_type": "code",
   "execution_count": 6,
   "metadata": {},
   "outputs": [
    {
     "name": "stderr",
     "output_type": "stream",
     "text": [
      "c:\\Users\\andyp\\AppData\\Local\\Programs\\Python\\Python311\\Lib\\site-packages\\tqdm\\auto.py:21: TqdmWarning: IProgress not found. Please update jupyter and ipywidgets. See https://ipywidgets.readthedocs.io/en/stable/user_install.html\n",
      "  from .autonotebook import tqdm as notebook_tqdm\n"
     ]
    },
    {
     "data": {
      "text/plain": [
       "DatasetDict({\n",
       "    train: Dataset({\n",
       "        features: ['id', 'premise', 'hypothesis', 'lang_abv', 'language', 'label'],\n",
       "        num_rows: 9696\n",
       "    })\n",
       "    val: Dataset({\n",
       "        features: ['id', 'premise', 'hypothesis', 'lang_abv', 'language', 'label'],\n",
       "        num_rows: 2424\n",
       "    })\n",
       "    test: Dataset({\n",
       "        features: ['id', 'premise', 'hypothesis', 'lang_abv', 'language'],\n",
       "        num_rows: 5195\n",
       "    })\n",
       "})"
      ]
     },
     "execution_count": 6,
     "metadata": {},
     "output_type": "execute_result"
    }
   ],
   "source": [
    "# Load data\n",
    "from datasets import load_dataset, DatasetDict\n",
    "\n",
    "\n",
    "data = load_dataset('csv', data_files='contradictory-my-dear-watson/train.csv', split='train')\n",
    "data = data.train_test_split(0.2)\n",
    "\n",
    "data = DatasetDict({\n",
    "    'train': data['train'],\n",
    "    'val': data['test'],\n",
    "    'test':load_dataset('csv', data_files='contradictory-my-dear-watson/test.csv', split='train')\n",
    "})\n",
    "\n",
    "data"
   ]
  },
  {
   "cell_type": "code",
   "execution_count": 7,
   "metadata": {},
   "outputs": [
    {
     "data": {
      "text/html": [
       "<div>\n",
       "<style scoped>\n",
       "    .dataframe tbody tr th:only-of-type {\n",
       "        vertical-align: middle;\n",
       "    }\n",
       "\n",
       "    .dataframe tbody tr th {\n",
       "        vertical-align: top;\n",
       "    }\n",
       "\n",
       "    .dataframe thead th {\n",
       "        text-align: right;\n",
       "    }\n",
       "</style>\n",
       "<table border=\"1\" class=\"dataframe\">\n",
       "  <thead>\n",
       "    <tr style=\"text-align: right;\">\n",
       "      <th></th>\n",
       "      <th>id</th>\n",
       "      <th>premise</th>\n",
       "      <th>hypothesis</th>\n",
       "      <th>lang_abv</th>\n",
       "      <th>language</th>\n",
       "      <th>label</th>\n",
       "    </tr>\n",
       "  </thead>\n",
       "  <tbody>\n",
       "    <tr>\n",
       "      <th>0</th>\n",
       "      <td>821ec82d21</td>\n",
       "      <td>With an area of just 541 sq km (209 sq miles),...</td>\n",
       "      <td>It is an island in the Mediterranean Sea.</td>\n",
       "      <td>en</td>\n",
       "      <td>English</td>\n",
       "      <td>1</td>\n",
       "    </tr>\n",
       "    <tr>\n",
       "      <th>1</th>\n",
       "      <td>fb939d82cd</td>\n",
       "      <td>Vào tháng Năm hoặc tháng Sáu, Clarke đã yêu cầ...</td>\n",
       "      <td>Clarke muốn chuyển sang lĩnh vực an ninh mạng ...</td>\n",
       "      <td>vi</td>\n",
       "      <td>Vietnamese</td>\n",
       "      <td>1</td>\n",
       "    </tr>\n",
       "    <tr>\n",
       "      <th>2</th>\n",
       "      <td>dcd780c2f2</td>\n",
       "      <td>مجھے کورس میں تربیت شروع کرنا پڑا.</td>\n",
       "      <td>مجھے تیاری کی کوئی ضرورت نہیں تھی.</td>\n",
       "      <td>ur</td>\n",
       "      <td>Urdu</td>\n",
       "      <td>2</td>\n",
       "    </tr>\n",
       "    <tr>\n",
       "      <th>3</th>\n",
       "      <td>642b888dc0</td>\n",
       "      <td>RH-II etiqueta esta expresión actual como prov...</td>\n",
       "      <td>Según RH-II, esta expresión significa estar al...</td>\n",
       "      <td>es</td>\n",
       "      <td>Spanish</td>\n",
       "      <td>0</td>\n",
       "    </tr>\n",
       "    <tr>\n",
       "      <th>4</th>\n",
       "      <td>381e2fb038</td>\n",
       "      <td>the approving official's knowledge true, corre...</td>\n",
       "      <td>The approving official knowledge is in accorda...</td>\n",
       "      <td>en</td>\n",
       "      <td>English</td>\n",
       "      <td>0</td>\n",
       "    </tr>\n",
       "    <tr>\n",
       "      <th>...</th>\n",
       "      <td>...</td>\n",
       "      <td>...</td>\n",
       "      <td>...</td>\n",
       "      <td>...</td>\n",
       "      <td>...</td>\n",
       "      <td>...</td>\n",
       "    </tr>\n",
       "    <tr>\n",
       "      <th>9691</th>\n",
       "      <td>40ae029767</td>\n",
       "      <td>I had rejected it as absurd, nevertheless it p...</td>\n",
       "      <td>It persisted even after I rejected it as an ab...</td>\n",
       "      <td>en</td>\n",
       "      <td>English</td>\n",
       "      <td>0</td>\n",
       "    </tr>\n",
       "    <tr>\n",
       "      <th>9692</th>\n",
       "      <td>33368cc505</td>\n",
       "      <td>In fact, the Lions of Delos were made from Nax...</td>\n",
       "      <td>There are five Lions of Delos, and also two Ti...</td>\n",
       "      <td>en</td>\n",
       "      <td>English</td>\n",
       "      <td>1</td>\n",
       "    </tr>\n",
       "    <tr>\n",
       "      <th>9693</th>\n",
       "      <td>60522de44a</td>\n",
       "      <td>CIA đã dỡ bỏ tấm phim, đưa chúng đến Liên Hiệp...</td>\n",
       "      <td>CIA cho rằng Liên hiệp quốc cần xem phim ngay ...</td>\n",
       "      <td>vi</td>\n",
       "      <td>Vietnamese</td>\n",
       "      <td>1</td>\n",
       "    </tr>\n",
       "    <tr>\n",
       "      <th>9694</th>\n",
       "      <td>c803e3b7ed</td>\n",
       "      <td>Comme pour tous les dons à l'Institut, 100% de...</td>\n",
       "      <td>Nous dépensons la moitié de votre argent en fr...</td>\n",
       "      <td>fr</td>\n",
       "      <td>French</td>\n",
       "      <td>2</td>\n",
       "    </tr>\n",
       "    <tr>\n",
       "      <th>9695</th>\n",
       "      <td>832a9997be</td>\n",
       "      <td>یہ آلات کئی مقبول موسیقی سٹائل کے لئے بنیادی آ...</td>\n",
       "      <td>آرکسٹرا پہلے بیان کیے گئے آلات پر مشتمل ہوتا ہے۔</td>\n",
       "      <td>ur</td>\n",
       "      <td>Urdu</td>\n",
       "      <td>0</td>\n",
       "    </tr>\n",
       "  </tbody>\n",
       "</table>\n",
       "<p>9696 rows × 6 columns</p>\n",
       "</div>"
      ],
      "text/plain": [
       "              id                                            premise  \\\n",
       "0     821ec82d21  With an area of just 541 sq km (209 sq miles),...   \n",
       "1     fb939d82cd  Vào tháng Năm hoặc tháng Sáu, Clarke đã yêu cầ...   \n",
       "2     dcd780c2f2                 مجھے کورس میں تربیت شروع کرنا پڑا.   \n",
       "3     642b888dc0  RH-II etiqueta esta expresión actual como prov...   \n",
       "4     381e2fb038  the approving official's knowledge true, corre...   \n",
       "...          ...                                                ...   \n",
       "9691  40ae029767  I had rejected it as absurd, nevertheless it p...   \n",
       "9692  33368cc505  In fact, the Lions of Delos were made from Nax...   \n",
       "9693  60522de44a  CIA đã dỡ bỏ tấm phim, đưa chúng đến Liên Hiệp...   \n",
       "9694  c803e3b7ed  Comme pour tous les dons à l'Institut, 100% de...   \n",
       "9695  832a9997be  یہ آلات کئی مقبول موسیقی سٹائل کے لئے بنیادی آ...   \n",
       "\n",
       "                                             hypothesis lang_abv    language  \\\n",
       "0             It is an island in the Mediterranean Sea.       en     English   \n",
       "1     Clarke muốn chuyển sang lĩnh vực an ninh mạng ...       vi  Vietnamese   \n",
       "2                    مجھے تیاری کی کوئی ضرورت نہیں تھی.       ur        Urdu   \n",
       "3     Según RH-II, esta expresión significa estar al...       es     Spanish   \n",
       "4     The approving official knowledge is in accorda...       en     English   \n",
       "...                                                 ...      ...         ...   \n",
       "9691  It persisted even after I rejected it as an ab...       en     English   \n",
       "9692  There are five Lions of Delos, and also two Ti...       en     English   \n",
       "9693  CIA cho rằng Liên hiệp quốc cần xem phim ngay ...       vi  Vietnamese   \n",
       "9694  Nous dépensons la moitié de votre argent en fr...       fr      French   \n",
       "9695   آرکسٹرا پہلے بیان کیے گئے آلات پر مشتمل ہوتا ہے۔       ur        Urdu   \n",
       "\n",
       "      label  \n",
       "0         1  \n",
       "1         1  \n",
       "2         2  \n",
       "3         0  \n",
       "4         0  \n",
       "...     ...  \n",
       "9691      0  \n",
       "9692      1  \n",
       "9693      1  \n",
       "9694      2  \n",
       "9695      0  \n",
       "\n",
       "[9696 rows x 6 columns]"
      ]
     },
     "execution_count": 7,
     "metadata": {},
     "output_type": "execute_result"
    }
   ],
   "source": [
    "df = data['train'].to_pandas()\n",
    "df"
   ]
  },
  {
   "cell_type": "code",
   "execution_count": 8,
   "metadata": {},
   "outputs": [
    {
     "data": {
      "text/html": [
       "<div>\n",
       "<style scoped>\n",
       "    .dataframe tbody tr th:only-of-type {\n",
       "        vertical-align: middle;\n",
       "    }\n",
       "\n",
       "    .dataframe tbody tr th {\n",
       "        vertical-align: top;\n",
       "    }\n",
       "\n",
       "    .dataframe thead th {\n",
       "        text-align: right;\n",
       "    }\n",
       "</style>\n",
       "<table border=\"1\" class=\"dataframe\">\n",
       "  <thead>\n",
       "    <tr style=\"text-align: right;\">\n",
       "      <th></th>\n",
       "      <th>premise</th>\n",
       "      <th>hypothesis</th>\n",
       "      <th>lang_abv</th>\n",
       "      <th>language</th>\n",
       "    </tr>\n",
       "  </thead>\n",
       "  <tbody>\n",
       "    <tr>\n",
       "      <th>count</th>\n",
       "      <td>9696</td>\n",
       "      <td>9696</td>\n",
       "      <td>9696</td>\n",
       "      <td>9696</td>\n",
       "    </tr>\n",
       "    <tr>\n",
       "      <th>unique</th>\n",
       "      <td>7056</td>\n",
       "      <td>9696</td>\n",
       "      <td>15</td>\n",
       "      <td>15</td>\n",
       "    </tr>\n",
       "    <tr>\n",
       "      <th>top</th>\n",
       "      <td>It is constrained by laws and regulations form...</td>\n",
       "      <td>It is an island in the Mediterranean Sea.</td>\n",
       "      <td>en</td>\n",
       "      <td>English</td>\n",
       "    </tr>\n",
       "    <tr>\n",
       "      <th>freq</th>\n",
       "      <td>3</td>\n",
       "      <td>1</td>\n",
       "      <td>5491</td>\n",
       "      <td>5491</td>\n",
       "    </tr>\n",
       "  </tbody>\n",
       "</table>\n",
       "</div>"
      ],
      "text/plain": [
       "                                                  premise  \\\n",
       "count                                                9696   \n",
       "unique                                               7056   \n",
       "top     It is constrained by laws and regulations form...   \n",
       "freq                                                    3   \n",
       "\n",
       "                                       hypothesis lang_abv language  \n",
       "count                                        9696     9696     9696  \n",
       "unique                                       9696       15       15  \n",
       "top     It is an island in the Mediterranean Sea.       en  English  \n",
       "freq                                            1     5491     5491  "
      ]
     },
     "execution_count": 8,
     "metadata": {},
     "output_type": "execute_result"
    }
   ],
   "source": [
    "df[['premise', 'hypothesis', 'lang_abv', 'language']].describe()"
   ]
  },
  {
   "cell_type": "code",
   "execution_count": 9,
   "metadata": {},
   "outputs": [
    {
     "data": {
      "text/plain": [
       "lang_abv  language  \n",
       "en        English       5491\n",
       "zh        Chinese        331\n",
       "ar        Arabic         321\n",
       "ur        Urdu           314\n",
       "fr        French         311\n",
       "sw        Swahili        308\n",
       "vi        Vietnamese     301\n",
       "es        Spanish        299\n",
       "ru        Russian        298\n",
       "th        Thai           297\n",
       "el        Greek          294\n",
       "hi        Hindi          290\n",
       "de        German         288\n",
       "bg        Bulgarian      284\n",
       "tr        Turkish        269\n",
       "Name: count, dtype: int64"
      ]
     },
     "execution_count": 9,
     "metadata": {},
     "output_type": "execute_result"
    }
   ],
   "source": [
    "df[['lang_abv', 'language']].value_counts()"
   ]
  },
  {
   "cell_type": "code",
   "execution_count": 10,
   "metadata": {},
   "outputs": [
    {
     "data": {
      "text/plain": [
       "id            0\n",
       "premise       0\n",
       "hypothesis    0\n",
       "lang_abv      0\n",
       "language      0\n",
       "label         0\n",
       "dtype: int64"
      ]
     },
     "execution_count": 10,
     "metadata": {},
     "output_type": "execute_result"
    }
   ],
   "source": [
    "df.isna().sum()"
   ]
  },
  {
   "cell_type": "code",
   "execution_count": 11,
   "metadata": {},
   "outputs": [
    {
     "data": {
      "text/plain": [
       "XLMRobertaForSequenceClassification(\n",
       "  (roberta): XLMRobertaModel(\n",
       "    (embeddings): XLMRobertaEmbeddings(\n",
       "      (word_embeddings): Embedding(250002, 768, padding_idx=1)\n",
       "      (position_embeddings): Embedding(514, 768, padding_idx=1)\n",
       "      (token_type_embeddings): Embedding(1, 768)\n",
       "      (LayerNorm): LayerNorm((768,), eps=1e-05, elementwise_affine=True)\n",
       "      (dropout): Dropout(p=0.1, inplace=False)\n",
       "    )\n",
       "    (encoder): XLMRobertaEncoder(\n",
       "      (layer): ModuleList(\n",
       "        (0-11): 12 x XLMRobertaLayer(\n",
       "          (attention): XLMRobertaAttention(\n",
       "            (self): XLMRobertaSelfAttention(\n",
       "              (query): Linear(in_features=768, out_features=768, bias=True)\n",
       "              (key): Linear(in_features=768, out_features=768, bias=True)\n",
       "              (value): Linear(in_features=768, out_features=768, bias=True)\n",
       "              (dropout): Dropout(p=0.1, inplace=False)\n",
       "            )\n",
       "            (output): XLMRobertaSelfOutput(\n",
       "              (dense): Linear(in_features=768, out_features=768, bias=True)\n",
       "              (LayerNorm): LayerNorm((768,), eps=1e-05, elementwise_affine=True)\n",
       "              (dropout): Dropout(p=0.1, inplace=False)\n",
       "            )\n",
       "          )\n",
       "          (intermediate): XLMRobertaIntermediate(\n",
       "            (dense): Linear(in_features=768, out_features=3072, bias=True)\n",
       "            (intermediate_act_fn): GELUActivation()\n",
       "          )\n",
       "          (output): XLMRobertaOutput(\n",
       "            (dense): Linear(in_features=3072, out_features=768, bias=True)\n",
       "            (LayerNorm): LayerNorm((768,), eps=1e-05, elementwise_affine=True)\n",
       "            (dropout): Dropout(p=0.1, inplace=False)\n",
       "          )\n",
       "        )\n",
       "      )\n",
       "    )\n",
       "  )\n",
       "  (classifier): XLMRobertaClassificationHead(\n",
       "    (dense): Linear(in_features=768, out_features=768, bias=True)\n",
       "    (dropout): Dropout(p=0.1, inplace=False)\n",
       "    (out_proj): Linear(in_features=768, out_features=3, bias=True)\n",
       "  )\n",
       ")"
      ]
     },
     "execution_count": 11,
     "metadata": {},
     "output_type": "execute_result"
    }
   ],
   "source": [
    "from transformers import AutoTokenizer, AutoModelForSequenceClassification, DataCollatorWithPadding\n",
    "\n",
    "checkpoint = 'symanto/xlm-roberta-base-snli-mnli-anli-xnli'\n",
    "# checkpoint = 'distilbert-base-uncased'\n",
    "tokenizer = AutoTokenizer.from_pretrained(checkpoint, truncation=True)\n",
    "model = AutoModelForSequenceClassification.from_pretrained(checkpoint, num_labels=3)\n",
    "\n",
    "data_collator = DataCollatorWithPadding(tokenizer=tokenizer)\n",
    "\n",
    "model"
   ]
  },
  {
   "cell_type": "code",
   "execution_count": 12,
   "metadata": {},
   "outputs": [
    {
     "data": {
      "text/plain": [
       "DatasetDict({\n",
       "    train: Dataset({\n",
       "        features: ['id', 'premise', 'hypothesis', 'lang_abv', 'language', 'label'],\n",
       "        num_rows: 9696\n",
       "    })\n",
       "    val: Dataset({\n",
       "        features: ['id', 'premise', 'hypothesis', 'lang_abv', 'language', 'label'],\n",
       "        num_rows: 2424\n",
       "    })\n",
       "    test: Dataset({\n",
       "        features: ['id', 'premise', 'hypothesis', 'lang_abv', 'language'],\n",
       "        num_rows: 5195\n",
       "    })\n",
       "})"
      ]
     },
     "execution_count": 12,
     "metadata": {},
     "output_type": "execute_result"
    }
   ],
   "source": [
    "data"
   ]
  },
  {
   "cell_type": "code",
   "execution_count": 13,
   "metadata": {},
   "outputs": [
    {
     "name": "stderr",
     "output_type": "stream",
     "text": [
      "Map:   0%|          | 0/9696 [00:00<?, ? examples/s]"
     ]
    },
    {
     "name": "stderr",
     "output_type": "stream",
     "text": [
      "Map: 100%|██████████| 9696/9696 [00:00<00:00, 13041.14 examples/s]\n",
      "Map: 100%|██████████| 2424/2424 [00:00<00:00, 11924.29 examples/s]\n"
     ]
    },
    {
     "data": {
      "text/plain": [
       "DatasetDict({\n",
       "    train: Dataset({\n",
       "        features: ['id', 'premise', 'hypothesis', 'lang_abv', 'language', 'label', 'text', 'input_ids', 'attention_mask'],\n",
       "        num_rows: 9696\n",
       "    })\n",
       "    val: Dataset({\n",
       "        features: ['id', 'premise', 'hypothesis', 'lang_abv', 'language', 'label', 'text', 'input_ids', 'attention_mask'],\n",
       "        num_rows: 2424\n",
       "    })\n",
       "    test: Dataset({\n",
       "        features: ['id', 'premise', 'hypothesis', 'lang_abv', 'language', 'text', 'input_ids', 'attention_mask'],\n",
       "        num_rows: 5195\n",
       "    })\n",
       "})"
      ]
     },
     "execution_count": 13,
     "metadata": {},
     "output_type": "execute_result"
    }
   ],
   "source": [
    "def preprocess_data(batch):\n",
    "    batch['text'] = [x1 + f' {tokenizer.sep_token} ' + x2 for x1, x2 in zip(batch['premise'],batch['hypothesis'])]\n",
    "    return tokenizer(batch['text'])\n",
    "\n",
    "data = data.map(preprocess_data, batched=True)\n",
    "data"
   ]
  },
  {
   "cell_type": "code",
   "execution_count": 14,
   "metadata": {},
   "outputs": [
    {
     "data": {
      "text/plain": [
       "TrainingArguments(\n",
       "_n_gpu=1,\n",
       "accelerator_config={'split_batches': False, 'dispatch_batches': None, 'even_batches': True, 'use_seedable_sampler': True},\n",
       "adafactor=False,\n",
       "adam_beta1=0.9,\n",
       "adam_beta2=0.999,\n",
       "adam_epsilon=1e-08,\n",
       "auto_find_batch_size=False,\n",
       "bf16=False,\n",
       "bf16_full_eval=False,\n",
       "data_seed=None,\n",
       "dataloader_drop_last=False,\n",
       "dataloader_num_workers=0,\n",
       "dataloader_persistent_workers=False,\n",
       "dataloader_pin_memory=True,\n",
       "dataloader_prefetch_factor=None,\n",
       "ddp_backend=None,\n",
       "ddp_broadcast_buffers=None,\n",
       "ddp_bucket_cap_mb=None,\n",
       "ddp_find_unused_parameters=None,\n",
       "ddp_timeout=1800,\n",
       "debug=[],\n",
       "deepspeed=None,\n",
       "disable_tqdm=False,\n",
       "dispatch_batches=None,\n",
       "do_eval=True,\n",
       "do_predict=False,\n",
       "do_train=False,\n",
       "eval_accumulation_steps=None,\n",
       "eval_delay=0,\n",
       "eval_steps=200,\n",
       "evaluation_strategy=IntervalStrategy.STEPS,\n",
       "fp16=True,\n",
       "fp16_backend=auto,\n",
       "fp16_full_eval=False,\n",
       "fp16_opt_level=O1,\n",
       "fsdp=[],\n",
       "fsdp_config={'min_num_params': 0, 'xla': False, 'xla_fsdp_v2': False, 'xla_fsdp_grad_ckpt': False},\n",
       "fsdp_min_num_params=0,\n",
       "fsdp_transformer_layer_cls_to_wrap=None,\n",
       "full_determinism=False,\n",
       "gradient_accumulation_steps=1,\n",
       "gradient_checkpointing=False,\n",
       "gradient_checkpointing_kwargs=None,\n",
       "greater_is_better=True,\n",
       "group_by_length=False,\n",
       "half_precision_backend=auto,\n",
       "hub_always_push=False,\n",
       "hub_model_id=None,\n",
       "hub_private_repo=False,\n",
       "hub_strategy=HubStrategy.EVERY_SAVE,\n",
       "hub_token=<HUB_TOKEN>,\n",
       "ignore_data_skip=False,\n",
       "include_inputs_for_metrics=False,\n",
       "include_num_input_tokens_seen=False,\n",
       "include_tokens_per_second=False,\n",
       "jit_mode_eval=False,\n",
       "label_names=None,\n",
       "label_smoothing_factor=0.0,\n",
       "learning_rate=2e-05,\n",
       "length_column_name=length,\n",
       "load_best_model_at_end=True,\n",
       "local_rank=0,\n",
       "log_level=passive,\n",
       "log_level_replica=warning,\n",
       "log_on_each_node=True,\n",
       "logging_dir=logs,\n",
       "logging_first_step=False,\n",
       "logging_nan_inf_filter=True,\n",
       "logging_steps=200,\n",
       "logging_strategy=IntervalStrategy.STEPS,\n",
       "lr_scheduler_kwargs={},\n",
       "lr_scheduler_type=SchedulerType.LINEAR,\n",
       "max_grad_norm=1.0,\n",
       "max_steps=-1,\n",
       "metric_for_best_model=accuracy,\n",
       "mp_parameters=,\n",
       "neftune_noise_alpha=None,\n",
       "no_cuda=False,\n",
       "num_train_epochs=5,\n",
       "optim=OptimizerNames.ADAMW_TORCH,\n",
       "optim_args=None,\n",
       "optim_target_modules=None,\n",
       "output_dir=results,\n",
       "overwrite_output_dir=False,\n",
       "past_index=-1,\n",
       "per_device_eval_batch_size=16,\n",
       "per_device_train_batch_size=16,\n",
       "prediction_loss_only=False,\n",
       "push_to_hub=False,\n",
       "push_to_hub_model_id=None,\n",
       "push_to_hub_organization=None,\n",
       "push_to_hub_token=<PUSH_TO_HUB_TOKEN>,\n",
       "ray_scope=last,\n",
       "remove_unused_columns=True,\n",
       "report_to=['tensorboard'],\n",
       "resume_from_checkpoint=None,\n",
       "run_name=results,\n",
       "save_on_each_node=False,\n",
       "save_only_model=True,\n",
       "save_safetensors=True,\n",
       "save_steps=200,\n",
       "save_strategy=IntervalStrategy.STEPS,\n",
       "save_total_limit=None,\n",
       "seed=42,\n",
       "skip_memory_metrics=True,\n",
       "split_batches=None,\n",
       "tf32=None,\n",
       "torch_compile=False,\n",
       "torch_compile_backend=None,\n",
       "torch_compile_mode=None,\n",
       "torchdynamo=None,\n",
       "tpu_metrics_debug=False,\n",
       "tpu_num_cores=None,\n",
       "use_cpu=False,\n",
       "use_ipex=False,\n",
       "use_legacy_prediction_loop=False,\n",
       "use_mps_device=False,\n",
       "warmup_ratio=0.0,\n",
       "warmup_steps=0,\n",
       "weight_decay=0.005,\n",
       ")"
      ]
     },
     "execution_count": 14,
     "metadata": {},
     "output_type": "execute_result"
    }
   ],
   "source": [
    "from transformers import TrainingArguments, Trainer, EarlyStoppingCallback\n",
    "from datasets import load_metric\n",
    "\n",
    "\n",
    "def compute_metrics(eval_pred):\n",
    "    metric = load_metric('accuracy')\n",
    "    preds, labels = eval_pred\n",
    "    preds = np.argmax(preds, axis=1)\n",
    "    return metric.compute(predictions=preds, references=labels)\n",
    "\n",
    "\n",
    "train_args = TrainingArguments(\n",
    "    output_dir='results',\n",
    "    logging_dir='logs',\n",
    "    # report_to=[],\n",
    "    \n",
    "    evaluation_strategy='steps',\n",
    "    eval_steps=200,\n",
    "    logging_steps=200,\n",
    "    save_steps=200,\n",
    "    per_device_eval_batch_size=16,\n",
    "    per_device_train_batch_size=16,\n",
    "    learning_rate=2e-5,\n",
    "    weight_decay=0.005,\n",
    "    num_train_epochs=5,\n",
    "    fp16=True,\n",
    "    \n",
    "    load_best_model_at_end=True,\n",
    "    metric_for_best_model='accuracy',\n",
    "    # save_total_limit=3,\n",
    "    save_only_model = True\n",
    ")\n",
    "\n",
    "train_args"
   ]
  },
  {
   "cell_type": "code",
   "execution_count": 15,
   "metadata": {},
   "outputs": [
    {
     "name": "stderr",
     "output_type": "stream",
     "text": [
      "c:\\Users\\andyp\\AppData\\Local\\Programs\\Python\\Python311\\Lib\\site-packages\\accelerate\\accelerator.py:436: FutureWarning: Passing the following arguments to `Accelerator` is deprecated and will be removed in version 1.0 of Accelerate: dict_keys(['dispatch_batches', 'split_batches', 'even_batches', 'use_seedable_sampler']). Please pass an `accelerate.DataLoaderConfiguration` instead: \n",
      "dataloader_config = DataLoaderConfiguration(dispatch_batches=None, split_batches=False, even_batches=True, use_seedable_sampler=True)\n",
      "  warnings.warn(\n",
      "  7%|▋         | 200/3030 [00:50<10:25,  4.52it/s] "
     ]
    },
    {
     "name": "stdout",
     "output_type": "stream",
     "text": [
      "{'loss': 0.3274, 'grad_norm': 13.023253440856934, 'learning_rate': 1.8712871287128715e-05, 'epoch': 0.33}\n"
     ]
    },
    {
     "name": "stderr",
     "output_type": "stream",
     "text": [
      "C:\\Users\\andyp\\AppData\\Local\\Temp\\ipykernel_31556\\3824274857.py:6: FutureWarning: load_metric is deprecated and will be removed in the next major version of datasets. Use 'evaluate.load' instead, from the new library 🤗 Evaluate: https://huggingface.co/docs/evaluate\n",
      "  metric = load_metric('accuracy')\n",
      "c:\\Users\\andyp\\AppData\\Local\\Programs\\Python\\Python311\\Lib\\site-packages\\datasets\\load.py:756: FutureWarning: The repository for accuracy contains custom code which must be executed to correctly load the metric. You can inspect the repository content at https://raw.githubusercontent.com/huggingface/datasets/2.18.0/metrics/accuracy/accuracy.py\n",
      "You can avoid this message in future by passing the argument `trust_remote_code=True`.\n",
      "Passing `trust_remote_code=True` will be mandatory to load this metric from the next major release of `datasets`.\n",
      "  warnings.warn(\n",
      "                                                  \n",
      "  7%|▋         | 200/3030 [00:55<10:25,  4.52it/s]"
     ]
    },
    {
     "name": "stdout",
     "output_type": "stream",
     "text": [
      "{'eval_loss': 0.30189400911331177, 'eval_accuracy': 0.8873762376237624, 'eval_runtime': 5.0882, 'eval_samples_per_second': 476.394, 'eval_steps_per_second': 29.873, 'epoch': 0.33}\n"
     ]
    },
    {
     "name": "stderr",
     "output_type": "stream",
     "text": [
      " 13%|█▎        | 400/3030 [01:44<09:52,  4.44it/s]  "
     ]
    },
    {
     "name": "stdout",
     "output_type": "stream",
     "text": [
      "{'loss': 0.3592, 'grad_norm': 29.558683395385742, 'learning_rate': 1.7392739273927396e-05, 'epoch': 0.66}\n"
     ]
    },
    {
     "name": "stderr",
     "output_type": "stream",
     "text": [
      "c:\\Users\\andyp\\AppData\\Local\\Programs\\Python\\Python311\\Lib\\site-packages\\datasets\\load.py:756: FutureWarning: The repository for accuracy contains custom code which must be executed to correctly load the metric. You can inspect the repository content at https://raw.githubusercontent.com/huggingface/datasets/2.18.0/metrics/accuracy/accuracy.py\n",
      "You can avoid this message in future by passing the argument `trust_remote_code=True`.\n",
      "Passing `trust_remote_code=True` will be mandatory to load this metric from the next major release of `datasets`.\n",
      "  warnings.warn(\n",
      "                                                  \n",
      " 13%|█▎        | 400/3030 [01:49<09:52,  4.44it/s]"
     ]
    },
    {
     "name": "stdout",
     "output_type": "stream",
     "text": [
      "{'eval_loss': 0.283189982175827, 'eval_accuracy': 0.8923267326732673, 'eval_runtime': 4.8818, 'eval_samples_per_second': 496.538, 'eval_steps_per_second': 31.136, 'epoch': 0.66}\n"
     ]
    },
    {
     "name": "stderr",
     "output_type": "stream",
     "text": [
      " 20%|█▉        | 600/3030 [02:37<09:14,  4.38it/s]  "
     ]
    },
    {
     "name": "stdout",
     "output_type": "stream",
     "text": [
      "{'loss': 0.368, 'grad_norm': 6.029458999633789, 'learning_rate': 1.607920792079208e-05, 'epoch': 0.99}\n"
     ]
    },
    {
     "name": "stderr",
     "output_type": "stream",
     "text": [
      "c:\\Users\\andyp\\AppData\\Local\\Programs\\Python\\Python311\\Lib\\site-packages\\datasets\\load.py:756: FutureWarning: The repository for accuracy contains custom code which must be executed to correctly load the metric. You can inspect the repository content at https://raw.githubusercontent.com/huggingface/datasets/2.18.0/metrics/accuracy/accuracy.py\n",
      "You can avoid this message in future by passing the argument `trust_remote_code=True`.\n",
      "Passing `trust_remote_code=True` will be mandatory to load this metric from the next major release of `datasets`.\n",
      "  warnings.warn(\n",
      "                                                  \n",
      " 20%|█▉        | 600/3030 [02:42<09:14,  4.38it/s]"
     ]
    },
    {
     "name": "stdout",
     "output_type": "stream",
     "text": [
      "{'eval_loss': 0.2855377495288849, 'eval_accuracy': 0.8915016501650165, 'eval_runtime': 4.6061, 'eval_samples_per_second': 526.261, 'eval_steps_per_second': 33.0, 'epoch': 0.99}\n"
     ]
    },
    {
     "name": "stderr",
     "output_type": "stream",
     "text": [
      " 26%|██▋       | 800/3030 [03:30<08:29,  4.38it/s]  "
     ]
    },
    {
     "name": "stdout",
     "output_type": "stream",
     "text": [
      "{'loss': 0.2377, 'grad_norm': 78.90982818603516, 'learning_rate': 1.475907590759076e-05, 'epoch': 1.32}\n"
     ]
    },
    {
     "name": "stderr",
     "output_type": "stream",
     "text": [
      "c:\\Users\\andyp\\AppData\\Local\\Programs\\Python\\Python311\\Lib\\site-packages\\datasets\\load.py:756: FutureWarning: The repository for accuracy contains custom code which must be executed to correctly load the metric. You can inspect the repository content at https://raw.githubusercontent.com/huggingface/datasets/2.18.0/metrics/accuracy/accuracy.py\n",
      "You can avoid this message in future by passing the argument `trust_remote_code=True`.\n",
      "Passing `trust_remote_code=True` will be mandatory to load this metric from the next major release of `datasets`.\n",
      "  warnings.warn(\n",
      "                                                  \n",
      " 26%|██▋       | 800/3030 [03:35<08:29,  4.38it/s]"
     ]
    },
    {
     "name": "stdout",
     "output_type": "stream",
     "text": [
      "{'eval_loss': 0.3242925703525543, 'eval_accuracy': 0.8894389438943895, 'eval_runtime': 4.7774, 'eval_samples_per_second': 507.393, 'eval_steps_per_second': 31.817, 'epoch': 1.32}\n"
     ]
    },
    {
     "name": "stderr",
     "output_type": "stream",
     "text": [
      " 33%|███▎      | 1000/3030 [04:23<08:10,  4.14it/s] "
     ]
    },
    {
     "name": "stdout",
     "output_type": "stream",
     "text": [
      "{'loss': 0.2261, 'grad_norm': 40.18636703491211, 'learning_rate': 1.343894389438944e-05, 'epoch': 1.65}\n"
     ]
    },
    {
     "name": "stderr",
     "output_type": "stream",
     "text": [
      "c:\\Users\\andyp\\AppData\\Local\\Programs\\Python\\Python311\\Lib\\site-packages\\datasets\\load.py:756: FutureWarning: The repository for accuracy contains custom code which must be executed to correctly load the metric. You can inspect the repository content at https://raw.githubusercontent.com/huggingface/datasets/2.18.0/metrics/accuracy/accuracy.py\n",
      "You can avoid this message in future by passing the argument `trust_remote_code=True`.\n",
      "Passing `trust_remote_code=True` will be mandatory to load this metric from the next major release of `datasets`.\n",
      "  warnings.warn(\n",
      "                                                   \n",
      " 33%|███▎      | 1000/3030 [04:28<08:10,  4.14it/s]"
     ]
    },
    {
     "name": "stdout",
     "output_type": "stream",
     "text": [
      "{'eval_loss': 0.36010369658470154, 'eval_accuracy': 0.8865511551155115, 'eval_runtime': 4.7431, 'eval_samples_per_second': 511.063, 'eval_steps_per_second': 32.047, 'epoch': 1.65}\n"
     ]
    },
    {
     "name": "stderr",
     "output_type": "stream",
     "text": [
      " 40%|███▉      | 1200/3030 [05:19<07:08,  4.28it/s]  "
     ]
    },
    {
     "name": "stdout",
     "output_type": "stream",
     "text": [
      "{'loss': 0.212, 'grad_norm': 10.223922729492188, 'learning_rate': 1.211881188118812e-05, 'epoch': 1.98}\n"
     ]
    },
    {
     "name": "stderr",
     "output_type": "stream",
     "text": [
      "c:\\Users\\andyp\\AppData\\Local\\Programs\\Python\\Python311\\Lib\\site-packages\\datasets\\load.py:756: FutureWarning: The repository for accuracy contains custom code which must be executed to correctly load the metric. You can inspect the repository content at https://raw.githubusercontent.com/huggingface/datasets/2.18.0/metrics/accuracy/accuracy.py\n",
      "You can avoid this message in future by passing the argument `trust_remote_code=True`.\n",
      "Passing `trust_remote_code=True` will be mandatory to load this metric from the next major release of `datasets`.\n",
      "  warnings.warn(\n",
      "                                                   \n",
      " 40%|███▉      | 1200/3030 [05:24<07:08,  4.28it/s]"
     ]
    },
    {
     "name": "stdout",
     "output_type": "stream",
     "text": [
      "{'eval_loss': 0.3660227060317993, 'eval_accuracy': 0.8894389438943895, 'eval_runtime': 4.7039, 'eval_samples_per_second': 515.317, 'eval_steps_per_second': 32.314, 'epoch': 1.98}\n"
     ]
    },
    {
     "name": "stderr",
     "output_type": "stream",
     "text": [
      " 46%|████▌     | 1400/3030 [06:13<06:11,  4.38it/s]  "
     ]
    },
    {
     "name": "stdout",
     "output_type": "stream",
     "text": [
      "{'loss': 0.1628, 'grad_norm': 111.69198608398438, 'learning_rate': 1.0798679867986799e-05, 'epoch': 2.31}\n"
     ]
    },
    {
     "name": "stderr",
     "output_type": "stream",
     "text": [
      "c:\\Users\\andyp\\AppData\\Local\\Programs\\Python\\Python311\\Lib\\site-packages\\datasets\\load.py:756: FutureWarning: The repository for accuracy contains custom code which must be executed to correctly load the metric. You can inspect the repository content at https://raw.githubusercontent.com/huggingface/datasets/2.18.0/metrics/accuracy/accuracy.py\n",
      "You can avoid this message in future by passing the argument `trust_remote_code=True`.\n",
      "Passing `trust_remote_code=True` will be mandatory to load this metric from the next major release of `datasets`.\n",
      "  warnings.warn(\n",
      "                                                   \n",
      " 46%|████▌     | 1400/3030 [06:17<06:11,  4.38it/s]"
     ]
    },
    {
     "name": "stdout",
     "output_type": "stream",
     "text": [
      "{'eval_loss': 0.5592401623725891, 'eval_accuracy': 0.8927392739273927, 'eval_runtime': 4.6813, 'eval_samples_per_second': 517.803, 'eval_steps_per_second': 32.47, 'epoch': 2.31}\n"
     ]
    },
    {
     "name": "stderr",
     "output_type": "stream",
     "text": [
      " 53%|█████▎    | 1600/3030 [07:08<05:28,  4.36it/s]"
     ]
    },
    {
     "name": "stdout",
     "output_type": "stream",
     "text": [
      "{'loss': 0.1534, 'grad_norm': 0.5136643052101135, 'learning_rate': 9.47854785478548e-06, 'epoch': 2.64}\n"
     ]
    },
    {
     "name": "stderr",
     "output_type": "stream",
     "text": [
      "c:\\Users\\andyp\\AppData\\Local\\Programs\\Python\\Python311\\Lib\\site-packages\\datasets\\load.py:756: FutureWarning: The repository for accuracy contains custom code which must be executed to correctly load the metric. You can inspect the repository content at https://raw.githubusercontent.com/huggingface/datasets/2.18.0/metrics/accuracy/accuracy.py\n",
      "You can avoid this message in future by passing the argument `trust_remote_code=True`.\n",
      "Passing `trust_remote_code=True` will be mandatory to load this metric from the next major release of `datasets`.\n",
      "  warnings.warn(\n",
      "                                                   \n",
      " 53%|█████▎    | 1600/3030 [07:13<05:28,  4.36it/s]"
     ]
    },
    {
     "name": "stdout",
     "output_type": "stream",
     "text": [
      "{'eval_loss': 0.5975005626678467, 'eval_accuracy': 0.8898514851485149, 'eval_runtime': 4.7797, 'eval_samples_per_second': 507.145, 'eval_steps_per_second': 31.801, 'epoch': 2.64}\n"
     ]
    },
    {
     "name": "stderr",
     "output_type": "stream",
     "text": [
      " 59%|█████▉    | 1800/3030 [08:02<04:41,  4.37it/s]"
     ]
    },
    {
     "name": "stdout",
     "output_type": "stream",
     "text": [
      "{'loss': 0.1576, 'grad_norm': 191.8006591796875, 'learning_rate': 8.158415841584158e-06, 'epoch': 2.97}\n"
     ]
    },
    {
     "name": "stderr",
     "output_type": "stream",
     "text": [
      "c:\\Users\\andyp\\AppData\\Local\\Programs\\Python\\Python311\\Lib\\site-packages\\datasets\\load.py:756: FutureWarning: The repository for accuracy contains custom code which must be executed to correctly load the metric. You can inspect the repository content at https://raw.githubusercontent.com/huggingface/datasets/2.18.0/metrics/accuracy/accuracy.py\n",
      "You can avoid this message in future by passing the argument `trust_remote_code=True`.\n",
      "Passing `trust_remote_code=True` will be mandatory to load this metric from the next major release of `datasets`.\n",
      "  warnings.warn(\n",
      "                                                   \n",
      " 59%|█████▉    | 1800/3030 [08:07<04:41,  4.37it/s]"
     ]
    },
    {
     "name": "stdout",
     "output_type": "stream",
     "text": [
      "{'eval_loss': 0.5510759353637695, 'eval_accuracy': 0.889026402640264, 'eval_runtime': 4.8397, 'eval_samples_per_second': 500.86, 'eval_steps_per_second': 31.407, 'epoch': 2.97}\n"
     ]
    },
    {
     "name": "stderr",
     "output_type": "stream",
     "text": [
      " 66%|██████▌   | 2000/3030 [09:02<07:57,  2.16it/s]"
     ]
    },
    {
     "name": "stdout",
     "output_type": "stream",
     "text": [
      "{'loss': 0.1039, 'grad_norm': 49.36105728149414, 'learning_rate': 6.838283828382839e-06, 'epoch': 3.3}\n"
     ]
    },
    {
     "name": "stderr",
     "output_type": "stream",
     "text": [
      "c:\\Users\\andyp\\AppData\\Local\\Programs\\Python\\Python311\\Lib\\site-packages\\datasets\\load.py:756: FutureWarning: The repository for accuracy contains custom code which must be executed to correctly load the metric. You can inspect the repository content at https://raw.githubusercontent.com/huggingface/datasets/2.18.0/metrics/accuracy/accuracy.py\n",
      "You can avoid this message in future by passing the argument `trust_remote_code=True`.\n",
      "Passing `trust_remote_code=True` will be mandatory to load this metric from the next major release of `datasets`.\n",
      "  warnings.warn(\n",
      "                                                   \n",
      " 66%|██████▌   | 2000/3030 [09:09<07:57,  2.16it/s]"
     ]
    },
    {
     "name": "stdout",
     "output_type": "stream",
     "text": [
      "{'eval_loss': 0.6712801456451416, 'eval_accuracy': 0.893976897689769, 'eval_runtime': 7.2665, 'eval_samples_per_second': 333.587, 'eval_steps_per_second': 20.918, 'epoch': 3.3}\n"
     ]
    },
    {
     "name": "stderr",
     "output_type": "stream",
     "text": [
      " 73%|███████▎  | 2200/3030 [10:01<03:32,  3.91it/s]"
     ]
    },
    {
     "name": "stdout",
     "output_type": "stream",
     "text": [
      "{'loss': 0.0864, 'grad_norm': 0.14867907762527466, 'learning_rate': 5.5181518151815185e-06, 'epoch': 3.63}\n"
     ]
    },
    {
     "name": "stderr",
     "output_type": "stream",
     "text": [
      "c:\\Users\\andyp\\AppData\\Local\\Programs\\Python\\Python311\\Lib\\site-packages\\datasets\\load.py:756: FutureWarning: The repository for accuracy contains custom code which must be executed to correctly load the metric. You can inspect the repository content at https://raw.githubusercontent.com/huggingface/datasets/2.18.0/metrics/accuracy/accuracy.py\n",
      "You can avoid this message in future by passing the argument `trust_remote_code=True`.\n",
      "Passing `trust_remote_code=True` will be mandatory to load this metric from the next major release of `datasets`.\n",
      "  warnings.warn(\n",
      "                                                   \n",
      " 73%|███████▎  | 2200/3030 [10:08<03:32,  3.91it/s]"
     ]
    },
    {
     "name": "stdout",
     "output_type": "stream",
     "text": [
      "{'eval_loss': 0.673556387424469, 'eval_accuracy': 0.8935643564356436, 'eval_runtime': 7.2054, 'eval_samples_per_second': 336.415, 'eval_steps_per_second': 21.095, 'epoch': 3.63}\n"
     ]
    },
    {
     "name": "stderr",
     "output_type": "stream",
     "text": [
      " 79%|███████▉  | 2400/3030 [10:57<02:27,  4.29it/s]"
     ]
    },
    {
     "name": "stdout",
     "output_type": "stream",
     "text": [
      "{'loss': 0.0895, 'grad_norm': 114.59953308105469, 'learning_rate': 4.198019801980198e-06, 'epoch': 3.96}\n"
     ]
    },
    {
     "name": "stderr",
     "output_type": "stream",
     "text": [
      "c:\\Users\\andyp\\AppData\\Local\\Programs\\Python\\Python311\\Lib\\site-packages\\datasets\\load.py:756: FutureWarning: The repository for accuracy contains custom code which must be executed to correctly load the metric. You can inspect the repository content at https://raw.githubusercontent.com/huggingface/datasets/2.18.0/metrics/accuracy/accuracy.py\n",
      "You can avoid this message in future by passing the argument `trust_remote_code=True`.\n",
      "Passing `trust_remote_code=True` will be mandatory to load this metric from the next major release of `datasets`.\n",
      "  warnings.warn(\n",
      "                                                   \n",
      " 79%|███████▉  | 2400/3030 [11:02<02:27,  4.29it/s]"
     ]
    },
    {
     "name": "stdout",
     "output_type": "stream",
     "text": [
      "{'eval_loss': 0.6718523502349854, 'eval_accuracy': 0.8898514851485149, 'eval_runtime': 5.0576, 'eval_samples_per_second': 479.275, 'eval_steps_per_second': 30.054, 'epoch': 3.96}\n"
     ]
    },
    {
     "name": "stderr",
     "output_type": "stream",
     "text": [
      " 86%|████████▌ | 2600/3030 [11:51<01:43,  4.15it/s]"
     ]
    },
    {
     "name": "stdout",
     "output_type": "stream",
     "text": [
      "{'loss': 0.0578, 'grad_norm': 3.829220771789551, 'learning_rate': 2.877887788778878e-06, 'epoch': 4.29}\n"
     ]
    },
    {
     "name": "stderr",
     "output_type": "stream",
     "text": [
      "c:\\Users\\andyp\\AppData\\Local\\Programs\\Python\\Python311\\Lib\\site-packages\\datasets\\load.py:756: FutureWarning: The repository for accuracy contains custom code which must be executed to correctly load the metric. You can inspect the repository content at https://raw.githubusercontent.com/huggingface/datasets/2.18.0/metrics/accuracy/accuracy.py\n",
      "You can avoid this message in future by passing the argument `trust_remote_code=True`.\n",
      "Passing `trust_remote_code=True` will be mandatory to load this metric from the next major release of `datasets`.\n",
      "  warnings.warn(\n",
      "                                                   \n",
      " 86%|████████▌ | 2600/3030 [11:56<01:43,  4.15it/s]"
     ]
    },
    {
     "name": "stdout",
     "output_type": "stream",
     "text": [
      "{'eval_loss': 0.6998197436332703, 'eval_accuracy': 0.8923267326732673, 'eval_runtime': 4.8712, 'eval_samples_per_second': 497.619, 'eval_steps_per_second': 31.204, 'epoch': 4.29}\n"
     ]
    },
    {
     "name": "stderr",
     "output_type": "stream",
     "text": [
      " 92%|█████████▏| 2800/3030 [12:46<00:56,  4.04it/s]"
     ]
    },
    {
     "name": "stdout",
     "output_type": "stream",
     "text": [
      "{'loss': 0.0418, 'grad_norm': 0.03746107593178749, 'learning_rate': 1.557755775577558e-06, 'epoch': 4.62}\n"
     ]
    },
    {
     "name": "stderr",
     "output_type": "stream",
     "text": [
      "c:\\Users\\andyp\\AppData\\Local\\Programs\\Python\\Python311\\Lib\\site-packages\\datasets\\load.py:756: FutureWarning: The repository for accuracy contains custom code which must be executed to correctly load the metric. You can inspect the repository content at https://raw.githubusercontent.com/huggingface/datasets/2.18.0/metrics/accuracy/accuracy.py\n",
      "You can avoid this message in future by passing the argument `trust_remote_code=True`.\n",
      "Passing `trust_remote_code=True` will be mandatory to load this metric from the next major release of `datasets`.\n",
      "  warnings.warn(\n",
      "                                                   \n",
      " 92%|█████████▏| 2800/3030 [12:51<00:56,  4.04it/s]"
     ]
    },
    {
     "name": "stdout",
     "output_type": "stream",
     "text": [
      "{'eval_loss': 0.7430553436279297, 'eval_accuracy': 0.893976897689769, 'eval_runtime': 5.1528, 'eval_samples_per_second': 470.427, 'eval_steps_per_second': 29.499, 'epoch': 4.62}\n"
     ]
    },
    {
     "name": "stderr",
     "output_type": "stream",
     "text": [
      " 99%|█████████▉| 3000/3030 [13:40<00:07,  4.15it/s]"
     ]
    },
    {
     "name": "stdout",
     "output_type": "stream",
     "text": [
      "{'loss': 0.0345, 'grad_norm': 0.02360260859131813, 'learning_rate': 2.3762376237623766e-07, 'epoch': 4.95}\n"
     ]
    },
    {
     "name": "stderr",
     "output_type": "stream",
     "text": [
      "c:\\Users\\andyp\\AppData\\Local\\Programs\\Python\\Python311\\Lib\\site-packages\\datasets\\load.py:756: FutureWarning: The repository for accuracy contains custom code which must be executed to correctly load the metric. You can inspect the repository content at https://raw.githubusercontent.com/huggingface/datasets/2.18.0/metrics/accuracy/accuracy.py\n",
      "You can avoid this message in future by passing the argument `trust_remote_code=True`.\n",
      "Passing `trust_remote_code=True` will be mandatory to load this metric from the next major release of `datasets`.\n",
      "  warnings.warn(\n",
      "                                                   \n",
      " 99%|█████████▉| 3000/3030 [13:45<00:07,  4.15it/s]"
     ]
    },
    {
     "name": "stdout",
     "output_type": "stream",
     "text": [
      "{'eval_loss': 0.7571778893470764, 'eval_accuracy': 0.8927392739273927, 'eval_runtime': 5.1616, 'eval_samples_per_second': 469.618, 'eval_steps_per_second': 29.448, 'epoch': 4.95}\n"
     ]
    },
    {
     "name": "stderr",
     "output_type": "stream",
     "text": [
      "100%|██████████| 3030/3030 [13:56<00:00,  3.62it/s]"
     ]
    },
    {
     "name": "stdout",
     "output_type": "stream",
     "text": [
      "{'train_runtime': 836.1554, 'train_samples_per_second': 57.98, 'train_steps_per_second': 3.624, 'train_loss': 0.1733822006203554, 'epoch': 5.0}\n"
     ]
    },
    {
     "name": "stderr",
     "output_type": "stream",
     "text": [
      "\n"
     ]
    },
    {
     "data": {
      "text/plain": [
       "TrainOutput(global_step=3030, training_loss=0.1733822006203554, metrics={'train_runtime': 836.1554, 'train_samples_per_second': 57.98, 'train_steps_per_second': 3.624, 'train_loss': 0.1733822006203554, 'epoch': 5.0})"
      ]
     },
     "execution_count": 15,
     "metadata": {},
     "output_type": "execute_result"
    }
   ],
   "source": [
    "trainer = Trainer(\n",
    "    model=model,\n",
    "    args=train_args,\n",
    "    data_collator=data_collator,\n",
    "    train_dataset=data['train'],\n",
    "    eval_dataset=data['val'],\n",
    "    tokenizer=tokenizer,\n",
    "    compute_metrics=compute_metrics,\n",
    "    # callbacks=[EarlyStoppingCallback(3)]\n",
    ")\n",
    "\n",
    "trainer.train()"
   ]
  },
  {
   "cell_type": "code",
   "execution_count": 17,
   "metadata": {},
   "outputs": [
    {
     "data": {
      "text/plain": [
       "[{'loss': 0.3274,\n",
       "  'grad_norm': 13.023253440856934,\n",
       "  'learning_rate': 1.8712871287128715e-05,\n",
       "  'epoch': 0.33,\n",
       "  'step': 200},\n",
       " {'eval_loss': 0.30189400911331177,\n",
       "  'eval_accuracy': 0.8873762376237624,\n",
       "  'eval_runtime': 5.0882,\n",
       "  'eval_samples_per_second': 476.394,\n",
       "  'eval_steps_per_second': 29.873,\n",
       "  'epoch': 0.33,\n",
       "  'step': 200},\n",
       " {'loss': 0.3592,\n",
       "  'grad_norm': 29.558683395385742,\n",
       "  'learning_rate': 1.7392739273927396e-05,\n",
       "  'epoch': 0.66,\n",
       "  'step': 400},\n",
       " {'eval_loss': 0.283189982175827,\n",
       "  'eval_accuracy': 0.8923267326732673,\n",
       "  'eval_runtime': 4.8818,\n",
       "  'eval_samples_per_second': 496.538,\n",
       "  'eval_steps_per_second': 31.136,\n",
       "  'epoch': 0.66,\n",
       "  'step': 400},\n",
       " {'loss': 0.368,\n",
       "  'grad_norm': 6.029458999633789,\n",
       "  'learning_rate': 1.607920792079208e-05,\n",
       "  'epoch': 0.99,\n",
       "  'step': 600},\n",
       " {'eval_loss': 0.2855377495288849,\n",
       "  'eval_accuracy': 0.8915016501650165,\n",
       "  'eval_runtime': 4.6061,\n",
       "  'eval_samples_per_second': 526.261,\n",
       "  'eval_steps_per_second': 33.0,\n",
       "  'epoch': 0.99,\n",
       "  'step': 600},\n",
       " {'loss': 0.2377,\n",
       "  'grad_norm': 78.90982818603516,\n",
       "  'learning_rate': 1.475907590759076e-05,\n",
       "  'epoch': 1.32,\n",
       "  'step': 800},\n",
       " {'eval_loss': 0.3242925703525543,\n",
       "  'eval_accuracy': 0.8894389438943895,\n",
       "  'eval_runtime': 4.7774,\n",
       "  'eval_samples_per_second': 507.393,\n",
       "  'eval_steps_per_second': 31.817,\n",
       "  'epoch': 1.32,\n",
       "  'step': 800},\n",
       " {'loss': 0.2261,\n",
       "  'grad_norm': 40.18636703491211,\n",
       "  'learning_rate': 1.343894389438944e-05,\n",
       "  'epoch': 1.65,\n",
       "  'step': 1000},\n",
       " {'eval_loss': 0.36010369658470154,\n",
       "  'eval_accuracy': 0.8865511551155115,\n",
       "  'eval_runtime': 4.7431,\n",
       "  'eval_samples_per_second': 511.063,\n",
       "  'eval_steps_per_second': 32.047,\n",
       "  'epoch': 1.65,\n",
       "  'step': 1000},\n",
       " {'loss': 0.212,\n",
       "  'grad_norm': 10.223922729492188,\n",
       "  'learning_rate': 1.211881188118812e-05,\n",
       "  'epoch': 1.98,\n",
       "  'step': 1200},\n",
       " {'eval_loss': 0.3660227060317993,\n",
       "  'eval_accuracy': 0.8894389438943895,\n",
       "  'eval_runtime': 4.7039,\n",
       "  'eval_samples_per_second': 515.317,\n",
       "  'eval_steps_per_second': 32.314,\n",
       "  'epoch': 1.98,\n",
       "  'step': 1200},\n",
       " {'loss': 0.1628,\n",
       "  'grad_norm': 111.69198608398438,\n",
       "  'learning_rate': 1.0798679867986799e-05,\n",
       "  'epoch': 2.31,\n",
       "  'step': 1400},\n",
       " {'eval_loss': 0.5592401623725891,\n",
       "  'eval_accuracy': 0.8927392739273927,\n",
       "  'eval_runtime': 4.6813,\n",
       "  'eval_samples_per_second': 517.803,\n",
       "  'eval_steps_per_second': 32.47,\n",
       "  'epoch': 2.31,\n",
       "  'step': 1400},\n",
       " {'loss': 0.1534,\n",
       "  'grad_norm': 0.5136643052101135,\n",
       "  'learning_rate': 9.47854785478548e-06,\n",
       "  'epoch': 2.64,\n",
       "  'step': 1600},\n",
       " {'eval_loss': 0.5975005626678467,\n",
       "  'eval_accuracy': 0.8898514851485149,\n",
       "  'eval_runtime': 4.7797,\n",
       "  'eval_samples_per_second': 507.145,\n",
       "  'eval_steps_per_second': 31.801,\n",
       "  'epoch': 2.64,\n",
       "  'step': 1600},\n",
       " {'loss': 0.1576,\n",
       "  'grad_norm': 191.8006591796875,\n",
       "  'learning_rate': 8.158415841584158e-06,\n",
       "  'epoch': 2.97,\n",
       "  'step': 1800},\n",
       " {'eval_loss': 0.5510759353637695,\n",
       "  'eval_accuracy': 0.889026402640264,\n",
       "  'eval_runtime': 4.8397,\n",
       "  'eval_samples_per_second': 500.86,\n",
       "  'eval_steps_per_second': 31.407,\n",
       "  'epoch': 2.97,\n",
       "  'step': 1800},\n",
       " {'loss': 0.1039,\n",
       "  'grad_norm': 49.36105728149414,\n",
       "  'learning_rate': 6.838283828382839e-06,\n",
       "  'epoch': 3.3,\n",
       "  'step': 2000},\n",
       " {'eval_loss': 0.6712801456451416,\n",
       "  'eval_accuracy': 0.893976897689769,\n",
       "  'eval_runtime': 7.2665,\n",
       "  'eval_samples_per_second': 333.587,\n",
       "  'eval_steps_per_second': 20.918,\n",
       "  'epoch': 3.3,\n",
       "  'step': 2000},\n",
       " {'loss': 0.0864,\n",
       "  'grad_norm': 0.14867907762527466,\n",
       "  'learning_rate': 5.5181518151815185e-06,\n",
       "  'epoch': 3.63,\n",
       "  'step': 2200},\n",
       " {'eval_loss': 0.673556387424469,\n",
       "  'eval_accuracy': 0.8935643564356436,\n",
       "  'eval_runtime': 7.2054,\n",
       "  'eval_samples_per_second': 336.415,\n",
       "  'eval_steps_per_second': 21.095,\n",
       "  'epoch': 3.63,\n",
       "  'step': 2200},\n",
       " {'loss': 0.0895,\n",
       "  'grad_norm': 114.59953308105469,\n",
       "  'learning_rate': 4.198019801980198e-06,\n",
       "  'epoch': 3.96,\n",
       "  'step': 2400},\n",
       " {'eval_loss': 0.6718523502349854,\n",
       "  'eval_accuracy': 0.8898514851485149,\n",
       "  'eval_runtime': 5.0576,\n",
       "  'eval_samples_per_second': 479.275,\n",
       "  'eval_steps_per_second': 30.054,\n",
       "  'epoch': 3.96,\n",
       "  'step': 2400},\n",
       " {'loss': 0.0578,\n",
       "  'grad_norm': 3.829220771789551,\n",
       "  'learning_rate': 2.877887788778878e-06,\n",
       "  'epoch': 4.29,\n",
       "  'step': 2600},\n",
       " {'eval_loss': 0.6998197436332703,\n",
       "  'eval_accuracy': 0.8923267326732673,\n",
       "  'eval_runtime': 4.8712,\n",
       "  'eval_samples_per_second': 497.619,\n",
       "  'eval_steps_per_second': 31.204,\n",
       "  'epoch': 4.29,\n",
       "  'step': 2600},\n",
       " {'loss': 0.0418,\n",
       "  'grad_norm': 0.03746107593178749,\n",
       "  'learning_rate': 1.557755775577558e-06,\n",
       "  'epoch': 4.62,\n",
       "  'step': 2800},\n",
       " {'eval_loss': 0.7430553436279297,\n",
       "  'eval_accuracy': 0.893976897689769,\n",
       "  'eval_runtime': 5.1528,\n",
       "  'eval_samples_per_second': 470.427,\n",
       "  'eval_steps_per_second': 29.499,\n",
       "  'epoch': 4.62,\n",
       "  'step': 2800},\n",
       " {'loss': 0.0345,\n",
       "  'grad_norm': 0.02360260859131813,\n",
       "  'learning_rate': 2.3762376237623766e-07,\n",
       "  'epoch': 4.95,\n",
       "  'step': 3000},\n",
       " {'eval_loss': 0.7571778893470764,\n",
       "  'eval_accuracy': 0.8927392739273927,\n",
       "  'eval_runtime': 5.1616,\n",
       "  'eval_samples_per_second': 469.618,\n",
       "  'eval_steps_per_second': 29.448,\n",
       "  'epoch': 4.95,\n",
       "  'step': 3000},\n",
       " {'train_runtime': 836.1554,\n",
       "  'train_samples_per_second': 57.98,\n",
       "  'train_steps_per_second': 3.624,\n",
       "  'total_flos': 2080914687044928.0,\n",
       "  'train_loss': 0.1733822006203554,\n",
       "  'epoch': 5.0,\n",
       "  'step': 3030}]"
      ]
     },
     "execution_count": 17,
     "metadata": {},
     "output_type": "execute_result"
    }
   ],
   "source": [
    "log = trainer.state.log_history\n",
    "log"
   ]
  },
  {
   "cell_type": "code",
   "execution_count": 18,
   "metadata": {},
   "outputs": [
    {
     "data": {
      "image/png": "[encoded data removed]",
      "text/plain": [
       "<Figure size 640x480 with 1 Axes>"
      ]
     },
     "metadata": {},
     "output_type": "display_data"
    },
    {
     "data": {
      "image/png": "[encoded data removed]",
      "text/plain": [
       "<Figure size 640x480 with 1 Axes>"
      ]
     },
     "metadata": {},
     "output_type": "display_data"
    }
   ],
   "source": [
    "steps = []\n",
    "train_loss = []\n",
    "eval_loss = []\n",
    "eval_acc = []\n",
    "\n",
    "for i in range(0, len(log) - 1, 2):\n",
    "    train_log = log[i]\n",
    "    eval_log = log[i + 1]\n",
    "    steps.append(train_log['step'])\n",
    "    train_loss.append(train_log['loss'])\n",
    "    eval_loss.append(eval_log['eval_loss'])\n",
    "    eval_acc.append(eval_log['eval_accuracy'])\n",
    "\n",
    "import matplotlib.pyplot as plt\n",
    "\n",
    "plt.title('xlm-roberta loss vs step')\n",
    "plt.xlabel('# steps')\n",
    "plt.ylabel('loss')\n",
    "plt.plot(steps, train_loss, label='training loss')\n",
    "plt.plot(steps, eval_loss, label='eval loss')\n",
    "plt.legend()\n",
    "plt.show()\n",
    "\n",
    "plt.title('xlm-roberta acc vs step')\n",
    "plt.xlabel('# steps')\n",
    "plt.ylabel('acc')\n",
    "plt.plot(steps, eval_acc, label='eval acc')\n",
    "plt.legend()\n",
    "plt.show()"
   ]
  },
  {
   "cell_type": "code",
   "execution_count": 16,
   "metadata": {},
   "outputs": [
    {
     "name": "stderr",
     "output_type": "stream",
     "text": [
      "100%|██████████| 325/325 [00:06<00:00, 53.13it/s]\n"
     ]
    },
    {
     "data": {
      "text/plain": [
       "PredictionOutput(predictions=array([[-3.0859375, -2.9960938,  6.0820312],\n",
       "       [-2.2226562,  3.7324219, -2.234375 ],\n",
       "       [ 5.8867188, -1.9052734, -2.4628906],\n",
       "       ...,\n",
       "       [ 5.5390625, -1.921875 , -2.1699219],\n",
       "       [ 4.03125  , -1.2001953, -1.7792969],\n",
       "       [-3.3984375, -2.5039062,  5.8789062]], dtype=float32), label_ids=None, metrics={'test_runtime': 6.3625, 'test_samples_per_second': 816.498, 'test_steps_per_second': 51.08})"
      ]
     },
     "execution_count": 16,
     "metadata": {},
     "output_type": "execute_result"
    }
   ],
   "source": [
    "preds = trainer.predict(data['test'])\n",
    "preds"
   ]
  },
  {
   "cell_type": "code",
   "execution_count": 17,
   "metadata": {},
   "outputs": [],
   "source": [
    "pd.DataFrame({\n",
    "    'id': data['test']['id'],\n",
    "    'prediction': np.argmax(preds.predictions, axis=1)\n",
    "}).to_csv('submission.csv', header=True, index=False)"
   ]
  }
 ],
 "metadata": {
  "kernelspec": {
   "display_name": "Python 3",
   "language": "python",
   "name": "python3"
  },
  "language_info": {
   "codemirror_mode": {
    "name": "ipython",
    "version": 3
   },
   "file_extension": ".py",
   "mimetype": "text/x-python",
   "name": "python",
   "nbconvert_exporter": "python",
   "pygments_lexer": "ipython3",
   "version": "3.11.5"
  }
 },
 "nbformat": 4,
 "nbformat_minor": 2
}

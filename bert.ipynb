{
    "cells": [
        {
            "cell_type": "code",
            "execution_count": 1,
            "metadata": {
                "colab": {
                    "base_uri": "https://localhost:8080/"
                },
                "executionInfo": {
                    "elapsed": 23398,
                    "status": "ok",
                    "timestamp": 1714970113550,
                    "user": {
                        "displayName": "Jiacheng Pang",
                        "userId": "17495887600724079092"
                    },
                    "user_tz": 420
                },
                "id": "Xecl3gXLq_d_",
                "outputId": "2e68072a-2327-4c81-f818-27fe8db737f5"
            },
            "outputs": [],
            "source": [
                "# from google.colab import drive\n",
                "# drive.mount('/content/drive')"
            ]
        },
        {
            "cell_type": "code",
            "execution_count": 2,
            "metadata": {
                "colab": {
                    "base_uri": "https://localhost:8080/"
                },
                "executionInfo": {
                    "elapsed": 356,
                    "status": "ok",
                    "timestamp": 1714970136698,
                    "user": {
                        "displayName": "Jiacheng Pang",
                        "userId": "17495887600724079092"
                    },
                    "user_tz": 420
                },
                "id": "wFAUyon-BE3U",
                "outputId": "398c0023-e4d9-4108-c7b8-7c891c3906a4"
            },
            "outputs": [],
            "source": [
                "# %cd /content/drive/MyDrive"
            ]
        },
        {
            "cell_type": "code",
            "execution_count": 3,
            "metadata": {
                "colab": {
                    "base_uri": "https://localhost:8080/"
                },
                "executionInfo": {
                    "elapsed": 81764,
                    "status": "ok",
                    "timestamp": 1714970219900,
                    "user": {
                        "displayName": "Jiacheng Pang",
                        "userId": "17495887600724079092"
                    },
                    "user_tz": 420
                },
                "id": "gpU_DSJTAcZ7",
                "outputId": "858d8563-e293-4ff1-aa50-d69d219d6475"
            },
            "outputs": [],
            "source": [
                "# !pip install datasets evaluate transformers\n",
                "# !pip install accelerate -U\n",
                "# !pip install transformers[torch]"
            ]
        },
        {
            "cell_type": "code",
            "execution_count": 4,
            "metadata": {
                "colab": {
                    "base_uri": "https://localhost:8080/"
                },
                "executionInfo": {
                    "elapsed": 5527,
                    "status": "ok",
                    "timestamp": 1714970602085,
                    "user": {
                        "displayName": "Jiacheng Pang",
                        "userId": "17495887600724079092"
                    },
                    "user_tz": 420
                },
                "id": "4dx16icTC3ze",
                "outputId": "364d4965-4995-4832-923d-136ff07479b8"
            },
            "outputs": [],
            "source": [
                "# !pip install accelerate --upgrade"
            ]
        },
        {
            "cell_type": "code",
            "execution_count": 5,
            "metadata": {
                "executionInfo": {
                    "elapsed": 1,
                    "status": "ok",
                    "timestamp": 1714970780266,
                    "user": {
                        "displayName": "Jiacheng Pang",
                        "userId": "17495887600724079092"
                    },
                    "user_tz": 420
                },
                "id": "eU5X-71Sq3uj"
            },
            "outputs": [
                {
                    "name": "stderr",
                    "output_type": "stream",
                    "text": [
                        "c:\\Users\\andyp\\AppData\\Local\\Programs\\Python\\Python311\\Lib\\site-packages\\tqdm\\auto.py:21: TqdmWarning: IProgress not found. Please update jupyter and ipywidgets. See https://ipywidgets.readthedocs.io/en/stable/user_install.html\n",
                        "  from .autonotebook import tqdm as notebook_tqdm\n"
                    ]
                }
            ],
            "source": [
                "import numpy as np\n",
                "import pandas as pd\n",
                "import os\n",
                "\n",
                "from datasets import load_dataset, DatasetDict, concatenate_datasets\n",
                "\n",
                "import evaluate\n",
                "\n",
                "from transformers import (\n",
                "    AutoTokenizer,\n",
                "    AutoModelForSequenceClassification,\n",
                "    DataCollatorWithPadding,\n",
                "    TrainingArguments,\n",
                "    Trainer,\n",
                "    EarlyStoppingCallback,\n",
                ")\n",
                "\n",
                "import matplotlib.pyplot as plt"
            ]
        },
        {
            "cell_type": "code",
            "execution_count": 6,
            "metadata": {
                "executionInfo": {
                    "elapsed": 1,
                    "status": "ok",
                    "timestamp": 1714970781970,
                    "user": {
                        "displayName": "Jiacheng Pang",
                        "userId": "17495887600724079092"
                    },
                    "user_tz": 420
                },
                "id": "uXxoVV8zq3ul"
            },
            "outputs": [],
            "source": [
                "INPUT_DIR = \"./\"\n",
                "OUTPUT_DIR = \"./output/bert\"\n",
                "CHECKPOINT = \"google-bert/bert-base-multilingual-uncased\""
            ]
        },
        {
            "cell_type": "code",
            "execution_count": 7,
            "metadata": {
                "colab": {
                    "base_uri": "https://localhost:8080/"
                },
                "executionInfo": {
                    "elapsed": 3273,
                    "status": "ok",
                    "timestamp": 1714970804542,
                    "user": {
                        "displayName": "Jiacheng Pang",
                        "userId": "17495887600724079092"
                    },
                    "user_tz": 420
                },
                "id": "oOKPiYQtq3ul",
                "outputId": "2ad967dd-839b-4128-9a09-64765c23abf5"
            },
            "outputs": [
                {
                    "data": {
                        "text/plain": [
                            "DatasetDict({\n",
                            "    train: Dataset({\n",
                            "        features: ['id', 'premise', 'hypothesis', 'lang_abv', 'language', 'label'],\n",
                            "        num_rows: 105876\n",
                            "    })\n",
                            "    val: Dataset({\n",
                            "        features: ['id', 'premise', 'hypothesis', 'lang_abv', 'language', 'label'],\n",
                            "        num_rows: 2424\n",
                            "    })\n",
                            "    test: Dataset({\n",
                            "        features: ['id', 'premise', 'hypothesis', 'lang_abv', 'language'],\n",
                            "        num_rows: 5195\n",
                            "    })\n",
                            "})"
                        ]
                    },
                    "execution_count": 7,
                    "metadata": {},
                    "output_type": "execute_result"
                }
            ],
            "source": [
                "# Load data\n",
                "data = load_dataset(\"csv\", data_files=os.path.join(INPUT_DIR, \"train.csv\"), trust_remote_code=True, split=\"train\")\n",
                "\n",
                "data = data.train_test_split(0.2)\n",
                "\n",
                "translated_data = load_dataset(\"csv\", data_files=os.path.join(INPUT_DIR, \"translated.csv\"), trust_remote_code=True, split=\"train\")\n",
                "\n",
                "train_data = concatenate_datasets([data['train'], translated_data])\n",
                "train_data = train_data.shuffle(seed=42)\n",
                "\n",
                "data = DatasetDict(\n",
                "    {\n",
                "        \"train\": train_data,\n",
                "        \"val\": data[\"test\"],\n",
                "        \"test\": load_dataset(\"csv\", data_files=os.path.join(INPUT_DIR, \"test.csv\"), trust_remote_code=True, split=\"train\"),\n",
                "    }\n",
                ")\n",
                "data\n",
                "\n",
                "# # Load data\n",
                "# data = load_dataset(\"csv\", data_files=os.path.join(INPUT_DIR, \"train.csv\"), trust_remote_code=True, split=\"train\")\n",
                "\n",
                "# data = data.train_test_split(0.2)\n",
                "\n",
                "# data = DatasetDict(\n",
                "#     {\n",
                "#         \"train\": data[\"train\"],\n",
                "#         \"val\": data[\"test\"],\n",
                "#         \"test\": load_dataset(\"csv\", data_files=os.path.join(INPUT_DIR, \"test.csv\"), trust_remote_code=True, split=\"train\"),\n",
                "#     }\n",
                "# )\n",
                "# data"
            ]
        },
        {
            "cell_type": "code",
            "execution_count": 8,
            "metadata": {
                "colab": {
                    "base_uri": "https://localhost:8080/"
                },
                "executionInfo": {
                    "elapsed": 1913,
                    "status": "ok",
                    "timestamp": 1714972621451,
                    "user": {
                        "displayName": "Jiacheng Pang",
                        "userId": "17495887600724079092"
                    },
                    "user_tz": 420
                },
                "id": "B5ZS_plZq3um",
                "outputId": "f802c4cf-b3cc-48d1-a762-96cd09f3c95b"
            },
            "outputs": [
                {
                    "name": "stderr",
                    "output_type": "stream",
                    "text": [
                        "Some weights of BertForSequenceClassification were not initialized from the model checkpoint at google-bert/bert-base-multilingual-uncased and are newly initialized: ['classifier.bias', 'classifier.weight']\n",
                        "You should probably TRAIN this model on a down-stream task to be able to use it for predictions and inference.\n"
                    ]
                },
                {
                    "data": {
                        "text/plain": [
                            "BertForSequenceClassification(\n",
                            "  (bert): BertModel(\n",
                            "    (embeddings): BertEmbeddings(\n",
                            "      (word_embeddings): Embedding(105879, 768, padding_idx=0)\n",
                            "      (position_embeddings): Embedding(512, 768)\n",
                            "      (token_type_embeddings): Embedding(2, 768)\n",
                            "      (LayerNorm): LayerNorm((768,), eps=1e-12, elementwise_affine=True)\n",
                            "      (dropout): Dropout(p=0.1, inplace=False)\n",
                            "    )\n",
                            "    (encoder): BertEncoder(\n",
                            "      (layer): ModuleList(\n",
                            "        (0-11): 12 x BertLayer(\n",
                            "          (attention): BertAttention(\n",
                            "            (self): BertSelfAttention(\n",
                            "              (query): Linear(in_features=768, out_features=768, bias=True)\n",
                            "              (key): Linear(in_features=768, out_features=768, bias=True)\n",
                            "              (value): Linear(in_features=768, out_features=768, bias=True)\n",
                            "              (dropout): Dropout(p=0.1, inplace=False)\n",
                            "            )\n",
                            "            (output): BertSelfOutput(\n",
                            "              (dense): Linear(in_features=768, out_features=768, bias=True)\n",
                            "              (LayerNorm): LayerNorm((768,), eps=1e-12, elementwise_affine=True)\n",
                            "              (dropout): Dropout(p=0.1, inplace=False)\n",
                            "            )\n",
                            "          )\n",
                            "          (intermediate): BertIntermediate(\n",
                            "            (dense): Linear(in_features=768, out_features=3072, bias=True)\n",
                            "            (intermediate_act_fn): GELUActivation()\n",
                            "          )\n",
                            "          (output): BertOutput(\n",
                            "            (dense): Linear(in_features=3072, out_features=768, bias=True)\n",
                            "            (LayerNorm): LayerNorm((768,), eps=1e-12, elementwise_affine=True)\n",
                            "            (dropout): Dropout(p=0.1, inplace=False)\n",
                            "          )\n",
                            "        )\n",
                            "      )\n",
                            "    )\n",
                            "    (pooler): BertPooler(\n",
                            "      (dense): Linear(in_features=768, out_features=768, bias=True)\n",
                            "      (activation): Tanh()\n",
                            "    )\n",
                            "  )\n",
                            "  (dropout): Dropout(p=0.1, inplace=False)\n",
                            "  (classifier): RNNCls(\n",
                            "    (rnn): RNN(768, 256, batch_first=True)\n",
                            "    (relu): ReLU()\n",
                            "    (dropout): Dropout(p=0.2, inplace=False)\n",
                            "    (fc): Linear(in_features=256, out_features=3, bias=True)\n",
                            "  )\n",
                            ")"
                        ]
                    },
                    "execution_count": 8,
                    "metadata": {},
                    "output_type": "execute_result"
                }
            ],
            "source": [
                "tokenizer = AutoTokenizer.from_pretrained(CHECKPOINT, truncation=True)\n",
                "\n",
                "data_collator = DataCollatorWithPadding(tokenizer=tokenizer)\n",
                "\n",
                "model = AutoModelForSequenceClassification.from_pretrained(CHECKPOINT, num_labels=3)\n",
                "model\n",
                "\n",
                "import torch\n",
                "import torch.nn as nn\n",
                "\n",
                "class CNNCls(nn.Module):\n",
                "    def __init__(self):\n",
                "        super(CNNCls, self).__init__()\n",
                "        self.conv1 = nn.Conv1d(in_channels=768, out_channels=256, kernel_size=3, padding=1)\n",
                "        self.relu = nn.ReLU()\n",
                "        self.dropout = nn.Dropout(0.2)\n",
                "        self.fc = nn.Linear(256, 3)\n",
                "\n",
                "    def forward(self, x):\n",
                "        x = torch.unsqueeze(x, 1)\n",
                "        x = x.permute(0, 2, 1)\n",
                "        x = self.conv1(x)\n",
                "        x = self.relu(x)\n",
                "        x = x.permute(0, 2, 1)\n",
                "        x = x.mean(dim=1)\n",
                "        x = self.dropout(x)\n",
                "        x = self.fc(x)\n",
                "        return x\n",
                "\n",
                "class CNN3Cls(nn.Module):\n",
                "    def __init__(self):\n",
                "        super(CNN3Cls, self).__init__()\n",
                "        self.conv1 = nn.Conv1d(in_channels=768, out_channels=768, kernel_size=3, padding=1)\n",
                "        self.conv2 = nn.Conv1d(in_channels=768, out_channels=512, kernel_size=3, padding=1)\n",
                "        self.conv3 = nn.Conv1d(in_channels=512, out_channels=256, kernel_size=3, padding=1)\n",
                "        self.relu = nn.ReLU()\n",
                "        self.dropout = nn.Dropout(0.4)\n",
                "        self.fc = nn.Linear(256, 3)\n",
                "\n",
                "    def forward(self, x):\n",
                "        x = torch.unsqueeze(x, 1)\n",
                "        x = x.permute(0, 2, 1)\n",
                "        x = self.conv1(x)\n",
                "        x = self.conv2(x)\n",
                "        x = self.conv3(x)\n",
                "        x = self.relu(x)\n",
                "        x = x.permute(0, 2, 1)\n",
                "        x = x.mean(dim=1)\n",
                "        x = self.dropout(x)\n",
                "        x = self.fc(x)\n",
                "        return x\n",
                "\n",
                "class LSTMCls(nn.Module):\n",
                "    def __init__(self):\n",
                "        super(LSTMCls, self).__init__()\n",
                "        self.lstm = nn.LSTM(input_size=768, hidden_size=256, num_layers=1, batch_first=True)\n",
                "        self.relu = nn.ReLU()\n",
                "        self.dropout = nn.Dropout(0.2)\n",
                "        self.fc = nn.Linear(256, 3)\n",
                "\n",
                "    def forward(self, x):\n",
                "        # LSTM返回两个元组，(output, (h_n, c_n))\n",
                "        # output: (batch_size, seq_length, num_directions * hidden_size)\n",
                "        # h_n: (num_layers * num_directions, batch_size, hidden_size)\n",
                "        # c_n: (num_layers * num_directions, batch_size, hidden_size)\n",
                "        output, (h_n, c_n) = self.lstm(x)\n",
                "        x = self.relu(output)  # 取序列的最后一个输出\n",
                "        x = self.dropout(x)\n",
                "        x = self.fc(x)\n",
                "        return x\n",
                "\n",
                "class GRUCls(nn.Module):\n",
                "    def __init__(self):\n",
                "        super(GRUCls, self).__init__()\n",
                "        self.gru = nn.GRU(input_size=768, hidden_size=256, num_layers=1, batch_first=True)\n",
                "        self.relu = nn.ReLU()\n",
                "        self.dropout = nn.Dropout(0.2)\n",
                "        self.fc = nn.Linear(256, 3)\n",
                "\n",
                "    def forward(self, x):\n",
                "        # GRU的输出 (output, h_n)\n",
                "        output, h_n = self.gru(x)  # output: (batch_size, seq_length, hidden_size)\n",
                "        x = self.relu(output)  # 取序列的最后一个输出\n",
                "        x = self.dropout(x)\n",
                "        x = self.fc(x)\n",
                "        return x\n",
                "\n",
                "class RNNCls(nn.Module):\n",
                "    def __init__(self):\n",
                "        super(RNNCls, self).__init__()\n",
                "        self.rnn = nn.RNN(input_size=768, hidden_size=256, num_layers=1, batch_first=True)\n",
                "        self.relu = nn.ReLU()\n",
                "        self.dropout = nn.Dropout(0.2)\n",
                "        self.fc = nn.Linear(256, 3)\n",
                "\n",
                "    def forward(self, x):\n",
                "        # RNN的输出包括 (output, h_n)\n",
                "        output, h_n = self.rnn(x)  # output: (batch_size, seq_length, hidden_size)\n",
                "        x = self.relu(output)  # 取序列的最后一个输出\n",
                "        x = self.dropout(x)\n",
                "        x = self.fc(x)\n",
                "        return x\n",
                "\n",
                "class MultiheadAttentionCls(nn.Module):\n",
                "    def __init__(self):\n",
                "        super(MultiheadAttentionCls, self).__init__()\n",
                "        self.attention = nn.MultiheadAttention(embed_dim=768, num_heads=8, batch_first=True)\n",
                "        self.relu = nn.ReLU()\n",
                "        self.dropout = nn.Dropout(0.2)\n",
                "        self.fc = nn.Linear(768, 3)\n",
                "\n",
                "    def forward(self, x):\n",
                "        # 假设x的形状是(batch_size, seq_length, embed_dim)\n",
                "        # 多头注意力需要输入key, query, value，这里我们使用同一个x作为三者\n",
                "        attn_output, _ = self.attention(x, x, x)\n",
                "        # 取多头注意力输出的平均或者最后一个时间步的输出\n",
                "        x = self.relu(attn_output)\n",
                "        x = self.dropout(x)\n",
                "        x = self.fc(x)\n",
                "        return x\n",
                "\n",
                "\n",
                "from transformers import BertModel\n",
                "\n",
                "class CustomBERTModel(nn.Module):\n",
                "    def __init__(self, num_labels):\n",
                "        super(CustomBERTModel, self).__init__()\n",
                "        model_name = CHECKPOINT\n",
                "        self.bert = BertModel.from_pretrained(model_name)\n",
                "        self.dropout = nn.Dropout(0.2)\n",
                "        self.classifier = nn.Sequential(\n",
                "            nn.Linear(768, 512),\n",
                "            nn.LayerNorm(512),\n",
                "            nn.ReLU(),\n",
                "            nn.Dropout(0.2),\n",
                "            nn.Linear(512, num_labels)\n",
                "        )\n",
                "        self.loss = nn.CrossEntropyLoss()\n",
                "        self.num_labels = num_labels\n",
                "\n",
                "    def forward(self, input_ids, attention_mask, labels=None):\n",
                "        output = self.bert(input_ids=input_ids, attention_mask=attention_mask)\n",
                "        output = self.dropout(output.pooler_output)\n",
                "        logits = self.classifier(output)\n",
                "\n",
                "        if labels is not None:\n",
                "            loss = self.loss(logits.view(-1, self.num_labels), labels.view(-1))\n",
                "            return {\"loss\": loss, \"logits\": logits}\n",
                "        else:\n",
                "            return logits\n",
                "\n",
                "# model = CustomBERTModel(num_labels=3)\n",
                "model.classifier = RNNCls()\n",
                "model"
            ]
        },
        {
            "cell_type": "code",
            "execution_count": 9,
            "metadata": {
                "colab": {
                    "base_uri": "https://localhost:8080/",
                    "height": 113,
                    "referenced_widgets": [
                        "b2fdecbaad9c46379b8ceda1697c20fc",
                        "09718005a28a407ab277bc8fbe4d3dbb",
                        "ce0015c8278d4d2795c83838e8ff1694",
                        "5a2cbee445f845869412fa067b7a25f5",
                        "cb5524f99ed84eb78f898fbcc2068eb7",
                        "bb8ed0bc72d24383a08b501b0faf8df9",
                        "9a17fe458d034bc689d56561f22bda21",
                        "0098426f0ee443e5b9885018c2f91ba4",
                        "60e4be7603134252857d989e657e4589",
                        "1380e8049c84476b9983229eb8582cf3",
                        "73003844b63c48af91650c7f8e88b32b",
                        "1329fa7ff30d43079837fddc4ba69a09",
                        "c7f207714c5c4f59afac3e999fd4b6c5",
                        "975d2f3c015f4df180c3f43b5489a387",
                        "06ddd7a38962449796e37770ec55cb2a",
                        "816c3bae88d941f0beef7fa8726a9f0c",
                        "1eb33c810e854ccd875b48ec3c2743b8",
                        "f368710185014fa09924135d17fa86d5",
                        "c1415dea0f934239aea7f9723152a825",
                        "abf0b990f1fa41fb93ec3d157a55a5a3",
                        "a2ce41c01db24dec8bfc1c15678c927e",
                        "83bedd2221444b2a9807d4db5e5017be",
                        "7a82e80258fb4306ad29e0e265ae757c",
                        "2bafe01dd39f42f790c24b1e629690c1",
                        "9f849ee0c958433387fa1811ae907b15",
                        "fcb39b9156564c129d1e2875a28dc885",
                        "a3bf2daf12b14325a1d72bf4048abf05",
                        "b71b6243b8e54c1aa90db36d31a3bca2",
                        "b2627e72342643c7b673e0155a8f9b84",
                        "c618c60dd9ae43d4a14c0c2e77d6e2ed",
                        "8f9cec77f2c941478c31579e3ec25720",
                        "9c837ee3f461481197abf8f40e135a4a",
                        "b3ba70a9ea6c4861a8a3e9fe4d4dc67b"
                    ]
                },
                "executionInfo": {
                    "elapsed": 25790,
                    "status": "ok",
                    "timestamp": 1714972674025,
                    "user": {
                        "displayName": "Jiacheng Pang",
                        "userId": "17495887600724079092"
                    },
                    "user_tz": 420
                },
                "id": "yDLlU9dLq3um",
                "outputId": "33d915c2-7b34-4893-a489-c9211ff673ad"
            },
            "outputs": [
                {
                    "name": "stderr",
                    "output_type": "stream",
                    "text": [
                        "Map: 100%|██████████| 105876/105876 [00:06<00:00, 16758.46 examples/s]\n",
                        "Map: 100%|██████████| 2424/2424 [00:00<00:00, 17704.91 examples/s]\n"
                    ]
                }
            ],
            "source": [
                "def preprocess_data(batch):\n",
                "    batch[\"text\"] = [\n",
                "        x1 + f\" {tokenizer.sep_token} \" + x2\n",
                "        for x1, x2 in zip(batch[\"premise\"], batch[\"hypothesis\"])\n",
                "    ]\n",
                "    return tokenizer(batch[\"text\"])\n",
                "\n",
                "data = data.map(preprocess_data, batched=True)"
            ]
        },
        {
            "cell_type": "code",
            "execution_count": 10,
            "metadata": {
                "colab": {
                    "base_uri": "https://localhost:8080/"
                },
                "executionInfo": {
                    "elapsed": 427,
                    "status": "ok",
                    "timestamp": 1714972678906,
                    "user": {
                        "displayName": "Jiacheng Pang",
                        "userId": "17495887600724079092"
                    },
                    "user_tz": 420
                },
                "id": "-Y08zpLIr4oy",
                "outputId": "c5aaa774-1eef-4867-f43d-848bf07546c2"
            },
            "outputs": [
                {
                    "data": {
                        "text/plain": [
                            "{'id': 'f714ec0aebde',\n",
                            " 'premise': 'Als seine Stiefmutter davon erfuhr, machte sie ihm am Nachmittag vor ihrem Tod diese Vorwürfe, und es kam zu einem Streit, der teilweise mitgehört wurde. ',\n",
                            " 'hypothesis': 'Für die letzten Worte, die er vor ihrem Tod zu ihr gesprochen hatte, fühlte er sich sein Leben lang schuldig.',\n",
                            " 'lang_abv': 'de',\n",
                            " 'language': 'German',\n",
                            " 'label': 1,\n",
                            " 'text': 'Als seine Stiefmutter davon erfuhr, machte sie ihm am Nachmittag vor ihrem Tod diese Vorwürfe, und es kam zu einem Streit, der teilweise mitgehört wurde.  [SEP] Für die letzten Worte, die er vor ihrem Tod zu ihr gesprochen hatte, fühlte er sich sein Leben lang schuldig.',\n",
                            " 'input_ids': [101,\n",
                            "  10233,\n",
                            "  11213,\n",
                            "  83684,\n",
                            "  63198,\n",
                            "  61672,\n",
                            "  10177,\n",
                            "  20190,\n",
                            "  10162,\n",
                            "  75341,\n",
                            "  117,\n",
                            "  24310,\n",
                            "  10271,\n",
                            "  13285,\n",
                            "  10345,\n",
                            "  10439,\n",
                            "  93018,\n",
                            "  13650,\n",
                            "  11239,\n",
                            "  17827,\n",
                            "  16789,\n",
                            "  11772,\n",
                            "  11239,\n",
                            "  89978,\n",
                            "  10111,\n",
                            "  117,\n",
                            "  10138,\n",
                            "  10153,\n",
                            "  12613,\n",
                            "  10331,\n",
                            "  10847,\n",
                            "  75615,\n",
                            "  117,\n",
                            "  10118,\n",
                            "  22723,\n",
                            "  10234,\n",
                            "  10592,\n",
                            "  72126,\n",
                            "  10318,\n",
                            "  119,\n",
                            "  102,\n",
                            "  10325,\n",
                            "  10121,\n",
                            "  17448,\n",
                            "  33116,\n",
                            "  10111,\n",
                            "  117,\n",
                            "  10121,\n",
                            "  10162,\n",
                            "  11239,\n",
                            "  17827,\n",
                            "  16789,\n",
                            "  10331,\n",
                            "  13329,\n",
                            "  85146,\n",
                            "  11688,\n",
                            "  117,\n",
                            "  10961,\n",
                            "  50332,\n",
                            "  10111,\n",
                            "  10162,\n",
                            "  10409,\n",
                            "  11386,\n",
                            "  15086,\n",
                            "  11804,\n",
                            "  16427,\n",
                            "  78131,\n",
                            "  11248,\n",
                            "  119,\n",
                            "  102],\n",
                            " 'token_type_ids': [0,\n",
                            "  0,\n",
                            "  0,\n",
                            "  0,\n",
                            "  0,\n",
                            "  0,\n",
                            "  0,\n",
                            "  0,\n",
                            "  0,\n",
                            "  0,\n",
                            "  0,\n",
                            "  0,\n",
                            "  0,\n",
                            "  0,\n",
                            "  0,\n",
                            "  0,\n",
                            "  0,\n",
                            "  0,\n",
                            "  0,\n",
                            "  0,\n",
                            "  0,\n",
                            "  0,\n",
                            "  0,\n",
                            "  0,\n",
                            "  0,\n",
                            "  0,\n",
                            "  0,\n",
                            "  0,\n",
                            "  0,\n",
                            "  0,\n",
                            "  0,\n",
                            "  0,\n",
                            "  0,\n",
                            "  0,\n",
                            "  0,\n",
                            "  0,\n",
                            "  0,\n",
                            "  0,\n",
                            "  0,\n",
                            "  0,\n",
                            "  0,\n",
                            "  0,\n",
                            "  0,\n",
                            "  0,\n",
                            "  0,\n",
                            "  0,\n",
                            "  0,\n",
                            "  0,\n",
                            "  0,\n",
                            "  0,\n",
                            "  0,\n",
                            "  0,\n",
                            "  0,\n",
                            "  0,\n",
                            "  0,\n",
                            "  0,\n",
                            "  0,\n",
                            "  0,\n",
                            "  0,\n",
                            "  0,\n",
                            "  0,\n",
                            "  0,\n",
                            "  0,\n",
                            "  0,\n",
                            "  0,\n",
                            "  0,\n",
                            "  0,\n",
                            "  0,\n",
                            "  0,\n",
                            "  0],\n",
                            " 'attention_mask': [1,\n",
                            "  1,\n",
                            "  1,\n",
                            "  1,\n",
                            "  1,\n",
                            "  1,\n",
                            "  1,\n",
                            "  1,\n",
                            "  1,\n",
                            "  1,\n",
                            "  1,\n",
                            "  1,\n",
                            "  1,\n",
                            "  1,\n",
                            "  1,\n",
                            "  1,\n",
                            "  1,\n",
                            "  1,\n",
                            "  1,\n",
                            "  1,\n",
                            "  1,\n",
                            "  1,\n",
                            "  1,\n",
                            "  1,\n",
                            "  1,\n",
                            "  1,\n",
                            "  1,\n",
                            "  1,\n",
                            "  1,\n",
                            "  1,\n",
                            "  1,\n",
                            "  1,\n",
                            "  1,\n",
                            "  1,\n",
                            "  1,\n",
                            "  1,\n",
                            "  1,\n",
                            "  1,\n",
                            "  1,\n",
                            "  1,\n",
                            "  1,\n",
                            "  1,\n",
                            "  1,\n",
                            "  1,\n",
                            "  1,\n",
                            "  1,\n",
                            "  1,\n",
                            "  1,\n",
                            "  1,\n",
                            "  1,\n",
                            "  1,\n",
                            "  1,\n",
                            "  1,\n",
                            "  1,\n",
                            "  1,\n",
                            "  1,\n",
                            "  1,\n",
                            "  1,\n",
                            "  1,\n",
                            "  1,\n",
                            "  1,\n",
                            "  1,\n",
                            "  1,\n",
                            "  1,\n",
                            "  1,\n",
                            "  1,\n",
                            "  1,\n",
                            "  1,\n",
                            "  1,\n",
                            "  1]}"
                        ]
                    },
                    "execution_count": 10,
                    "metadata": {},
                    "output_type": "execute_result"
                }
            ],
            "source": [
                "data['train'][0]\n"
            ]
        },
        {
            "cell_type": "code",
            "execution_count": 11,
            "metadata": {
                "executionInfo": {
                    "elapsed": 334,
                    "status": "ok",
                    "timestamp": 1714973918396,
                    "user": {
                        "displayName": "Jiacheng Pang",
                        "userId": "17495887600724079092"
                    },
                    "user_tz": 420
                },
                "id": "jI89SfvGq3um"
            },
            "outputs": [],
            "source": [
                "def compute_metrics(eval_pred):\n",
                "    metric = evaluate.load(\"accuracy\")\n",
                "    preds, labels = eval_pred\n",
                "    preds = np.argmax(preds, axis=1)\n",
                "    return metric.compute(predictions=preds, references=labels)\n",
                "\n",
                "train_args = TrainingArguments(\n",
                "    output_dir=os.path.join(OUTPUT_DIR, \"results\"),\n",
                "    logging_dir=os.path.join(OUTPUT_DIR, \"logs\"),\n",
                "    report_to=[],\n",
                "    evaluation_strategy=\"steps\",\n",
                "    eval_steps=200,\n",
                "    logging_steps=200,\n",
                "    save_steps=200,\n",
                "    per_device_eval_batch_size=16,\n",
                "    per_device_train_batch_size=16,\n",
                "    learning_rate=2e-5,\n",
                "    weight_decay=0.005,\n",
                "    num_train_epochs=1,\n",
                "    fp16=True,\n",
                "    load_best_model_at_end=True,\n",
                "    metric_for_best_model=\"accuracy\",\n",
                "    save_total_limit=3,\n",
                "    save_only_model=True,\n",
                ")"
            ]
        },
        {
            "cell_type": "code",
            "execution_count": 12,
            "metadata": {
                "colab": {
                    "base_uri": "https://localhost:8080/",
                    "height": 200
                },
                "id": "bJ0WNjBQq3un",
                "outputId": "8639b3f2-e538-4718-8fe4-d1f453b4de34"
            },
            "outputs": [
                {
                    "name": "stderr",
                    "output_type": "stream",
                    "text": [
                        "c:\\Users\\andyp\\AppData\\Local\\Programs\\Python\\Python311\\Lib\\site-packages\\accelerate\\accelerator.py:446: FutureWarning: Passing the following arguments to `Accelerator` is deprecated and will be removed in version 1.0 of Accelerate: dict_keys(['dispatch_batches', 'split_batches', 'even_batches', 'use_seedable_sampler']). Please pass an `accelerate.DataLoaderConfiguration` instead: \n",
                        "dataloader_config = DataLoaderConfiguration(dispatch_batches=None, split_batches=False, even_batches=True, use_seedable_sampler=True)\n",
                        "  warnings.warn(\n",
                        "  3%|▎         | 200/6618 [00:30<15:49,  6.76it/s]"
                    ]
                },
                {
                    "name": "stdout",
                    "output_type": "stream",
                    "text": [
                        "{'loss': 1.0891, 'grad_norm': 3.4674887657165527, 'learning_rate': 1.9395587790873378e-05, 'epoch': 0.03}\n"
                    ]
                },
                {
                    "name": "stderr",
                    "output_type": "stream",
                    "text": [
                        "                                                  \n",
                        "  3%|▎         | 200/6618 [00:35<15:49,  6.76it/s]Removed shared tensor {'classifier.rnn.bias_ih_l0', 'classifier.rnn.bias_hh_l0', 'classifier.rnn.weight_hh_l0'} while saving. This should be OK, but check by verifying that you don't receive any warning while reloading\n"
                    ]
                },
                {
                    "name": "stdout",
                    "output_type": "stream",
                    "text": [
                        "{'eval_loss': 1.0480149984359741, 'eval_accuracy': 0.45503300330033003, 'eval_runtime': 5.0071, 'eval_samples_per_second': 484.11, 'eval_steps_per_second': 30.357, 'epoch': 0.03}\n"
                    ]
                },
                {
                    "name": "stderr",
                    "output_type": "stream",
                    "text": [
                        "  6%|▌         | 400/6618 [01:06<14:39,  7.07it/s]  "
                    ]
                },
                {
                    "name": "stdout",
                    "output_type": "stream",
                    "text": [
                        "{'loss': 0.9799, 'grad_norm': 8.015278816223145, 'learning_rate': 1.8797219703838018e-05, 'epoch': 0.06}\n"
                    ]
                },
                {
                    "name": "stderr",
                    "output_type": "stream",
                    "text": [
                        "                                                  \n",
                        "  6%|▌         | 400/6618 [01:12<14:39,  7.07it/s]"
                    ]
                },
                {
                    "name": "stdout",
                    "output_type": "stream",
                    "text": [
                        "{'eval_loss': 0.9121776819229126, 'eval_accuracy': 0.5862211221122112, 'eval_runtime': 5.5772, 'eval_samples_per_second': 434.629, 'eval_steps_per_second': 27.254, 'epoch': 0.06}\n"
                    ]
                },
                {
                    "name": "stderr",
                    "output_type": "stream",
                    "text": [
                        "  9%|▉         | 600/6618 [01:43<14:59,  6.69it/s]  "
                    ]
                },
                {
                    "name": "stdout",
                    "output_type": "stream",
                    "text": [
                        "{'loss': 0.9624, 'grad_norm': 7.383638858795166, 'learning_rate': 1.8192807494711394e-05, 'epoch': 0.09}\n"
                    ]
                },
                {
                    "name": "stderr",
                    "output_type": "stream",
                    "text": [
                        "                                                  \n",
                        "  9%|▉         | 600/6618 [01:49<14:59,  6.69it/s]"
                    ]
                },
                {
                    "name": "stdout",
                    "output_type": "stream",
                    "text": [
                        "{'eval_loss': 0.9040164947509766, 'eval_accuracy': 0.5870462046204621, 'eval_runtime': 5.3574, 'eval_samples_per_second': 452.458, 'eval_steps_per_second': 28.372, 'epoch': 0.09}\n"
                    ]
                },
                {
                    "name": "stderr",
                    "output_type": "stream",
                    "text": [
                        " 12%|█▏        | 800/6618 [02:20<13:51,  7.00it/s]  "
                    ]
                },
                {
                    "name": "stdout",
                    "output_type": "stream",
                    "text": [
                        "{'loss': 0.9155, 'grad_norm': 9.521387100219727, 'learning_rate': 1.758839528558477e-05, 'epoch': 0.12}\n"
                    ]
                },
                {
                    "name": "stderr",
                    "output_type": "stream",
                    "text": [
                        "                                                  \n",
                        " 12%|█▏        | 800/6618 [02:26<13:51,  7.00it/s]"
                    ]
                },
                {
                    "name": "stdout",
                    "output_type": "stream",
                    "text": [
                        "{'eval_loss': 0.8522412180900574, 'eval_accuracy': 0.6283003300330033, 'eval_runtime': 5.6892, 'eval_samples_per_second': 426.068, 'eval_steps_per_second': 26.717, 'epoch': 0.12}\n"
                    ]
                },
                {
                    "name": "stderr",
                    "output_type": "stream",
                    "text": [
                        " 15%|█▌        | 1000/6618 [02:58<13:18,  7.04it/s] "
                    ]
                },
                {
                    "name": "stdout",
                    "output_type": "stream",
                    "text": [
                        "{'loss': 0.9134, 'grad_norm': 7.6052565574646, 'learning_rate': 1.6983983076458146e-05, 'epoch': 0.15}\n"
                    ]
                },
                {
                    "name": "stderr",
                    "output_type": "stream",
                    "text": [
                        "                                                   \n",
                        " 15%|█▌        | 1000/6618 [03:04<13:18,  7.04it/s]"
                    ]
                },
                {
                    "name": "stdout",
                    "output_type": "stream",
                    "text": [
                        "{'eval_loss': 0.8476641178131104, 'eval_accuracy': 0.6208745874587459, 'eval_runtime': 5.5288, 'eval_samples_per_second': 438.428, 'eval_steps_per_second': 27.492, 'epoch': 0.15}\n"
                    ]
                },
                {
                    "name": "stderr",
                    "output_type": "stream",
                    "text": [
                        " 18%|█▊        | 1200/6618 [03:35<12:58,  6.96it/s]  "
                    ]
                },
                {
                    "name": "stdout",
                    "output_type": "stream",
                    "text": [
                        "{'loss': 0.901, 'grad_norm': 8.199238777160645, 'learning_rate': 1.6379570867331522e-05, 'epoch': 0.18}\n"
                    ]
                },
                {
                    "name": "stderr",
                    "output_type": "stream",
                    "text": [
                        "                                                   \n",
                        " 18%|█▊        | 1200/6618 [03:41<12:58,  6.96it/s]"
                    ]
                },
                {
                    "name": "stdout",
                    "output_type": "stream",
                    "text": [
                        "{'eval_loss': 0.8399881720542908, 'eval_accuracy': 0.6192244224422442, 'eval_runtime': 5.6287, 'eval_samples_per_second': 430.651, 'eval_steps_per_second': 27.005, 'epoch': 0.18}\n"
                    ]
                },
                {
                    "name": "stderr",
                    "output_type": "stream",
                    "text": [
                        " 21%|██        | 1400/6618 [04:13<12:28,  6.97it/s]  "
                    ]
                },
                {
                    "name": "stdout",
                    "output_type": "stream",
                    "text": [
                        "{'loss': 0.878, 'grad_norm': 6.68585205078125, 'learning_rate': 1.5775158658204898e-05, 'epoch': 0.21}\n"
                    ]
                },
                {
                    "name": "stderr",
                    "output_type": "stream",
                    "text": [
                        "                                                   \n",
                        " 21%|██        | 1400/6618 [04:18<12:28,  6.97it/s]"
                    ]
                },
                {
                    "name": "stdout",
                    "output_type": "stream",
                    "text": [
                        "{'eval_loss': 0.8087708353996277, 'eval_accuracy': 0.6402640264026402, 'eval_runtime': 5.2864, 'eval_samples_per_second': 458.539, 'eval_steps_per_second': 28.753, 'epoch': 0.21}\n"
                    ]
                },
                {
                    "name": "stderr",
                    "output_type": "stream",
                    "text": [
                        " 24%|██▍       | 1600/6618 [04:50<12:20,  6.77it/s]  "
                    ]
                },
                {
                    "name": "stdout",
                    "output_type": "stream",
                    "text": [
                        "{'loss': 0.8485, 'grad_norm': 8.831063270568848, 'learning_rate': 1.5170746449078272e-05, 'epoch': 0.24}\n"
                    ]
                },
                {
                    "name": "stderr",
                    "output_type": "stream",
                    "text": [
                        "                                                   \n",
                        " 24%|██▍       | 1600/6618 [04:55<12:20,  6.77it/s]"
                    ]
                },
                {
                    "name": "stdout",
                    "output_type": "stream",
                    "text": [
                        "{'eval_loss': 0.80534428358078, 'eval_accuracy': 0.6406765676567657, 'eval_runtime': 5.2407, 'eval_samples_per_second': 462.533, 'eval_steps_per_second': 29.004, 'epoch': 0.24}\n"
                    ]
                },
                {
                    "name": "stderr",
                    "output_type": "stream",
                    "text": [
                        " 27%|██▋       | 1800/6618 [05:27<11:57,  6.72it/s]  "
                    ]
                },
                {
                    "name": "stdout",
                    "output_type": "stream",
                    "text": [
                        "{'loss': 0.8676, 'grad_norm': 8.429427146911621, 'learning_rate': 1.4566334239951647e-05, 'epoch': 0.27}\n"
                    ]
                },
                {
                    "name": "stderr",
                    "output_type": "stream",
                    "text": [
                        "                                                   \n",
                        " 27%|██▋       | 1800/6618 [05:32<11:57,  6.72it/s]"
                    ]
                },
                {
                    "name": "stdout",
                    "output_type": "stream",
                    "text": [
                        "{'eval_loss': 0.7841135263442993, 'eval_accuracy': 0.6600660066006601, 'eval_runtime': 5.4285, 'eval_samples_per_second': 446.534, 'eval_steps_per_second': 28.0, 'epoch': 0.27}\n"
                    ]
                },
                {
                    "name": "stderr",
                    "output_type": "stream",
                    "text": [
                        " 30%|███       | 2000/6618 [06:05<11:28,  6.71it/s]  "
                    ]
                },
                {
                    "name": "stdout",
                    "output_type": "stream",
                    "text": [
                        "{'loss': 0.8478, 'grad_norm': 8.009357452392578, 'learning_rate': 1.3961922030825024e-05, 'epoch': 0.3}\n"
                    ]
                },
                {
                    "name": "stderr",
                    "output_type": "stream",
                    "text": [
                        "                                                   \n",
                        " 30%|███       | 2000/6618 [06:10<11:28,  6.71it/s]"
                    ]
                },
                {
                    "name": "stdout",
                    "output_type": "stream",
                    "text": [
                        "{'eval_loss': 0.7918615341186523, 'eval_accuracy': 0.6485148514851485, 'eval_runtime': 5.6394, 'eval_samples_per_second': 429.833, 'eval_steps_per_second': 26.953, 'epoch': 0.3}\n"
                    ]
                },
                {
                    "name": "stderr",
                    "output_type": "stream",
                    "text": [
                        " 33%|███▎      | 2200/6618 [06:42<10:27,  7.04it/s]  "
                    ]
                },
                {
                    "name": "stdout",
                    "output_type": "stream",
                    "text": [
                        "{'loss': 0.8345, 'grad_norm': 7.976894855499268, 'learning_rate': 1.33575098216984e-05, 'epoch': 0.33}\n"
                    ]
                },
                {
                    "name": "stderr",
                    "output_type": "stream",
                    "text": [
                        "                                                   \n",
                        " 33%|███▎      | 2200/6618 [06:47<10:27,  7.04it/s]"
                    ]
                },
                {
                    "name": "stdout",
                    "output_type": "stream",
                    "text": [
                        "{'eval_loss': 0.7661153078079224, 'eval_accuracy': 0.6641914191419142, 'eval_runtime': 4.8131, 'eval_samples_per_second': 503.621, 'eval_steps_per_second': 31.58, 'epoch': 0.33}\n"
                    ]
                },
                {
                    "name": "stderr",
                    "output_type": "stream",
                    "text": [
                        " 36%|███▋      | 2400/6618 [07:18<10:13,  6.88it/s]  "
                    ]
                },
                {
                    "name": "stdout",
                    "output_type": "stream",
                    "text": [
                        "{'loss': 0.8047, 'grad_norm': 12.95920467376709, 'learning_rate': 1.2753097612571774e-05, 'epoch': 0.36}\n"
                    ]
                },
                {
                    "name": "stderr",
                    "output_type": "stream",
                    "text": [
                        "                                                   \n",
                        " 36%|███▋      | 2400/6618 [07:23<10:13,  6.88it/s]"
                    ]
                },
                {
                    "name": "stdout",
                    "output_type": "stream",
                    "text": [
                        "{'eval_loss': 0.7702425122261047, 'eval_accuracy': 0.6551155115511551, 'eval_runtime': 5.5569, 'eval_samples_per_second': 436.213, 'eval_steps_per_second': 27.353, 'epoch': 0.36}\n"
                    ]
                },
                {
                    "name": "stderr",
                    "output_type": "stream",
                    "text": [
                        " 39%|███▉      | 2600/6618 [07:55<09:26,  7.10it/s]  "
                    ]
                },
                {
                    "name": "stdout",
                    "output_type": "stream",
                    "text": [
                        "{'loss': 0.7891, 'grad_norm': 9.123123168945312, 'learning_rate': 1.2151707464490783e-05, 'epoch': 0.39}\n"
                    ]
                },
                {
                    "name": "stderr",
                    "output_type": "stream",
                    "text": [
                        "                                                   \n",
                        " 39%|███▉      | 2600/6618 [08:00<09:26,  7.10it/s]"
                    ]
                },
                {
                    "name": "stdout",
                    "output_type": "stream",
                    "text": [
                        "{'eval_loss': 0.751711905002594, 'eval_accuracy': 0.6712046204620462, 'eval_runtime': 5.3719, 'eval_samples_per_second': 451.239, 'eval_steps_per_second': 28.296, 'epoch': 0.39}\n"
                    ]
                },
                {
                    "name": "stderr",
                    "output_type": "stream",
                    "text": [
                        " 42%|████▏     | 2800/6618 [08:32<08:57,  7.11it/s]  "
                    ]
                },
                {
                    "name": "stdout",
                    "output_type": "stream",
                    "text": [
                        "{'loss': 0.8021, 'grad_norm': 10.875104904174805, 'learning_rate': 1.1547295255364159e-05, 'epoch': 0.42}\n"
                    ]
                },
                {
                    "name": "stderr",
                    "output_type": "stream",
                    "text": [
                        "                                                   \n",
                        " 42%|████▏     | 2800/6618 [08:37<08:57,  7.11it/s]"
                    ]
                },
                {
                    "name": "stdout",
                    "output_type": "stream",
                    "text": [
                        "{'eval_loss': 0.7391440868377686, 'eval_accuracy': 0.6872937293729373, 'eval_runtime': 4.6299, 'eval_samples_per_second': 523.552, 'eval_steps_per_second': 32.83, 'epoch': 0.42}\n"
                    ]
                },
                {
                    "name": "stderr",
                    "output_type": "stream",
                    "text": [
                        " 45%|████▌     | 3000/6618 [09:08<08:42,  6.93it/s]  "
                    ]
                },
                {
                    "name": "stdout",
                    "output_type": "stream",
                    "text": [
                        "{'loss': 0.7698, 'grad_norm': 8.786696434020996, 'learning_rate': 1.0942883046237536e-05, 'epoch': 0.45}\n"
                    ]
                },
                {
                    "name": "stderr",
                    "output_type": "stream",
                    "text": [
                        "                                                   \n",
                        " 45%|████▌     | 3000/6618 [09:14<08:42,  6.93it/s]"
                    ]
                },
                {
                    "name": "stdout",
                    "output_type": "stream",
                    "text": [
                        "{'eval_loss': 0.7455416917800903, 'eval_accuracy': 0.6765676567656765, 'eval_runtime': 5.5306, 'eval_samples_per_second': 438.286, 'eval_steps_per_second': 27.483, 'epoch': 0.45}\n"
                    ]
                },
                {
                    "name": "stderr",
                    "output_type": "stream",
                    "text": [
                        " 48%|████▊     | 3200/6618 [09:46<07:58,  7.14it/s]  "
                    ]
                },
                {
                    "name": "stdout",
                    "output_type": "stream",
                    "text": [
                        "{'loss': 0.797, 'grad_norm': 10.889054298400879, 'learning_rate': 1.033847083711091e-05, 'epoch': 0.48}\n"
                    ]
                },
                {
                    "name": "stderr",
                    "output_type": "stream",
                    "text": [
                        "                                                   \n",
                        " 48%|████▊     | 3200/6618 [09:52<07:58,  7.14it/s]"
                    ]
                },
                {
                    "name": "stdout",
                    "output_type": "stream",
                    "text": [
                        "{'eval_loss': 0.7351437211036682, 'eval_accuracy': 0.6786303630363036, 'eval_runtime': 5.6819, 'eval_samples_per_second': 426.62, 'eval_steps_per_second': 26.752, 'epoch': 0.48}\n"
                    ]
                },
                {
                    "name": "stderr",
                    "output_type": "stream",
                    "text": [
                        " 51%|█████▏    | 3400/6618 [10:25<07:48,  6.87it/s]  "
                    ]
                },
                {
                    "name": "stdout",
                    "output_type": "stream",
                    "text": [
                        "{'loss': 0.7802, 'grad_norm': 9.20958423614502, 'learning_rate': 9.734058627984287e-06, 'epoch': 0.51}\n"
                    ]
                },
                {
                    "name": "stderr",
                    "output_type": "stream",
                    "text": [
                        "                                                   \n",
                        " 51%|█████▏    | 3400/6618 [10:30<07:48,  6.87it/s]"
                    ]
                },
                {
                    "name": "stdout",
                    "output_type": "stream",
                    "text": [
                        "{'eval_loss': 0.7279499769210815, 'eval_accuracy': 0.6831683168316832, 'eval_runtime': 5.6278, 'eval_samples_per_second': 430.717, 'eval_steps_per_second': 27.009, 'epoch': 0.51}\n"
                    ]
                },
                {
                    "name": "stderr",
                    "output_type": "stream",
                    "text": [
                        " 54%|█████▍    | 3600/6618 [11:03<07:08,  7.05it/s]  "
                    ]
                },
                {
                    "name": "stdout",
                    "output_type": "stream",
                    "text": [
                        "{'loss': 0.761, 'grad_norm': 14.878654479980469, 'learning_rate': 9.129646418857661e-06, 'epoch': 0.54}\n"
                    ]
                },
                {
                    "name": "stderr",
                    "output_type": "stream",
                    "text": [
                        "                                                   \n",
                        " 54%|█████▍    | 3600/6618 [11:08<07:08,  7.05it/s]"
                    ]
                },
                {
                    "name": "stdout",
                    "output_type": "stream",
                    "text": [
                        "{'eval_loss': 0.7390096187591553, 'eval_accuracy': 0.6728547854785478, 'eval_runtime': 5.4154, 'eval_samples_per_second': 447.613, 'eval_steps_per_second': 28.068, 'epoch': 0.54}\n"
                    ]
                },
                {
                    "name": "stderr",
                    "output_type": "stream",
                    "text": [
                        " 57%|█████▋    | 3800/6618 [11:40<06:39,  7.06it/s]  "
                    ]
                },
                {
                    "name": "stdout",
                    "output_type": "stream",
                    "text": [
                        "{'loss': 0.7552, 'grad_norm': 13.915786743164062, 'learning_rate': 8.525234209731037e-06, 'epoch': 0.57}\n"
                    ]
                },
                {
                    "name": "stderr",
                    "output_type": "stream",
                    "text": [
                        "                                                   \n",
                        " 57%|█████▋    | 3800/6618 [11:45<06:39,  7.06it/s]"
                    ]
                },
                {
                    "name": "stdout",
                    "output_type": "stream",
                    "text": [
                        "{'eval_loss': 0.7388238906860352, 'eval_accuracy': 0.679042904290429, 'eval_runtime': 5.454, 'eval_samples_per_second': 444.447, 'eval_steps_per_second': 27.87, 'epoch': 0.57}\n"
                    ]
                },
                {
                    "name": "stderr",
                    "output_type": "stream",
                    "text": [
                        " 60%|██████    | 4000/6618 [12:18<06:11,  7.04it/s]  "
                    ]
                },
                {
                    "name": "stdout",
                    "output_type": "stream",
                    "text": [
                        "{'loss': 0.7596, 'grad_norm': 12.445393562316895, 'learning_rate': 7.920822000604413e-06, 'epoch': 0.6}\n"
                    ]
                },
                {
                    "name": "stderr",
                    "output_type": "stream",
                    "text": [
                        "                                                   \n",
                        " 60%|██████    | 4000/6618 [12:23<06:11,  7.04it/s]"
                    ]
                },
                {
                    "name": "stdout",
                    "output_type": "stream",
                    "text": [
                        "{'eval_loss': 0.7218323349952698, 'eval_accuracy': 0.6934818481848185, 'eval_runtime': 5.375, 'eval_samples_per_second': 450.981, 'eval_steps_per_second': 28.279, 'epoch': 0.6}\n"
                    ]
                },
                {
                    "name": "stderr",
                    "output_type": "stream",
                    "text": [
                        " 63%|██████▎   | 4200/6618 [12:56<05:27,  7.38it/s]  "
                    ]
                },
                {
                    "name": "stdout",
                    "output_type": "stream",
                    "text": [
                        "{'loss': 0.7395, 'grad_norm': 13.107863426208496, 'learning_rate': 7.316409791477789e-06, 'epoch': 0.63}\n"
                    ]
                },
                {
                    "name": "stderr",
                    "output_type": "stream",
                    "text": [
                        "                                                   \n",
                        " 63%|██████▎   | 4200/6618 [13:01<05:27,  7.38it/s]"
                    ]
                },
                {
                    "name": "stdout",
                    "output_type": "stream",
                    "text": [
                        "{'eval_loss': 0.7201048731803894, 'eval_accuracy': 0.6901815181518152, 'eval_runtime': 5.7417, 'eval_samples_per_second': 422.174, 'eval_steps_per_second': 26.473, 'epoch': 0.63}\n"
                    ]
                },
                {
                    "name": "stderr",
                    "output_type": "stream",
                    "text": [
                        " 66%|██████▋   | 4400/6618 [13:38<07:23,  5.00it/s]  "
                    ]
                },
                {
                    "name": "stdout",
                    "output_type": "stream",
                    "text": [
                        "{'loss': 0.7414, 'grad_norm': 8.498091697692871, 'learning_rate': 6.711997582351164e-06, 'epoch': 0.66}\n"
                    ]
                },
                {
                    "name": "stderr",
                    "output_type": "stream",
                    "text": [
                        "                                                   \n",
                        " 66%|██████▋   | 4400/6618 [13:42<07:23,  5.00it/s]"
                    ]
                },
                {
                    "name": "stdout",
                    "output_type": "stream",
                    "text": [
                        "{'eval_loss': 0.710347592830658, 'eval_accuracy': 0.6996699669966997, 'eval_runtime': 4.406, 'eval_samples_per_second': 550.165, 'eval_steps_per_second': 34.499, 'epoch': 0.66}\n"
                    ]
                },
                {
                    "name": "stderr",
                    "output_type": "stream",
                    "text": [
                        " 70%|██████▉   | 4600/6618 [14:20<06:15,  5.38it/s]  "
                    ]
                },
                {
                    "name": "stdout",
                    "output_type": "stream",
                    "text": [
                        "{'loss': 0.7211, 'grad_norm': 9.212361335754395, 'learning_rate': 6.107585373224539e-06, 'epoch': 0.7}\n"
                    ]
                },
                {
                    "name": "stderr",
                    "output_type": "stream",
                    "text": [
                        "                                                   \n",
                        " 70%|██████▉   | 4600/6618 [14:25<06:15,  5.38it/s]"
                    ]
                },
                {
                    "name": "stdout",
                    "output_type": "stream",
                    "text": [
                        "{'eval_loss': 0.7050771117210388, 'eval_accuracy': 0.7000825082508251, 'eval_runtime': 4.8828, 'eval_samples_per_second': 496.437, 'eval_steps_per_second': 31.13, 'epoch': 0.7}\n"
                    ]
                },
                {
                    "name": "stderr",
                    "output_type": "stream",
                    "text": [
                        " 73%|███████▎  | 4800/6618 [15:00<06:43,  4.51it/s]  "
                    ]
                },
                {
                    "name": "stdout",
                    "output_type": "stream",
                    "text": [
                        "{'loss': 0.7332, 'grad_norm': 11.973102569580078, 'learning_rate': 5.506195225143548e-06, 'epoch': 0.73}\n"
                    ]
                },
                {
                    "name": "stderr",
                    "output_type": "stream",
                    "text": [
                        "                                                   \n",
                        " 73%|███████▎  | 4800/6618 [15:05<06:43,  4.51it/s]"
                    ]
                },
                {
                    "name": "stdout",
                    "output_type": "stream",
                    "text": [
                        "{'eval_loss': 0.7179664373397827, 'eval_accuracy': 0.6976072607260726, 'eval_runtime': 4.5267, 'eval_samples_per_second': 535.485, 'eval_steps_per_second': 33.578, 'epoch': 0.73}\n"
                    ]
                },
                {
                    "name": "stderr",
                    "output_type": "stream",
                    "text": [
                        " 76%|███████▌  | 5000/6618 [15:45<05:53,  4.58it/s]"
                    ]
                },
                {
                    "name": "stdout",
                    "output_type": "stream",
                    "text": [
                        "{'loss': 0.728, 'grad_norm': 24.09558868408203, 'learning_rate': 4.901783016016924e-06, 'epoch': 0.76}\n"
                    ]
                },
                {
                    "name": "stderr",
                    "output_type": "stream",
                    "text": [
                        "                                                   \n",
                        " 76%|███████▌  | 5000/6618 [15:51<05:53,  4.58it/s]"
                    ]
                },
                {
                    "name": "stdout",
                    "output_type": "stream",
                    "text": [
                        "{'eval_loss': 0.7241004705429077, 'eval_accuracy': 0.6905940594059405, 'eval_runtime': 5.4662, 'eval_samples_per_second': 443.449, 'eval_steps_per_second': 27.807, 'epoch': 0.76}\n"
                    ]
                },
                {
                    "name": "stderr",
                    "output_type": "stream",
                    "text": [
                        " 79%|███████▊  | 5200/6618 [16:27<03:16,  7.22it/s]  "
                    ]
                },
                {
                    "name": "stdout",
                    "output_type": "stream",
                    "text": [
                        "{'loss': 0.7104, 'grad_norm': 12.56181526184082, 'learning_rate': 4.2973708068903e-06, 'epoch': 0.79}\n"
                    ]
                },
                {
                    "name": "stderr",
                    "output_type": "stream",
                    "text": [
                        "                                                   \n",
                        " 79%|███████▊  | 5200/6618 [16:32<03:16,  7.22it/s]"
                    ]
                },
                {
                    "name": "stdout",
                    "output_type": "stream",
                    "text": [
                        "{'eval_loss': 0.6977733373641968, 'eval_accuracy': 0.6988448844884488, 'eval_runtime': 5.5827, 'eval_samples_per_second': 434.202, 'eval_steps_per_second': 27.227, 'epoch': 0.79}\n"
                    ]
                },
                {
                    "name": "stderr",
                    "output_type": "stream",
                    "text": [
                        " 82%|████████▏ | 5400/6618 [17:11<03:05,  6.57it/s]"
                    ]
                },
                {
                    "name": "stdout",
                    "output_type": "stream",
                    "text": [
                        "{'loss': 0.7321, 'grad_norm': 12.190526962280273, 'learning_rate': 3.692958597763675e-06, 'epoch': 0.82}\n"
                    ]
                },
                {
                    "name": "stderr",
                    "output_type": "stream",
                    "text": [
                        "                                                   \n",
                        " 82%|████████▏ | 5400/6618 [17:17<03:05,  6.57it/s]"
                    ]
                },
                {
                    "name": "stdout",
                    "output_type": "stream",
                    "text": [
                        "{'eval_loss': 0.6835179924964905, 'eval_accuracy': 0.7108085808580858, 'eval_runtime': 5.3698, 'eval_samples_per_second': 451.412, 'eval_steps_per_second': 28.306, 'epoch': 0.82}\n"
                    ]
                },
                {
                    "name": "stderr",
                    "output_type": "stream",
                    "text": [
                        " 85%|████████▍ | 5600/6618 [17:56<03:33,  4.77it/s]"
                    ]
                },
                {
                    "name": "stdout",
                    "output_type": "stream",
                    "text": [
                        "{'loss': 0.7157, 'grad_norm': 7.305642604827881, 'learning_rate': 3.088546388637051e-06, 'epoch': 0.85}\n"
                    ]
                },
                {
                    "name": "stderr",
                    "output_type": "stream",
                    "text": [
                        "                                                   \n",
                        " 85%|████████▍ | 5600/6618 [18:01<03:33,  4.77it/s]"
                    ]
                },
                {
                    "name": "stdout",
                    "output_type": "stream",
                    "text": [
                        "{'eval_loss': 0.6906147599220276, 'eval_accuracy': 0.7091584158415841, 'eval_runtime': 5.1938, 'eval_samples_per_second': 466.713, 'eval_steps_per_second': 29.266, 'epoch': 0.85}\n"
                    ]
                },
                {
                    "name": "stderr",
                    "output_type": "stream",
                    "text": [
                        " 88%|████████▊ | 5800/6618 [18:42<02:24,  5.68it/s]"
                    ]
                },
                {
                    "name": "stdout",
                    "output_type": "stream",
                    "text": [
                        "{'loss': 0.7093, 'grad_norm': 19.10758399963379, 'learning_rate': 2.4841341795104264e-06, 'epoch': 0.88}\n"
                    ]
                },
                {
                    "name": "stderr",
                    "output_type": "stream",
                    "text": [
                        "                                                   \n",
                        " 88%|████████▊ | 5800/6618 [18:46<02:24,  5.68it/s]"
                    ]
                },
                {
                    "name": "stdout",
                    "output_type": "stream",
                    "text": [
                        "{'eval_loss': 0.6857695579528809, 'eval_accuracy': 0.7066831683168316, 'eval_runtime': 4.4925, 'eval_samples_per_second': 539.562, 'eval_steps_per_second': 33.834, 'epoch': 0.88}\n"
                    ]
                },
                {
                    "name": "stderr",
                    "output_type": "stream",
                    "text": [
                        " 91%|█████████ | 6000/6618 [19:22<01:36,  6.42it/s]"
                    ]
                },
                {
                    "name": "stdout",
                    "output_type": "stream",
                    "text": [
                        "{'loss': 0.7184, 'grad_norm': 13.344358444213867, 'learning_rate': 1.879721970383802e-06, 'epoch': 0.91}\n"
                    ]
                },
                {
                    "name": "stderr",
                    "output_type": "stream",
                    "text": [
                        "                                                   \n",
                        " 91%|█████████ | 6000/6618 [19:27<01:36,  6.42it/s]"
                    ]
                },
                {
                    "name": "stdout",
                    "output_type": "stream",
                    "text": [
                        "{'eval_loss': 0.6897754073143005, 'eval_accuracy': 0.7165841584158416, 'eval_runtime': 4.3875, 'eval_samples_per_second': 552.473, 'eval_steps_per_second': 34.643, 'epoch': 0.91}\n"
                    ]
                },
                {
                    "name": "stderr",
                    "output_type": "stream",
                    "text": [
                        " 94%|█████████▎| 6200/6618 [20:03<01:06,  6.27it/s]"
                    ]
                },
                {
                    "name": "stdout",
                    "output_type": "stream",
                    "text": [
                        "{'loss': 0.7041, 'grad_norm': 11.30181884765625, 'learning_rate': 1.2753097612571774e-06, 'epoch': 0.94}\n"
                    ]
                },
                {
                    "name": "stderr",
                    "output_type": "stream",
                    "text": [
                        "                                                   \n",
                        " 94%|█████████▎| 6200/6618 [20:08<01:06,  6.27it/s]"
                    ]
                },
                {
                    "name": "stdout",
                    "output_type": "stream",
                    "text": [
                        "{'eval_loss': 0.6907715201377869, 'eval_accuracy': 0.7161716171617162, 'eval_runtime': 4.4518, 'eval_samples_per_second': 544.504, 'eval_steps_per_second': 34.144, 'epoch': 0.94}\n"
                    ]
                },
                {
                    "name": "stderr",
                    "output_type": "stream",
                    "text": [
                        " 97%|█████████▋| 6400/6618 [20:46<00:43,  5.00it/s]"
                    ]
                },
                {
                    "name": "stdout",
                    "output_type": "stream",
                    "text": [
                        "{'loss': 0.6804, 'grad_norm': 13.407471656799316, 'learning_rate': 6.708975521305532e-07, 'epoch': 0.97}\n"
                    ]
                },
                {
                    "name": "stderr",
                    "output_type": "stream",
                    "text": [
                        "                                                   \n",
                        " 97%|█████████▋| 6400/6618 [20:51<00:43,  5.00it/s]"
                    ]
                },
                {
                    "name": "stdout",
                    "output_type": "stream",
                    "text": [
                        "{'eval_loss': 0.686680793762207, 'eval_accuracy': 0.7186468646864687, 'eval_runtime': 4.4399, 'eval_samples_per_second': 545.958, 'eval_steps_per_second': 34.235, 'epoch': 0.97}\n"
                    ]
                },
                {
                    "name": "stderr",
                    "output_type": "stream",
                    "text": [
                        "100%|█████████▉| 6600/6618 [21:27<00:03,  5.98it/s]"
                    ]
                },
                {
                    "name": "stdout",
                    "output_type": "stream",
                    "text": [
                        "{'loss': 0.7108, 'grad_norm': 12.52430534362793, 'learning_rate': 6.648534300392869e-08, 'epoch': 1.0}\n"
                    ]
                },
                {
                    "name": "stderr",
                    "output_type": "stream",
                    "text": [
                        "                                                   \n",
                        "100%|█████████▉| 6600/6618 [21:32<00:03,  5.98it/s]"
                    ]
                },
                {
                    "name": "stdout",
                    "output_type": "stream",
                    "text": [
                        "{'eval_loss': 0.6871473789215088, 'eval_accuracy': 0.7149339933993399, 'eval_runtime': 4.389, 'eval_samples_per_second': 552.286, 'eval_steps_per_second': 34.632, 'epoch': 1.0}\n"
                    ]
                },
                {
                    "name": "stderr",
                    "output_type": "stream",
                    "text": [
                        "100%|██████████| 6618/6618 [21:36<00:00,  6.52it/s]There were missing keys in the checkpoint model loaded: ['classifier.rnn.weight_hh_l0', 'classifier.rnn.bias_ih_l0', 'classifier.rnn.bias_hh_l0'].\n",
                        "100%|██████████| 6618/6618 [21:36<00:00,  5.10it/s]"
                    ]
                },
                {
                    "name": "stdout",
                    "output_type": "stream",
                    "text": [
                        "{'train_runtime': 1296.4242, 'train_samples_per_second': 81.668, 'train_steps_per_second': 5.105, 'train_loss': 0.7995945851800664, 'epoch': 1.0}\n"
                    ]
                },
                {
                    "name": "stderr",
                    "output_type": "stream",
                    "text": [
                        "\n"
                    ]
                },
                {
                    "data": {
                        "text/plain": [
                            "TrainOutput(global_step=6618, training_loss=0.7995945851800664, metrics={'train_runtime': 1296.4242, 'train_samples_per_second': 81.668, 'train_steps_per_second': 5.105, 'train_loss': 0.7995945851800664, 'epoch': 1.0})"
                        ]
                    },
                    "execution_count": 12,
                    "metadata": {},
                    "output_type": "execute_result"
                }
            ],
            "source": [
                "trainer = Trainer(\n",
                "    model=model,\n",
                "    args=train_args,\n",
                "    data_collator=data_collator,\n",
                "    train_dataset=data[\"train\"],\n",
                "    eval_dataset=data[\"val\"],\n",
                "    tokenizer=tokenizer,\n",
                "    compute_metrics=compute_metrics,\n",
                ")\n",
                "\n",
                "trainer.train()"
            ]
        },
        {
            "cell_type": "code",
            "execution_count": 13,
            "metadata": {
                "executionInfo": {
                    "elapsed": 341,
                    "status": "ok",
                    "timestamp": 1714973827365,
                    "user": {
                        "displayName": "Jiacheng Pang",
                        "userId": "17495887600724079092"
                    },
                    "user_tz": 420
                },
                "id": "tqmXK01fq3un"
            },
            "outputs": [
                {
                    "data": {
                        "text/plain": [
                            "[{'loss': 1.0891,\n",
                            "  'grad_norm': 3.4674887657165527,\n",
                            "  'learning_rate': 1.9395587790873378e-05,\n",
                            "  'epoch': 0.03,\n",
                            "  'step': 200},\n",
                            " {'eval_loss': 1.0480149984359741,\n",
                            "  'eval_accuracy': 0.45503300330033003,\n",
                            "  'eval_runtime': 5.0071,\n",
                            "  'eval_samples_per_second': 484.11,\n",
                            "  'eval_steps_per_second': 30.357,\n",
                            "  'epoch': 0.03,\n",
                            "  'step': 200},\n",
                            " {'loss': 0.9799,\n",
                            "  'grad_norm': 8.015278816223145,\n",
                            "  'learning_rate': 1.8797219703838018e-05,\n",
                            "  'epoch': 0.06,\n",
                            "  'step': 400},\n",
                            " {'eval_loss': 0.9121776819229126,\n",
                            "  'eval_accuracy': 0.5862211221122112,\n",
                            "  'eval_runtime': 5.5772,\n",
                            "  'eval_samples_per_second': 434.629,\n",
                            "  'eval_steps_per_second': 27.254,\n",
                            "  'epoch': 0.06,\n",
                            "  'step': 400},\n",
                            " {'loss': 0.9624,\n",
                            "  'grad_norm': 7.383638858795166,\n",
                            "  'learning_rate': 1.8192807494711394e-05,\n",
                            "  'epoch': 0.09,\n",
                            "  'step': 600},\n",
                            " {'eval_loss': 0.9040164947509766,\n",
                            "  'eval_accuracy': 0.5870462046204621,\n",
                            "  'eval_runtime': 5.3574,\n",
                            "  'eval_samples_per_second': 452.458,\n",
                            "  'eval_steps_per_second': 28.372,\n",
                            "  'epoch': 0.09,\n",
                            "  'step': 600},\n",
                            " {'loss': 0.9155,\n",
                            "  'grad_norm': 9.521387100219727,\n",
                            "  'learning_rate': 1.758839528558477e-05,\n",
                            "  'epoch': 0.12,\n",
                            "  'step': 800},\n",
                            " {'eval_loss': 0.8522412180900574,\n",
                            "  'eval_accuracy': 0.6283003300330033,\n",
                            "  'eval_runtime': 5.6892,\n",
                            "  'eval_samples_per_second': 426.068,\n",
                            "  'eval_steps_per_second': 26.717,\n",
                            "  'epoch': 0.12,\n",
                            "  'step': 800},\n",
                            " {'loss': 0.9134,\n",
                            "  'grad_norm': 7.6052565574646,\n",
                            "  'learning_rate': 1.6983983076458146e-05,\n",
                            "  'epoch': 0.15,\n",
                            "  'step': 1000},\n",
                            " {'eval_loss': 0.8476641178131104,\n",
                            "  'eval_accuracy': 0.6208745874587459,\n",
                            "  'eval_runtime': 5.5288,\n",
                            "  'eval_samples_per_second': 438.428,\n",
                            "  'eval_steps_per_second': 27.492,\n",
                            "  'epoch': 0.15,\n",
                            "  'step': 1000},\n",
                            " {'loss': 0.901,\n",
                            "  'grad_norm': 8.199238777160645,\n",
                            "  'learning_rate': 1.6379570867331522e-05,\n",
                            "  'epoch': 0.18,\n",
                            "  'step': 1200},\n",
                            " {'eval_loss': 0.8399881720542908,\n",
                            "  'eval_accuracy': 0.6192244224422442,\n",
                            "  'eval_runtime': 5.6287,\n",
                            "  'eval_samples_per_second': 430.651,\n",
                            "  'eval_steps_per_second': 27.005,\n",
                            "  'epoch': 0.18,\n",
                            "  'step': 1200},\n",
                            " {'loss': 0.878,\n",
                            "  'grad_norm': 6.68585205078125,\n",
                            "  'learning_rate': 1.5775158658204898e-05,\n",
                            "  'epoch': 0.21,\n",
                            "  'step': 1400},\n",
                            " {'eval_loss': 0.8087708353996277,\n",
                            "  'eval_accuracy': 0.6402640264026402,\n",
                            "  'eval_runtime': 5.2864,\n",
                            "  'eval_samples_per_second': 458.539,\n",
                            "  'eval_steps_per_second': 28.753,\n",
                            "  'epoch': 0.21,\n",
                            "  'step': 1400},\n",
                            " {'loss': 0.8485,\n",
                            "  'grad_norm': 8.831063270568848,\n",
                            "  'learning_rate': 1.5170746449078272e-05,\n",
                            "  'epoch': 0.24,\n",
                            "  'step': 1600},\n",
                            " {'eval_loss': 0.80534428358078,\n",
                            "  'eval_accuracy': 0.6406765676567657,\n",
                            "  'eval_runtime': 5.2407,\n",
                            "  'eval_samples_per_second': 462.533,\n",
                            "  'eval_steps_per_second': 29.004,\n",
                            "  'epoch': 0.24,\n",
                            "  'step': 1600},\n",
                            " {'loss': 0.8676,\n",
                            "  'grad_norm': 8.429427146911621,\n",
                            "  'learning_rate': 1.4566334239951647e-05,\n",
                            "  'epoch': 0.27,\n",
                            "  'step': 1800},\n",
                            " {'eval_loss': 0.7841135263442993,\n",
                            "  'eval_accuracy': 0.6600660066006601,\n",
                            "  'eval_runtime': 5.4285,\n",
                            "  'eval_samples_per_second': 446.534,\n",
                            "  'eval_steps_per_second': 28.0,\n",
                            "  'epoch': 0.27,\n",
                            "  'step': 1800},\n",
                            " {'loss': 0.8478,\n",
                            "  'grad_norm': 8.009357452392578,\n",
                            "  'learning_rate': 1.3961922030825024e-05,\n",
                            "  'epoch': 0.3,\n",
                            "  'step': 2000},\n",
                            " {'eval_loss': 0.7918615341186523,\n",
                            "  'eval_accuracy': 0.6485148514851485,\n",
                            "  'eval_runtime': 5.6394,\n",
                            "  'eval_samples_per_second': 429.833,\n",
                            "  'eval_steps_per_second': 26.953,\n",
                            "  'epoch': 0.3,\n",
                            "  'step': 2000},\n",
                            " {'loss': 0.8345,\n",
                            "  'grad_norm': 7.976894855499268,\n",
                            "  'learning_rate': 1.33575098216984e-05,\n",
                            "  'epoch': 0.33,\n",
                            "  'step': 2200},\n",
                            " {'eval_loss': 0.7661153078079224,\n",
                            "  'eval_accuracy': 0.6641914191419142,\n",
                            "  'eval_runtime': 4.8131,\n",
                            "  'eval_samples_per_second': 503.621,\n",
                            "  'eval_steps_per_second': 31.58,\n",
                            "  'epoch': 0.33,\n",
                            "  'step': 2200},\n",
                            " {'loss': 0.8047,\n",
                            "  'grad_norm': 12.95920467376709,\n",
                            "  'learning_rate': 1.2753097612571774e-05,\n",
                            "  'epoch': 0.36,\n",
                            "  'step': 2400},\n",
                            " {'eval_loss': 0.7702425122261047,\n",
                            "  'eval_accuracy': 0.6551155115511551,\n",
                            "  'eval_runtime': 5.5569,\n",
                            "  'eval_samples_per_second': 436.213,\n",
                            "  'eval_steps_per_second': 27.353,\n",
                            "  'epoch': 0.36,\n",
                            "  'step': 2400},\n",
                            " {'loss': 0.7891,\n",
                            "  'grad_norm': 9.123123168945312,\n",
                            "  'learning_rate': 1.2151707464490783e-05,\n",
                            "  'epoch': 0.39,\n",
                            "  'step': 2600},\n",
                            " {'eval_loss': 0.751711905002594,\n",
                            "  'eval_accuracy': 0.6712046204620462,\n",
                            "  'eval_runtime': 5.3719,\n",
                            "  'eval_samples_per_second': 451.239,\n",
                            "  'eval_steps_per_second': 28.296,\n",
                            "  'epoch': 0.39,\n",
                            "  'step': 2600},\n",
                            " {'loss': 0.8021,\n",
                            "  'grad_norm': 10.875104904174805,\n",
                            "  'learning_rate': 1.1547295255364159e-05,\n",
                            "  'epoch': 0.42,\n",
                            "  'step': 2800},\n",
                            " {'eval_loss': 0.7391440868377686,\n",
                            "  'eval_accuracy': 0.6872937293729373,\n",
                            "  'eval_runtime': 4.6299,\n",
                            "  'eval_samples_per_second': 523.552,\n",
                            "  'eval_steps_per_second': 32.83,\n",
                            "  'epoch': 0.42,\n",
                            "  'step': 2800},\n",
                            " {'loss': 0.7698,\n",
                            "  'grad_norm': 8.786696434020996,\n",
                            "  'learning_rate': 1.0942883046237536e-05,\n",
                            "  'epoch': 0.45,\n",
                            "  'step': 3000},\n",
                            " {'eval_loss': 0.7455416917800903,\n",
                            "  'eval_accuracy': 0.6765676567656765,\n",
                            "  'eval_runtime': 5.5306,\n",
                            "  'eval_samples_per_second': 438.286,\n",
                            "  'eval_steps_per_second': 27.483,\n",
                            "  'epoch': 0.45,\n",
                            "  'step': 3000},\n",
                            " {'loss': 0.797,\n",
                            "  'grad_norm': 10.889054298400879,\n",
                            "  'learning_rate': 1.033847083711091e-05,\n",
                            "  'epoch': 0.48,\n",
                            "  'step': 3200},\n",
                            " {'eval_loss': 0.7351437211036682,\n",
                            "  'eval_accuracy': 0.6786303630363036,\n",
                            "  'eval_runtime': 5.6819,\n",
                            "  'eval_samples_per_second': 426.62,\n",
                            "  'eval_steps_per_second': 26.752,\n",
                            "  'epoch': 0.48,\n",
                            "  'step': 3200},\n",
                            " {'loss': 0.7802,\n",
                            "  'grad_norm': 9.20958423614502,\n",
                            "  'learning_rate': 9.734058627984287e-06,\n",
                            "  'epoch': 0.51,\n",
                            "  'step': 3400},\n",
                            " {'eval_loss': 0.7279499769210815,\n",
                            "  'eval_accuracy': 0.6831683168316832,\n",
                            "  'eval_runtime': 5.6278,\n",
                            "  'eval_samples_per_second': 430.717,\n",
                            "  'eval_steps_per_second': 27.009,\n",
                            "  'epoch': 0.51,\n",
                            "  'step': 3400},\n",
                            " {'loss': 0.761,\n",
                            "  'grad_norm': 14.878654479980469,\n",
                            "  'learning_rate': 9.129646418857661e-06,\n",
                            "  'epoch': 0.54,\n",
                            "  'step': 3600},\n",
                            " {'eval_loss': 0.7390096187591553,\n",
                            "  'eval_accuracy': 0.6728547854785478,\n",
                            "  'eval_runtime': 5.4154,\n",
                            "  'eval_samples_per_second': 447.613,\n",
                            "  'eval_steps_per_second': 28.068,\n",
                            "  'epoch': 0.54,\n",
                            "  'step': 3600},\n",
                            " {'loss': 0.7552,\n",
                            "  'grad_norm': 13.915786743164062,\n",
                            "  'learning_rate': 8.525234209731037e-06,\n",
                            "  'epoch': 0.57,\n",
                            "  'step': 3800},\n",
                            " {'eval_loss': 0.7388238906860352,\n",
                            "  'eval_accuracy': 0.679042904290429,\n",
                            "  'eval_runtime': 5.454,\n",
                            "  'eval_samples_per_second': 444.447,\n",
                            "  'eval_steps_per_second': 27.87,\n",
                            "  'epoch': 0.57,\n",
                            "  'step': 3800},\n",
                            " {'loss': 0.7596,\n",
                            "  'grad_norm': 12.445393562316895,\n",
                            "  'learning_rate': 7.920822000604413e-06,\n",
                            "  'epoch': 0.6,\n",
                            "  'step': 4000},\n",
                            " {'eval_loss': 0.7218323349952698,\n",
                            "  'eval_accuracy': 0.6934818481848185,\n",
                            "  'eval_runtime': 5.375,\n",
                            "  'eval_samples_per_second': 450.981,\n",
                            "  'eval_steps_per_second': 28.279,\n",
                            "  'epoch': 0.6,\n",
                            "  'step': 4000},\n",
                            " {'loss': 0.7395,\n",
                            "  'grad_norm': 13.107863426208496,\n",
                            "  'learning_rate': 7.316409791477789e-06,\n",
                            "  'epoch': 0.63,\n",
                            "  'step': 4200},\n",
                            " {'eval_loss': 0.7201048731803894,\n",
                            "  'eval_accuracy': 0.6901815181518152,\n",
                            "  'eval_runtime': 5.7417,\n",
                            "  'eval_samples_per_second': 422.174,\n",
                            "  'eval_steps_per_second': 26.473,\n",
                            "  'epoch': 0.63,\n",
                            "  'step': 4200},\n",
                            " {'loss': 0.7414,\n",
                            "  'grad_norm': 8.498091697692871,\n",
                            "  'learning_rate': 6.711997582351164e-06,\n",
                            "  'epoch': 0.66,\n",
                            "  'step': 4400},\n",
                            " {'eval_loss': 0.710347592830658,\n",
                            "  'eval_accuracy': 0.6996699669966997,\n",
                            "  'eval_runtime': 4.406,\n",
                            "  'eval_samples_per_second': 550.165,\n",
                            "  'eval_steps_per_second': 34.499,\n",
                            "  'epoch': 0.66,\n",
                            "  'step': 4400},\n",
                            " {'loss': 0.7211,\n",
                            "  'grad_norm': 9.212361335754395,\n",
                            "  'learning_rate': 6.107585373224539e-06,\n",
                            "  'epoch': 0.7,\n",
                            "  'step': 4600},\n",
                            " {'eval_loss': 0.7050771117210388,\n",
                            "  'eval_accuracy': 0.7000825082508251,\n",
                            "  'eval_runtime': 4.8828,\n",
                            "  'eval_samples_per_second': 496.437,\n",
                            "  'eval_steps_per_second': 31.13,\n",
                            "  'epoch': 0.7,\n",
                            "  'step': 4600},\n",
                            " {'loss': 0.7332,\n",
                            "  'grad_norm': 11.973102569580078,\n",
                            "  'learning_rate': 5.506195225143548e-06,\n",
                            "  'epoch': 0.73,\n",
                            "  'step': 4800},\n",
                            " {'eval_loss': 0.7179664373397827,\n",
                            "  'eval_accuracy': 0.6976072607260726,\n",
                            "  'eval_runtime': 4.5267,\n",
                            "  'eval_samples_per_second': 535.485,\n",
                            "  'eval_steps_per_second': 33.578,\n",
                            "  'epoch': 0.73,\n",
                            "  'step': 4800},\n",
                            " {'loss': 0.728,\n",
                            "  'grad_norm': 24.09558868408203,\n",
                            "  'learning_rate': 4.901783016016924e-06,\n",
                            "  'epoch': 0.76,\n",
                            "  'step': 5000},\n",
                            " {'eval_loss': 0.7241004705429077,\n",
                            "  'eval_accuracy': 0.6905940594059405,\n",
                            "  'eval_runtime': 5.4662,\n",
                            "  'eval_samples_per_second': 443.449,\n",
                            "  'eval_steps_per_second': 27.807,\n",
                            "  'epoch': 0.76,\n",
                            "  'step': 5000},\n",
                            " {'loss': 0.7104,\n",
                            "  'grad_norm': 12.56181526184082,\n",
                            "  'learning_rate': 4.2973708068903e-06,\n",
                            "  'epoch': 0.79,\n",
                            "  'step': 5200},\n",
                            " {'eval_loss': 0.6977733373641968,\n",
                            "  'eval_accuracy': 0.6988448844884488,\n",
                            "  'eval_runtime': 5.5827,\n",
                            "  'eval_samples_per_second': 434.202,\n",
                            "  'eval_steps_per_second': 27.227,\n",
                            "  'epoch': 0.79,\n",
                            "  'step': 5200},\n",
                            " {'loss': 0.7321,\n",
                            "  'grad_norm': 12.190526962280273,\n",
                            "  'learning_rate': 3.692958597763675e-06,\n",
                            "  'epoch': 0.82,\n",
                            "  'step': 5400},\n",
                            " {'eval_loss': 0.6835179924964905,\n",
                            "  'eval_accuracy': 0.7108085808580858,\n",
                            "  'eval_runtime': 5.3698,\n",
                            "  'eval_samples_per_second': 451.412,\n",
                            "  'eval_steps_per_second': 28.306,\n",
                            "  'epoch': 0.82,\n",
                            "  'step': 5400},\n",
                            " {'loss': 0.7157,\n",
                            "  'grad_norm': 7.305642604827881,\n",
                            "  'learning_rate': 3.088546388637051e-06,\n",
                            "  'epoch': 0.85,\n",
                            "  'step': 5600},\n",
                            " {'eval_loss': 0.6906147599220276,\n",
                            "  'eval_accuracy': 0.7091584158415841,\n",
                            "  'eval_runtime': 5.1938,\n",
                            "  'eval_samples_per_second': 466.713,\n",
                            "  'eval_steps_per_second': 29.266,\n",
                            "  'epoch': 0.85,\n",
                            "  'step': 5600},\n",
                            " {'loss': 0.7093,\n",
                            "  'grad_norm': 19.10758399963379,\n",
                            "  'learning_rate': 2.4841341795104264e-06,\n",
                            "  'epoch': 0.88,\n",
                            "  'step': 5800},\n",
                            " {'eval_loss': 0.6857695579528809,\n",
                            "  'eval_accuracy': 0.7066831683168316,\n",
                            "  'eval_runtime': 4.4925,\n",
                            "  'eval_samples_per_second': 539.562,\n",
                            "  'eval_steps_per_second': 33.834,\n",
                            "  'epoch': 0.88,\n",
                            "  'step': 5800},\n",
                            " {'loss': 0.7184,\n",
                            "  'grad_norm': 13.344358444213867,\n",
                            "  'learning_rate': 1.879721970383802e-06,\n",
                            "  'epoch': 0.91,\n",
                            "  'step': 6000},\n",
                            " {'eval_loss': 0.6897754073143005,\n",
                            "  'eval_accuracy': 0.7165841584158416,\n",
                            "  'eval_runtime': 4.3875,\n",
                            "  'eval_samples_per_second': 552.473,\n",
                            "  'eval_steps_per_second': 34.643,\n",
                            "  'epoch': 0.91,\n",
                            "  'step': 6000},\n",
                            " {'loss': 0.7041,\n",
                            "  'grad_norm': 11.30181884765625,\n",
                            "  'learning_rate': 1.2753097612571774e-06,\n",
                            "  'epoch': 0.94,\n",
                            "  'step': 6200},\n",
                            " {'eval_loss': 0.6907715201377869,\n",
                            "  'eval_accuracy': 0.7161716171617162,\n",
                            "  'eval_runtime': 4.4518,\n",
                            "  'eval_samples_per_second': 544.504,\n",
                            "  'eval_steps_per_second': 34.144,\n",
                            "  'epoch': 0.94,\n",
                            "  'step': 6200},\n",
                            " {'loss': 0.6804,\n",
                            "  'grad_norm': 13.407471656799316,\n",
                            "  'learning_rate': 6.708975521305532e-07,\n",
                            "  'epoch': 0.97,\n",
                            "  'step': 6400},\n",
                            " {'eval_loss': 0.686680793762207,\n",
                            "  'eval_accuracy': 0.7186468646864687,\n",
                            "  'eval_runtime': 4.4399,\n",
                            "  'eval_samples_per_second': 545.958,\n",
                            "  'eval_steps_per_second': 34.235,\n",
                            "  'epoch': 0.97,\n",
                            "  'step': 6400},\n",
                            " {'loss': 0.7108,\n",
                            "  'grad_norm': 12.52430534362793,\n",
                            "  'learning_rate': 6.648534300392869e-08,\n",
                            "  'epoch': 1.0,\n",
                            "  'step': 6600},\n",
                            " {'eval_loss': 0.6871473789215088,\n",
                            "  'eval_accuracy': 0.7149339933993399,\n",
                            "  'eval_runtime': 4.389,\n",
                            "  'eval_samples_per_second': 552.286,\n",
                            "  'eval_steps_per_second': 34.632,\n",
                            "  'epoch': 1.0,\n",
                            "  'step': 6600},\n",
                            " {'train_runtime': 1296.4242,\n",
                            "  'train_samples_per_second': 81.668,\n",
                            "  'train_steps_per_second': 5.105,\n",
                            "  'total_flos': 6513789048840216.0,\n",
                            "  'train_loss': 0.7995945851800664,\n",
                            "  'epoch': 1.0,\n",
                            "  'step': 6618}]"
                        ]
                    },
                    "execution_count": 13,
                    "metadata": {},
                    "output_type": "execute_result"
                }
            ],
            "source": [
                "log = trainer.state.log_history\n",
                "log"
            ]
        },
        {
            "cell_type": "code",
            "execution_count": 14,
            "metadata": {
                "colab": {
                    "base_uri": "https://localhost:8080/",
                    "height": 507
                },
                "executionInfo": {
                    "elapsed": 805,
                    "status": "ok",
                    "timestamp": 1714973830106,
                    "user": {
                        "displayName": "Jiacheng Pang",
                        "userId": "17495887600724079092"
                    },
                    "user_tz": 420
                },
                "id": "l1rBSzP_q3un",
                "outputId": "b285280e-d996-4690-c18e-987cf03b7e7c"
            },
            "outputs": [
                {
                    "data": {
                        "image/png": "[encoded data removed]",
                        "text/plain": [
                            "<Figure size 1000x500 with 2 Axes>"
                        ]
                    },
                    "metadata": {},
                    "output_type": "display_data"
                }
            ],
            "source": [
                "model_name = 'BERTRNN'\n",
                "\n",
                "steps = []\n",
                "train_loss = []\n",
                "eval_loss = []\n",
                "eval_acc = []\n",
                "\n",
                "for i in range(0, len(log) - 1, 2):\n",
                "    train_log = log[i]\n",
                "    eval_log = log[i + 1]\n",
                "    steps.append(train_log[\"step\"])\n",
                "    train_loss.append(train_log[\"loss\"])\n",
                "    eval_loss.append(eval_log[\"eval_loss\"])\n",
                "    eval_acc.append(eval_log[\"eval_accuracy\"])\n",
                "\n",
                "plt.figure(figsize=(10, 5))\n",
                "\n",
                "\n",
                "plt.subplot(1, 2, 1)\n",
                "plt.title(f\"{model_name} loss vs step\")\n",
                "plt.xlabel(\"# steps\")\n",
                "plt.ylabel(\"loss\")\n",
                "plt.plot(steps, train_loss, label=\"training loss\")\n",
                "plt.plot(steps, eval_loss, label=\"eval loss\")\n",
                "plt.legend()\n",
                "\n",
                "plt.subplot(1, 2, 2)\n",
                "plt.title(f\"{model_name} acc vs step\")\n",
                "plt.xlabel(\"# steps\")\n",
                "plt.ylabel(\"acc\")\n",
                "plt.plot(steps, eval_acc, label=\"eval acc\")\n",
                "plt.legend()\n",
                "\n",
                "plt.tight_layout()\n",
                "plt.show()"
            ]
        },
        {
            "cell_type": "code",
            "execution_count": 15,
            "metadata": {},
            "outputs": [],
            "source": [
                "import json\n",
                "\n",
                "\n",
                "with open(f\"{model_name}_aug.json\", \"w\") as f:\n",
                "    json.dump(\n",
                "        {\n",
                "            \"steps\": steps,\n",
                "            \"train_loss\": train_loss,\n",
                "            \"eval_loss\": eval_loss,\n",
                "            \"eval_acc\": eval_acc,\n",
                "        },\n",
                "        f,\n",
                "        indent=4,\n",
                "    )"
            ]
        },
        {
            "cell_type": "code",
            "execution_count": null,
            "metadata": {
                "colab": {
                    "base_uri": "https://localhost:8080/",
                    "height": 17
                },
                "executionInfo": {
                    "elapsed": 5215,
                    "status": "ok",
                    "timestamp": 1714785682353,
                    "user": {
                        "displayName": "葛雨辰",
                        "userId": "00590051304935450237"
                    },
                    "user_tz": -480
                },
                "id": "JpYkFjDTq3un",
                "outputId": "8b86794c-65d7-45a8-c0b9-2c0bd1527057"
            },
            "outputs": [
                {
                    "data": {
                        "text/html": [],
                        "text/plain": [
                            "<IPython.core.display.HTML object>"
                        ]
                    },
                    "metadata": {},
                    "output_type": "display_data"
                }
            ],
            "source": [
                "preds = trainer.predict(data[\"test\"])"
            ]
        },
        {
            "cell_type": "code",
            "execution_count": null,
            "metadata": {
                "id": "ilmdYTzkq3uo"
            },
            "outputs": [],
            "source": [
                "pd.DataFrame(\n",
                "    {\"id\": data[\"test\"][\"id\"], \"prediction\": np.argmax(preds.predictions, axis=1)}\n",
                ").to_csv(os.path.join(OUTPUT_DIR, \"submission.csv\"), header=True, index=False)"
            ]
        },
        {
            "cell_type": "code",
            "execution_count": null,
            "metadata": {
                "id": "cMqemUOXq3uo"
            },
            "outputs": [],
            "source": []
        }
    ],
    "metadata": {
        "accelerator": "GPU",
        "colab": {
            "gpuType": "T4",
            "provenance": []
        },
        "kernelspec": {
            "display_name": "Python 3",
            "name": "python3"
        },
        "language_info": {
            "codemirror_mode": {
                "name": "ipython",
                "version": 3
            },
            "file_extension": ".py",
            "mimetype": "text/x-python",
            "name": "python",
            "nbconvert_exporter": "python",
            "pygments_lexer": "ipython3",
            "version": "3.11.5"
        },
        "widgets": {
            "application/vnd.jupyter.widget-state+json": {
                "0098426f0ee443e5b9885018c2f91ba4": {
                    "model_module": "@jupyter-widgets/base",
                    "model_module_version": "1.2.0",
                    "model_name": "LayoutModel",
                    "state": {
                        "_model_module": "@jupyter-widgets/base",
                        "_model_module_version": "1.2.0",
                        "_model_name": "LayoutModel",
                        "_view_count": null,
                        "_view_module": "@jupyter-widgets/base",
                        "_view_module_version": "1.2.0",
                        "_view_name": "LayoutView",
                        "align_content": null,
                        "align_items": null,
                        "align_self": null,
                        "border": null,
                        "bottom": null,
                        "display": null,
                        "flex": null,
                        "flex_flow": null,
                        "grid_area": null,
                        "grid_auto_columns": null,
                        "grid_auto_flow": null,
                        "grid_auto_rows": null,
                        "grid_column": null,
                        "grid_gap": null,
                        "grid_row": null,
                        "grid_template_areas": null,
                        "grid_template_columns": null,
                        "grid_template_rows": null,
                        "height": null,
                        "justify_content": null,
                        "justify_items": null,
                        "left": null,
                        "margin": null,
                        "max_height": null,
                        "max_width": null,
                        "min_height": null,
                        "min_width": null,
                        "object_fit": null,
                        "object_position": null,
                        "order": null,
                        "overflow": null,
                        "overflow_x": null,
                        "overflow_y": null,
                        "padding": null,
                        "right": null,
                        "top": null,
                        "visibility": null,
                        "width": null
                    }
                },
                "06ddd7a38962449796e37770ec55cb2a": {
                    "model_module": "@jupyter-widgets/controls",
                    "model_module_version": "1.5.0",
                    "model_name": "HTMLModel",
                    "state": {
                        "_dom_classes": [],
                        "_model_module": "@jupyter-widgets/controls",
                        "_model_module_version": "1.5.0",
                        "_model_name": "HTMLModel",
                        "_view_count": null,
                        "_view_module": "@jupyter-widgets/controls",
                        "_view_module_version": "1.5.0",
                        "_view_name": "HTMLView",
                        "description": "",
                        "description_tooltip": null,
                        "layout": "IPY_MODEL_a2ce41c01db24dec8bfc1c15678c927e",
                        "placeholder": "​",
                        "style": "IPY_MODEL_83bedd2221444b2a9807d4db5e5017be",
                        "value": " 2424/2424 [00:00&lt;00:00, 5310.79 examples/s]"
                    }
                },
                "09718005a28a407ab277bc8fbe4d3dbb": {
                    "model_module": "@jupyter-widgets/controls",
                    "model_module_version": "1.5.0",
                    "model_name": "HTMLModel",
                    "state": {
                        "_dom_classes": [],
                        "_model_module": "@jupyter-widgets/controls",
                        "_model_module_version": "1.5.0",
                        "_model_name": "HTMLModel",
                        "_view_count": null,
                        "_view_module": "@jupyter-widgets/controls",
                        "_view_module_version": "1.5.0",
                        "_view_name": "HTMLView",
                        "description": "",
                        "description_tooltip": null,
                        "layout": "IPY_MODEL_bb8ed0bc72d24383a08b501b0faf8df9",
                        "placeholder": "​",
                        "style": "IPY_MODEL_9a17fe458d034bc689d56561f22bda21",
                        "value": "Map: 100%"
                    }
                },
                "1329fa7ff30d43079837fddc4ba69a09": {
                    "model_module": "@jupyter-widgets/controls",
                    "model_module_version": "1.5.0",
                    "model_name": "HBoxModel",
                    "state": {
                        "_dom_classes": [],
                        "_model_module": "@jupyter-widgets/controls",
                        "_model_module_version": "1.5.0",
                        "_model_name": "HBoxModel",
                        "_view_count": null,
                        "_view_module": "@jupyter-widgets/controls",
                        "_view_module_version": "1.5.0",
                        "_view_name": "HBoxView",
                        "box_style": "",
                        "children": [
                            "IPY_MODEL_c7f207714c5c4f59afac3e999fd4b6c5",
                            "IPY_MODEL_975d2f3c015f4df180c3f43b5489a387",
                            "IPY_MODEL_06ddd7a38962449796e37770ec55cb2a"
                        ],
                        "layout": "IPY_MODEL_816c3bae88d941f0beef7fa8726a9f0c"
                    }
                },
                "1380e8049c84476b9983229eb8582cf3": {
                    "model_module": "@jupyter-widgets/base",
                    "model_module_version": "1.2.0",
                    "model_name": "LayoutModel",
                    "state": {
                        "_model_module": "@jupyter-widgets/base",
                        "_model_module_version": "1.2.0",
                        "_model_name": "LayoutModel",
                        "_view_count": null,
                        "_view_module": "@jupyter-widgets/base",
                        "_view_module_version": "1.2.0",
                        "_view_name": "LayoutView",
                        "align_content": null,
                        "align_items": null,
                        "align_self": null,
                        "border": null,
                        "bottom": null,
                        "display": null,
                        "flex": null,
                        "flex_flow": null,
                        "grid_area": null,
                        "grid_auto_columns": null,
                        "grid_auto_flow": null,
                        "grid_auto_rows": null,
                        "grid_column": null,
                        "grid_gap": null,
                        "grid_row": null,
                        "grid_template_areas": null,
                        "grid_template_columns": null,
                        "grid_template_rows": null,
                        "height": null,
                        "justify_content": null,
                        "justify_items": null,
                        "left": null,
                        "margin": null,
                        "max_height": null,
                        "max_width": null,
                        "min_height": null,
                        "min_width": null,
                        "object_fit": null,
                        "object_position": null,
                        "order": null,
                        "overflow": null,
                        "overflow_x": null,
                        "overflow_y": null,
                        "padding": null,
                        "right": null,
                        "top": null,
                        "visibility": null,
                        "width": null
                    }
                },
                "1eb33c810e854ccd875b48ec3c2743b8": {
                    "model_module": "@jupyter-widgets/base",
                    "model_module_version": "1.2.0",
                    "model_name": "LayoutModel",
                    "state": {
                        "_model_module": "@jupyter-widgets/base",
                        "_model_module_version": "1.2.0",
                        "_model_name": "LayoutModel",
                        "_view_count": null,
                        "_view_module": "@jupyter-widgets/base",
                        "_view_module_version": "1.2.0",
                        "_view_name": "LayoutView",
                        "align_content": null,
                        "align_items": null,
                        "align_self": null,
                        "border": null,
                        "bottom": null,
                        "display": null,
                        "flex": null,
                        "flex_flow": null,
                        "grid_area": null,
                        "grid_auto_columns": null,
                        "grid_auto_flow": null,
                        "grid_auto_rows": null,
                        "grid_column": null,
                        "grid_gap": null,
                        "grid_row": null,
                        "grid_template_areas": null,
                        "grid_template_columns": null,
                        "grid_template_rows": null,
                        "height": null,
                        "justify_content": null,
                        "justify_items": null,
                        "left": null,
                        "margin": null,
                        "max_height": null,
                        "max_width": null,
                        "min_height": null,
                        "min_width": null,
                        "object_fit": null,
                        "object_position": null,
                        "order": null,
                        "overflow": null,
                        "overflow_x": null,
                        "overflow_y": null,
                        "padding": null,
                        "right": null,
                        "top": null,
                        "visibility": null,
                        "width": null
                    }
                },
                "2bafe01dd39f42f790c24b1e629690c1": {
                    "model_module": "@jupyter-widgets/controls",
                    "model_module_version": "1.5.0",
                    "model_name": "HTMLModel",
                    "state": {
                        "_dom_classes": [],
                        "_model_module": "@jupyter-widgets/controls",
                        "_model_module_version": "1.5.0",
                        "_model_name": "HTMLModel",
                        "_view_count": null,
                        "_view_module": "@jupyter-widgets/controls",
                        "_view_module_version": "1.5.0",
                        "_view_name": "HTMLView",
                        "description": "",
                        "description_tooltip": null,
                        "layout": "IPY_MODEL_b71b6243b8e54c1aa90db36d31a3bca2",
                        "placeholder": "​",
                        "style": "IPY_MODEL_b2627e72342643c7b673e0155a8f9b84",
                        "value": "Map: 100%"
                    }
                },
                "5a2cbee445f845869412fa067b7a25f5": {
                    "model_module": "@jupyter-widgets/controls",
                    "model_module_version": "1.5.0",
                    "model_name": "HTMLModel",
                    "state": {
                        "_dom_classes": [],
                        "_model_module": "@jupyter-widgets/controls",
                        "_model_module_version": "1.5.0",
                        "_model_name": "HTMLModel",
                        "_view_count": null,
                        "_view_module": "@jupyter-widgets/controls",
                        "_view_module_version": "1.5.0",
                        "_view_name": "HTMLView",
                        "description": "",
                        "description_tooltip": null,
                        "layout": "IPY_MODEL_1380e8049c84476b9983229eb8582cf3",
                        "placeholder": "​",
                        "style": "IPY_MODEL_73003844b63c48af91650c7f8e88b32b",
                        "value": " 105876/105876 [00:24&lt;00:00, 5148.14 examples/s]"
                    }
                },
                "60e4be7603134252857d989e657e4589": {
                    "model_module": "@jupyter-widgets/controls",
                    "model_module_version": "1.5.0",
                    "model_name": "ProgressStyleModel",
                    "state": {
                        "_model_module": "@jupyter-widgets/controls",
                        "_model_module_version": "1.5.0",
                        "_model_name": "ProgressStyleModel",
                        "_view_count": null,
                        "_view_module": "@jupyter-widgets/base",
                        "_view_module_version": "1.2.0",
                        "_view_name": "StyleView",
                        "bar_color": null,
                        "description_width": ""
                    }
                },
                "73003844b63c48af91650c7f8e88b32b": {
                    "model_module": "@jupyter-widgets/controls",
                    "model_module_version": "1.5.0",
                    "model_name": "DescriptionStyleModel",
                    "state": {
                        "_model_module": "@jupyter-widgets/controls",
                        "_model_module_version": "1.5.0",
                        "_model_name": "DescriptionStyleModel",
                        "_view_count": null,
                        "_view_module": "@jupyter-widgets/base",
                        "_view_module_version": "1.2.0",
                        "_view_name": "StyleView",
                        "description_width": ""
                    }
                },
                "7a82e80258fb4306ad29e0e265ae757c": {
                    "model_module": "@jupyter-widgets/controls",
                    "model_module_version": "1.5.0",
                    "model_name": "HBoxModel",
                    "state": {
                        "_dom_classes": [],
                        "_model_module": "@jupyter-widgets/controls",
                        "_model_module_version": "1.5.0",
                        "_model_name": "HBoxModel",
                        "_view_count": null,
                        "_view_module": "@jupyter-widgets/controls",
                        "_view_module_version": "1.5.0",
                        "_view_name": "HBoxView",
                        "box_style": "",
                        "children": [
                            "IPY_MODEL_2bafe01dd39f42f790c24b1e629690c1",
                            "IPY_MODEL_9f849ee0c958433387fa1811ae907b15",
                            "IPY_MODEL_fcb39b9156564c129d1e2875a28dc885"
                        ],
                        "layout": "IPY_MODEL_a3bf2daf12b14325a1d72bf4048abf05"
                    }
                },
                "816c3bae88d941f0beef7fa8726a9f0c": {
                    "model_module": "@jupyter-widgets/base",
                    "model_module_version": "1.2.0",
                    "model_name": "LayoutModel",
                    "state": {
                        "_model_module": "@jupyter-widgets/base",
                        "_model_module_version": "1.2.0",
                        "_model_name": "LayoutModel",
                        "_view_count": null,
                        "_view_module": "@jupyter-widgets/base",
                        "_view_module_version": "1.2.0",
                        "_view_name": "LayoutView",
                        "align_content": null,
                        "align_items": null,
                        "align_self": null,
                        "border": null,
                        "bottom": null,
                        "display": null,
                        "flex": null,
                        "flex_flow": null,
                        "grid_area": null,
                        "grid_auto_columns": null,
                        "grid_auto_flow": null,
                        "grid_auto_rows": null,
                        "grid_column": null,
                        "grid_gap": null,
                        "grid_row": null,
                        "grid_template_areas": null,
                        "grid_template_columns": null,
                        "grid_template_rows": null,
                        "height": null,
                        "justify_content": null,
                        "justify_items": null,
                        "left": null,
                        "margin": null,
                        "max_height": null,
                        "max_width": null,
                        "min_height": null,
                        "min_width": null,
                        "object_fit": null,
                        "object_position": null,
                        "order": null,
                        "overflow": null,
                        "overflow_x": null,
                        "overflow_y": null,
                        "padding": null,
                        "right": null,
                        "top": null,
                        "visibility": null,
                        "width": null
                    }
                },
                "83bedd2221444b2a9807d4db5e5017be": {
                    "model_module": "@jupyter-widgets/controls",
                    "model_module_version": "1.5.0",
                    "model_name": "DescriptionStyleModel",
                    "state": {
                        "_model_module": "@jupyter-widgets/controls",
                        "_model_module_version": "1.5.0",
                        "_model_name": "DescriptionStyleModel",
                        "_view_count": null,
                        "_view_module": "@jupyter-widgets/base",
                        "_view_module_version": "1.2.0",
                        "_view_name": "StyleView",
                        "description_width": ""
                    }
                },
                "8f9cec77f2c941478c31579e3ec25720": {
                    "model_module": "@jupyter-widgets/controls",
                    "model_module_version": "1.5.0",
                    "model_name": "ProgressStyleModel",
                    "state": {
                        "_model_module": "@jupyter-widgets/controls",
                        "_model_module_version": "1.5.0",
                        "_model_name": "ProgressStyleModel",
                        "_view_count": null,
                        "_view_module": "@jupyter-widgets/base",
                        "_view_module_version": "1.2.0",
                        "_view_name": "StyleView",
                        "bar_color": null,
                        "description_width": ""
                    }
                },
                "975d2f3c015f4df180c3f43b5489a387": {
                    "model_module": "@jupyter-widgets/controls",
                    "model_module_version": "1.5.0",
                    "model_name": "FloatProgressModel",
                    "state": {
                        "_dom_classes": [],
                        "_model_module": "@jupyter-widgets/controls",
                        "_model_module_version": "1.5.0",
                        "_model_name": "FloatProgressModel",
                        "_view_count": null,
                        "_view_module": "@jupyter-widgets/controls",
                        "_view_module_version": "1.5.0",
                        "_view_name": "ProgressView",
                        "bar_style": "success",
                        "description": "",
                        "description_tooltip": null,
                        "layout": "IPY_MODEL_c1415dea0f934239aea7f9723152a825",
                        "max": 2424,
                        "min": 0,
                        "orientation": "horizontal",
                        "style": "IPY_MODEL_abf0b990f1fa41fb93ec3d157a55a5a3",
                        "value": 2424
                    }
                },
                "9a17fe458d034bc689d56561f22bda21": {
                    "model_module": "@jupyter-widgets/controls",
                    "model_module_version": "1.5.0",
                    "model_name": "DescriptionStyleModel",
                    "state": {
                        "_model_module": "@jupyter-widgets/controls",
                        "_model_module_version": "1.5.0",
                        "_model_name": "DescriptionStyleModel",
                        "_view_count": null,
                        "_view_module": "@jupyter-widgets/base",
                        "_view_module_version": "1.2.0",
                        "_view_name": "StyleView",
                        "description_width": ""
                    }
                },
                "9c837ee3f461481197abf8f40e135a4a": {
                    "model_module": "@jupyter-widgets/base",
                    "model_module_version": "1.2.0",
                    "model_name": "LayoutModel",
                    "state": {
                        "_model_module": "@jupyter-widgets/base",
                        "_model_module_version": "1.2.0",
                        "_model_name": "LayoutModel",
                        "_view_count": null,
                        "_view_module": "@jupyter-widgets/base",
                        "_view_module_version": "1.2.0",
                        "_view_name": "LayoutView",
                        "align_content": null,
                        "align_items": null,
                        "align_self": null,
                        "border": null,
                        "bottom": null,
                        "display": null,
                        "flex": null,
                        "flex_flow": null,
                        "grid_area": null,
                        "grid_auto_columns": null,
                        "grid_auto_flow": null,
                        "grid_auto_rows": null,
                        "grid_column": null,
                        "grid_gap": null,
                        "grid_row": null,
                        "grid_template_areas": null,
                        "grid_template_columns": null,
                        "grid_template_rows": null,
                        "height": null,
                        "justify_content": null,
                        "justify_items": null,
                        "left": null,
                        "margin": null,
                        "max_height": null,
                        "max_width": null,
                        "min_height": null,
                        "min_width": null,
                        "object_fit": null,
                        "object_position": null,
                        "order": null,
                        "overflow": null,
                        "overflow_x": null,
                        "overflow_y": null,
                        "padding": null,
                        "right": null,
                        "top": null,
                        "visibility": null,
                        "width": null
                    }
                },
                "9f849ee0c958433387fa1811ae907b15": {
                    "model_module": "@jupyter-widgets/controls",
                    "model_module_version": "1.5.0",
                    "model_name": "FloatProgressModel",
                    "state": {
                        "_dom_classes": [],
                        "_model_module": "@jupyter-widgets/controls",
                        "_model_module_version": "1.5.0",
                        "_model_name": "FloatProgressModel",
                        "_view_count": null,
                        "_view_module": "@jupyter-widgets/controls",
                        "_view_module_version": "1.5.0",
                        "_view_name": "ProgressView",
                        "bar_style": "success",
                        "description": "",
                        "description_tooltip": null,
                        "layout": "IPY_MODEL_c618c60dd9ae43d4a14c0c2e77d6e2ed",
                        "max": 5195,
                        "min": 0,
                        "orientation": "horizontal",
                        "style": "IPY_MODEL_8f9cec77f2c941478c31579e3ec25720",
                        "value": 5195
                    }
                },
                "a2ce41c01db24dec8bfc1c15678c927e": {
                    "model_module": "@jupyter-widgets/base",
                    "model_module_version": "1.2.0",
                    "model_name": "LayoutModel",
                    "state": {
                        "_model_module": "@jupyter-widgets/base",
                        "_model_module_version": "1.2.0",
                        "_model_name": "LayoutModel",
                        "_view_count": null,
                        "_view_module": "@jupyter-widgets/base",
                        "_view_module_version": "1.2.0",
                        "_view_name": "LayoutView",
                        "align_content": null,
                        "align_items": null,
                        "align_self": null,
                        "border": null,
                        "bottom": null,
                        "display": null,
                        "flex": null,
                        "flex_flow": null,
                        "grid_area": null,
                        "grid_auto_columns": null,
                        "grid_auto_flow": null,
                        "grid_auto_rows": null,
                        "grid_column": null,
                        "grid_gap": null,
                        "grid_row": null,
                        "grid_template_areas": null,
                        "grid_template_columns": null,
                        "grid_template_rows": null,
                        "height": null,
                        "justify_content": null,
                        "justify_items": null,
                        "left": null,
                        "margin": null,
                        "max_height": null,
                        "max_width": null,
                        "min_height": null,
                        "min_width": null,
                        "object_fit": null,
                        "object_position": null,
                        "order": null,
                        "overflow": null,
                        "overflow_x": null,
                        "overflow_y": null,
                        "padding": null,
                        "right": null,
                        "top": null,
                        "visibility": null,
                        "width": null
                    }
                },
                "a3bf2daf12b14325a1d72bf4048abf05": {
                    "model_module": "@jupyter-widgets/base",
                    "model_module_version": "1.2.0",
                    "model_name": "LayoutModel",
                    "state": {
                        "_model_module": "@jupyter-widgets/base",
                        "_model_module_version": "1.2.0",
                        "_model_name": "LayoutModel",
                        "_view_count": null,
                        "_view_module": "@jupyter-widgets/base",
                        "_view_module_version": "1.2.0",
                        "_view_name": "LayoutView",
                        "align_content": null,
                        "align_items": null,
                        "align_self": null,
                        "border": null,
                        "bottom": null,
                        "display": null,
                        "flex": null,
                        "flex_flow": null,
                        "grid_area": null,
                        "grid_auto_columns": null,
                        "grid_auto_flow": null,
                        "grid_auto_rows": null,
                        "grid_column": null,
                        "grid_gap": null,
                        "grid_row": null,
                        "grid_template_areas": null,
                        "grid_template_columns": null,
                        "grid_template_rows": null,
                        "height": null,
                        "justify_content": null,
                        "justify_items": null,
                        "left": null,
                        "margin": null,
                        "max_height": null,
                        "max_width": null,
                        "min_height": null,
                        "min_width": null,
                        "object_fit": null,
                        "object_position": null,
                        "order": null,
                        "overflow": null,
                        "overflow_x": null,
                        "overflow_y": null,
                        "padding": null,
                        "right": null,
                        "top": null,
                        "visibility": null,
                        "width": null
                    }
                },
                "abf0b990f1fa41fb93ec3d157a55a5a3": {
                    "model_module": "@jupyter-widgets/controls",
                    "model_module_version": "1.5.0",
                    "model_name": "ProgressStyleModel",
                    "state": {
                        "_model_module": "@jupyter-widgets/controls",
                        "_model_module_version": "1.5.0",
                        "_model_name": "ProgressStyleModel",
                        "_view_count": null,
                        "_view_module": "@jupyter-widgets/base",
                        "_view_module_version": "1.2.0",
                        "_view_name": "StyleView",
                        "bar_color": null,
                        "description_width": ""
                    }
                },
                "b2627e72342643c7b673e0155a8f9b84": {
                    "model_module": "@jupyter-widgets/controls",
                    "model_module_version": "1.5.0",
                    "model_name": "DescriptionStyleModel",
                    "state": {
                        "_model_module": "@jupyter-widgets/controls",
                        "_model_module_version": "1.5.0",
                        "_model_name": "DescriptionStyleModel",
                        "_view_count": null,
                        "_view_module": "@jupyter-widgets/base",
                        "_view_module_version": "1.2.0",
                        "_view_name": "StyleView",
                        "description_width": ""
                    }
                },
                "b2fdecbaad9c46379b8ceda1697c20fc": {
                    "model_module": "@jupyter-widgets/controls",
                    "model_module_version": "1.5.0",
                    "model_name": "HBoxModel",
                    "state": {
                        "_dom_classes": [],
                        "_model_module": "@jupyter-widgets/controls",
                        "_model_module_version": "1.5.0",
                        "_model_name": "HBoxModel",
                        "_view_count": null,
                        "_view_module": "@jupyter-widgets/controls",
                        "_view_module_version": "1.5.0",
                        "_view_name": "HBoxView",
                        "box_style": "",
                        "children": [
                            "IPY_MODEL_09718005a28a407ab277bc8fbe4d3dbb",
                            "IPY_MODEL_ce0015c8278d4d2795c83838e8ff1694",
                            "IPY_MODEL_5a2cbee445f845869412fa067b7a25f5"
                        ],
                        "layout": "IPY_MODEL_cb5524f99ed84eb78f898fbcc2068eb7"
                    }
                },
                "b3ba70a9ea6c4861a8a3e9fe4d4dc67b": {
                    "model_module": "@jupyter-widgets/controls",
                    "model_module_version": "1.5.0",
                    "model_name": "DescriptionStyleModel",
                    "state": {
                        "_model_module": "@jupyter-widgets/controls",
                        "_model_module_version": "1.5.0",
                        "_model_name": "DescriptionStyleModel",
                        "_view_count": null,
                        "_view_module": "@jupyter-widgets/base",
                        "_view_module_version": "1.2.0",
                        "_view_name": "StyleView",
                        "description_width": ""
                    }
                },
                "b71b6243b8e54c1aa90db36d31a3bca2": {
                    "model_module": "@jupyter-widgets/base",
                    "model_module_version": "1.2.0",
                    "model_name": "LayoutModel",
                    "state": {
                        "_model_module": "@jupyter-widgets/base",
                        "_model_module_version": "1.2.0",
                        "_model_name": "LayoutModel",
                        "_view_count": null,
                        "_view_module": "@jupyter-widgets/base",
                        "_view_module_version": "1.2.0",
                        "_view_name": "LayoutView",
                        "align_content": null,
                        "align_items": null,
                        "align_self": null,
                        "border": null,
                        "bottom": null,
                        "display": null,
                        "flex": null,
                        "flex_flow": null,
                        "grid_area": null,
                        "grid_auto_columns": null,
                        "grid_auto_flow": null,
                        "grid_auto_rows": null,
                        "grid_column": null,
                        "grid_gap": null,
                        "grid_row": null,
                        "grid_template_areas": null,
                        "grid_template_columns": null,
                        "grid_template_rows": null,
                        "height": null,
                        "justify_content": null,
                        "justify_items": null,
                        "left": null,
                        "margin": null,
                        "max_height": null,
                        "max_width": null,
                        "min_height": null,
                        "min_width": null,
                        "object_fit": null,
                        "object_position": null,
                        "order": null,
                        "overflow": null,
                        "overflow_x": null,
                        "overflow_y": null,
                        "padding": null,
                        "right": null,
                        "top": null,
                        "visibility": null,
                        "width": null
                    }
                },
                "bb8ed0bc72d24383a08b501b0faf8df9": {
                    "model_module": "@jupyter-widgets/base",
                    "model_module_version": "1.2.0",
                    "model_name": "LayoutModel",
                    "state": {
                        "_model_module": "@jupyter-widgets/base",
                        "_model_module_version": "1.2.0",
                        "_model_name": "LayoutModel",
                        "_view_count": null,
                        "_view_module": "@jupyter-widgets/base",
                        "_view_module_version": "1.2.0",
                        "_view_name": "LayoutView",
                        "align_content": null,
                        "align_items": null,
                        "align_self": null,
                        "border": null,
                        "bottom": null,
                        "display": null,
                        "flex": null,
                        "flex_flow": null,
                        "grid_area": null,
                        "grid_auto_columns": null,
                        "grid_auto_flow": null,
                        "grid_auto_rows": null,
                        "grid_column": null,
                        "grid_gap": null,
                        "grid_row": null,
                        "grid_template_areas": null,
                        "grid_template_columns": null,
                        "grid_template_rows": null,
                        "height": null,
                        "justify_content": null,
                        "justify_items": null,
                        "left": null,
                        "margin": null,
                        "max_height": null,
                        "max_width": null,
                        "min_height": null,
                        "min_width": null,
                        "object_fit": null,
                        "object_position": null,
                        "order": null,
                        "overflow": null,
                        "overflow_x": null,
                        "overflow_y": null,
                        "padding": null,
                        "right": null,
                        "top": null,
                        "visibility": null,
                        "width": null
                    }
                },
                "c1415dea0f934239aea7f9723152a825": {
                    "model_module": "@jupyter-widgets/base",
                    "model_module_version": "1.2.0",
                    "model_name": "LayoutModel",
                    "state": {
                        "_model_module": "@jupyter-widgets/base",
                        "_model_module_version": "1.2.0",
                        "_model_name": "LayoutModel",
                        "_view_count": null,
                        "_view_module": "@jupyter-widgets/base",
                        "_view_module_version": "1.2.0",
                        "_view_name": "LayoutView",
                        "align_content": null,
                        "align_items": null,
                        "align_self": null,
                        "border": null,
                        "bottom": null,
                        "display": null,
                        "flex": null,
                        "flex_flow": null,
                        "grid_area": null,
                        "grid_auto_columns": null,
                        "grid_auto_flow": null,
                        "grid_auto_rows": null,
                        "grid_column": null,
                        "grid_gap": null,
                        "grid_row": null,
                        "grid_template_areas": null,
                        "grid_template_columns": null,
                        "grid_template_rows": null,
                        "height": null,
                        "justify_content": null,
                        "justify_items": null,
                        "left": null,
                        "margin": null,
                        "max_height": null,
                        "max_width": null,
                        "min_height": null,
                        "min_width": null,
                        "object_fit": null,
                        "object_position": null,
                        "order": null,
                        "overflow": null,
                        "overflow_x": null,
                        "overflow_y": null,
                        "padding": null,
                        "right": null,
                        "top": null,
                        "visibility": null,
                        "width": null
                    }
                },
                "c618c60dd9ae43d4a14c0c2e77d6e2ed": {
                    "model_module": "@jupyter-widgets/base",
                    "model_module_version": "1.2.0",
                    "model_name": "LayoutModel",
                    "state": {
                        "_model_module": "@jupyter-widgets/base",
                        "_model_module_version": "1.2.0",
                        "_model_name": "LayoutModel",
                        "_view_count": null,
                        "_view_module": "@jupyter-widgets/base",
                        "_view_module_version": "1.2.0",
                        "_view_name": "LayoutView",
                        "align_content": null,
                        "align_items": null,
                        "align_self": null,
                        "border": null,
                        "bottom": null,
                        "display": null,
                        "flex": null,
                        "flex_flow": null,
                        "grid_area": null,
                        "grid_auto_columns": null,
                        "grid_auto_flow": null,
                        "grid_auto_rows": null,
                        "grid_column": null,
                        "grid_gap": null,
                        "grid_row": null,
                        "grid_template_areas": null,
                        "grid_template_columns": null,
                        "grid_template_rows": null,
                        "height": null,
                        "justify_content": null,
                        "justify_items": null,
                        "left": null,
                        "margin": null,
                        "max_height": null,
                        "max_width": null,
                        "min_height": null,
                        "min_width": null,
                        "object_fit": null,
                        "object_position": null,
                        "order": null,
                        "overflow": null,
                        "overflow_x": null,
                        "overflow_y": null,
                        "padding": null,
                        "right": null,
                        "top": null,
                        "visibility": null,
                        "width": null
                    }
                },
                "c7f207714c5c4f59afac3e999fd4b6c5": {
                    "model_module": "@jupyter-widgets/controls",
                    "model_module_version": "1.5.0",
                    "model_name": "HTMLModel",
                    "state": {
                        "_dom_classes": [],
                        "_model_module": "@jupyter-widgets/controls",
                        "_model_module_version": "1.5.0",
                        "_model_name": "HTMLModel",
                        "_view_count": null,
                        "_view_module": "@jupyter-widgets/controls",
                        "_view_module_version": "1.5.0",
                        "_view_name": "HTMLView",
                        "description": "",
                        "description_tooltip": null,
                        "layout": "IPY_MODEL_1eb33c810e854ccd875b48ec3c2743b8",
                        "placeholder": "​",
                        "style": "IPY_MODEL_f368710185014fa09924135d17fa86d5",
                        "value": "Map: 100%"
                    }
                },
                "cb5524f99ed84eb78f898fbcc2068eb7": {
                    "model_module": "@jupyter-widgets/base",
                    "model_module_version": "1.2.0",
                    "model_name": "LayoutModel",
                    "state": {
                        "_model_module": "@jupyter-widgets/base",
                        "_model_module_version": "1.2.0",
                        "_model_name": "LayoutModel",
                        "_view_count": null,
                        "_view_module": "@jupyter-widgets/base",
                        "_view_module_version": "1.2.0",
                        "_view_name": "LayoutView",
                        "align_content": null,
                        "align_items": null,
                        "align_self": null,
                        "border": null,
                        "bottom": null,
                        "display": null,
                        "flex": null,
                        "flex_flow": null,
                        "grid_area": null,
                        "grid_auto_columns": null,
                        "grid_auto_flow": null,
                        "grid_auto_rows": null,
                        "grid_column": null,
                        "grid_gap": null,
                        "grid_row": null,
                        "grid_template_areas": null,
                        "grid_template_columns": null,
                        "grid_template_rows": null,
                        "height": null,
                        "justify_content": null,
                        "justify_items": null,
                        "left": null,
                        "margin": null,
                        "max_height": null,
                        "max_width": null,
                        "min_height": null,
                        "min_width": null,
                        "object_fit": null,
                        "object_position": null,
                        "order": null,
                        "overflow": null,
                        "overflow_x": null,
                        "overflow_y": null,
                        "padding": null,
                        "right": null,
                        "top": null,
                        "visibility": null,
                        "width": null
                    }
                },
                "ce0015c8278d4d2795c83838e8ff1694": {
                    "model_module": "@jupyter-widgets/controls",
                    "model_module_version": "1.5.0",
                    "model_name": "FloatProgressModel",
                    "state": {
                        "_dom_classes": [],
                        "_model_module": "@jupyter-widgets/controls",
                        "_model_module_version": "1.5.0",
                        "_model_name": "FloatProgressModel",
                        "_view_count": null,
                        "_view_module": "@jupyter-widgets/controls",
                        "_view_module_version": "1.5.0",
                        "_view_name": "ProgressView",
                        "bar_style": "success",
                        "description": "",
                        "description_tooltip": null,
                        "layout": "IPY_MODEL_0098426f0ee443e5b9885018c2f91ba4",
                        "max": 105876,
                        "min": 0,
                        "orientation": "horizontal",
                        "style": "IPY_MODEL_60e4be7603134252857d989e657e4589",
                        "value": 105876
                    }
                },
                "f368710185014fa09924135d17fa86d5": {
                    "model_module": "@jupyter-widgets/controls",
                    "model_module_version": "1.5.0",
                    "model_name": "DescriptionStyleModel",
                    "state": {
                        "_model_module": "@jupyter-widgets/controls",
                        "_model_module_version": "1.5.0",
                        "_model_name": "DescriptionStyleModel",
                        "_view_count": null,
                        "_view_module": "@jupyter-widgets/base",
                        "_view_module_version": "1.2.0",
                        "_view_name": "StyleView",
                        "description_width": ""
                    }
                },
                "fcb39b9156564c129d1e2875a28dc885": {
                    "model_module": "@jupyter-widgets/controls",
                    "model_module_version": "1.5.0",
                    "model_name": "HTMLModel",
                    "state": {
                        "_dom_classes": [],
                        "_model_module": "@jupyter-widgets/controls",
                        "_model_module_version": "1.5.0",
                        "_model_name": "HTMLModel",
                        "_view_count": null,
                        "_view_module": "@jupyter-widgets/controls",
                        "_view_module_version": "1.5.0",
                        "_view_name": "HTMLView",
                        "description": "",
                        "description_tooltip": null,
                        "layout": "IPY_MODEL_9c837ee3f461481197abf8f40e135a4a",
                        "placeholder": "​",
                        "style": "IPY_MODEL_b3ba70a9ea6c4861a8a3e9fe4d4dc67b",
                        "value": " 5195/5195 [00:00&lt;00:00, 5970.26 examples/s]"
                    }
                }
            }
        }
    },
    "nbformat": 4,
    "nbformat_minor": 0
}
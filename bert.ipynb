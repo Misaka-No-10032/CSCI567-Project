{
 "cells": [
  {
   "cell_type": "code",
   "execution_count": 1,
   "metadata": {},
   "outputs": [],
   "source": [
    "import numpy as np\n",
    "import pandas as pd\n",
    "import os\n",
    "\n",
    "from datasets import load_dataset, DatasetDict\n",
    "\n",
    "import evaluate\n",
    "\n",
    "from transformers import (\n",
    "    AutoTokenizer,\n",
    "    AutoModelForSequenceClassification,\n",
    "    DataCollatorWithPadding,\n",
    "    TrainingArguments,\n",
    "    Trainer,\n",
    "    EarlyStoppingCallback,\n",
    ")\n",
    "\n",
    "import matplotlib.pyplot as plt"
   ]
  },
  {
   "cell_type": "code",
   "execution_count": 2,
   "metadata": {},
   "outputs": [],
   "source": [
    "INPUT_DIR = \"/input0\"\n",
    "OUTPUT_DIR = \"/output/output/bert\"\n",
    "CHECKPOINT = \"google-bert/bert-base-multilingual-cased\""
   ]
  },
  {
   "cell_type": "code",
   "execution_count": 3,
   "metadata": {},
   "outputs": [
    {
     "data": {
      "text/plain": [
       "DatasetDict({\n",
       "    train: Dataset({\n",
       "        features: ['id', 'premise', 'hypothesis', 'lang_abv', 'language', 'label'],\n",
       "        num_rows: 9696\n",
       "    })\n",
       "    val: Dataset({\n",
       "        features: ['id', 'premise', 'hypothesis', 'lang_abv', 'language', 'label'],\n",
       "        num_rows: 2424\n",
       "    })\n",
       "    test: Dataset({\n",
       "        features: ['id', 'premise', 'hypothesis', 'lang_abv', 'language'],\n",
       "        num_rows: 5195\n",
       "    })\n",
       "})"
      ]
     },
     "execution_count": 3,
     "metadata": {},
     "output_type": "execute_result"
    }
   ],
   "source": [
    "# Load data\n",
    "data = load_dataset(\"csv\", data_files=os.path.join(INPUT_DIR, \"train.csv\"), trust_remote_code=True, split=\"train\")\n",
    "data = data.train_test_split(0.2)\n",
    "\n",
    "data = DatasetDict(\n",
    "    {\n",
    "        \"train\": data[\"train\"],\n",
    "        \"val\": data[\"test\"],\n",
    "        \"test\": load_dataset(\"csv\", data_files=os.path.join(INPUT_DIR, \"test.csv\"), trust_remote_code=True, split=\"train\"),\n",
    "    }\n",
    ")\n",
    "\n",
    "data"
   ]
  },
  {
   "cell_type": "code",
   "execution_count": 4,
   "metadata": {},
   "outputs": [
    {
     "data": {
      "text/html": [
       "<div>\n",
       "<style scoped>\n",
       "    .dataframe tbody tr th:only-of-type {\n",
       "        vertical-align: middle;\n",
       "    }\n",
       "\n",
       "    .dataframe tbody tr th {\n",
       "        vertical-align: top;\n",
       "    }\n",
       "\n",
       "    .dataframe thead th {\n",
       "        text-align: right;\n",
       "    }\n",
       "</style>\n",
       "<table border=\"1\" class=\"dataframe\">\n",
       "  <thead>\n",
       "    <tr style=\"text-align: right;\">\n",
       "      <th></th>\n",
       "      <th>id</th>\n",
       "      <th>premise</th>\n",
       "      <th>hypothesis</th>\n",
       "      <th>lang_abv</th>\n",
       "      <th>language</th>\n",
       "      <th>label</th>\n",
       "    </tr>\n",
       "  </thead>\n",
       "  <tbody>\n",
       "    <tr>\n",
       "      <th>0</th>\n",
       "      <td>ad107aacdd</td>\n",
       "      <td>这些早期的壁画通常被称为人们的艺术。</td>\n",
       "      <td>当时的批评家将壁画描述为人民艺术。</td>\n",
       "      <td>zh</td>\n",
       "      <td>Chinese</td>\n",
       "      <td>1</td>\n",
       "    </tr>\n",
       "    <tr>\n",
       "      <th>1</th>\n",
       "      <td>802c4fa2fb</td>\n",
       "      <td>Sultan Abdul Hamid II (1876 1909) tried to app...</td>\n",
       "      <td>The population was fractured during the rule o...</td>\n",
       "      <td>en</td>\n",
       "      <td>English</td>\n",
       "      <td>0</td>\n",
       "    </tr>\n",
       "    <tr>\n",
       "      <th>2</th>\n",
       "      <td>f87aab0ae9</td>\n",
       "      <td>For example, Bruce Barton's The Man Nobody Kno...</td>\n",
       "      <td>Bruce Barton's, \"The Man Nobody Knows\", a best...</td>\n",
       "      <td>en</td>\n",
       "      <td>English</td>\n",
       "      <td>0</td>\n",
       "    </tr>\n",
       "    <tr>\n",
       "      <th>3</th>\n",
       "      <td>05389d7aae</td>\n",
       "      <td>well they're so close to an undefeated undefea...</td>\n",
       "      <td>They're close to winning the season, so they w...</td>\n",
       "      <td>en</td>\n",
       "      <td>English</td>\n",
       "      <td>0</td>\n",
       "    </tr>\n",
       "    <tr>\n",
       "      <th>4</th>\n",
       "      <td>757d48d165</td>\n",
       "      <td>What a lot of bottles! I exclaimed, as my eye ...</td>\n",
       "      <td>They had drank too many beers.</td>\n",
       "      <td>en</td>\n",
       "      <td>English</td>\n",
       "      <td>1</td>\n",
       "    </tr>\n",
       "  </tbody>\n",
       "</table>\n",
       "</div>"
      ],
      "text/plain": [
       "           id                                            premise  \\\n",
       "0  ad107aacdd                                 这些早期的壁画通常被称为人们的艺术。   \n",
       "1  802c4fa2fb  Sultan Abdul Hamid II (1876 1909) tried to app...   \n",
       "2  f87aab0ae9  For example, Bruce Barton's The Man Nobody Kno...   \n",
       "3  05389d7aae  well they're so close to an undefeated undefea...   \n",
       "4  757d48d165  What a lot of bottles! I exclaimed, as my eye ...   \n",
       "\n",
       "                                          hypothesis lang_abv language  label  \n",
       "0                                  当时的批评家将壁画描述为人民艺术。       zh  Chinese      1  \n",
       "1  The population was fractured during the rule o...       en  English      0  \n",
       "2  Bruce Barton's, \"The Man Nobody Knows\", a best...       en  English      0  \n",
       "3  They're close to winning the season, so they w...       en  English      0  \n",
       "4                    They had drank too many beers.        en  English      1  "
      ]
     },
     "execution_count": 4,
     "metadata": {},
     "output_type": "execute_result"
    }
   ],
   "source": [
    "df = data[\"train\"].to_pandas()\n",
    "df.head()"
   ]
  },
  {
   "cell_type": "code",
   "execution_count": 5,
   "metadata": {},
   "outputs": [
    {
     "data": {
      "text/html": [
       "<div>\n",
       "<style scoped>\n",
       "    .dataframe tbody tr th:only-of-type {\n",
       "        vertical-align: middle;\n",
       "    }\n",
       "\n",
       "    .dataframe tbody tr th {\n",
       "        vertical-align: top;\n",
       "    }\n",
       "\n",
       "    .dataframe thead th {\n",
       "        text-align: right;\n",
       "    }\n",
       "</style>\n",
       "<table border=\"1\" class=\"dataframe\">\n",
       "  <thead>\n",
       "    <tr style=\"text-align: right;\">\n",
       "      <th></th>\n",
       "      <th>premise</th>\n",
       "      <th>hypothesis</th>\n",
       "      <th>lang_abv</th>\n",
       "      <th>language</th>\n",
       "    </tr>\n",
       "  </thead>\n",
       "  <tbody>\n",
       "    <tr>\n",
       "      <th>count</th>\n",
       "      <td>9696</td>\n",
       "      <td>9696</td>\n",
       "      <td>9696</td>\n",
       "      <td>9696</td>\n",
       "    </tr>\n",
       "    <tr>\n",
       "      <th>unique</th>\n",
       "      <td>7054</td>\n",
       "      <td>9696</td>\n",
       "      <td>15</td>\n",
       "      <td>15</td>\n",
       "    </tr>\n",
       "    <tr>\n",
       "      <th>top</th>\n",
       "      <td>i wonder how they kept up with them though it ...</td>\n",
       "      <td>当时的批评家将壁画描述为人民艺术。</td>\n",
       "      <td>en</td>\n",
       "      <td>English</td>\n",
       "    </tr>\n",
       "    <tr>\n",
       "      <th>freq</th>\n",
       "      <td>3</td>\n",
       "      <td>1</td>\n",
       "      <td>5516</td>\n",
       "      <td>5516</td>\n",
       "    </tr>\n",
       "  </tbody>\n",
       "</table>\n",
       "</div>"
      ],
      "text/plain": [
       "                                                  premise         hypothesis  \\\n",
       "count                                                9696               9696   \n",
       "unique                                               7054               9696   \n",
       "top     i wonder how they kept up with them though it ...  当时的批评家将壁画描述为人民艺术。   \n",
       "freq                                                    3                  1   \n",
       "\n",
       "       lang_abv language  \n",
       "count      9696     9696  \n",
       "unique       15       15  \n",
       "top          en  English  \n",
       "freq       5516     5516  "
      ]
     },
     "execution_count": 5,
     "metadata": {},
     "output_type": "execute_result"
    }
   ],
   "source": [
    "df[[\"premise\", \"hypothesis\", \"lang_abv\", \"language\"]].describe()"
   ]
  },
  {
   "cell_type": "code",
   "execution_count": 6,
   "metadata": {},
   "outputs": [
    {
     "data": {
      "text/plain": [
       "lang_abv  language  \n",
       "en        English       5516\n",
       "ar        Arabic         322\n",
       "fr        French         319\n",
       "zh        Chinese        318\n",
       "ur        Urdu           310\n",
       "el        Greek          309\n",
       "sw        Swahili        308\n",
       "vi        Vietnamese     308\n",
       "ru        Russian        301\n",
       "hi        Hindi          300\n",
       "es        Spanish        291\n",
       "th        Thai           287\n",
       "de        German         271\n",
       "bg        Bulgarian      270\n",
       "tr        Turkish        266\n",
       "Name: count, dtype: int64"
      ]
     },
     "execution_count": 6,
     "metadata": {},
     "output_type": "execute_result"
    }
   ],
   "source": [
    "df[[\"lang_abv\", \"language\"]].value_counts()"
   ]
  },
  {
   "cell_type": "code",
   "execution_count": 7,
   "metadata": {},
   "outputs": [
    {
     "data": {
      "text/plain": [
       "id            0\n",
       "premise       0\n",
       "hypothesis    0\n",
       "lang_abv      0\n",
       "language      0\n",
       "label         0\n",
       "dtype: int64"
      ]
     },
     "execution_count": 7,
     "metadata": {},
     "output_type": "execute_result"
    }
   ],
   "source": [
    "df.isna().sum()"
   ]
  },
  {
   "cell_type": "code",
   "execution_count": 8,
   "metadata": {},
   "outputs": [
    {
     "data": {
      "application/vnd.jupyter.widget-view+json": {
       "model_id": "32aaf48a6fd2464da644ad49b30533a1",
       "version_major": 2,
       "version_minor": 0
      },
      "text/plain": [
       "tokenizer_config.json:   0%|          | 0.00/49.0 [00:00<?, ?B/s]"
      ]
     },
     "metadata": {},
     "output_type": "display_data"
    },
    {
     "data": {
      "application/vnd.jupyter.widget-view+json": {
       "model_id": "72d406b30912426a8964f992f7bb67d6",
       "version_major": 2,
       "version_minor": 0
      },
      "text/plain": [
       "config.json:   0%|          | 0.00/625 [00:00<?, ?B/s]"
      ]
     },
     "metadata": {},
     "output_type": "display_data"
    },
    {
     "data": {
      "application/vnd.jupyter.widget-view+json": {
       "model_id": "8287c8e19c8d4c12873686a68e3a474c",
       "version_major": 2,
       "version_minor": 0
      },
      "text/plain": [
       "vocab.txt:   0%|          | 0.00/996k [00:00<?, ?B/s]"
      ]
     },
     "metadata": {},
     "output_type": "display_data"
    },
    {
     "data": {
      "application/vnd.jupyter.widget-view+json": {
       "model_id": "4666c96084f2412080c902786cda7eed",
       "version_major": 2,
       "version_minor": 0
      },
      "text/plain": [
       "tokenizer.json:   0%|          | 0.00/1.96M [00:00<?, ?B/s]"
      ]
     },
     "metadata": {},
     "output_type": "display_data"
    },
    {
     "data": {
      "application/vnd.jupyter.widget-view+json": {
       "model_id": "58520c6707af4498ae19022dd8d8b09c",
       "version_major": 2,
       "version_minor": 0
      },
      "text/plain": [
       "model.safetensors:   0%|          | 0.00/714M [00:00<?, ?B/s]"
      ]
     },
     "metadata": {},
     "output_type": "display_data"
    },
    {
     "name": "stderr",
     "output_type": "stream",
     "text": [
      "Some weights of BertForSequenceClassification were not initialized from the model checkpoint at google-bert/bert-base-multilingual-cased and are newly initialized: ['classifier.bias', 'classifier.weight']\n",
      "You should probably TRAIN this model on a down-stream task to be able to use it for predictions and inference.\n"
     ]
    },
    {
     "data": {
      "text/plain": [
       "BertForSequenceClassification(\n",
       "  (bert): BertModel(\n",
       "    (embeddings): BertEmbeddings(\n",
       "      (word_embeddings): Embedding(119547, 768, padding_idx=0)\n",
       "      (position_embeddings): Embedding(512, 768)\n",
       "      (token_type_embeddings): Embedding(2, 768)\n",
       "      (LayerNorm): LayerNorm((768,), eps=1e-12, elementwise_affine=True)\n",
       "      (dropout): Dropout(p=0.1, inplace=False)\n",
       "    )\n",
       "    (encoder): BertEncoder(\n",
       "      (layer): ModuleList(\n",
       "        (0-11): 12 x BertLayer(\n",
       "          (attention): BertAttention(\n",
       "            (self): BertSelfAttention(\n",
       "              (query): Linear(in_features=768, out_features=768, bias=True)\n",
       "              (key): Linear(in_features=768, out_features=768, bias=True)\n",
       "              (value): Linear(in_features=768, out_features=768, bias=True)\n",
       "              (dropout): Dropout(p=0.1, inplace=False)\n",
       "            )\n",
       "            (output): BertSelfOutput(\n",
       "              (dense): Linear(in_features=768, out_features=768, bias=True)\n",
       "              (LayerNorm): LayerNorm((768,), eps=1e-12, elementwise_affine=True)\n",
       "              (dropout): Dropout(p=0.1, inplace=False)\n",
       "            )\n",
       "          )\n",
       "          (intermediate): BertIntermediate(\n",
       "            (dense): Linear(in_features=768, out_features=3072, bias=True)\n",
       "            (intermediate_act_fn): GELUActivation()\n",
       "          )\n",
       "          (output): BertOutput(\n",
       "            (dense): Linear(in_features=3072, out_features=768, bias=True)\n",
       "            (LayerNorm): LayerNorm((768,), eps=1e-12, elementwise_affine=True)\n",
       "            (dropout): Dropout(p=0.1, inplace=False)\n",
       "          )\n",
       "        )\n",
       "      )\n",
       "    )\n",
       "    (pooler): BertPooler(\n",
       "      (dense): Linear(in_features=768, out_features=768, bias=True)\n",
       "      (activation): Tanh()\n",
       "    )\n",
       "  )\n",
       "  (dropout): Dropout(p=0.1, inplace=False)\n",
       "  (classifier): Linear(in_features=768, out_features=3, bias=True)\n",
       ")"
      ]
     },
     "execution_count": 8,
     "metadata": {},
     "output_type": "execute_result"
    }
   ],
   "source": [
    "tokenizer = AutoTokenizer.from_pretrained(CHECKPOINT, truncation=True)\n",
    "model = AutoModelForSequenceClassification.from_pretrained(CHECKPOINT, num_labels=3)\n",
    "\n",
    "data_collator = DataCollatorWithPadding(tokenizer=tokenizer)\n",
    "\n",
    "model"
   ]
  },
  {
   "cell_type": "code",
   "execution_count": 9,
   "metadata": {},
   "outputs": [
    {
     "data": {
      "application/vnd.jupyter.widget-view+json": {
       "model_id": "2964665818294d16ab27338a5dbc9e67",
       "version_major": 2,
       "version_minor": 0
      },
      "text/plain": [
       "Map:   0%|          | 0/9696 [00:00<?, ? examples/s]"
      ]
     },
     "metadata": {},
     "output_type": "display_data"
    },
    {
     "data": {
      "application/vnd.jupyter.widget-view+json": {
       "model_id": "ff6a9dbe8e0847eaa6de828735229c9c",
       "version_major": 2,
       "version_minor": 0
      },
      "text/plain": [
       "Map:   0%|          | 0/2424 [00:00<?, ? examples/s]"
      ]
     },
     "metadata": {},
     "output_type": "display_data"
    },
    {
     "data": {
      "application/vnd.jupyter.widget-view+json": {
       "model_id": "f81f10c51e59491bb20429de90040239",
       "version_major": 2,
       "version_minor": 0
      },
      "text/plain": [
       "Map:   0%|          | 0/5195 [00:00<?, ? examples/s]"
      ]
     },
     "metadata": {},
     "output_type": "display_data"
    },
    {
     "data": {
      "text/plain": [
       "DatasetDict({\n",
       "    train: Dataset({\n",
       "        features: ['id', 'premise', 'hypothesis', 'lang_abv', 'language', 'label', 'text', 'input_ids', 'token_type_ids', 'attention_mask'],\n",
       "        num_rows: 9696\n",
       "    })\n",
       "    val: Dataset({\n",
       "        features: ['id', 'premise', 'hypothesis', 'lang_abv', 'language', 'label', 'text', 'input_ids', 'token_type_ids', 'attention_mask'],\n",
       "        num_rows: 2424\n",
       "    })\n",
       "    test: Dataset({\n",
       "        features: ['id', 'premise', 'hypothesis', 'lang_abv', 'language', 'text', 'input_ids', 'token_type_ids', 'attention_mask'],\n",
       "        num_rows: 5195\n",
       "    })\n",
       "})"
      ]
     },
     "execution_count": 9,
     "metadata": {},
     "output_type": "execute_result"
    }
   ],
   "source": [
    "def preprocess_data(batch):\n",
    "    batch[\"text\"] = [\n",
    "        x1 + f\" {tokenizer.sep_token} \" + x2\n",
    "        for x1, x2 in zip(batch[\"premise\"], batch[\"hypothesis\"])\n",
    "    ]\n",
    "    return tokenizer(batch[\"text\"])\n",
    "\n",
    "data = data.map(preprocess_data, batched=True)\n",
    "data"
   ]
  },
  {
   "cell_type": "code",
   "execution_count": 10,
   "metadata": {},
   "outputs": [
    {
     "name": "stderr",
     "output_type": "stream",
     "text": [
      "huggingface/tokenizers: The current process just got forked, after parallelism has already been used. Disabling parallelism to avoid deadlocks...\n",
      "To disable this warning, you can either:\n",
      "\t- Avoid using `tokenizers` before the fork if possible\n",
      "\t- Explicitly set the environment variable TOKENIZERS_PARALLELISM=(true | false)\n"
     ]
    },
    {
     "data": {
      "text/plain": [
       "TrainingArguments(\n",
       "_n_gpu=1,\n",
       "accelerator_config={'split_batches': False, 'dispatch_batches': None, 'even_batches': True, 'use_seedable_sampler': True, 'gradient_accumulation_kwargs': None},\n",
       "adafactor=False,\n",
       "adam_beta1=0.9,\n",
       "adam_beta2=0.999,\n",
       "adam_epsilon=1e-08,\n",
       "auto_find_batch_size=False,\n",
       "bf16=False,\n",
       "bf16_full_eval=False,\n",
       "data_seed=None,\n",
       "dataloader_drop_last=False,\n",
       "dataloader_num_workers=0,\n",
       "dataloader_persistent_workers=False,\n",
       "dataloader_pin_memory=True,\n",
       "dataloader_prefetch_factor=None,\n",
       "ddp_backend=None,\n",
       "ddp_broadcast_buffers=None,\n",
       "ddp_bucket_cap_mb=None,\n",
       "ddp_find_unused_parameters=None,\n",
       "ddp_timeout=1800,\n",
       "debug=[],\n",
       "deepspeed=None,\n",
       "disable_tqdm=False,\n",
       "dispatch_batches=None,\n",
       "do_eval=True,\n",
       "do_predict=False,\n",
       "do_train=False,\n",
       "eval_accumulation_steps=None,\n",
       "eval_delay=0,\n",
       "eval_do_concat_batches=True,\n",
       "eval_steps=200,\n",
       "evaluation_strategy=steps,\n",
       "fp16=True,\n",
       "fp16_backend=auto,\n",
       "fp16_full_eval=False,\n",
       "fp16_opt_level=O1,\n",
       "fsdp=[],\n",
       "fsdp_config={'min_num_params': 0, 'xla': False, 'xla_fsdp_v2': False, 'xla_fsdp_grad_ckpt': False},\n",
       "fsdp_min_num_params=0,\n",
       "fsdp_transformer_layer_cls_to_wrap=None,\n",
       "full_determinism=False,\n",
       "gradient_accumulation_steps=1,\n",
       "gradient_checkpointing=False,\n",
       "gradient_checkpointing_kwargs=None,\n",
       "greater_is_better=True,\n",
       "group_by_length=False,\n",
       "half_precision_backend=auto,\n",
       "hub_always_push=False,\n",
       "hub_model_id=None,\n",
       "hub_private_repo=False,\n",
       "hub_strategy=every_save,\n",
       "hub_token=<HUB_TOKEN>,\n",
       "ignore_data_skip=False,\n",
       "include_inputs_for_metrics=False,\n",
       "include_num_input_tokens_seen=False,\n",
       "include_tokens_per_second=False,\n",
       "jit_mode_eval=False,\n",
       "label_names=None,\n",
       "label_smoothing_factor=0.0,\n",
       "learning_rate=2e-05,\n",
       "length_column_name=length,\n",
       "load_best_model_at_end=True,\n",
       "local_rank=0,\n",
       "log_level=passive,\n",
       "log_level_replica=warning,\n",
       "log_on_each_node=True,\n",
       "logging_dir=/output/output/bert/logs,\n",
       "logging_first_step=False,\n",
       "logging_nan_inf_filter=True,\n",
       "logging_steps=200,\n",
       "logging_strategy=steps,\n",
       "lr_scheduler_kwargs={},\n",
       "lr_scheduler_type=linear,\n",
       "max_grad_norm=1.0,\n",
       "max_steps=-1,\n",
       "metric_for_best_model=accuracy,\n",
       "mp_parameters=,\n",
       "neftune_noise_alpha=None,\n",
       "no_cuda=False,\n",
       "num_train_epochs=5,\n",
       "optim=adamw_torch,\n",
       "optim_args=None,\n",
       "optim_target_modules=None,\n",
       "output_dir=/output/output/bert/results,\n",
       "overwrite_output_dir=False,\n",
       "past_index=-1,\n",
       "per_device_eval_batch_size=16,\n",
       "per_device_train_batch_size=16,\n",
       "prediction_loss_only=False,\n",
       "push_to_hub=False,\n",
       "push_to_hub_model_id=None,\n",
       "push_to_hub_organization=None,\n",
       "push_to_hub_token=<PUSH_TO_HUB_TOKEN>,\n",
       "ray_scope=last,\n",
       "remove_unused_columns=True,\n",
       "report_to=[],\n",
       "resume_from_checkpoint=None,\n",
       "run_name=/output/output/bert/results,\n",
       "save_on_each_node=False,\n",
       "save_only_model=True,\n",
       "save_safetensors=True,\n",
       "save_steps=200,\n",
       "save_strategy=steps,\n",
       "save_total_limit=3,\n",
       "seed=42,\n",
       "skip_memory_metrics=True,\n",
       "split_batches=None,\n",
       "tf32=None,\n",
       "torch_compile=False,\n",
       "torch_compile_backend=None,\n",
       "torch_compile_mode=None,\n",
       "torchdynamo=None,\n",
       "tpu_metrics_debug=False,\n",
       "tpu_num_cores=None,\n",
       "use_cpu=False,\n",
       "use_ipex=False,\n",
       "use_legacy_prediction_loop=False,\n",
       "use_mps_device=False,\n",
       "warmup_ratio=0.0,\n",
       "warmup_steps=0,\n",
       "weight_decay=0.005,\n",
       ")"
      ]
     },
     "execution_count": 10,
     "metadata": {},
     "output_type": "execute_result"
    }
   ],
   "source": [
    "def compute_metrics(eval_pred):\n",
    "    metric = evaluate.load(\"accuracy\")\n",
    "    preds, labels = eval_pred\n",
    "    preds = np.argmax(preds, axis=1)\n",
    "    return metric.compute(predictions=preds, references=labels)\n",
    "\n",
    "\n",
    "train_args = TrainingArguments(\n",
    "    output_dir=os.path.join(OUTPUT_DIR, \"results\"),\n",
    "    logging_dir=os.path.join(OUTPUT_DIR, \"logs\"),\n",
    "    report_to=[],\n",
    "    evaluation_strategy=\"steps\",\n",
    "    eval_steps=200,\n",
    "    logging_steps=200,\n",
    "    save_steps=200,\n",
    "    per_device_eval_batch_size=16,\n",
    "    per_device_train_batch_size=16,\n",
    "    learning_rate=2e-5,\n",
    "    weight_decay=0.005,\n",
    "    num_train_epochs=5,\n",
    "    fp16=True,\n",
    "    load_best_model_at_end=True,\n",
    "    metric_for_best_model=\"accuracy\",\n",
    "    save_total_limit=3,\n",
    "    save_only_model=True,\n",
    ")\n",
    "\n",
    "train_args"
   ]
  },
  {
   "cell_type": "code",
   "execution_count": 11,
   "metadata": {},
   "outputs": [
    {
     "data": {
      "text/html": [
       "\n",
       "    <div>\n",
       "      \n",
       "      <progress value='2400' max='3030' style='width:300px; height:20px; vertical-align: middle;'></progress>\n",
       "      [2400/3030 03:09 < 00:49, 12.64 it/s, Epoch 3/5]\n",
       "    </div>\n",
       "    <table border=\"1\" class=\"dataframe\">\n",
       "  <thead>\n",
       " <tr style=\"text-align: left;\">\n",
       "      <th>Step</th>\n",
       "      <th>Training Loss</th>\n",
       "      <th>Validation Loss</th>\n",
       "      <th>Accuracy</th>\n",
       "    </tr>\n",
       "  </thead>\n",
       "  <tbody>\n",
       "    <tr>\n",
       "      <td>200</td>\n",
       "      <td>1.028500</td>\n",
       "      <td>0.946657</td>\n",
       "      <td>0.571370</td>\n",
       "    </tr>\n",
       "    <tr>\n",
       "      <td>400</td>\n",
       "      <td>0.914800</td>\n",
       "      <td>0.894779</td>\n",
       "      <td>0.598185</td>\n",
       "    </tr>\n",
       "    <tr>\n",
       "      <td>600</td>\n",
       "      <td>0.886100</td>\n",
       "      <td>0.848311</td>\n",
       "      <td>0.631188</td>\n",
       "    </tr>\n",
       "    <tr>\n",
       "      <td>800</td>\n",
       "      <td>0.721400</td>\n",
       "      <td>0.862519</td>\n",
       "      <td>0.624587</td>\n",
       "    </tr>\n",
       "    <tr>\n",
       "      <td>1000</td>\n",
       "      <td>0.700800</td>\n",
       "      <td>0.861043</td>\n",
       "      <td>0.624175</td>\n",
       "    </tr>\n",
       "    <tr>\n",
       "      <td>1200</td>\n",
       "      <td>0.713700</td>\n",
       "      <td>0.868733</td>\n",
       "      <td>0.633663</td>\n",
       "    </tr>\n",
       "    <tr>\n",
       "      <td>1400</td>\n",
       "      <td>0.493800</td>\n",
       "      <td>0.964047</td>\n",
       "      <td>0.626238</td>\n",
       "    </tr>\n",
       "    <tr>\n",
       "      <td>1600</td>\n",
       "      <td>0.494500</td>\n",
       "      <td>0.977991</td>\n",
       "      <td>0.627063</td>\n",
       "    </tr>\n",
       "    <tr>\n",
       "      <td>1800</td>\n",
       "      <td>0.468100</td>\n",
       "      <td>0.962311</td>\n",
       "      <td>0.645215</td>\n",
       "    </tr>\n",
       "    <tr>\n",
       "      <td>2000</td>\n",
       "      <td>0.322700</td>\n",
       "      <td>1.136691</td>\n",
       "      <td>0.632426</td>\n",
       "    </tr>\n",
       "    <tr>\n",
       "      <td>2200</td>\n",
       "      <td>0.311400</td>\n",
       "      <td>1.188060</td>\n",
       "      <td>0.620050</td>\n",
       "    </tr>\n",
       "    <tr>\n",
       "      <td>2400</td>\n",
       "      <td>0.306900</td>\n",
       "      <td>1.244561</td>\n",
       "      <td>0.632013</td>\n",
       "    </tr>\n",
       "  </tbody>\n",
       "</table><p>"
      ],
      "text/plain": [
       "<IPython.core.display.HTML object>"
      ]
     },
     "metadata": {},
     "output_type": "display_data"
    },
    {
     "data": {
      "text/plain": [
       "TrainOutput(global_step=2400, training_loss=0.6135502672195434, metrics={'train_runtime': 189.9755, 'train_samples_per_second': 255.191, 'train_steps_per_second': 15.949, 'total_flos': 1974164640096096.0, 'train_loss': 0.6135502672195434, 'epoch': 3.9603960396039604})"
      ]
     },
     "execution_count": 11,
     "metadata": {},
     "output_type": "execute_result"
    }
   ],
   "source": [
    "trainer = Trainer(\n",
    "    model=model,\n",
    "    args=train_args,\n",
    "    data_collator=data_collator,\n",
    "    train_dataset=data[\"train\"],\n",
    "    eval_dataset=data[\"val\"],\n",
    "    tokenizer=tokenizer,\n",
    "    compute_metrics=compute_metrics,\n",
    "    callbacks=[EarlyStoppingCallback(3)],\n",
    ")\n",
    "\n",
    "trainer.train()"
   ]
  },
  {
   "cell_type": "code",
   "execution_count": 12,
   "metadata": {},
   "outputs": [
    {
     "data": {
      "text/plain": [
       "[{'loss': 1.0285,\n",
       "  'grad_norm': 12.393720626831055,\n",
       "  'learning_rate': 1.8693069306930697e-05,\n",
       "  'epoch': 0.33003300330033003,\n",
       "  'step': 200},\n",
       " {'eval_loss': 0.9466574788093567,\n",
       "  'eval_accuracy': 0.5713696369636964,\n",
       "  'eval_runtime': 3.7914,\n",
       "  'eval_samples_per_second': 639.341,\n",
       "  'eval_steps_per_second': 40.091,\n",
       "  'epoch': 0.33003300330033003,\n",
       "  'step': 200},\n",
       " {'loss': 0.9148,\n",
       "  'grad_norm': 15.201690673828125,\n",
       "  'learning_rate': 1.7372937293729375e-05,\n",
       "  'epoch': 0.6600660066006601,\n",
       "  'step': 400},\n",
       " {'eval_loss': 0.8947789072990417,\n",
       "  'eval_accuracy': 0.5981848184818482,\n",
       "  'eval_runtime': 3.4879,\n",
       "  'eval_samples_per_second': 694.977,\n",
       "  'eval_steps_per_second': 43.579,\n",
       "  'epoch': 0.6600660066006601,\n",
       "  'step': 400},\n",
       " {'loss': 0.8861,\n",
       "  'grad_norm': 10.183804512023926,\n",
       "  'learning_rate': 1.6052805280528056e-05,\n",
       "  'epoch': 0.9900990099009901,\n",
       "  'step': 600},\n",
       " {'eval_loss': 0.8483108878135681,\n",
       "  'eval_accuracy': 0.6311881188118812,\n",
       "  'eval_runtime': 3.5595,\n",
       "  'eval_samples_per_second': 680.99,\n",
       "  'eval_steps_per_second': 42.702,\n",
       "  'epoch': 0.9900990099009901,\n",
       "  'step': 600},\n",
       " {'loss': 0.7214,\n",
       "  'grad_norm': 15.622553825378418,\n",
       "  'learning_rate': 1.4732673267326734e-05,\n",
       "  'epoch': 1.3201320132013201,\n",
       "  'step': 800},\n",
       " {'eval_loss': 0.8625192046165466,\n",
       "  'eval_accuracy': 0.6245874587458746,\n",
       "  'eval_runtime': 3.5062,\n",
       "  'eval_samples_per_second': 691.35,\n",
       "  'eval_steps_per_second': 43.352,\n",
       "  'epoch': 1.3201320132013201,\n",
       "  'step': 800},\n",
       " {'loss': 0.7008,\n",
       "  'grad_norm': 11.076017379760742,\n",
       "  'learning_rate': 1.3412541254125413e-05,\n",
       "  'epoch': 1.6501650165016502,\n",
       "  'step': 1000},\n",
       " {'eval_loss': 0.8610427975654602,\n",
       "  'eval_accuracy': 0.6241749174917491,\n",
       "  'eval_runtime': 3.6158,\n",
       "  'eval_samples_per_second': 670.398,\n",
       "  'eval_steps_per_second': 42.038,\n",
       "  'epoch': 1.6501650165016502,\n",
       "  'step': 1000},\n",
       " {'loss': 0.7137,\n",
       "  'grad_norm': 17.886320114135742,\n",
       "  'learning_rate': 1.2092409240924093e-05,\n",
       "  'epoch': 1.9801980198019802,\n",
       "  'step': 1200},\n",
       " {'eval_loss': 0.8687332272529602,\n",
       "  'eval_accuracy': 0.6336633663366337,\n",
       "  'eval_runtime': 3.4692,\n",
       "  'eval_samples_per_second': 698.717,\n",
       "  'eval_steps_per_second': 43.814,\n",
       "  'epoch': 1.9801980198019802,\n",
       "  'step': 1200},\n",
       " {'loss': 0.4938,\n",
       "  'grad_norm': 12.765545845031738,\n",
       "  'learning_rate': 1.0772277227722774e-05,\n",
       "  'epoch': 2.31023102310231,\n",
       "  'step': 1400},\n",
       " {'eval_loss': 0.9640467762947083,\n",
       "  'eval_accuracy': 0.6262376237623762,\n",
       "  'eval_runtime': 3.4519,\n",
       "  'eval_samples_per_second': 702.214,\n",
       "  'eval_steps_per_second': 44.033,\n",
       "  'epoch': 2.31023102310231,\n",
       "  'step': 1400},\n",
       " {'loss': 0.4945,\n",
       "  'grad_norm': 20.15130615234375,\n",
       "  'learning_rate': 9.452145214521453e-06,\n",
       "  'epoch': 2.6402640264026402,\n",
       "  'step': 1600},\n",
       " {'eval_loss': 0.9779914617538452,\n",
       "  'eval_accuracy': 0.6270627062706271,\n",
       "  'eval_runtime': 3.5655,\n",
       "  'eval_samples_per_second': 679.858,\n",
       "  'eval_steps_per_second': 42.631,\n",
       "  'epoch': 2.6402640264026402,\n",
       "  'step': 1600},\n",
       " {'loss': 0.4681,\n",
       "  'grad_norm': 17.18276596069336,\n",
       "  'learning_rate': 8.132013201320133e-06,\n",
       "  'epoch': 2.9702970297029703,\n",
       "  'step': 1800},\n",
       " {'eval_loss': 0.9623112678527832,\n",
       "  'eval_accuracy': 0.6452145214521452,\n",
       "  'eval_runtime': 3.4757,\n",
       "  'eval_samples_per_second': 697.408,\n",
       "  'eval_steps_per_second': 43.732,\n",
       "  'epoch': 2.9702970297029703,\n",
       "  'step': 1800},\n",
       " {'loss': 0.3227,\n",
       "  'grad_norm': 26.752538681030273,\n",
       "  'learning_rate': 6.811881188118813e-06,\n",
       "  'epoch': 3.3003300330033003,\n",
       "  'step': 2000},\n",
       " {'eval_loss': 1.1366910934448242,\n",
       "  'eval_accuracy': 0.6324257425742574,\n",
       "  'eval_runtime': 3.6386,\n",
       "  'eval_samples_per_second': 666.197,\n",
       "  'eval_steps_per_second': 41.775,\n",
       "  'epoch': 3.3003300330033003,\n",
       "  'step': 2000},\n",
       " {'loss': 0.3114,\n",
       "  'grad_norm': 5.289015769958496,\n",
       "  'learning_rate': 5.498349834983498e-06,\n",
       "  'epoch': 3.6303630363036303,\n",
       "  'step': 2200},\n",
       " {'eval_loss': 1.1880602836608887,\n",
       "  'eval_accuracy': 0.620049504950495,\n",
       "  'eval_runtime': 3.9267,\n",
       "  'eval_samples_per_second': 617.32,\n",
       "  'eval_steps_per_second': 38.71,\n",
       "  'epoch': 3.6303630363036303,\n",
       "  'step': 2200},\n",
       " {'loss': 0.3069,\n",
       "  'grad_norm': 40.104766845703125,\n",
       "  'learning_rate': 4.1848184818481855e-06,\n",
       "  'epoch': 3.9603960396039604,\n",
       "  'step': 2400},\n",
       " {'eval_loss': 1.2445614337921143,\n",
       "  'eval_accuracy': 0.6320132013201321,\n",
       "  'eval_runtime': 3.5459,\n",
       "  'eval_samples_per_second': 683.602,\n",
       "  'eval_steps_per_second': 42.866,\n",
       "  'epoch': 3.9603960396039604,\n",
       "  'step': 2400},\n",
       " {'train_runtime': 189.9755,\n",
       "  'train_samples_per_second': 255.191,\n",
       "  'train_steps_per_second': 15.949,\n",
       "  'total_flos': 1974164640096096.0,\n",
       "  'train_loss': 0.6135502672195434,\n",
       "  'epoch': 3.9603960396039604,\n",
       "  'step': 2400}]"
      ]
     },
     "execution_count": 12,
     "metadata": {},
     "output_type": "execute_result"
    }
   ],
   "source": [
    "log = trainer.state.log_history\n",
    "log"
   ]
  },
  {
   "cell_type": "code",
   "execution_count": 13,
   "metadata": {},
   "outputs": [
    {
     "data": {
      "image/png": "[encoded data removed]",
      "text/plain": [
       "<Figure size 1000x500 with 2 Axes>"
      ]
     },
     "metadata": {},
     "output_type": "display_data"
    }
   ],
   "source": [
    "steps = []\n",
    "train_loss = []\n",
    "eval_loss = []\n",
    "eval_acc = []\n",
    "\n",
    "for i in range(0, len(log) - 1, 2):\n",
    "    train_log = log[i]\n",
    "    eval_log = log[i + 1]\n",
    "    steps.append(train_log[\"step\"])\n",
    "    train_loss.append(train_log[\"loss\"])\n",
    "    eval_loss.append(eval_log[\"eval_loss\"])\n",
    "    eval_acc.append(eval_log[\"eval_accuracy\"])\n",
    "\n",
    "plt.figure(figsize=(10, 5))\n",
    "\n",
    "\n",
    "plt.subplot(1, 2, 1)\n",
    "plt.title(\"xlm-roberta loss vs step\")\n",
    "plt.xlabel(\"# steps\")\n",
    "plt.ylabel(\"loss\")\n",
    "plt.plot(steps, train_loss, label=\"training loss\")\n",
    "plt.plot(steps, eval_loss, label=\"eval loss\")\n",
    "plt.legend()\n",
    "\n",
    "plt.subplot(1, 2, 2)\n",
    "plt.title(\"xlm-roberta acc vs step\")\n",
    "plt.xlabel(\"# steps\")\n",
    "plt.ylabel(\"acc\")\n",
    "plt.plot(steps, eval_acc, label=\"eval acc\")\n",
    "plt.legend()\n",
    "\n",
    "plt.tight_layout()\n",
    "plt.show()"
   ]
  },
  {
   "cell_type": "code",
   "execution_count": 14,
   "metadata": {},
   "outputs": [
    {
     "data": {
      "text/html": [
       "\n",
       "    <div>\n",
       "      \n",
       "      <progress value='6' max='325' style='width:300px; height:20px; vertical-align: middle;'></progress>\n",
       "      [  6/325 00:00 < 00:04, 74.20 it/s]\n",
       "    </div>\n",
       "    "
      ],
      "text/plain": [
       "<IPython.core.display.HTML object>"
      ]
     },
     "metadata": {},
     "output_type": "display_data"
    },
    {
     "data": {
      "text/plain": [
       "PredictionOutput(predictions=array([[-1.2431641 ,  1.1357422 ,  0.18322754],\n",
       "       [-2.390625  ,  2.7226562 , -0.28125   ],\n",
       "       [ 2.6621094 , -1.2548828 , -1.3925781 ],\n",
       "       ...,\n",
       "       [-1.3623047 , -0.16259766,  1.3027344 ],\n",
       "       [ 3.        , -1.7695312 , -1.1757812 ],\n",
       "       [-2.0957031 , -1.1845703 ,  2.7441406 ]], dtype=float32), label_ids=None, metrics={'test_runtime': 3.7779, 'test_samples_per_second': 1375.117, 'test_steps_per_second': 86.028})"
      ]
     },
     "execution_count": 14,
     "metadata": {},
     "output_type": "execute_result"
    }
   ],
   "source": [
    "preds = trainer.predict(data[\"test\"])\n",
    "preds"
   ]
  },
  {
   "cell_type": "code",
   "execution_count": 15,
   "metadata": {},
   "outputs": [],
   "source": [
    "pd.DataFrame(\n",
    "    {\"id\": data[\"test\"][\"id\"], \"prediction\": np.argmax(preds.predictions, axis=1)}\n",
    ").to_csv(os.path.join(OUTPUT_DIR, \"submission.csv\"), header=True, index=False)"
   ]
  },
  {
   "cell_type": "code",
   "execution_count": null,
   "metadata": {},
   "outputs": [],
   "source": []
  }
 ],
 "metadata": {
  "kernelspec": {
   "display_name": "Python 3 (ipykernel)",
   "language": "python",
   "name": "python3"
  },
  "language_info": {
   "codemirror_mode": {
    "name": "ipython",
    "version": 3
   },
   "file_extension": ".py",
   "mimetype": "text/x-python",
   "name": "python",
   "nbconvert_exporter": "python",
   "pygments_lexer": "ipython3",
   "version": "3.8.19"
  }
 },
 "nbformat": 4,
 "nbformat_minor": 4
}

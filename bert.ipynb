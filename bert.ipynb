<<<<<<< HEAD
{"cells":[{"cell_type":"code","execution_count":1,"metadata":{"colab":{"base_uri":"https://localhost:8080/"},"executionInfo":{"elapsed":23398,"status":"ok","timestamp":1714970113550,"user":{"displayName":"Jiacheng Pang","userId":"17495887600724079092"},"user_tz":420},"id":"Xecl3gXLq_d_","outputId":"2e68072a-2327-4c81-f818-27fe8db737f5"},"outputs":[],"source":["# from google.colab import drive\n","# drive.mount('/content/drive')"]},{"cell_type":"code","execution_count":2,"metadata":{"colab":{"base_uri":"https://localhost:8080/"},"executionInfo":{"elapsed":356,"status":"ok","timestamp":1714970136698,"user":{"displayName":"Jiacheng Pang","userId":"17495887600724079092"},"user_tz":420},"id":"wFAUyon-BE3U","outputId":"398c0023-e4d9-4108-c7b8-7c891c3906a4"},"outputs":[],"source":["# %cd /content/drive/MyDrive"]},{"cell_type":"code","execution_count":3,"metadata":{"colab":{"base_uri":"https://localhost:8080/"},"executionInfo":{"elapsed":81764,"status":"ok","timestamp":1714970219900,"user":{"displayName":"Jiacheng Pang","userId":"17495887600724079092"},"user_tz":420},"id":"gpU_DSJTAcZ7","outputId":"858d8563-e293-4ff1-aa50-d69d219d6475"},"outputs":[],"source":["# !pip install datasets evaluate transformers\n","# !pip install accelerate -U\n","# !pip install transformers[torch]"]},{"cell_type":"code","execution_count":4,"metadata":{"colab":{"base_uri":"https://localhost:8080/"},"executionInfo":{"elapsed":5527,"status":"ok","timestamp":1714970602085,"user":{"displayName":"Jiacheng Pang","userId":"17495887600724079092"},"user_tz":420},"id":"4dx16icTC3ze","outputId":"364d4965-4995-4832-923d-136ff07479b8"},"outputs":[],"source":["# !pip install accelerate --upgrade"]},{"cell_type":"code","execution_count":1,"metadata":{"executionInfo":{"elapsed":1,"status":"ok","timestamp":1714970780266,"user":{"displayName":"Jiacheng Pang","userId":"17495887600724079092"},"user_tz":420},"id":"eU5X-71Sq3uj"},"outputs":[{"name":"stderr","output_type":"stream","text":["c:\\Users\\andyp\\AppData\\Local\\Programs\\Python\\Python311\\Lib\\site-packages\\tqdm\\auto.py:21: TqdmWarning: IProgress not found. Please update jupyter and ipywidgets. See https://ipywidgets.readthedocs.io/en/stable/user_install.html\n","  from .autonotebook import tqdm as notebook_tqdm\n"]}],"source":["import numpy as np\n","import pandas as pd\n","import os\n","\n","from datasets import load_dataset, DatasetDict, concatenate_datasets\n","\n","import evaluate\n","\n","from transformers import (\n","    AutoTokenizer,\n","    AutoModelForSequenceClassification,\n","    DataCollatorWithPadding,\n","    TrainingArguments,\n","    Trainer,\n","    EarlyStoppingCallback,\n",")\n","\n","import matplotlib.pyplot as plt"]},{"cell_type":"code","execution_count":2,"metadata":{"executionInfo":{"elapsed":1,"status":"ok","timestamp":1714970781970,"user":{"displayName":"Jiacheng Pang","userId":"17495887600724079092"},"user_tz":420},"id":"uXxoVV8zq3ul"},"outputs":[],"source":["INPUT_DIR = \"./\"\n","OUTPUT_DIR = \"./output/bert\"\n","CHECKPOINT = \"google-bert/bert-base-multilingual-uncased\""]},{"cell_type":"code","execution_count":3,"metadata":{"colab":{"base_uri":"https://localhost:8080/"},"executionInfo":{"elapsed":3273,"status":"ok","timestamp":1714970804542,"user":{"displayName":"Jiacheng Pang","userId":"17495887600724079092"},"user_tz":420},"id":"oOKPiYQtq3ul","outputId":"2ad967dd-839b-4128-9a09-64765c23abf5"},"outputs":[{"data":{"text/plain":["DatasetDict({\n","    train: Dataset({\n","        features: ['id', 'premise', 'hypothesis', 'lang_abv', 'language', 'label'],\n","        num_rows: 105876\n","    })\n","    val: Dataset({\n","        features: ['id', 'premise', 'hypothesis', 'lang_abv', 'language', 'label'],\n","        num_rows: 2424\n","    })\n","    test: Dataset({\n","        features: ['id', 'premise', 'hypothesis', 'lang_abv', 'language'],\n","        num_rows: 5195\n","    })\n","})"]},"execution_count":3,"metadata":{},"output_type":"execute_result"}],"source":["# Load data\n","data = load_dataset(\"csv\", data_files=os.path.join(INPUT_DIR, \"train.csv\"), trust_remote_code=True, split=\"train\")\n","\n","data = data.train_test_split(0.2)\n","\n","translated_data = load_dataset(\"csv\", data_files=os.path.join(INPUT_DIR, \"translated.csv\"), trust_remote_code=True, split=\"train\")\n","\n","train_data = concatenate_datasets([data['train'], translated_data])\n","train_data = train_data.shuffle(seed=42)\n","\n","data = DatasetDict(\n","    {\n","        \"train\": train_data,\n","        \"val\": data[\"test\"],\n","        \"test\": load_dataset(\"csv\", data_files=os.path.join(INPUT_DIR, \"test.csv\"), trust_remote_code=True, split=\"train\"),\n","    }\n",")\n","data\n","\n","# # Load data\n","# data = load_dataset(\"csv\", data_files=os.path.join(INPUT_DIR, \"train.csv\"), trust_remote_code=True, split=\"train\")\n","\n","# data = data.train_test_split(0.2)\n","\n","# data = DatasetDict(\n","#     {\n","#         \"train\": data[\"train\"],\n","#         \"val\": data[\"test\"],\n","#         \"test\": load_dataset(\"csv\", data_files=os.path.join(INPUT_DIR, \"test.csv\"), trust_remote_code=True, split=\"train\"),\n","#     }\n","# )\n","# data"]},{"cell_type":"code","execution_count":4,"metadata":{"colab":{"base_uri":"https://localhost:8080/"},"executionInfo":{"elapsed":1913,"status":"ok","timestamp":1714972621451,"user":{"displayName":"Jiacheng Pang","userId":"17495887600724079092"},"user_tz":420},"id":"B5ZS_plZq3um","outputId":"f802c4cf-b3cc-48d1-a762-96cd09f3c95b"},"outputs":[{"name":"stderr","output_type":"stream","text":["Some weights of BertForSequenceClassification were not initialized from the model checkpoint at google-bert/bert-base-multilingual-uncased and are newly initialized: ['classifier.bias', 'classifier.weight']\n","You should probably TRAIN this model on a down-stream task to be able to use it for predictions and inference.\n"]},{"data":{"text/plain":["BertForSequenceClassification(\n","  (bert): BertModel(\n","    (embeddings): BertEmbeddings(\n","      (word_embeddings): Embedding(105879, 768, padding_idx=0)\n","      (position_embeddings): Embedding(512, 768)\n","      (token_type_embeddings): Embedding(2, 768)\n","      (LayerNorm): LayerNorm((768,), eps=1e-12, elementwise_affine=True)\n","      (dropout): Dropout(p=0.1, inplace=False)\n","    )\n","    (encoder): BertEncoder(\n","      (layer): ModuleList(\n","        (0-11): 12 x BertLayer(\n","          (attention): BertAttention(\n","            (self): BertSelfAttention(\n","              (query): Linear(in_features=768, out_features=768, bias=True)\n","              (key): Linear(in_features=768, out_features=768, bias=True)\n","              (value): Linear(in_features=768, out_features=768, bias=True)\n","              (dropout): Dropout(p=0.1, inplace=False)\n","            )\n","            (output): BertSelfOutput(\n","              (dense): Linear(in_features=768, out_features=768, bias=True)\n","              (LayerNorm): LayerNorm((768,), eps=1e-12, elementwise_affine=True)\n","              (dropout): Dropout(p=0.1, inplace=False)\n","            )\n","          )\n","          (intermediate): BertIntermediate(\n","            (dense): Linear(in_features=768, out_features=3072, bias=True)\n","            (intermediate_act_fn): GELUActivation()\n","          )\n","          (output): BertOutput(\n","            (dense): Linear(in_features=3072, out_features=768, bias=True)\n","            (LayerNorm): LayerNorm((768,), eps=1e-12, elementwise_affine=True)\n","            (dropout): Dropout(p=0.1, inplace=False)\n","          )\n","        )\n","      )\n","    )\n","    (pooler): BertPooler(\n","      (dense): Linear(in_features=768, out_features=768, bias=True)\n","      (activation): Tanh()\n","    )\n","  )\n","  (dropout): Dropout(p=0.1, inplace=False)\n","  (classifier): CNN3Cls(\n","    (conv1): Conv1d(768, 768, kernel_size=(3,), stride=(1,), padding=(1,))\n","    (conv2): Conv1d(768, 512, kernel_size=(3,), stride=(1,), padding=(1,))\n","    (conv3): Conv1d(512, 256, kernel_size=(3,), stride=(1,), padding=(1,))\n","    (relu): ReLU()\n","    (dropout): Dropout(p=0.4, inplace=False)\n","    (fc): Linear(in_features=256, out_features=3, bias=True)\n","  )\n",")"]},"execution_count":4,"metadata":{},"output_type":"execute_result"}],"source":["tokenizer = AutoTokenizer.from_pretrained(CHECKPOINT, truncation=True)\n","\n","data_collator = DataCollatorWithPadding(tokenizer=tokenizer)\n","\n","model = AutoModelForSequenceClassification.from_pretrained(CHECKPOINT, num_labels=3)\n","model\n","\n","import torch\n","import torch.nn as nn\n","\n","class CNNCls(nn.Module):\n","    def __init__(self):\n","        super(CNNCls, self).__init__()\n","        self.conv1 = nn.Conv1d(in_channels=768, out_channels=256, kernel_size=3, padding=1)\n","        self.relu = nn.ReLU()\n","        self.dropout = nn.Dropout(0.2)\n","        self.fc = nn.Linear(256, 3)\n","\n","    def forward(self, x):\n","        x = torch.unsqueeze(x, 1)\n","        x = x.permute(0, 2, 1)\n","        x = self.conv1(x)\n","        x = self.relu(x)\n","        x = x.permute(0, 2, 1)\n","        x = x.mean(dim=1)\n","        x = self.dropout(x)\n","        x = self.fc(x)\n","        return x\n","\n","class CNN3Cls(nn.Module):\n","    def __init__(self):\n","        super(CNN3Cls, self).__init__()\n","        self.conv1 = nn.Conv1d(in_channels=768, out_channels=768, kernel_size=3, padding=1)\n","        self.conv2 = nn.Conv1d(in_channels=768, out_channels=512, kernel_size=3, padding=1)\n","        self.conv3 = nn.Conv1d(in_channels=512, out_channels=256, kernel_size=3, padding=1)\n","        self.relu = nn.ReLU()\n","        self.dropout = nn.Dropout(0.4)\n","        self.fc = nn.Linear(256, 3)\n","\n","    def forward(self, x):\n","        x = torch.unsqueeze(x, 1)\n","        x = x.permute(0, 2, 1)\n","        x = self.conv1(x)\n","        x = self.conv2(x)\n","        x = self.conv3(x)\n","        x = self.relu(x)\n","        x = x.permute(0, 2, 1)\n","        x = x.mean(dim=1)\n","        x = self.dropout(x)\n","        x = self.fc(x)\n","        return x\n","\n","class LSTMCls(nn.Module):\n","    def __init__(self):\n","        super(LSTMCls, self).__init__()\n","        self.lstm = nn.LSTM(input_size=768, hidden_size=256, num_layers=1, batch_first=True)\n","        self.relu = nn.ReLU()\n","        self.dropout = nn.Dropout(0.2)\n","        self.fc = nn.Linear(256, 3)\n","\n","    def forward(self, x):\n","        # LSTM返回两个元组，(output, (h_n, c_n))\n","        # output: (batch_size, seq_length, num_directions * hidden_size)\n","        # h_n: (num_layers * num_directions, batch_size, hidden_size)\n","        # c_n: (num_layers * num_directions, batch_size, hidden_size)\n","        output, (h_n, c_n) = self.lstm(x)\n","        x = self.relu(output)  # 取序列的最后一个输出\n","        x = self.dropout(x)\n","        x = self.fc(x)\n","        return x\n","\n","class GRUCls(nn.Module):\n","    def __init__(self):\n","        super(GRUCls, self).__init__()\n","        self.gru = nn.GRU(input_size=768, hidden_size=256, num_layers=1, batch_first=True)\n","        self.relu = nn.ReLU()\n","        self.dropout = nn.Dropout(0.2)\n","        self.fc = nn.Linear(256, 3)\n","\n","    def forward(self, x):\n","        # GRU的输出 (output, h_n)\n","        output, h_n = self.gru(x)  # output: (batch_size, seq_length, hidden_size)\n","        x = self.relu(output)  # 取序列的最后一个输出\n","        x = self.dropout(x)\n","        x = self.fc(x)\n","        return x\n","\n","class RNNCls(nn.Module):\n","    def __init__(self):\n","        super(RNNCls, self).__init__()\n","        self.rnn = nn.RNN(input_size=768, hidden_size=256, num_layers=1, batch_first=True)\n","        self.relu = nn.ReLU()\n","        self.dropout = nn.Dropout(0.2)\n","        self.fc = nn.Linear(256, 3)\n","\n","    def forward(self, x):\n","        # RNN的输出包括 (output, h_n)\n","        output, h_n = self.rnn(x)  # output: (batch_size, seq_length, hidden_size)\n","        x = self.relu(output)  # 取序列的最后一个输出\n","        x = self.dropout(x)\n","        x = self.fc(x)\n","        return x\n","\n","class MultiheadAttentionCls(nn.Module):\n","    def __init__(self):\n","        super(MultiheadAttentionCls, self).__init__()\n","        self.attention = nn.MultiheadAttention(embed_dim=768, num_heads=8, batch_first=True)\n","        self.relu = nn.ReLU()\n","        self.dropout = nn.Dropout(0.2)\n","        self.fc = nn.Linear(768, 3)\n","\n","    def forward(self, x):\n","        # 假设x的形状是(batch_size, seq_length, embed_dim)\n","        # 多头注意力需要输入key, query, value，这里我们使用同一个x作为三者\n","        attn_output, _ = self.attention(x, x, x)\n","        # 取多头注意力输出的平均或者最后一个时间步的输出\n","        x = self.relu(attn_output)\n","        x = self.dropout(x)\n","        x = self.fc(x)\n","        return x\n","\n","\n","from transformers import BertModel\n","\n","class CustomBERTModel(nn.Module):\n","    def __init__(self, num_labels):\n","        super(CustomBERTModel, self).__init__()\n","        model_name = CHECKPOINT\n","        self.bert = BertModel.from_pretrained(model_name)\n","        self.dropout = nn.Dropout(0.2)\n","        self.classifier = nn.Sequential(\n","            nn.Linear(768, 512),\n","            nn.LayerNorm(512),\n","            nn.ReLU(),\n","            nn.Dropout(0.2),\n","            nn.Linear(512, num_labels)\n","        )\n","        self.loss = nn.CrossEntropyLoss()\n","        self.num_labels = num_labels\n","\n","    def forward(self, input_ids, attention_mask, labels=None):\n","        output = self.bert(input_ids=input_ids, attention_mask=attention_mask)\n","        output = self.dropout(output.pooler_output)\n","        logits = self.classifier(output)\n","\n","        if labels is not None:\n","            loss = self.loss(logits.view(-1, self.num_labels), labels.view(-1))\n","            return {\"loss\": loss, \"logits\": logits}\n","        else:\n","            return logits\n","\n","# model = CustomBERTModel(num_labels=3)\n","model.classifier = CNN3Cls()\n","model"]},{"cell_type":"code","execution_count":5,"metadata":{"colab":{"base_uri":"https://localhost:8080/","height":113,"referenced_widgets":["b2fdecbaad9c46379b8ceda1697c20fc","09718005a28a407ab277bc8fbe4d3dbb","ce0015c8278d4d2795c83838e8ff1694","5a2cbee445f845869412fa067b7a25f5","cb5524f99ed84eb78f898fbcc2068eb7","bb8ed0bc72d24383a08b501b0faf8df9","9a17fe458d034bc689d56561f22bda21","0098426f0ee443e5b9885018c2f91ba4","60e4be7603134252857d989e657e4589","1380e8049c84476b9983229eb8582cf3","73003844b63c48af91650c7f8e88b32b","1329fa7ff30d43079837fddc4ba69a09","c7f207714c5c4f59afac3e999fd4b6c5","975d2f3c015f4df180c3f43b5489a387","06ddd7a38962449796e37770ec55cb2a","816c3bae88d941f0beef7fa8726a9f0c","1eb33c810e854ccd875b48ec3c2743b8","f368710185014fa09924135d17fa86d5","c1415dea0f934239aea7f9723152a825","abf0b990f1fa41fb93ec3d157a55a5a3","a2ce41c01db24dec8bfc1c15678c927e","83bedd2221444b2a9807d4db5e5017be","7a82e80258fb4306ad29e0e265ae757c","2bafe01dd39f42f790c24b1e629690c1","9f849ee0c958433387fa1811ae907b15","fcb39b9156564c129d1e2875a28dc885","a3bf2daf12b14325a1d72bf4048abf05","b71b6243b8e54c1aa90db36d31a3bca2","b2627e72342643c7b673e0155a8f9b84","c618c60dd9ae43d4a14c0c2e77d6e2ed","8f9cec77f2c941478c31579e3ec25720","9c837ee3f461481197abf8f40e135a4a","b3ba70a9ea6c4861a8a3e9fe4d4dc67b"]},"executionInfo":{"elapsed":25790,"status":"ok","timestamp":1714972674025,"user":{"displayName":"Jiacheng Pang","userId":"17495887600724079092"},"user_tz":420},"id":"yDLlU9dLq3um","outputId":"33d915c2-7b34-4893-a489-c9211ff673ad"},"outputs":[{"name":"stderr","output_type":"stream","text":["Map: 100%|██████████| 105876/105876 [00:05<00:00, 17876.95 examples/s]\n","Map: 100%|██████████| 2424/2424 [00:00<00:00, 22384.99 examples/s]\n"]}],"source":["def preprocess_data(batch):\n","    batch[\"text\"] = [\n","        x1 + f\" {tokenizer.sep_token} \" + x2\n","        for x1, x2 in zip(batch[\"premise\"], batch[\"hypothesis\"])\n","    ]\n","    return tokenizer(batch[\"text\"])\n","\n","data = data.map(preprocess_data, batched=True)"]},{"cell_type":"code","execution_count":6,"metadata":{"executionInfo":{"elapsed":334,"status":"ok","timestamp":1714973918396,"user":{"displayName":"Jiacheng Pang","userId":"17495887600724079092"},"user_tz":420},"id":"jI89SfvGq3um"},"outputs":[],"source":["def compute_metrics(eval_pred):\n","    metric = evaluate.load(\"accuracy\")\n","    preds, labels = eval_pred\n","    preds = np.argmax(preds, axis=1)\n","    return metric.compute(predictions=preds, references=labels)\n","\n","train_args = TrainingArguments(\n","    output_dir=os.path.join(OUTPUT_DIR, \"results\"),\n","    logging_dir=os.path.join(OUTPUT_DIR, \"logs\"),\n","    report_to=[],\n","    evaluation_strategy=\"steps\",\n","    eval_steps=200,\n","    logging_steps=200,\n","    save_steps=200,\n","    per_device_eval_batch_size=16,\n","    per_device_train_batch_size=16,\n","    learning_rate=2e-5,\n","    weight_decay=0.005,\n","    num_train_epochs=1,\n","    fp16=True,\n","    load_best_model_at_end=True,\n","    metric_for_best_model=\"accuracy\",\n","    save_total_limit=3,\n","    save_only_model=True,\n",")"]},{"cell_type":"code","execution_count":7,"metadata":{"colab":{"base_uri":"https://localhost:8080/","height":200},"id":"bJ0WNjBQq3un","outputId":"8639b3f2-e538-4718-8fe4-d1f453b4de34"},"outputs":[{"name":"stderr","output_type":"stream","text":["c:\\Users\\andyp\\AppData\\Local\\Programs\\Python\\Python311\\Lib\\site-packages\\accelerate\\accelerator.py:446: FutureWarning: Passing the following arguments to `Accelerator` is deprecated and will be removed in version 1.0 of Accelerate: dict_keys(['dispatch_batches', 'split_batches', 'even_batches', 'use_seedable_sampler']). Please pass an `accelerate.DataLoaderConfiguration` instead: \n","dataloader_config = DataLoaderConfiguration(dispatch_batches=None, split_batches=False, even_batches=True, use_seedable_sampler=True)\n","  warnings.warn(\n","  3%|▎         | 200/6618 [00:29<14:55,  7.16it/s]"]},{"name":"stdout","output_type":"stream","text":["{'loss': 1.0815, 'grad_norm': 11.2739839553833, 'learning_rate': 1.939860985191901e-05, 'epoch': 0.03}\n"]},{"name":"stderr","output_type":"stream","text":["                                                  \n","  3%|▎         | 200/6618 [00:34<14:55,  7.16it/s]"]},{"name":"stdout","output_type":"stream","text":["{'eval_loss': 1.0405302047729492, 'eval_accuracy': 0.4513201320132013, 'eval_runtime': 4.5372, 'eval_samples_per_second': 534.254, 'eval_steps_per_second': 33.501, 'epoch': 0.03}\n"]},{"name":"stderr","output_type":"stream","text":["  6%|▌         | 400/6618 [01:03<13:56,  7.43it/s]  "]},{"name":"stdout","output_type":"stream","text":["{'loss': 1.027, 'grad_norm': 6.456549167633057, 'learning_rate': 1.8794197642792388e-05, 'epoch': 0.06}\n"]},{"name":"stderr","output_type":"stream","text":["                                                  \n","  6%|▌         | 400/6618 [01:08<13:56,  7.43it/s]"]},{"name":"stdout","output_type":"stream","text":["{'eval_loss': 0.9902028441429138, 'eval_accuracy': 0.48267326732673266, 'eval_runtime': 4.555, 'eval_samples_per_second': 532.161, 'eval_steps_per_second': 33.37, 'epoch': 0.06}\n"]},{"name":"stderr","output_type":"stream","text":["  9%|▉         | 600/6618 [01:38<14:35,  6.87it/s]  "]},{"name":"stdout","output_type":"stream","text":["{'loss': 1.0111, 'grad_norm': 5.547323226928711, 'learning_rate': 1.8192807494711394e-05, 'epoch': 0.09}\n"]},{"name":"stderr","output_type":"stream","text":["                                                  \n","  9%|▉         | 600/6618 [01:43<14:35,  6.87it/s]"]},{"name":"stdout","output_type":"stream","text":["{'eval_loss': 0.9801955819129944, 'eval_accuracy': 0.4900990099009901, 'eval_runtime': 4.466, 'eval_samples_per_second': 542.765, 'eval_steps_per_second': 34.035, 'epoch': 0.09}\n"]},{"name":"stderr","output_type":"stream","text":[" 12%|█▏        | 800/6618 [02:13<13:21,  7.26it/s]  "]},{"name":"stdout","output_type":"stream","text":["{'loss': 0.9853, 'grad_norm': 6.05389404296875, 'learning_rate': 1.758839528558477e-05, 'epoch': 0.12}\n"]},{"name":"stderr","output_type":"stream","text":["                                                  \n"," 12%|█▏        | 800/6618 [02:17<13:21,  7.26it/s]"]},{"name":"stdout","output_type":"stream","text":["{'eval_loss': 0.9579086899757385, 'eval_accuracy': 0.5103135313531353, 'eval_runtime': 4.8499, 'eval_samples_per_second': 499.805, 'eval_steps_per_second': 31.341, 'epoch': 0.12}\n"]},{"name":"stderr","output_type":"stream","text":[" 15%|█▌        | 1000/6618 [02:49<13:20,  7.02it/s] "]},{"name":"stdout","output_type":"stream","text":["{'loss': 0.9843, 'grad_norm': 12.963191032409668, 'learning_rate': 1.6983983076458146e-05, 'epoch': 0.15}\n"]},{"name":"stderr","output_type":"stream","text":["                                                   \n"," 15%|█▌        | 1000/6618 [02:53<13:20,  7.02it/s]"]},{"name":"stdout","output_type":"stream","text":["{'eval_loss': 0.9530347585678101, 'eval_accuracy': 0.4830858085808581, 'eval_runtime': 4.8686, 'eval_samples_per_second': 497.881, 'eval_steps_per_second': 31.22, 'epoch': 0.15}\n"]},{"name":"stderr","output_type":"stream","text":[" 18%|█▊        | 1200/6618 [03:24<12:47,  7.06it/s]  "]},{"name":"stdout","output_type":"stream","text":["{'loss': 0.9636, 'grad_norm': 4.176209449768066, 'learning_rate': 1.6379570867331522e-05, 'epoch': 0.18}\n"]},{"name":"stderr","output_type":"stream","text":["                                                   \n"," 18%|█▊        | 1200/6618 [03:29<12:47,  7.06it/s]"]},{"name":"stdout","output_type":"stream","text":["{'eval_loss': 0.9146376252174377, 'eval_accuracy': 0.5804455445544554, 'eval_runtime': 4.7366, 'eval_samples_per_second': 511.763, 'eval_steps_per_second': 32.091, 'epoch': 0.18}\n"]},{"name":"stderr","output_type":"stream","text":[" 21%|██        | 1400/6618 [04:00<12:18,  7.07it/s]  "]},{"name":"stdout","output_type":"stream","text":["{'loss': 0.9477, 'grad_norm': 8.844844818115234, 'learning_rate': 1.5775158658204898e-05, 'epoch': 0.21}\n"]},{"name":"stderr","output_type":"stream","text":["                                                   \n"," 21%|██        | 1400/6618 [04:05<12:18,  7.07it/s]"]},{"name":"stdout","output_type":"stream","text":["{'eval_loss': 0.9044820666313171, 'eval_accuracy': 0.566006600660066, 'eval_runtime': 4.6029, 'eval_samples_per_second': 526.624, 'eval_steps_per_second': 33.023, 'epoch': 0.21}\n"]},{"name":"stderr","output_type":"stream","text":[" 24%|██▍       | 1600/6618 [04:36<12:20,  6.78it/s]  "]},{"name":"stdout","output_type":"stream","text":["{'loss': 0.9233, 'grad_norm': 6.077694892883301, 'learning_rate': 1.5170746449078272e-05, 'epoch': 0.24}\n"]},{"name":"stderr","output_type":"stream","text":["                                                   \n"," 24%|██▍       | 1600/6618 [04:40<12:20,  6.78it/s]"]},{"name":"stdout","output_type":"stream","text":["{'eval_loss': 0.9033766984939575, 'eval_accuracy': 0.568069306930693, 'eval_runtime': 4.82, 'eval_samples_per_second': 502.909, 'eval_steps_per_second': 31.536, 'epoch': 0.24}\n"]},{"name":"stderr","output_type":"stream","text":[" 27%|██▋       | 1800/6618 [05:11<11:48,  6.80it/s]  "]},{"name":"stdout","output_type":"stream","text":["{'loss': 0.9346, 'grad_norm': 5.74880838394165, 'learning_rate': 1.4566334239951647e-05, 'epoch': 0.27}\n"]},{"name":"stderr","output_type":"stream","text":["                                                   \n"," 27%|██▋       | 1800/6618 [05:16<11:48,  6.80it/s]"]},{"name":"stdout","output_type":"stream","text":["{'eval_loss': 0.8756827712059021, 'eval_accuracy': 0.5928217821782178, 'eval_runtime': 4.6689, 'eval_samples_per_second': 519.177, 'eval_steps_per_second': 32.556, 'epoch': 0.27}\n"]},{"name":"stderr","output_type":"stream","text":[" 30%|███       | 2000/6618 [05:47<11:15,  6.84it/s]  "]},{"name":"stdout","output_type":"stream","text":["{'loss': 0.915, 'grad_norm': 7.063924789428711, 'learning_rate': 1.3961922030825024e-05, 'epoch': 0.3}\n"]},{"name":"stderr","output_type":"stream","text":["                                                   \n"," 30%|███       | 2000/6618 [05:51<11:15,  6.84it/s]"]},{"name":"stdout","output_type":"stream","text":["{'eval_loss': 0.8630071878433228, 'eval_accuracy': 0.6064356435643564, 'eval_runtime': 4.7151, 'eval_samples_per_second': 514.091, 'eval_steps_per_second': 32.237, 'epoch': 0.3}\n"]},{"name":"stderr","output_type":"stream","text":[" 33%|███▎      | 2200/6618 [06:22<10:37,  6.93it/s]  "]},{"name":"stdout","output_type":"stream","text":["{'loss': 0.9036, 'grad_norm': 5.634047985076904, 'learning_rate': 1.33575098216984e-05, 'epoch': 0.33}\n"]},{"name":"stderr","output_type":"stream","text":["                                                   \n"," 33%|███▎      | 2200/6618 [06:26<10:37,  6.93it/s]"]},{"name":"stdout","output_type":"stream","text":["{'eval_loss': 0.8804119825363159, 'eval_accuracy': 0.5977722772277227, 'eval_runtime': 4.5431, 'eval_samples_per_second': 533.562, 'eval_steps_per_second': 33.458, 'epoch': 0.33}\n"]},{"name":"stderr","output_type":"stream","text":[" 36%|███▋      | 2400/6618 [06:56<09:33,  7.35it/s]  "]},{"name":"stdout","output_type":"stream","text":["{'loss': 0.8877, 'grad_norm': 7.150135517120361, 'learning_rate': 1.2753097612571774e-05, 'epoch': 0.36}\n"]},{"name":"stderr","output_type":"stream","text":["                                                   \n"," 36%|███▋      | 2400/6618 [07:01<09:33,  7.35it/s]"]},{"name":"stdout","output_type":"stream","text":["{'eval_loss': 0.8552906513214111, 'eval_accuracy': 0.6262376237623762, 'eval_runtime': 4.5454, 'eval_samples_per_second': 533.284, 'eval_steps_per_second': 33.44, 'epoch': 0.36}\n"]},{"name":"stderr","output_type":"stream","text":[" 39%|███▉      | 2600/6618 [07:31<09:23,  7.13it/s]  "]},{"name":"stdout","output_type":"stream","text":["{'loss': 0.8801, 'grad_norm': 10.366392135620117, 'learning_rate': 1.2151707464490783e-05, 'epoch': 0.39}\n"]},{"name":"stderr","output_type":"stream","text":["                                                   \n"," 39%|███▉      | 2600/6618 [07:35<09:23,  7.13it/s]"]},{"name":"stdout","output_type":"stream","text":["{'eval_loss': 0.8536328673362732, 'eval_accuracy': 0.6229372937293729, 'eval_runtime': 4.786, 'eval_samples_per_second': 506.481, 'eval_steps_per_second': 31.76, 'epoch': 0.39}\n"]},{"name":"stderr","output_type":"stream","text":[" 42%|████▏     | 2800/6618 [08:07<09:18,  6.84it/s]  "]},{"name":"stdout","output_type":"stream","text":["{'loss': 0.8807, 'grad_norm': 10.154515266418457, 'learning_rate': 1.1547295255364159e-05, 'epoch': 0.42}\n"]},{"name":"stderr","output_type":"stream","text":["                                                   \n"," 42%|████▏     | 2800/6618 [08:12<09:18,  6.84it/s]"]},{"name":"stdout","output_type":"stream","text":["{'eval_loss': 0.8295620679855347, 'eval_accuracy': 0.629950495049505, 'eval_runtime': 4.6707, 'eval_samples_per_second': 518.98, 'eval_steps_per_second': 32.543, 'epoch': 0.42}\n"]},{"name":"stderr","output_type":"stream","text":[" 45%|████▌     | 3000/6618 [08:43<08:37,  7.00it/s]  "]},{"name":"stdout","output_type":"stream","text":["{'loss': 0.8732, 'grad_norm': 5.3721466064453125, 'learning_rate': 1.0942883046237536e-05, 'epoch': 0.45}\n"]},{"name":"stderr","output_type":"stream","text":["                                                   \n"," 45%|████▌     | 3000/6618 [08:47<08:37,  7.00it/s]"]},{"name":"stdout","output_type":"stream","text":["{'eval_loss': 0.8402453064918518, 'eval_accuracy': 0.6241749174917491, 'eval_runtime': 4.7731, 'eval_samples_per_second': 507.841, 'eval_steps_per_second': 31.845, 'epoch': 0.45}\n"]},{"name":"stderr","output_type":"stream","text":[" 48%|████▊     | 3200/6618 [09:18<07:56,  7.17it/s]  "]},{"name":"stdout","output_type":"stream","text":["{'loss': 0.8672, 'grad_norm': 8.94342041015625, 'learning_rate': 1.033847083711091e-05, 'epoch': 0.48}\n"]},{"name":"stderr","output_type":"stream","text":["                                                   \n"," 48%|████▊     | 3200/6618 [09:23<07:56,  7.17it/s]"]},{"name":"stdout","output_type":"stream","text":["{'eval_loss': 0.8140122890472412, 'eval_accuracy': 0.6365511551155115, 'eval_runtime': 5.0496, 'eval_samples_per_second': 480.037, 'eval_steps_per_second': 30.101, 'epoch': 0.48}\n"]},{"name":"stderr","output_type":"stream","text":[" 51%|█████▏    | 3400/6618 [09:55<07:18,  7.34it/s]  "]},{"name":"stdout","output_type":"stream","text":["{'loss': 0.8481, 'grad_norm': 10.29112434387207, 'learning_rate': 9.734058627984287e-06, 'epoch': 0.51}\n"]},{"name":"stderr","output_type":"stream","text":["                                                   \n"," 51%|█████▏    | 3400/6618 [10:00<07:18,  7.34it/s]"]},{"name":"stdout","output_type":"stream","text":["{'eval_loss': 0.8195489645004272, 'eval_accuracy': 0.641914191419142, 'eval_runtime': 4.6828, 'eval_samples_per_second': 517.635, 'eval_steps_per_second': 32.459, 'epoch': 0.51}\n"]},{"name":"stderr","output_type":"stream","text":[" 54%|█████▍    | 3600/6618 [10:31<06:38,  7.57it/s]  "]},{"name":"stdout","output_type":"stream","text":["{'loss': 0.8295, 'grad_norm': 12.457740783691406, 'learning_rate': 9.129646418857661e-06, 'epoch': 0.54}\n"]},{"name":"stderr","output_type":"stream","text":["                                                   \n"," 54%|█████▍    | 3600/6618 [10:36<06:38,  7.57it/s]"]},{"name":"stdout","output_type":"stream","text":["{'eval_loss': 0.8015973567962646, 'eval_accuracy': 0.6588283828382838, 'eval_runtime': 4.9759, 'eval_samples_per_second': 487.151, 'eval_steps_per_second': 30.547, 'epoch': 0.54}\n"]},{"name":"stderr","output_type":"stream","text":[" 57%|█████▋    | 3800/6618 [11:07<06:40,  7.03it/s]  "]},{"name":"stdout","output_type":"stream","text":["{'loss': 0.828, 'grad_norm': 8.477381706237793, 'learning_rate': 8.525234209731037e-06, 'epoch': 0.57}\n"]},{"name":"stderr","output_type":"stream","text":["                                                   \n"," 57%|█████▋    | 3800/6618 [11:11<06:40,  7.03it/s]"]},{"name":"stdout","output_type":"stream","text":["{'eval_loss': 0.7866695523262024, 'eval_accuracy': 0.6571782178217822, 'eval_runtime': 4.7918, 'eval_samples_per_second': 505.866, 'eval_steps_per_second': 31.721, 'epoch': 0.57}\n"]},{"name":"stderr","output_type":"stream","text":[" 60%|██████    | 4000/6618 [11:44<06:10,  7.06it/s]  "]},{"name":"stdout","output_type":"stream","text":["{'loss': 0.8243, 'grad_norm': 15.528752326965332, 'learning_rate': 7.920822000604413e-06, 'epoch': 0.6}\n"]},{"name":"stderr","output_type":"stream","text":["                                                   \n"," 60%|██████    | 4000/6618 [11:49<06:10,  7.06it/s]"]},{"name":"stdout","output_type":"stream","text":["{'eval_loss': 0.7781230807304382, 'eval_accuracy': 0.6674917491749175, 'eval_runtime': 4.7447, 'eval_samples_per_second': 510.889, 'eval_steps_per_second': 32.036, 'epoch': 0.6}\n"]},{"name":"stderr","output_type":"stream","text":[" 63%|██████▎   | 4200/6618 [12:21<05:14,  7.69it/s]  "]},{"name":"stdout","output_type":"stream","text":["{'loss': 0.7965, 'grad_norm': 13.667017936706543, 'learning_rate': 7.316409791477789e-06, 'epoch': 0.63}\n"]},{"name":"stderr","output_type":"stream","text":["                                                   \n"," 63%|██████▎   | 4200/6618 [12:26<05:14,  7.69it/s]"]},{"name":"stdout","output_type":"stream","text":["{'eval_loss': 0.7603070735931396, 'eval_accuracy': 0.6716171617161716, 'eval_runtime': 4.548, 'eval_samples_per_second': 532.979, 'eval_steps_per_second': 33.421, 'epoch': 0.63}\n"]},{"name":"stderr","output_type":"stream","text":[" 66%|██████▋   | 4400/6618 [13:02<06:37,  5.58it/s]  "]},{"name":"stdout","output_type":"stream","text":["{'loss': 0.804, 'grad_norm': 8.08303165435791, 'learning_rate': 6.711997582351164e-06, 'epoch': 0.66}\n"]},{"name":"stderr","output_type":"stream","text":["                                                   \n"," 66%|██████▋   | 4400/6618 [13:07<06:37,  5.58it/s]"]},{"name":"stdout","output_type":"stream","text":["{'eval_loss': 0.7396801114082336, 'eval_accuracy': 0.6848184818481848, 'eval_runtime': 4.8603, 'eval_samples_per_second': 498.732, 'eval_steps_per_second': 31.274, 'epoch': 0.66}\n"]},{"name":"stderr","output_type":"stream","text":[" 70%|██████▉   | 4600/6618 [13:46<05:57,  5.64it/s]  "]},{"name":"stdout","output_type":"stream","text":["{'loss': 0.7741, 'grad_norm': 10.010130882263184, 'learning_rate': 6.107585373224539e-06, 'epoch': 0.7}\n"]},{"name":"stderr","output_type":"stream","text":["                                                   \n"," 70%|██████▉   | 4600/6618 [13:51<05:57,  5.64it/s]"]},{"name":"stdout","output_type":"stream","text":["{'eval_loss': 0.7406293749809265, 'eval_accuracy': 0.6868811881188119, 'eval_runtime': 4.4724, 'eval_samples_per_second': 541.989, 'eval_steps_per_second': 33.986, 'epoch': 0.7}\n"]},{"name":"stderr","output_type":"stream","text":[" 73%|███████▎  | 4800/6618 [14:28<07:07,  4.25it/s]"]},{"name":"stdout","output_type":"stream","text":["{'loss': 0.7703, 'grad_norm': 24.698972702026367, 'learning_rate': 5.503173164097915e-06, 'epoch': 0.73}\n"]},{"name":"stderr","output_type":"stream","text":["                                                   \n"," 73%|███████▎  | 4800/6618 [14:32<07:07,  4.25it/s]"]},{"name":"stdout","output_type":"stream","text":["{'eval_loss': 0.7432446479797363, 'eval_accuracy': 0.6848184818481848, 'eval_runtime': 4.4498, 'eval_samples_per_second': 544.739, 'eval_steps_per_second': 34.159, 'epoch': 0.73}\n"]},{"name":"stderr","output_type":"stream","text":[" 76%|███████▌  | 5000/6618 [15:13<05:05,  5.29it/s]"]},{"name":"stdout","output_type":"stream","text":["{'loss': 0.7731, 'grad_norm': 17.32279396057129, 'learning_rate': 4.89876095497129e-06, 'epoch': 0.76}\n"]},{"name":"stderr","output_type":"stream","text":["                                                   \n"," 76%|███████▌  | 5000/6618 [15:18<05:05,  5.29it/s]"]},{"name":"stdout","output_type":"stream","text":["{'eval_loss': 0.7418676018714905, 'eval_accuracy': 0.6794554455445545, 'eval_runtime': 4.4706, 'eval_samples_per_second': 542.208, 'eval_steps_per_second': 34.0, 'epoch': 0.76}\n"]},{"name":"stderr","output_type":"stream","text":[" 79%|███████▊  | 5200/6618 [15:53<03:12,  7.36it/s]"]},{"name":"stdout","output_type":"stream","text":["{'loss': 0.7698, 'grad_norm': 16.630653381347656, 'learning_rate': 4.294348745844666e-06, 'epoch': 0.79}\n"]},{"name":"stderr","output_type":"stream","text":["                                                   \n"," 79%|███████▊  | 5200/6618 [15:57<03:12,  7.36it/s]"]},{"name":"stdout","output_type":"stream","text":["{'eval_loss': 0.7164223790168762, 'eval_accuracy': 0.6988448844884488, 'eval_runtime': 4.4009, 'eval_samples_per_second': 550.798, 'eval_steps_per_second': 34.538, 'epoch': 0.79}\n"]},{"name":"stderr","output_type":"stream","text":[" 82%|████████▏ | 5400/6618 [16:38<03:03,  6.65it/s]"]},{"name":"stdout","output_type":"stream","text":["{'loss': 0.7732, 'grad_norm': 9.53226375579834, 'learning_rate': 3.6899365367180417e-06, 'epoch': 0.82}\n"]},{"name":"stderr","output_type":"stream","text":["                                                   \n"," 82%|████████▏ | 5400/6618 [16:43<03:03,  6.65it/s]"]},{"name":"stdout","output_type":"stream","text":["{'eval_loss': 0.7125309109687805, 'eval_accuracy': 0.7013201320132013, 'eval_runtime': 4.4772, 'eval_samples_per_second': 541.407, 'eval_steps_per_second': 33.95, 'epoch': 0.82}\n"]},{"name":"stderr","output_type":"stream","text":[" 85%|████████▍ | 5600/6618 [17:22<02:57,  5.72it/s]"]},{"name":"stdout","output_type":"stream","text":["{'loss': 0.7721, 'grad_norm': 11.090963363647461, 'learning_rate': 3.0855243275914177e-06, 'epoch': 0.85}\n"]},{"name":"stderr","output_type":"stream","text":["                                                   \n"," 85%|████████▍ | 5600/6618 [17:27<02:57,  5.72it/s]"]},{"name":"stdout","output_type":"stream","text":["{'eval_loss': 0.7218948006629944, 'eval_accuracy': 0.6992574257425742, 'eval_runtime': 4.5872, 'eval_samples_per_second': 528.429, 'eval_steps_per_second': 33.136, 'epoch': 0.85}\n"]},{"name":"stderr","output_type":"stream","text":[" 88%|████████▊ | 5800/6618 [18:08<02:21,  5.78it/s]"]},{"name":"stdout","output_type":"stream","text":["{'loss': 0.7608, 'grad_norm': 18.10426902770996, 'learning_rate': 2.481112118464793e-06, 'epoch': 0.88}\n"]},{"name":"stderr","output_type":"stream","text":["                                                   \n"," 88%|████████▊ | 5800/6618 [18:12<02:21,  5.78it/s]"]},{"name":"stdout","output_type":"stream","text":["{'eval_loss': 0.7147026062011719, 'eval_accuracy': 0.7046204620462047, 'eval_runtime': 4.397, 'eval_samples_per_second': 551.289, 'eval_steps_per_second': 34.569, 'epoch': 0.88}\n"]},{"name":"stderr","output_type":"stream","text":[" 91%|█████████ | 6000/6618 [18:51<01:37,  6.34it/s]"]},{"name":"stdout","output_type":"stream","text":["{'loss': 0.7596, 'grad_norm': 13.969734191894531, 'learning_rate': 1.8766999093381687e-06, 'epoch': 0.91}\n"]},{"name":"stderr","output_type":"stream","text":["                                                   \n"," 91%|█████████ | 6000/6618 [18:55<01:37,  6.34it/s]"]},{"name":"stdout","output_type":"stream","text":["{'eval_loss': 0.7121822834014893, 'eval_accuracy': 0.6889438943894389, 'eval_runtime': 4.603, 'eval_samples_per_second': 526.615, 'eval_steps_per_second': 33.022, 'epoch': 0.91}\n"]},{"name":"stderr","output_type":"stream","text":[" 94%|█████████▎| 6200/6618 [19:33<01:08,  6.09it/s]"]},{"name":"stdout","output_type":"stream","text":["{'loss': 0.7559, 'grad_norm': 12.526548385620117, 'learning_rate': 1.2722877002115445e-06, 'epoch': 0.94}\n"]},{"name":"stderr","output_type":"stream","text":["                                                   \n"," 94%|█████████▎| 6200/6618 [19:39<01:08,  6.09it/s]"]},{"name":"stdout","output_type":"stream","text":["{'eval_loss': 0.7064329981803894, 'eval_accuracy': 0.7033828382838284, 'eval_runtime': 5.4036, 'eval_samples_per_second': 448.592, 'eval_steps_per_second': 28.13, 'epoch': 0.94}\n"]},{"name":"stderr","output_type":"stream","text":[" 97%|█████████▋| 6400/6618 [20:18<00:49,  4.43it/s]"]},{"name":"stdout","output_type":"stream","text":["{'loss': 0.718, 'grad_norm': 10.69846248626709, 'learning_rate': 6.678754910849201e-07, 'epoch': 0.97}\n"]},{"name":"stderr","output_type":"stream","text":["                                                   \n"," 97%|█████████▋| 6400/6618 [20:23<00:49,  4.43it/s]"]},{"name":"stdout","output_type":"stream","text":["{'eval_loss': 0.7166551351547241, 'eval_accuracy': 0.695957095709571, 'eval_runtime': 4.4716, 'eval_samples_per_second': 542.083, 'eval_steps_per_second': 33.992, 'epoch': 0.97}\n"]},{"name":"stderr","output_type":"stream","text":["100%|█████████▉| 6600/6618 [21:00<00:02,  6.06it/s]"]},{"name":"stdout","output_type":"stream","text":["{'loss': 0.7541, 'grad_norm': 18.115921020507812, 'learning_rate': 6.346328195829556e-08, 'epoch': 1.0}\n"]},{"name":"stderr","output_type":"stream","text":["                                                   \n","100%|█████████▉| 6600/6618 [21:04<00:02,  6.06it/s]"]},{"name":"stdout","output_type":"stream","text":["{'eval_loss': 0.7133235931396484, 'eval_accuracy': 0.7025577557755776, 'eval_runtime': 4.4669, 'eval_samples_per_second': 542.663, 'eval_steps_per_second': 34.028, 'epoch': 1.0}\n"]},{"name":"stderr","output_type":"stream","text":["100%|██████████| 6618/6618 [21:08<00:00,  5.22it/s]"]},{"name":"stdout","output_type":"stream","text":["{'train_runtime': 1268.9037, 'train_samples_per_second': 83.439, 'train_steps_per_second': 5.216, 'train_loss': 0.8595608101398357, 'epoch': 1.0}\n"]},{"name":"stderr","output_type":"stream","text":["\n"]},{"data":{"text/plain":["TrainOutput(global_step=6618, training_loss=0.8595608101398357, metrics={'train_runtime': 1268.9037, 'train_samples_per_second': 83.439, 'train_steps_per_second': 5.216, 'train_loss': 0.8595608101398357, 'epoch': 1.0})"]},"execution_count":7,"metadata":{},"output_type":"execute_result"}],"source":["trainer = Trainer(\n","    model=model,\n","    args=train_args,\n","    data_collator=data_collator,\n","    train_dataset=data[\"train\"],\n","    eval_dataset=data[\"val\"],\n","    tokenizer=tokenizer,\n","    compute_metrics=compute_metrics,\n",")\n","\n","trainer.train()"]},{"cell_type":"code","execution_count":9,"metadata":{"executionInfo":{"elapsed":341,"status":"ok","timestamp":1714973827365,"user":{"displayName":"Jiacheng Pang","userId":"17495887600724079092"},"user_tz":420},"id":"tqmXK01fq3un"},"outputs":[{"data":{"text/plain":["[{'loss': 1.0815,\n","  'grad_norm': 11.2739839553833,\n","  'learning_rate': 1.939860985191901e-05,\n","  'epoch': 0.03,\n","  'step': 200},\n"," {'eval_loss': 1.0405302047729492,\n","  'eval_accuracy': 0.4513201320132013,\n","  'eval_runtime': 4.5372,\n","  'eval_samples_per_second': 534.254,\n","  'eval_steps_per_second': 33.501,\n","  'epoch': 0.03,\n","  'step': 200},\n"," {'loss': 1.027,\n","  'grad_norm': 6.456549167633057,\n","  'learning_rate': 1.8794197642792388e-05,\n","  'epoch': 0.06,\n","  'step': 400},\n"," {'eval_loss': 0.9902028441429138,\n","  'eval_accuracy': 0.48267326732673266,\n","  'eval_runtime': 4.555,\n","  'eval_samples_per_second': 532.161,\n","  'eval_steps_per_second': 33.37,\n","  'epoch': 0.06,\n","  'step': 400},\n"," {'loss': 1.0111,\n","  'grad_norm': 5.547323226928711,\n","  'learning_rate': 1.8192807494711394e-05,\n","  'epoch': 0.09,\n","  'step': 600},\n"," {'eval_loss': 0.9801955819129944,\n","  'eval_accuracy': 0.4900990099009901,\n","  'eval_runtime': 4.466,\n","  'eval_samples_per_second': 542.765,\n","  'eval_steps_per_second': 34.035,\n","  'epoch': 0.09,\n","  'step': 600},\n"," {'loss': 0.9853,\n","  'grad_norm': 6.05389404296875,\n","  'learning_rate': 1.758839528558477e-05,\n","  'epoch': 0.12,\n","  'step': 800},\n"," {'eval_loss': 0.9579086899757385,\n","  'eval_accuracy': 0.5103135313531353,\n","  'eval_runtime': 4.8499,\n","  'eval_samples_per_second': 499.805,\n","  'eval_steps_per_second': 31.341,\n","  'epoch': 0.12,\n","  'step': 800},\n"," {'loss': 0.9843,\n","  'grad_norm': 12.963191032409668,\n","  'learning_rate': 1.6983983076458146e-05,\n","  'epoch': 0.15,\n","  'step': 1000},\n"," {'eval_loss': 0.9530347585678101,\n","  'eval_accuracy': 0.4830858085808581,\n","  'eval_runtime': 4.8686,\n","  'eval_samples_per_second': 497.881,\n","  'eval_steps_per_second': 31.22,\n","  'epoch': 0.15,\n","  'step': 1000},\n"," {'loss': 0.9636,\n","  'grad_norm': 4.176209449768066,\n","  'learning_rate': 1.6379570867331522e-05,\n","  'epoch': 0.18,\n","  'step': 1200},\n"," {'eval_loss': 0.9146376252174377,\n","  'eval_accuracy': 0.5804455445544554,\n","  'eval_runtime': 4.7366,\n","  'eval_samples_per_second': 511.763,\n","  'eval_steps_per_second': 32.091,\n","  'epoch': 0.18,\n","  'step': 1200},\n"," {'loss': 0.9477,\n","  'grad_norm': 8.844844818115234,\n","  'learning_rate': 1.5775158658204898e-05,\n","  'epoch': 0.21,\n","  'step': 1400},\n"," {'eval_loss': 0.9044820666313171,\n","  'eval_accuracy': 0.566006600660066,\n","  'eval_runtime': 4.6029,\n","  'eval_samples_per_second': 526.624,\n","  'eval_steps_per_second': 33.023,\n","  'epoch': 0.21,\n","  'step': 1400},\n"," {'loss': 0.9233,\n","  'grad_norm': 6.077694892883301,\n","  'learning_rate': 1.5170746449078272e-05,\n","  'epoch': 0.24,\n","  'step': 1600},\n"," {'eval_loss': 0.9033766984939575,\n","  'eval_accuracy': 0.568069306930693,\n","  'eval_runtime': 4.82,\n","  'eval_samples_per_second': 502.909,\n","  'eval_steps_per_second': 31.536,\n","  'epoch': 0.24,\n","  'step': 1600},\n"," {'loss': 0.9346,\n","  'grad_norm': 5.74880838394165,\n","  'learning_rate': 1.4566334239951647e-05,\n","  'epoch': 0.27,\n","  'step': 1800},\n"," {'eval_loss': 0.8756827712059021,\n","  'eval_accuracy': 0.5928217821782178,\n","  'eval_runtime': 4.6689,\n","  'eval_samples_per_second': 519.177,\n","  'eval_steps_per_second': 32.556,\n","  'epoch': 0.27,\n","  'step': 1800},\n"," {'loss': 0.915,\n","  'grad_norm': 7.063924789428711,\n","  'learning_rate': 1.3961922030825024e-05,\n","  'epoch': 0.3,\n","  'step': 2000},\n"," {'eval_loss': 0.8630071878433228,\n","  'eval_accuracy': 0.6064356435643564,\n","  'eval_runtime': 4.7151,\n","  'eval_samples_per_second': 514.091,\n","  'eval_steps_per_second': 32.237,\n","  'epoch': 0.3,\n","  'step': 2000},\n"," {'loss': 0.9036,\n","  'grad_norm': 5.634047985076904,\n","  'learning_rate': 1.33575098216984e-05,\n","  'epoch': 0.33,\n","  'step': 2200},\n"," {'eval_loss': 0.8804119825363159,\n","  'eval_accuracy': 0.5977722772277227,\n","  'eval_runtime': 4.5431,\n","  'eval_samples_per_second': 533.562,\n","  'eval_steps_per_second': 33.458,\n","  'epoch': 0.33,\n","  'step': 2200},\n"," {'loss': 0.8877,\n","  'grad_norm': 7.150135517120361,\n","  'learning_rate': 1.2753097612571774e-05,\n","  'epoch': 0.36,\n","  'step': 2400},\n"," {'eval_loss': 0.8552906513214111,\n","  'eval_accuracy': 0.6262376237623762,\n","  'eval_runtime': 4.5454,\n","  'eval_samples_per_second': 533.284,\n","  'eval_steps_per_second': 33.44,\n","  'epoch': 0.36,\n","  'step': 2400},\n"," {'loss': 0.8801,\n","  'grad_norm': 10.366392135620117,\n","  'learning_rate': 1.2151707464490783e-05,\n","  'epoch': 0.39,\n","  'step': 2600},\n"," {'eval_loss': 0.8536328673362732,\n","  'eval_accuracy': 0.6229372937293729,\n","  'eval_runtime': 4.786,\n","  'eval_samples_per_second': 506.481,\n","  'eval_steps_per_second': 31.76,\n","  'epoch': 0.39,\n","  'step': 2600},\n"," {'loss': 0.8807,\n","  'grad_norm': 10.154515266418457,\n","  'learning_rate': 1.1547295255364159e-05,\n","  'epoch': 0.42,\n","  'step': 2800},\n"," {'eval_loss': 0.8295620679855347,\n","  'eval_accuracy': 0.629950495049505,\n","  'eval_runtime': 4.6707,\n","  'eval_samples_per_second': 518.98,\n","  'eval_steps_per_second': 32.543,\n","  'epoch': 0.42,\n","  'step': 2800},\n"," {'loss': 0.8732,\n","  'grad_norm': 5.3721466064453125,\n","  'learning_rate': 1.0942883046237536e-05,\n","  'epoch': 0.45,\n","  'step': 3000},\n"," {'eval_loss': 0.8402453064918518,\n","  'eval_accuracy': 0.6241749174917491,\n","  'eval_runtime': 4.7731,\n","  'eval_samples_per_second': 507.841,\n","  'eval_steps_per_second': 31.845,\n","  'epoch': 0.45,\n","  'step': 3000},\n"," {'loss': 0.8672,\n","  'grad_norm': 8.94342041015625,\n","  'learning_rate': 1.033847083711091e-05,\n","  'epoch': 0.48,\n","  'step': 3200},\n"," {'eval_loss': 0.8140122890472412,\n","  'eval_accuracy': 0.6365511551155115,\n","  'eval_runtime': 5.0496,\n","  'eval_samples_per_second': 480.037,\n","  'eval_steps_per_second': 30.101,\n","  'epoch': 0.48,\n","  'step': 3200},\n"," {'loss': 0.8481,\n","  'grad_norm': 10.29112434387207,\n","  'learning_rate': 9.734058627984287e-06,\n","  'epoch': 0.51,\n","  'step': 3400},\n"," {'eval_loss': 0.8195489645004272,\n","  'eval_accuracy': 0.641914191419142,\n","  'eval_runtime': 4.6828,\n","  'eval_samples_per_second': 517.635,\n","  'eval_steps_per_second': 32.459,\n","  'epoch': 0.51,\n","  'step': 3400},\n"," {'loss': 0.8295,\n","  'grad_norm': 12.457740783691406,\n","  'learning_rate': 9.129646418857661e-06,\n","  'epoch': 0.54,\n","  'step': 3600},\n"," {'eval_loss': 0.8015973567962646,\n","  'eval_accuracy': 0.6588283828382838,\n","  'eval_runtime': 4.9759,\n","  'eval_samples_per_second': 487.151,\n","  'eval_steps_per_second': 30.547,\n","  'epoch': 0.54,\n","  'step': 3600},\n"," {'loss': 0.828,\n","  'grad_norm': 8.477381706237793,\n","  'learning_rate': 8.525234209731037e-06,\n","  'epoch': 0.57,\n","  'step': 3800},\n"," {'eval_loss': 0.7866695523262024,\n","  'eval_accuracy': 0.6571782178217822,\n","  'eval_runtime': 4.7918,\n","  'eval_samples_per_second': 505.866,\n","  'eval_steps_per_second': 31.721,\n","  'epoch': 0.57,\n","  'step': 3800},\n"," {'loss': 0.8243,\n","  'grad_norm': 15.528752326965332,\n","  'learning_rate': 7.920822000604413e-06,\n","  'epoch': 0.6,\n","  'step': 4000},\n"," {'eval_loss': 0.7781230807304382,\n","  'eval_accuracy': 0.6674917491749175,\n","  'eval_runtime': 4.7447,\n","  'eval_samples_per_second': 510.889,\n","  'eval_steps_per_second': 32.036,\n","  'epoch': 0.6,\n","  'step': 4000},\n"," {'loss': 0.7965,\n","  'grad_norm': 13.667017936706543,\n","  'learning_rate': 7.316409791477789e-06,\n","  'epoch': 0.63,\n","  'step': 4200},\n"," {'eval_loss': 0.7603070735931396,\n","  'eval_accuracy': 0.6716171617161716,\n","  'eval_runtime': 4.548,\n","  'eval_samples_per_second': 532.979,\n","  'eval_steps_per_second': 33.421,\n","  'epoch': 0.63,\n","  'step': 4200},\n"," {'loss': 0.804,\n","  'grad_norm': 8.08303165435791,\n","  'learning_rate': 6.711997582351164e-06,\n","  'epoch': 0.66,\n","  'step': 4400},\n"," {'eval_loss': 0.7396801114082336,\n","  'eval_accuracy': 0.6848184818481848,\n","  'eval_runtime': 4.8603,\n","  'eval_samples_per_second': 498.732,\n","  'eval_steps_per_second': 31.274,\n","  'epoch': 0.66,\n","  'step': 4400},\n"," {'loss': 0.7741,\n","  'grad_norm': 10.010130882263184,\n","  'learning_rate': 6.107585373224539e-06,\n","  'epoch': 0.7,\n","  'step': 4600},\n"," {'eval_loss': 0.7406293749809265,\n","  'eval_accuracy': 0.6868811881188119,\n","  'eval_runtime': 4.4724,\n","  'eval_samples_per_second': 541.989,\n","  'eval_steps_per_second': 33.986,\n","  'epoch': 0.7,\n","  'step': 4600},\n"," {'loss': 0.7703,\n","  'grad_norm': 24.698972702026367,\n","  'learning_rate': 5.503173164097915e-06,\n","  'epoch': 0.73,\n","  'step': 4800},\n"," {'eval_loss': 0.7432446479797363,\n","  'eval_accuracy': 0.6848184818481848,\n","  'eval_runtime': 4.4498,\n","  'eval_samples_per_second': 544.739,\n","  'eval_steps_per_second': 34.159,\n","  'epoch': 0.73,\n","  'step': 4800},\n"," {'loss': 0.7731,\n","  'grad_norm': 17.32279396057129,\n","  'learning_rate': 4.89876095497129e-06,\n","  'epoch': 0.76,\n","  'step': 5000},\n"," {'eval_loss': 0.7418676018714905,\n","  'eval_accuracy': 0.6794554455445545,\n","  'eval_runtime': 4.4706,\n","  'eval_samples_per_second': 542.208,\n","  'eval_steps_per_second': 34.0,\n","  'epoch': 0.76,\n","  'step': 5000},\n"," {'loss': 0.7698,\n","  'grad_norm': 16.630653381347656,\n","  'learning_rate': 4.294348745844666e-06,\n","  'epoch': 0.79,\n","  'step': 5200},\n"," {'eval_loss': 0.7164223790168762,\n","  'eval_accuracy': 0.6988448844884488,\n","  'eval_runtime': 4.4009,\n","  'eval_samples_per_second': 550.798,\n","  'eval_steps_per_second': 34.538,\n","  'epoch': 0.79,\n","  'step': 5200},\n"," {'loss': 0.7732,\n","  'grad_norm': 9.53226375579834,\n","  'learning_rate': 3.6899365367180417e-06,\n","  'epoch': 0.82,\n","  'step': 5400},\n"," {'eval_loss': 0.7125309109687805,\n","  'eval_accuracy': 0.7013201320132013,\n","  'eval_runtime': 4.4772,\n","  'eval_samples_per_second': 541.407,\n","  'eval_steps_per_second': 33.95,\n","  'epoch': 0.82,\n","  'step': 5400},\n"," {'loss': 0.7721,\n","  'grad_norm': 11.090963363647461,\n","  'learning_rate': 3.0855243275914177e-06,\n","  'epoch': 0.85,\n","  'step': 5600},\n"," {'eval_loss': 0.7218948006629944,\n","  'eval_accuracy': 0.6992574257425742,\n","  'eval_runtime': 4.5872,\n","  'eval_samples_per_second': 528.429,\n","  'eval_steps_per_second': 33.136,\n","  'epoch': 0.85,\n","  'step': 5600},\n"," {'loss': 0.7608,\n","  'grad_norm': 18.10426902770996,\n","  'learning_rate': 2.481112118464793e-06,\n","  'epoch': 0.88,\n","  'step': 5800},\n"," {'eval_loss': 0.7147026062011719,\n","  'eval_accuracy': 0.7046204620462047,\n","  'eval_runtime': 4.397,\n","  'eval_samples_per_second': 551.289,\n","  'eval_steps_per_second': 34.569,\n","  'epoch': 0.88,\n","  'step': 5800},\n"," {'loss': 0.7596,\n","  'grad_norm': 13.969734191894531,\n","  'learning_rate': 1.8766999093381687e-06,\n","  'epoch': 0.91,\n","  'step': 6000},\n"," {'eval_loss': 0.7121822834014893,\n","  'eval_accuracy': 0.6889438943894389,\n","  'eval_runtime': 4.603,\n","  'eval_samples_per_second': 526.615,\n","  'eval_steps_per_second': 33.022,\n","  'epoch': 0.91,\n","  'step': 6000},\n"," {'loss': 0.7559,\n","  'grad_norm': 12.526548385620117,\n","  'learning_rate': 1.2722877002115445e-06,\n","  'epoch': 0.94,\n","  'step': 6200},\n"," {'eval_loss': 0.7064329981803894,\n","  'eval_accuracy': 0.7033828382838284,\n","  'eval_runtime': 5.4036,\n","  'eval_samples_per_second': 448.592,\n","  'eval_steps_per_second': 28.13,\n","  'epoch': 0.94,\n","  'step': 6200},\n"," {'loss': 0.718,\n","  'grad_norm': 10.69846248626709,\n","  'learning_rate': 6.678754910849201e-07,\n","  'epoch': 0.97,\n","  'step': 6400},\n"," {'eval_loss': 0.7166551351547241,\n","  'eval_accuracy': 0.695957095709571,\n","  'eval_runtime': 4.4716,\n","  'eval_samples_per_second': 542.083,\n","  'eval_steps_per_second': 33.992,\n","  'epoch': 0.97,\n","  'step': 6400},\n"," {'loss': 0.7541,\n","  'grad_norm': 18.115921020507812,\n","  'learning_rate': 6.346328195829556e-08,\n","  'epoch': 1.0,\n","  'step': 6600},\n"," {'eval_loss': 0.7133235931396484,\n","  'eval_accuracy': 0.7025577557755776,\n","  'eval_runtime': 4.4669,\n","  'eval_samples_per_second': 542.663,\n","  'eval_steps_per_second': 34.028,\n","  'epoch': 1.0,\n","  'step': 6600},\n"," {'train_runtime': 1268.9037,\n","  'train_samples_per_second': 83.439,\n","  'train_steps_per_second': 5.216,\n","  'total_flos': 6751451038372920.0,\n","  'train_loss': 0.8595608101398357,\n","  'epoch': 1.0,\n","  'step': 6618}]"]},"execution_count":9,"metadata":{},"output_type":"execute_result"}],"source":["log = trainer.state.log_history\n","log"]},{"cell_type":"code","execution_count":10,"metadata":{"colab":{"base_uri":"https://localhost:8080/","height":507},"executionInfo":{"elapsed":805,"status":"ok","timestamp":1714973830106,"user":{"displayName":"Jiacheng Pang","userId":"17495887600724079092"},"user_tz":420},"id":"l1rBSzP_q3un","outputId":"b285280e-d996-4690-c18e-987cf03b7e7c"},"outputs":[{"data":{"image/png":"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","text/plain":["<Figure size 1000x500 with 2 Axes>"]},"metadata":{},"output_type":"display_data"}],"source":["model_name = 'BERTCNN'\n","\n","steps = []\n","train_loss = []\n","eval_loss = []\n","eval_acc = []\n","\n","for i in range(0, len(log) - 1, 2):\n","    train_log = log[i]\n","    eval_log = log[i + 1]\n","    steps.append(train_log[\"step\"])\n","    train_loss.append(train_log[\"loss\"])\n","    eval_loss.append(eval_log[\"eval_loss\"])\n","    eval_acc.append(eval_log[\"eval_accuracy\"])\n","\n","plt.figure(figsize=(10, 5))\n","\n","\n","plt.subplot(1, 2, 1)\n","plt.title(f\"{model_name} loss vs step\")\n","plt.xlabel(\"# steps\")\n","plt.ylabel(\"loss\")\n","plt.plot(steps, train_loss, label=\"training loss\")\n","plt.plot(steps, eval_loss, label=\"eval loss\")\n","plt.legend()\n","\n","plt.subplot(1, 2, 2)\n","plt.title(f\"{model_name} acc vs step\")\n","plt.xlabel(\"# steps\")\n","plt.ylabel(\"acc\")\n","plt.plot(steps, eval_acc, label=\"eval acc\")\n","plt.legend()\n","\n","plt.tight_layout()\n","plt.show()"]},{"cell_type":"code","execution_count":11,"metadata":{},"outputs":[],"source":["import json\n","\n","\n","with open(f\"{model_name}_aug.json\", \"w\") as f:\n","    json.dump(\n","        {\n","            \"steps\": steps,\n","            \"train_loss\": train_loss,\n","            \"eval_loss\": eval_loss,\n","            \"eval_acc\": eval_acc,\n","        },\n","        f,\n","        indent=4,\n","    )"]},{"cell_type":"code","execution_count":null,"metadata":{"colab":{"base_uri":"https://localhost:8080/","height":17},"executionInfo":{"elapsed":5215,"status":"ok","timestamp":1714785682353,"user":{"displayName":"葛雨辰","userId":"00590051304935450237"},"user_tz":-480},"id":"JpYkFjDTq3un","outputId":"8b86794c-65d7-45a8-c0b9-2c0bd1527057"},"outputs":[{"data":{"text/html":[],"text/plain":["<IPython.core.display.HTML object>"]},"metadata":{},"output_type":"display_data"}],"source":["preds = trainer.predict(data[\"test\"])"]},{"cell_type":"code","execution_count":null,"metadata":{"id":"ilmdYTzkq3uo"},"outputs":[],"source":["pd.DataFrame(\n","    {\"id\": data[\"test\"][\"id\"], \"prediction\": np.argmax(preds.predictions, axis=1)}\n",").to_csv(os.path.join(OUTPUT_DIR, \"submission.csv\"), header=True, index=False)"]}],"metadata":{"accelerator":"GPU","colab":{"gpuType":"T4","provenance":[]},"kernelspec":{"display_name":"Python 3","name":"python3"},"language_info":{"codemirror_mode":{"name":"ipython","version":3},"file_extension":".py","mimetype":"text/x-python","name":"python","nbconvert_exporter":"python","pygments_lexer":"ipython3","version":"3.11.5"},"widgets":{"application/vnd.jupyter.widget-state+json":{"0098426f0ee443e5b9885018c2f91ba4":{"model_module":"@jupyter-widgets/base","model_module_version":"1.2.0","model_name":"LayoutModel","state":{"_model_module":"@jupyter-widgets/base","_model_module_version":"1.2.0","_model_name":"LayoutModel","_view_count":null,"_view_module":"@jupyter-widgets/base","_view_module_version":"1.2.0","_view_name":"LayoutView","align_content":null,"align_items":null,"align_self":null,"border":null,"bottom":null,"display":null,"flex":null,"flex_flow":null,"grid_area":null,"grid_auto_columns":null,"grid_auto_flow":null,"grid_auto_rows":null,"grid_column":null,"grid_gap":null,"grid_row":null,"grid_template_areas":null,"grid_template_columns":null,"grid_template_rows":null,"height":null,"justify_content":null,"justify_items":null,"left":null,"margin":null,"max_height":null,"max_width":null,"min_height":null,"min_width":null,"object_fit":null,"object_position":null,"order":null,"overflow":null,"overflow_x":null,"overflow_y":null,"padding":null,"right":null,"top":null,"visibility":null,"width":null}},"06ddd7a38962449796e37770ec55cb2a":{"model_module":"@jupyter-widgets/controls","model_module_version":"1.5.0","model_name":"HTMLModel","state":{"_dom_classes":[],"_model_module":"@jupyter-widgets/controls","_model_module_version":"1.5.0","_model_name":"HTMLModel","_view_count":null,"_view_module":"@jupyter-widgets/controls","_view_module_version":"1.5.0","_view_name":"HTMLView","description":"","description_tooltip":null,"layout":"IPY_MODEL_a2ce41c01db24dec8bfc1c15678c927e","placeholder":"​","style":"IPY_MODEL_83bedd2221444b2a9807d4db5e5017be","value":" 2424/2424 [00:00&lt;00:00, 5310.79 examples/s]"}},"09718005a28a407ab277bc8fbe4d3dbb":{"model_module":"@jupyter-widgets/controls","model_module_version":"1.5.0","model_name":"HTMLModel","state":{"_dom_classes":[],"_model_module":"@jupyter-widgets/controls","_model_module_version":"1.5.0","_model_name":"HTMLModel","_view_count":null,"_view_module":"@jupyter-widgets/controls","_view_module_version":"1.5.0","_view_name":"HTMLView","description":"","description_tooltip":null,"layout":"IPY_MODEL_bb8ed0bc72d24383a08b501b0faf8df9","placeholder":"​","style":"IPY_MODEL_9a17fe458d034bc689d56561f22bda21","value":"Map: 100%"}},"1329fa7ff30d43079837fddc4ba69a09":{"model_module":"@jupyter-widgets/controls","model_module_version":"1.5.0","model_name":"HBoxModel","state":{"_dom_classes":[],"_model_module":"@jupyter-widgets/controls","_model_module_version":"1.5.0","_model_name":"HBoxModel","_view_count":null,"_view_module":"@jupyter-widgets/controls","_view_module_version":"1.5.0","_view_name":"HBoxView","box_style":"","children":["IPY_MODEL_c7f207714c5c4f59afac3e999fd4b6c5","IPY_MODEL_975d2f3c015f4df180c3f43b5489a387","IPY_MODEL_06ddd7a38962449796e37770ec55cb2a"],"layout":"IPY_MODEL_816c3bae88d941f0beef7fa8726a9f0c"}},"1380e8049c84476b9983229eb8582cf3":{"model_module":"@jupyter-widgets/base","model_module_version":"1.2.0","model_name":"LayoutModel","state":{"_model_module":"@jupyter-widgets/base","_model_module_version":"1.2.0","_model_name":"LayoutModel","_view_count":null,"_view_module":"@jupyter-widgets/base","_view_module_version":"1.2.0","_view_name":"LayoutView","align_content":null,"align_items":null,"align_self":null,"border":null,"bottom":null,"display":null,"flex":null,"flex_flow":null,"grid_area":null,"grid_auto_columns":null,"grid_auto_flow":null,"grid_auto_rows":null,"grid_column":null,"grid_gap":null,"grid_row":null,"grid_template_areas":null,"grid_template_columns":null,"grid_template_rows":null,"height":null,"justify_content":null,"justify_items":null,"left":null,"margin":null,"max_height":null,"max_width":null,"min_height":null,"min_width":null,"object_fit":null,"object_position":null,"order":null,"overflow":null,"overflow_x":null,"overflow_y":null,"padding":null,"right":null,"top":null,"visibility":null,"width":null}},"1eb33c810e854ccd875b48ec3c2743b8":{"model_module":"@jupyter-widgets/base","model_module_version":"1.2.0","model_name":"LayoutModel","state":{"_model_module":"@jupyter-widgets/base","_model_module_version":"1.2.0","_model_name":"LayoutModel","_view_count":null,"_view_module":"@jupyter-widgets/base","_view_module_version":"1.2.0","_view_name":"LayoutView","align_content":null,"align_items":null,"align_self":null,"border":null,"bottom":null,"display":null,"flex":null,"flex_flow":null,"grid_area":null,"grid_auto_columns":null,"grid_auto_flow":null,"grid_auto_rows":null,"grid_column":null,"grid_gap":null,"grid_row":null,"grid_template_areas":null,"grid_template_columns":null,"grid_template_rows":null,"height":null,"justify_content":null,"justify_items":null,"left":null,"margin":null,"max_height":null,"max_width":null,"min_height":null,"min_width":null,"object_fit":null,"object_position":null,"order":null,"overflow":null,"overflow_x":null,"overflow_y":null,"padding":null,"right":null,"top":null,"visibility":null,"width":null}},"2bafe01dd39f42f790c24b1e629690c1":{"model_module":"@jupyter-widgets/controls","model_module_version":"1.5.0","model_name":"HTMLModel","state":{"_dom_classes":[],"_model_module":"@jupyter-widgets/controls","_model_module_version":"1.5.0","_model_name":"HTMLModel","_view_count":null,"_view_module":"@jupyter-widgets/controls","_view_module_version":"1.5.0","_view_name":"HTMLView","description":"","description_tooltip":null,"layout":"IPY_MODEL_b71b6243b8e54c1aa90db36d31a3bca2","placeholder":"​","style":"IPY_MODEL_b2627e72342643c7b673e0155a8f9b84","value":"Map: 100%"}},"5a2cbee445f845869412fa067b7a25f5":{"model_module":"@jupyter-widgets/controls","model_module_version":"1.5.0","model_name":"HTMLModel","state":{"_dom_classes":[],"_model_module":"@jupyter-widgets/controls","_model_module_version":"1.5.0","_model_name":"HTMLModel","_view_count":null,"_view_module":"@jupyter-widgets/controls","_view_module_version":"1.5.0","_view_name":"HTMLView","description":"","description_tooltip":null,"layout":"IPY_MODEL_1380e8049c84476b9983229eb8582cf3","placeholder":"​","style":"IPY_MODEL_73003844b63c48af91650c7f8e88b32b","value":" 105876/105876 [00:24&lt;00:00, 5148.14 examples/s]"}},"60e4be7603134252857d989e657e4589":{"model_module":"@jupyter-widgets/controls","model_module_version":"1.5.0","model_name":"ProgressStyleModel","state":{"_model_module":"@jupyter-widgets/controls","_model_module_version":"1.5.0","_model_name":"ProgressStyleModel","_view_count":null,"_view_module":"@jupyter-widgets/base","_view_module_version":"1.2.0","_view_name":"StyleView","bar_color":null,"description_width":""}},"73003844b63c48af91650c7f8e88b32b":{"model_module":"@jupyter-widgets/controls","model_module_version":"1.5.0","model_name":"DescriptionStyleModel","state":{"_model_module":"@jupyter-widgets/controls","_model_module_version":"1.5.0","_model_name":"DescriptionStyleModel","_view_count":null,"_view_module":"@jupyter-widgets/base","_view_module_version":"1.2.0","_view_name":"StyleView","description_width":""}},"7a82e80258fb4306ad29e0e265ae757c":{"model_module":"@jupyter-widgets/controls","model_module_version":"1.5.0","model_name":"HBoxModel","state":{"_dom_classes":[],"_model_module":"@jupyter-widgets/controls","_model_module_version":"1.5.0","_model_name":"HBoxModel","_view_count":null,"_view_module":"@jupyter-widgets/controls","_view_module_version":"1.5.0","_view_name":"HBoxView","box_style":"","children":["IPY_MODEL_2bafe01dd39f42f790c24b1e629690c1","IPY_MODEL_9f849ee0c958433387fa1811ae907b15","IPY_MODEL_fcb39b9156564c129d1e2875a28dc885"],"layout":"IPY_MODEL_a3bf2daf12b14325a1d72bf4048abf05"}},"816c3bae88d941f0beef7fa8726a9f0c":{"model_module":"@jupyter-widgets/base","model_module_version":"1.2.0","model_name":"LayoutModel","state":{"_model_module":"@jupyter-widgets/base","_model_module_version":"1.2.0","_model_name":"LayoutModel","_view_count":null,"_view_module":"@jupyter-widgets/base","_view_module_version":"1.2.0","_view_name":"LayoutView","align_content":null,"align_items":null,"align_self":null,"border":null,"bottom":null,"display":null,"flex":null,"flex_flow":null,"grid_area":null,"grid_auto_columns":null,"grid_auto_flow":null,"grid_auto_rows":null,"grid_column":null,"grid_gap":null,"grid_row":null,"grid_template_areas":null,"grid_template_columns":null,"grid_template_rows":null,"height":null,"justify_content":null,"justify_items":null,"left":null,"margin":null,"max_height":null,"max_width":null,"min_height":null,"min_width":null,"object_fit":null,"object_position":null,"order":null,"overflow":null,"overflow_x":null,"overflow_y":null,"padding":null,"right":null,"top":null,"visibility":null,"width":null}},"83bedd2221444b2a9807d4db5e5017be":{"model_module":"@jupyter-widgets/controls","model_module_version":"1.5.0","model_name":"DescriptionStyleModel","state":{"_model_module":"@jupyter-widgets/controls","_model_module_version":"1.5.0","_model_name":"DescriptionStyleModel","_view_count":null,"_view_module":"@jupyter-widgets/base","_view_module_version":"1.2.0","_view_name":"StyleView","description_width":""}},"8f9cec77f2c941478c31579e3ec25720":{"model_module":"@jupyter-widgets/controls","model_module_version":"1.5.0","model_name":"ProgressStyleModel","state":{"_model_module":"@jupyter-widgets/controls","_model_module_version":"1.5.0","_model_name":"ProgressStyleModel","_view_count":null,"_view_module":"@jupyter-widgets/base","_view_module_version":"1.2.0","_view_name":"StyleView","bar_color":null,"description_width":""}},"975d2f3c015f4df180c3f43b5489a387":{"model_module":"@jupyter-widgets/controls","model_module_version":"1.5.0","model_name":"FloatProgressModel","state":{"_dom_classes":[],"_model_module":"@jupyter-widgets/controls","_model_module_version":"1.5.0","_model_name":"FloatProgressModel","_view_count":null,"_view_module":"@jupyter-widgets/controls","_view_module_version":"1.5.0","_view_name":"ProgressView","bar_style":"success","description":"","description_tooltip":null,"layout":"IPY_MODEL_c1415dea0f934239aea7f9723152a825","max":2424,"min":0,"orientation":"horizontal","style":"IPY_MODEL_abf0b990f1fa41fb93ec3d157a55a5a3","value":2424}},"9a17fe458d034bc689d56561f22bda21":{"model_module":"@jupyter-widgets/controls","model_module_version":"1.5.0","model_name":"DescriptionStyleModel","state":{"_model_module":"@jupyter-widgets/controls","_model_module_version":"1.5.0","_model_name":"DescriptionStyleModel","_view_count":null,"_view_module":"@jupyter-widgets/base","_view_module_version":"1.2.0","_view_name":"StyleView","description_width":""}},"9c837ee3f461481197abf8f40e135a4a":{"model_module":"@jupyter-widgets/base","model_module_version":"1.2.0","model_name":"LayoutModel","state":{"_model_module":"@jupyter-widgets/base","_model_module_version":"1.2.0","_model_name":"LayoutModel","_view_count":null,"_view_module":"@jupyter-widgets/base","_view_module_version":"1.2.0","_view_name":"LayoutView","align_content":null,"align_items":null,"align_self":null,"border":null,"bottom":null,"display":null,"flex":null,"flex_flow":null,"grid_area":null,"grid_auto_columns":null,"grid_auto_flow":null,"grid_auto_rows":null,"grid_column":null,"grid_gap":null,"grid_row":null,"grid_template_areas":null,"grid_template_columns":null,"grid_template_rows":null,"height":null,"justify_content":null,"justify_items":null,"left":null,"margin":null,"max_height":null,"max_width":null,"min_height":null,"min_width":null,"object_fit":null,"object_position":null,"order":null,"overflow":null,"overflow_x":null,"overflow_y":null,"padding":null,"right":null,"top":null,"visibility":null,"width":null}},"9f849ee0c958433387fa1811ae907b15":{"model_module":"@jupyter-widgets/controls","model_module_version":"1.5.0","model_name":"FloatProgressModel","state":{"_dom_classes":[],"_model_module":"@jupyter-widgets/controls","_model_module_version":"1.5.0","_model_name":"FloatProgressModel","_view_count":null,"_view_module":"@jupyter-widgets/controls","_view_module_version":"1.5.0","_view_name":"ProgressView","bar_style":"success","description":"","description_tooltip":null,"layout":"IPY_MODEL_c618c60dd9ae43d4a14c0c2e77d6e2ed","max":5195,"min":0,"orientation":"horizontal","style":"IPY_MODEL_8f9cec77f2c941478c31579e3ec25720","value":5195}},"a2ce41c01db24dec8bfc1c15678c927e":{"model_module":"@jupyter-widgets/base","model_module_version":"1.2.0","model_name":"LayoutModel","state":{"_model_module":"@jupyter-widgets/base","_model_module_version":"1.2.0","_model_name":"LayoutModel","_view_count":null,"_view_module":"@jupyter-widgets/base","_view_module_version":"1.2.0","_view_name":"LayoutView","align_content":null,"align_items":null,"align_self":null,"border":null,"bottom":null,"display":null,"flex":null,"flex_flow":null,"grid_area":null,"grid_auto_columns":null,"grid_auto_flow":null,"grid_auto_rows":null,"grid_column":null,"grid_gap":null,"grid_row":null,"grid_template_areas":null,"grid_template_columns":null,"grid_template_rows":null,"height":null,"justify_content":null,"justify_items":null,"left":null,"margin":null,"max_height":null,"max_width":null,"min_height":null,"min_width":null,"object_fit":null,"object_position":null,"order":null,"overflow":null,"overflow_x":null,"overflow_y":null,"padding":null,"right":null,"top":null,"visibility":null,"width":null}},"a3bf2daf12b14325a1d72bf4048abf05":{"model_module":"@jupyter-widgets/base","model_module_version":"1.2.0","model_name":"LayoutModel","state":{"_model_module":"@jupyter-widgets/base","_model_module_version":"1.2.0","_model_name":"LayoutModel","_view_count":null,"_view_module":"@jupyter-widgets/base","_view_module_version":"1.2.0","_view_name":"LayoutView","align_content":null,"align_items":null,"align_self":null,"border":null,"bottom":null,"display":null,"flex":null,"flex_flow":null,"grid_area":null,"grid_auto_columns":null,"grid_auto_flow":null,"grid_auto_rows":null,"grid_column":null,"grid_gap":null,"grid_row":null,"grid_template_areas":null,"grid_template_columns":null,"grid_template_rows":null,"height":null,"justify_content":null,"justify_items":null,"left":null,"margin":null,"max_height":null,"max_width":null,"min_height":null,"min_width":null,"object_fit":null,"object_position":null,"order":null,"overflow":null,"overflow_x":null,"overflow_y":null,"padding":null,"right":null,"top":null,"visibility":null,"width":null}},"abf0b990f1fa41fb93ec3d157a55a5a3":{"model_module":"@jupyter-widgets/controls","model_module_version":"1.5.0","model_name":"ProgressStyleModel","state":{"_model_module":"@jupyter-widgets/controls","_model_module_version":"1.5.0","_model_name":"ProgressStyleModel","_view_count":null,"_view_module":"@jupyter-widgets/base","_view_module_version":"1.2.0","_view_name":"StyleView","bar_color":null,"description_width":""}},"b2627e72342643c7b673e0155a8f9b84":{"model_module":"@jupyter-widgets/controls","model_module_version":"1.5.0","model_name":"DescriptionStyleModel","state":{"_model_module":"@jupyter-widgets/controls","_model_module_version":"1.5.0","_model_name":"DescriptionStyleModel","_view_count":null,"_view_module":"@jupyter-widgets/base","_view_module_version":"1.2.0","_view_name":"StyleView","description_width":""}},"b2fdecbaad9c46379b8ceda1697c20fc":{"model_module":"@jupyter-widgets/controls","model_module_version":"1.5.0","model_name":"HBoxModel","state":{"_dom_classes":[],"_model_module":"@jupyter-widgets/controls","_model_module_version":"1.5.0","_model_name":"HBoxModel","_view_count":null,"_view_module":"@jupyter-widgets/controls","_view_module_version":"1.5.0","_view_name":"HBoxView","box_style":"","children":["IPY_MODEL_09718005a28a407ab277bc8fbe4d3dbb","IPY_MODEL_ce0015c8278d4d2795c83838e8ff1694","IPY_MODEL_5a2cbee445f845869412fa067b7a25f5"],"layout":"IPY_MODEL_cb5524f99ed84eb78f898fbcc2068eb7"}},"b3ba70a9ea6c4861a8a3e9fe4d4dc67b":{"model_module":"@jupyter-widgets/controls","model_module_version":"1.5.0","model_name":"DescriptionStyleModel","state":{"_model_module":"@jupyter-widgets/controls","_model_module_version":"1.5.0","_model_name":"DescriptionStyleModel","_view_count":null,"_view_module":"@jupyter-widgets/base","_view_module_version":"1.2.0","_view_name":"StyleView","description_width":""}},"b71b6243b8e54c1aa90db36d31a3bca2":{"model_module":"@jupyter-widgets/base","model_module_version":"1.2.0","model_name":"LayoutModel","state":{"_model_module":"@jupyter-widgets/base","_model_module_version":"1.2.0","_model_name":"LayoutModel","_view_count":null,"_view_module":"@jupyter-widgets/base","_view_module_version":"1.2.0","_view_name":"LayoutView","align_content":null,"align_items":null,"align_self":null,"border":null,"bottom":null,"display":null,"flex":null,"flex_flow":null,"grid_area":null,"grid_auto_columns":null,"grid_auto_flow":null,"grid_auto_rows":null,"grid_column":null,"grid_gap":null,"grid_row":null,"grid_template_areas":null,"grid_template_columns":null,"grid_template_rows":null,"height":null,"justify_content":null,"justify_items":null,"left":null,"margin":null,"max_height":null,"max_width":null,"min_height":null,"min_width":null,"object_fit":null,"object_position":null,"order":null,"overflow":null,"overflow_x":null,"overflow_y":null,"padding":null,"right":null,"top":null,"visibility":null,"width":null}},"bb8ed0bc72d24383a08b501b0faf8df9":{"model_module":"@jupyter-widgets/base","model_module_version":"1.2.0","model_name":"LayoutModel","state":{"_model_module":"@jupyter-widgets/base","_model_module_version":"1.2.0","_model_name":"LayoutModel","_view_count":null,"_view_module":"@jupyter-widgets/base","_view_module_version":"1.2.0","_view_name":"LayoutView","align_content":null,"align_items":null,"align_self":null,"border":null,"bottom":null,"display":null,"flex":null,"flex_flow":null,"grid_area":null,"grid_auto_columns":null,"grid_auto_flow":null,"grid_auto_rows":null,"grid_column":null,"grid_gap":null,"grid_row":null,"grid_template_areas":null,"grid_template_columns":null,"grid_template_rows":null,"height":null,"justify_content":null,"justify_items":null,"left":null,"margin":null,"max_height":null,"max_width":null,"min_height":null,"min_width":null,"object_fit":null,"object_position":null,"order":null,"overflow":null,"overflow_x":null,"overflow_y":null,"padding":null,"right":null,"top":null,"visibility":null,"width":null}},"c1415dea0f934239aea7f9723152a825":{"model_module":"@jupyter-widgets/base","model_module_version":"1.2.0","model_name":"LayoutModel","state":{"_model_module":"@jupyter-widgets/base","_model_module_version":"1.2.0","_model_name":"LayoutModel","_view_count":null,"_view_module":"@jupyter-widgets/base","_view_module_version":"1.2.0","_view_name":"LayoutView","align_content":null,"align_items":null,"align_self":null,"border":null,"bottom":null,"display":null,"flex":null,"flex_flow":null,"grid_area":null,"grid_auto_columns":null,"grid_auto_flow":null,"grid_auto_rows":null,"grid_column":null,"grid_gap":null,"grid_row":null,"grid_template_areas":null,"grid_template_columns":null,"grid_template_rows":null,"height":null,"justify_content":null,"justify_items":null,"left":null,"margin":null,"max_height":null,"max_width":null,"min_height":null,"min_width":null,"object_fit":null,"object_position":null,"order":null,"overflow":null,"overflow_x":null,"overflow_y":null,"padding":null,"right":null,"top":null,"visibility":null,"width":null}},"c618c60dd9ae43d4a14c0c2e77d6e2ed":{"model_module":"@jupyter-widgets/base","model_module_version":"1.2.0","model_name":"LayoutModel","state":{"_model_module":"@jupyter-widgets/base","_model_module_version":"1.2.0","_model_name":"LayoutModel","_view_count":null,"_view_module":"@jupyter-widgets/base","_view_module_version":"1.2.0","_view_name":"LayoutView","align_content":null,"align_items":null,"align_self":null,"border":null,"bottom":null,"display":null,"flex":null,"flex_flow":null,"grid_area":null,"grid_auto_columns":null,"grid_auto_flow":null,"grid_auto_rows":null,"grid_column":null,"grid_gap":null,"grid_row":null,"grid_template_areas":null,"grid_template_columns":null,"grid_template_rows":null,"height":null,"justify_content":null,"justify_items":null,"left":null,"margin":null,"max_height":null,"max_width":null,"min_height":null,"min_width":null,"object_fit":null,"object_position":null,"order":null,"overflow":null,"overflow_x":null,"overflow_y":null,"padding":null,"right":null,"top":null,"visibility":null,"width":null}},"c7f207714c5c4f59afac3e999fd4b6c5":{"model_module":"@jupyter-widgets/controls","model_module_version":"1.5.0","model_name":"HTMLModel","state":{"_dom_classes":[],"_model_module":"@jupyter-widgets/controls","_model_module_version":"1.5.0","_model_name":"HTMLModel","_view_count":null,"_view_module":"@jupyter-widgets/controls","_view_module_version":"1.5.0","_view_name":"HTMLView","description":"","description_tooltip":null,"layout":"IPY_MODEL_1eb33c810e854ccd875b48ec3c2743b8","placeholder":"​","style":"IPY_MODEL_f368710185014fa09924135d17fa86d5","value":"Map: 100%"}},"cb5524f99ed84eb78f898fbcc2068eb7":{"model_module":"@jupyter-widgets/base","model_module_version":"1.2.0","model_name":"LayoutModel","state":{"_model_module":"@jupyter-widgets/base","_model_module_version":"1.2.0","_model_name":"LayoutModel","_view_count":null,"_view_module":"@jupyter-widgets/base","_view_module_version":"1.2.0","_view_name":"LayoutView","align_content":null,"align_items":null,"align_self":null,"border":null,"bottom":null,"display":null,"flex":null,"flex_flow":null,"grid_area":null,"grid_auto_columns":null,"grid_auto_flow":null,"grid_auto_rows":null,"grid_column":null,"grid_gap":null,"grid_row":null,"grid_template_areas":null,"grid_template_columns":null,"grid_template_rows":null,"height":null,"justify_content":null,"justify_items":null,"left":null,"margin":null,"max_height":null,"max_width":null,"min_height":null,"min_width":null,"object_fit":null,"object_position":null,"order":null,"overflow":null,"overflow_x":null,"overflow_y":null,"padding":null,"right":null,"top":null,"visibility":null,"width":null}},"ce0015c8278d4d2795c83838e8ff1694":{"model_module":"@jupyter-widgets/controls","model_module_version":"1.5.0","model_name":"FloatProgressModel","state":{"_dom_classes":[],"_model_module":"@jupyter-widgets/controls","_model_module_version":"1.5.0","_model_name":"FloatProgressModel","_view_count":null,"_view_module":"@jupyter-widgets/controls","_view_module_version":"1.5.0","_view_name":"ProgressView","bar_style":"success","description":"","description_tooltip":null,"layout":"IPY_MODEL_0098426f0ee443e5b9885018c2f91ba4","max":105876,"min":0,"orientation":"horizontal","style":"IPY_MODEL_60e4be7603134252857d989e657e4589","value":105876}},"f368710185014fa09924135d17fa86d5":{"model_module":"@jupyter-widgets/controls","model_module_version":"1.5.0","model_name":"DescriptionStyleModel","state":{"_model_module":"@jupyter-widgets/controls","_model_module_version":"1.5.0","_model_name":"DescriptionStyleModel","_view_count":null,"_view_module":"@jupyter-widgets/base","_view_module_version":"1.2.0","_view_name":"StyleView","description_width":""}},"fcb39b9156564c129d1e2875a28dc885":{"model_module":"@jupyter-widgets/controls","model_module_version":"1.5.0","model_name":"HTMLModel","state":{"_dom_classes":[],"_model_module":"@jupyter-widgets/controls","_model_module_version":"1.5.0","_model_name":"HTMLModel","_view_count":null,"_view_module":"@jupyter-widgets/controls","_view_module_version":"1.5.0","_view_name":"HTMLView","description":"","description_tooltip":null,"layout":"IPY_MODEL_9c837ee3f461481197abf8f40e135a4a","placeholder":"​","style":"IPY_MODEL_b3ba70a9ea6c4861a8a3e9fe4d4dc67b","value":" 5195/5195 [00:00&lt;00:00, 5970.26 examples/s]"}}}}},"nbformat":4,"nbformat_minor":0}
=======
{
    "cells": [
        {
            "cell_type": "code",
            "execution_count": 1,
            "metadata": {
                "colab": {
                    "base_uri": "https://localhost:8080/"
                },
                "executionInfo": {
                    "elapsed": 23398,
                    "status": "ok",
                    "timestamp": 1714970113550,
                    "user": {
                        "displayName": "Jiacheng Pang",
                        "userId": "17495887600724079092"
                    },
                    "user_tz": 420
                },
                "id": "Xecl3gXLq_d_",
                "outputId": "2e68072a-2327-4c81-f818-27fe8db737f5"
            },
            "outputs": [],
            "source": [
                "# from google.colab import drive\n",
                "# drive.mount('/content/drive')"
            ]
        },
        {
            "cell_type": "code",
            "execution_count": 2,
            "metadata": {
                "colab": {
                    "base_uri": "https://localhost:8080/"
                },
                "executionInfo": {
                    "elapsed": 356,
                    "status": "ok",
                    "timestamp": 1714970136698,
                    "user": {
                        "displayName": "Jiacheng Pang",
                        "userId": "17495887600724079092"
                    },
                    "user_tz": 420
                },
                "id": "wFAUyon-BE3U",
                "outputId": "398c0023-e4d9-4108-c7b8-7c891c3906a4"
            },
            "outputs": [],
            "source": [
                "# %cd /content/drive/MyDrive"
            ]
        },
        {
            "cell_type": "code",
            "execution_count": 3,
            "metadata": {
                "colab": {
                    "base_uri": "https://localhost:8080/"
                },
                "executionInfo": {
                    "elapsed": 81764,
                    "status": "ok",
                    "timestamp": 1714970219900,
                    "user": {
                        "displayName": "Jiacheng Pang",
                        "userId": "17495887600724079092"
                    },
                    "user_tz": 420
                },
                "id": "gpU_DSJTAcZ7",
                "outputId": "858d8563-e293-4ff1-aa50-d69d219d6475"
            },
            "outputs": [],
            "source": [
                "# !pip install datasets evaluate transformers\n",
                "# !pip install accelerate -U\n",
                "# !pip install transformers[torch]"
            ]
        },
        {
            "cell_type": "code",
            "execution_count": 4,
            "metadata": {
                "colab": {
                    "base_uri": "https://localhost:8080/"
                },
                "executionInfo": {
                    "elapsed": 5527,
                    "status": "ok",
                    "timestamp": 1714970602085,
                    "user": {
                        "displayName": "Jiacheng Pang",
                        "userId": "17495887600724079092"
                    },
                    "user_tz": 420
                },
                "id": "4dx16icTC3ze",
                "outputId": "364d4965-4995-4832-923d-136ff07479b8"
            },
            "outputs": [],
            "source": [
                "# !pip install accelerate --upgrade"
            ]
        },
        {
            "cell_type": "code",
            "execution_count": 5,
            "metadata": {
                "executionInfo": {
                    "elapsed": 1,
                    "status": "ok",
                    "timestamp": 1714970780266,
                    "user": {
                        "displayName": "Jiacheng Pang",
                        "userId": "17495887600724079092"
                    },
                    "user_tz": 420
                },
                "id": "eU5X-71Sq3uj"
            },
            "outputs": [
                {
                    "name": "stderr",
                    "output_type": "stream",
                    "text": [
                        "c:\\Users\\andyp\\AppData\\Local\\Programs\\Python\\Python311\\Lib\\site-packages\\tqdm\\auto.py:21: TqdmWarning: IProgress not found. Please update jupyter and ipywidgets. See https://ipywidgets.readthedocs.io/en/stable/user_install.html\n",
                        "  from .autonotebook import tqdm as notebook_tqdm\n"
                    ]
                }
            ],
            "source": [
                "import numpy as np\n",
                "import pandas as pd\n",
                "import os\n",
                "\n",
                "from datasets import load_dataset, DatasetDict, concatenate_datasets\n",
                "\n",
                "import evaluate\n",
                "\n",
                "from transformers import (\n",
                "    AutoTokenizer,\n",
                "    AutoModelForSequenceClassification,\n",
                "    DataCollatorWithPadding,\n",
                "    TrainingArguments,\n",
                "    Trainer,\n",
                "    EarlyStoppingCallback,\n",
                ")\n",
                "\n",
                "import matplotlib.pyplot as plt"
            ]
        },
        {
            "cell_type": "code",
            "execution_count": 6,
            "metadata": {
                "executionInfo": {
                    "elapsed": 1,
                    "status": "ok",
                    "timestamp": 1714970781970,
                    "user": {
                        "displayName": "Jiacheng Pang",
                        "userId": "17495887600724079092"
                    },
                    "user_tz": 420
                },
                "id": "uXxoVV8zq3ul"
            },
            "outputs": [],
            "source": [
                "INPUT_DIR = \"./\"\n",
                "OUTPUT_DIR = \"./output/bert\"\n",
                "CHECKPOINT = \"google-bert/bert-base-multilingual-uncased\""
            ]
        },
        {
            "cell_type": "code",
            "execution_count": 7,
            "metadata": {
                "colab": {
                    "base_uri": "https://localhost:8080/"
                },
                "executionInfo": {
                    "elapsed": 3273,
                    "status": "ok",
                    "timestamp": 1714970804542,
                    "user": {
                        "displayName": "Jiacheng Pang",
                        "userId": "17495887600724079092"
                    },
                    "user_tz": 420
                },
                "id": "oOKPiYQtq3ul",
                "outputId": "2ad967dd-839b-4128-9a09-64765c23abf5"
            },
            "outputs": [
                {
                    "data": {
                        "text/plain": [
                            "DatasetDict({\n",
                            "    train: Dataset({\n",
                            "        features: ['id', 'premise', 'hypothesis', 'lang_abv', 'language', 'label'],\n",
                            "        num_rows: 105876\n",
                            "    })\n",
                            "    val: Dataset({\n",
                            "        features: ['id', 'premise', 'hypothesis', 'lang_abv', 'language', 'label'],\n",
                            "        num_rows: 2424\n",
                            "    })\n",
                            "    test: Dataset({\n",
                            "        features: ['id', 'premise', 'hypothesis', 'lang_abv', 'language'],\n",
                            "        num_rows: 5195\n",
                            "    })\n",
                            "})"
                        ]
                    },
                    "execution_count": 7,
                    "metadata": {},
                    "output_type": "execute_result"
                }
            ],
            "source": [
                "# Load data\n",
                "data = load_dataset(\n",
                "    \"csv\",\n",
                "    data_files=os.path.join(INPUT_DIR, \"train.csv\"),\n",
                "    trust_remote_code=True,\n",
                "    split=\"train\",\n",
                ")\n",
                "\n",
                "data = data.train_test_split(0.2)\n",
                "\n",
                "translated_data = load_dataset(\n",
                "    \"csv\",\n",
                "    data_files=os.path.join(INPUT_DIR, \"translated.csv\"),\n",
                "    trust_remote_code=True,\n",
                "    split=\"train\",\n",
                ")\n",
                "\n",
                "train_data = concatenate_datasets([data[\"train\"], translated_data])\n",
                "train_data = train_data.shuffle(seed=42)\n",
                "\n",
                "data = DatasetDict(\n",
                "    {\n",
                "        \"train\": train_data,\n",
                "        \"val\": data[\"test\"],\n",
                "        \"test\": load_dataset(\n",
                "            \"csv\",\n",
                "            data_files=os.path.join(INPUT_DIR, \"test.csv\"),\n",
                "            trust_remote_code=True,\n",
                "            split=\"train\",\n",
                "        ),\n",
                "    }\n",
                ")\n",
                "data\n",
                "\n",
                "# # Load data\n",
                "# data = load_dataset(\"csv\", data_files=os.path.join(INPUT_DIR, \"train.csv\"), trust_remote_code=True, split=\"train\")\n",
                "\n",
                "# data = data.train_test_split(0.2)\n",
                "\n",
                "# data = DatasetDict(\n",
                "#     {\n",
                "#         \"train\": data[\"train\"],\n",
                "#         \"val\": data[\"test\"],\n",
                "#         \"test\": load_dataset(\"csv\", data_files=os.path.join(INPUT_DIR, \"test.csv\"), trust_remote_code=True, split=\"train\"),\n",
                "#     }\n",
                "# )\n",
                "# data"
            ]
        },
        {
            "cell_type": "code",
            "execution_count": 8,
            "metadata": {
                "colab": {
                    "base_uri": "https://localhost:8080/"
                },
                "executionInfo": {
                    "elapsed": 1913,
                    "status": "ok",
                    "timestamp": 1714972621451,
                    "user": {
                        "displayName": "Jiacheng Pang",
                        "userId": "17495887600724079092"
                    },
                    "user_tz": 420
                },
                "id": "B5ZS_plZq3um",
                "outputId": "f802c4cf-b3cc-48d1-a762-96cd09f3c95b"
            },
            "outputs": [
                {
                    "name": "stderr",
                    "output_type": "stream",
                    "text": [
                        "Some weights of BertForSequenceClassification were not initialized from the model checkpoint at google-bert/bert-base-multilingual-uncased and are newly initialized: ['classifier.bias', 'classifier.weight']\n",
                        "You should probably TRAIN this model on a down-stream task to be able to use it for predictions and inference.\n"
                    ]
                },
                {
                    "data": {
                        "text/plain": [
                            "BertForSequenceClassification(\n",
                            "  (bert): BertModel(\n",
                            "    (embeddings): BertEmbeddings(\n",
                            "      (word_embeddings): Embedding(105879, 768, padding_idx=0)\n",
                            "      (position_embeddings): Embedding(512, 768)\n",
                            "      (token_type_embeddings): Embedding(2, 768)\n",
                            "      (LayerNorm): LayerNorm((768,), eps=1e-12, elementwise_affine=True)\n",
                            "      (dropout): Dropout(p=0.1, inplace=False)\n",
                            "    )\n",
                            "    (encoder): BertEncoder(\n",
                            "      (layer): ModuleList(\n",
                            "        (0-11): 12 x BertLayer(\n",
                            "          (attention): BertAttention(\n",
                            "            (self): BertSelfAttention(\n",
                            "              (query): Linear(in_features=768, out_features=768, bias=True)\n",
                            "              (key): Linear(in_features=768, out_features=768, bias=True)\n",
                            "              (value): Linear(in_features=768, out_features=768, bias=True)\n",
                            "              (dropout): Dropout(p=0.1, inplace=False)\n",
                            "            )\n",
                            "            (output): BertSelfOutput(\n",
                            "              (dense): Linear(in_features=768, out_features=768, bias=True)\n",
                            "              (LayerNorm): LayerNorm((768,), eps=1e-12, elementwise_affine=True)\n",
                            "              (dropout): Dropout(p=0.1, inplace=False)\n",
                            "            )\n",
                            "          )\n",
                            "          (intermediate): BertIntermediate(\n",
                            "            (dense): Linear(in_features=768, out_features=3072, bias=True)\n",
                            "            (intermediate_act_fn): GELUActivation()\n",
                            "          )\n",
                            "          (output): BertOutput(\n",
                            "            (dense): Linear(in_features=3072, out_features=768, bias=True)\n",
                            "            (LayerNorm): LayerNorm((768,), eps=1e-12, elementwise_affine=True)\n",
                            "            (dropout): Dropout(p=0.1, inplace=False)\n",
                            "          )\n",
                            "        )\n",
                            "      )\n",
                            "    )\n",
                            "    (pooler): BertPooler(\n",
                            "      (dense): Linear(in_features=768, out_features=768, bias=True)\n",
                            "      (activation): Tanh()\n",
                            "    )\n",
                            "  )\n",
                            "  (dropout): Dropout(p=0.1, inplace=False)\n",
                            "  (classifier): RNNCls(\n",
                            "    (rnn): RNN(768, 256, batch_first=True)\n",
                            "    (relu): ReLU()\n",
                            "    (dropout): Dropout(p=0.2, inplace=False)\n",
                            "    (fc): Linear(in_features=256, out_features=3, bias=True)\n",
                            "  )\n",
                            ")"
                        ]
                    },
                    "execution_count": 8,
                    "metadata": {},
                    "output_type": "execute_result"
                }
            ],
            "source": [
                "tokenizer = AutoTokenizer.from_pretrained(CHECKPOINT, truncation=True)\n",
                "\n",
                "data_collator = DataCollatorWithPadding(tokenizer=tokenizer)\n",
                "\n",
                "model = AutoModelForSequenceClassification.from_pretrained(CHECKPOINT, num_labels=3)\n",
                "model\n",
                "\n",
                "import torch\n",
                "import torch.nn as nn\n",
                "\n",
                "\n",
                "class CNNCls(nn.Module):\n",
                "    def __init__(self):\n",
                "        super(CNNCls, self).__init__()\n",
                "        self.conv1 = nn.Conv1d(\n",
                "            in_channels=768, out_channels=256, kernel_size=3, padding=1\n",
                "        )\n",
                "        self.relu = nn.ReLU()\n",
                "        self.dropout = nn.Dropout(0.2)\n",
                "        self.fc = nn.Linear(256, 3)\n",
                "\n",
                "    def forward(self, x):\n",
                "        x = torch.unsqueeze(x, 1)\n",
                "        x = x.permute(0, 2, 1)\n",
                "        x = self.conv1(x)\n",
                "        x = self.relu(x)\n",
                "        x = x.permute(0, 2, 1)\n",
                "        x = x.mean(dim=1)\n",
                "        x = self.dropout(x)\n",
                "        x = self.fc(x)\n",
                "        return x\n",
                "\n",
                "\n",
                "class CNN3Cls(nn.Module):\n",
                "    def __init__(self):\n",
                "        super(CNN3Cls, self).__init__()\n",
                "        self.conv1 = nn.Conv1d(\n",
                "            in_channels=768, out_channels=768, kernel_size=3, padding=1\n",
                "        )\n",
                "        self.conv2 = nn.Conv1d(\n",
                "            in_channels=768, out_channels=512, kernel_size=3, padding=1\n",
                "        )\n",
                "        self.conv3 = nn.Conv1d(\n",
                "            in_channels=512, out_channels=256, kernel_size=3, padding=1\n",
                "        )\n",
                "        self.relu = nn.ReLU()\n",
                "        self.dropout = nn.Dropout(0.4)\n",
                "        self.fc = nn.Linear(256, 3)\n",
                "\n",
                "    def forward(self, x):\n",
                "        x = torch.unsqueeze(x, 1)\n",
                "        x = x.permute(0, 2, 1)\n",
                "        x = self.conv1(x)\n",
                "        x = self.conv2(x)\n",
                "        x = self.conv3(x)\n",
                "        x = self.relu(x)\n",
                "        x = x.permute(0, 2, 1)\n",
                "        x = x.mean(dim=1)\n",
                "        x = self.dropout(x)\n",
                "        x = self.fc(x)\n",
                "        return x\n",
                "\n",
                "\n",
                "class LSTMCls(nn.Module):\n",
                "    def __init__(self):\n",
                "        super(LSTMCls, self).__init__()\n",
                "        self.lstm = nn.LSTM(\n",
                "            input_size=768, hidden_size=256, num_layers=1, batch_first=True\n",
                "        )\n",
                "        self.relu = nn.ReLU()\n",
                "        self.dropout = nn.Dropout(0.2)\n",
                "        self.fc = nn.Linear(256, 3)\n",
                "\n",
                "    def forward(self, x):\n",
                "        # LSTM返回两个元组，(output, (h_n, c_n))\n",
                "        # output: (batch_size, seq_length, num_directions * hidden_size)\n",
                "        # h_n: (num_layers * num_directions, batch_size, hidden_size)\n",
                "        # c_n: (num_layers * num_directions, batch_size, hidden_size)\n",
                "        output, (h_n, c_n) = self.lstm(x)\n",
                "        x = self.relu(output)  # 取序列的最后一个输出\n",
                "        x = self.dropout(x)\n",
                "        x = self.fc(x)\n",
                "        return x\n",
                "\n",
                "\n",
                "class GRUCls(nn.Module):\n",
                "    def __init__(self):\n",
                "        super(GRUCls, self).__init__()\n",
                "        self.gru = nn.GRU(\n",
                "            input_size=768, hidden_size=256, num_layers=1, batch_first=True\n",
                "        )\n",
                "        self.relu = nn.ReLU()\n",
                "        self.dropout = nn.Dropout(0.2)\n",
                "        self.fc = nn.Linear(256, 3)\n",
                "\n",
                "    def forward(self, x):\n",
                "        # GRU的输出 (output, h_n)\n",
                "        output, h_n = self.gru(x)  # output: (batch_size, seq_length, hidden_size)\n",
                "        x = self.relu(output)  # 取序列的最后一个输出\n",
                "        x = self.dropout(x)\n",
                "        x = self.fc(x)\n",
                "        return x\n",
                "\n",
                "\n",
                "class RNNCls(nn.Module):\n",
                "    def __init__(self):\n",
                "        super(RNNCls, self).__init__()\n",
                "        self.rnn = nn.RNN(\n",
                "            input_size=768, hidden_size=256, num_layers=1, batch_first=True\n",
                "        )\n",
                "        self.relu = nn.ReLU()\n",
                "        self.dropout = nn.Dropout(0.2)\n",
                "        self.fc = nn.Linear(256, 3)\n",
                "\n",
                "    def forward(self, x):\n",
                "        # RNN的输出包括 (output, h_n)\n",
                "        output, h_n = self.rnn(x)  # output: (batch_size, seq_length, hidden_size)\n",
                "        x = self.relu(output)  # 取序列的最后一个输出\n",
                "        x = self.dropout(x)\n",
                "        x = self.fc(x)\n",
                "        return x\n",
                "\n",
                "\n",
                "class MultiheadAttentionCls(nn.Module):\n",
                "    def __init__(self):\n",
                "        super(MultiheadAttentionCls, self).__init__()\n",
                "        self.attention = nn.MultiheadAttention(\n",
                "            embed_dim=768, num_heads=8, batch_first=True\n",
                "        )\n",
                "        self.relu = nn.ReLU()\n",
                "        self.dropout = nn.Dropout(0.2)\n",
                "        self.fc = nn.Linear(768, 3)\n",
                "\n",
                "    def forward(self, x):\n",
                "        # 假设x的形状是(batch_size, seq_length, embed_dim)\n",
                "        # 多头注意力需要输入key, query, value，这里我们使用同一个x作为三者\n",
                "        attn_output, _ = self.attention(x, x, x)\n",
                "        # 取多头注意力输出的平均或者最后一个时间步的输出\n",
                "        x = self.relu(attn_output)\n",
                "        x = self.dropout(x)\n",
                "        x = self.fc(x)\n",
                "        return x\n",
                "\n",
                "\n",
                "from transformers import BertModel\n",
                "\n",
                "\n",
                "class CustomBERTModel(nn.Module):\n",
                "    def __init__(self, num_labels):\n",
                "        super(CustomBERTModel, self).__init__()\n",
                "        model_name = CHECKPOINT\n",
                "        self.bert = BertModel.from_pretrained(model_name)\n",
                "        self.dropout = nn.Dropout(0.2)\n",
                "        self.classifier = nn.Sequential(\n",
                "            nn.Linear(768, 512),\n",
                "            nn.LayerNorm(512),\n",
                "            nn.ReLU(),\n",
                "            nn.Dropout(0.2),\n",
                "            nn.Linear(512, num_labels),\n",
                "        )\n",
                "        self.loss = nn.CrossEntropyLoss()\n",
                "        self.num_labels = num_labels\n",
                "\n",
                "    def forward(self, input_ids, attention_mask, labels=None):\n",
                "        output = self.bert(input_ids=input_ids, attention_mask=attention_mask)\n",
                "        output = self.dropout(output.pooler_output)\n",
                "        logits = self.classifier(output)\n",
                "\n",
                "        if labels is not None:\n",
                "            loss = self.loss(logits.view(-1, self.num_labels), labels.view(-1))\n",
                "            return {\"loss\": loss, \"logits\": logits}\n",
                "        else:\n",
                "            return logits\n",
                "\n",
                "\n",
                "# model = CustomBERTModel(num_labels=3)\n",
                "model.classifier = RNNCls()\n",
                "model"
            ]
        },
        {
            "cell_type": "code",
            "execution_count": 9,
            "metadata": {
                "colab": {
                    "base_uri": "https://localhost:8080/",
                    "height": 113,
                    "referenced_widgets": [
                        "b2fdecbaad9c46379b8ceda1697c20fc",
                        "09718005a28a407ab277bc8fbe4d3dbb",
                        "ce0015c8278d4d2795c83838e8ff1694",
                        "5a2cbee445f845869412fa067b7a25f5",
                        "cb5524f99ed84eb78f898fbcc2068eb7",
                        "bb8ed0bc72d24383a08b501b0faf8df9",
                        "9a17fe458d034bc689d56561f22bda21",
                        "0098426f0ee443e5b9885018c2f91ba4",
                        "60e4be7603134252857d989e657e4589",
                        "1380e8049c84476b9983229eb8582cf3",
                        "73003844b63c48af91650c7f8e88b32b",
                        "1329fa7ff30d43079837fddc4ba69a09",
                        "c7f207714c5c4f59afac3e999fd4b6c5",
                        "975d2f3c015f4df180c3f43b5489a387",
                        "06ddd7a38962449796e37770ec55cb2a",
                        "816c3bae88d941f0beef7fa8726a9f0c",
                        "1eb33c810e854ccd875b48ec3c2743b8",
                        "f368710185014fa09924135d17fa86d5",
                        "c1415dea0f934239aea7f9723152a825",
                        "abf0b990f1fa41fb93ec3d157a55a5a3",
                        "a2ce41c01db24dec8bfc1c15678c927e",
                        "83bedd2221444b2a9807d4db5e5017be",
                        "7a82e80258fb4306ad29e0e265ae757c",
                        "2bafe01dd39f42f790c24b1e629690c1",
                        "9f849ee0c958433387fa1811ae907b15",
                        "fcb39b9156564c129d1e2875a28dc885",
                        "a3bf2daf12b14325a1d72bf4048abf05",
                        "b71b6243b8e54c1aa90db36d31a3bca2",
                        "b2627e72342643c7b673e0155a8f9b84",
                        "c618c60dd9ae43d4a14c0c2e77d6e2ed",
                        "8f9cec77f2c941478c31579e3ec25720",
                        "9c837ee3f461481197abf8f40e135a4a",
                        "b3ba70a9ea6c4861a8a3e9fe4d4dc67b"
                    ]
                },
                "executionInfo": {
                    "elapsed": 25790,
                    "status": "ok",
                    "timestamp": 1714972674025,
                    "user": {
                        "displayName": "Jiacheng Pang",
                        "userId": "17495887600724079092"
                    },
                    "user_tz": 420
                },
                "id": "yDLlU9dLq3um",
                "outputId": "33d915c2-7b34-4893-a489-c9211ff673ad"
            },
            "outputs": [
                {
                    "name": "stderr",
                    "output_type": "stream",
                    "text": [
                        "Map: 100%|██████████| 105876/105876 [00:06<00:00, 16758.46 examples/s]\n",
                        "Map: 100%|██████████| 2424/2424 [00:00<00:00, 17704.91 examples/s]\n"
                    ]
                }
            ],
            "source": [
                "def preprocess_data(batch):\n",
                "    batch[\"text\"] = [\n",
                "        x1 + f\" {tokenizer.sep_token} \" + x2\n",
                "        for x1, x2 in zip(batch[\"premise\"], batch[\"hypothesis\"])\n",
                "    ]\n",
                "    return tokenizer(batch[\"text\"])\n",
                "\n",
                "\n",
                "data = data.map(preprocess_data, batched=True)"
            ]
        },
        {
            "cell_type": "code",
            "execution_count": 10,
            "metadata": {
                "colab": {
                    "base_uri": "https://localhost:8080/"
                },
                "executionInfo": {
                    "elapsed": 427,
                    "status": "ok",
                    "timestamp": 1714972678906,
                    "user": {
                        "displayName": "Jiacheng Pang",
                        "userId": "17495887600724079092"
                    },
                    "user_tz": 420
                },
                "id": "-Y08zpLIr4oy",
                "outputId": "c5aaa774-1eef-4867-f43d-848bf07546c2"
            },
            "outputs": [
                {
                    "data": {
                        "text/plain": [
                            "{'id': 'f714ec0aebde',\n",
                            " 'premise': 'Als seine Stiefmutter davon erfuhr, machte sie ihm am Nachmittag vor ihrem Tod diese Vorwürfe, und es kam zu einem Streit, der teilweise mitgehört wurde. ',\n",
                            " 'hypothesis': 'Für die letzten Worte, die er vor ihrem Tod zu ihr gesprochen hatte, fühlte er sich sein Leben lang schuldig.',\n",
                            " 'lang_abv': 'de',\n",
                            " 'language': 'German',\n",
                            " 'label': 1,\n",
                            " 'text': 'Als seine Stiefmutter davon erfuhr, machte sie ihm am Nachmittag vor ihrem Tod diese Vorwürfe, und es kam zu einem Streit, der teilweise mitgehört wurde.  [SEP] Für die letzten Worte, die er vor ihrem Tod zu ihr gesprochen hatte, fühlte er sich sein Leben lang schuldig.',\n",
                            " 'input_ids': [101,\n",
                            "  10233,\n",
                            "  11213,\n",
                            "  83684,\n",
                            "  63198,\n",
                            "  61672,\n",
                            "  10177,\n",
                            "  20190,\n",
                            "  10162,\n",
                            "  75341,\n",
                            "  117,\n",
                            "  24310,\n",
                            "  10271,\n",
                            "  13285,\n",
                            "  10345,\n",
                            "  10439,\n",
                            "  93018,\n",
                            "  13650,\n",
                            "  11239,\n",
                            "  17827,\n",
                            "  16789,\n",
                            "  11772,\n",
                            "  11239,\n",
                            "  89978,\n",
                            "  10111,\n",
                            "  117,\n",
                            "  10138,\n",
                            "  10153,\n",
                            "  12613,\n",
                            "  10331,\n",
                            "  10847,\n",
                            "  75615,\n",
                            "  117,\n",
                            "  10118,\n",
                            "  22723,\n",
                            "  10234,\n",
                            "  10592,\n",
                            "  72126,\n",
                            "  10318,\n",
                            "  119,\n",
                            "  102,\n",
                            "  10325,\n",
                            "  10121,\n",
                            "  17448,\n",
                            "  33116,\n",
                            "  10111,\n",
                            "  117,\n",
                            "  10121,\n",
                            "  10162,\n",
                            "  11239,\n",
                            "  17827,\n",
                            "  16789,\n",
                            "  10331,\n",
                            "  13329,\n",
                            "  85146,\n",
                            "  11688,\n",
                            "  117,\n",
                            "  10961,\n",
                            "  50332,\n",
                            "  10111,\n",
                            "  10162,\n",
                            "  10409,\n",
                            "  11386,\n",
                            "  15086,\n",
                            "  11804,\n",
                            "  16427,\n",
                            "  78131,\n",
                            "  11248,\n",
                            "  119,\n",
                            "  102],\n",
                            " 'token_type_ids': [0,\n",
                            "  0,\n",
                            "  0,\n",
                            "  0,\n",
                            "  0,\n",
                            "  0,\n",
                            "  0,\n",
                            "  0,\n",
                            "  0,\n",
                            "  0,\n",
                            "  0,\n",
                            "  0,\n",
                            "  0,\n",
                            "  0,\n",
                            "  0,\n",
                            "  0,\n",
                            "  0,\n",
                            "  0,\n",
                            "  0,\n",
                            "  0,\n",
                            "  0,\n",
                            "  0,\n",
                            "  0,\n",
                            "  0,\n",
                            "  0,\n",
                            "  0,\n",
                            "  0,\n",
                            "  0,\n",
                            "  0,\n",
                            "  0,\n",
                            "  0,\n",
                            "  0,\n",
                            "  0,\n",
                            "  0,\n",
                            "  0,\n",
                            "  0,\n",
                            "  0,\n",
                            "  0,\n",
                            "  0,\n",
                            "  0,\n",
                            "  0,\n",
                            "  0,\n",
                            "  0,\n",
                            "  0,\n",
                            "  0,\n",
                            "  0,\n",
                            "  0,\n",
                            "  0,\n",
                            "  0,\n",
                            "  0,\n",
                            "  0,\n",
                            "  0,\n",
                            "  0,\n",
                            "  0,\n",
                            "  0,\n",
                            "  0,\n",
                            "  0,\n",
                            "  0,\n",
                            "  0,\n",
                            "  0,\n",
                            "  0,\n",
                            "  0,\n",
                            "  0,\n",
                            "  0,\n",
                            "  0,\n",
                            "  0,\n",
                            "  0,\n",
                            "  0,\n",
                            "  0,\n",
                            "  0],\n",
                            " 'attention_mask': [1,\n",
                            "  1,\n",
                            "  1,\n",
                            "  1,\n",
                            "  1,\n",
                            "  1,\n",
                            "  1,\n",
                            "  1,\n",
                            "  1,\n",
                            "  1,\n",
                            "  1,\n",
                            "  1,\n",
                            "  1,\n",
                            "  1,\n",
                            "  1,\n",
                            "  1,\n",
                            "  1,\n",
                            "  1,\n",
                            "  1,\n",
                            "  1,\n",
                            "  1,\n",
                            "  1,\n",
                            "  1,\n",
                            "  1,\n",
                            "  1,\n",
                            "  1,\n",
                            "  1,\n",
                            "  1,\n",
                            "  1,\n",
                            "  1,\n",
                            "  1,\n",
                            "  1,\n",
                            "  1,\n",
                            "  1,\n",
                            "  1,\n",
                            "  1,\n",
                            "  1,\n",
                            "  1,\n",
                            "  1,\n",
                            "  1,\n",
                            "  1,\n",
                            "  1,\n",
                            "  1,\n",
                            "  1,\n",
                            "  1,\n",
                            "  1,\n",
                            "  1,\n",
                            "  1,\n",
                            "  1,\n",
                            "  1,\n",
                            "  1,\n",
                            "  1,\n",
                            "  1,\n",
                            "  1,\n",
                            "  1,\n",
                            "  1,\n",
                            "  1,\n",
                            "  1,\n",
                            "  1,\n",
                            "  1,\n",
                            "  1,\n",
                            "  1,\n",
                            "  1,\n",
                            "  1,\n",
                            "  1,\n",
                            "  1,\n",
                            "  1,\n",
                            "  1,\n",
                            "  1,\n",
                            "  1]}"
                        ]
                    },
                    "execution_count": 10,
                    "metadata": {},
                    "output_type": "execute_result"
                }
            ],
            "source": [
                "data[\"train\"][0]"
            ]
        },
        {
            "cell_type": "code",
            "execution_count": 11,
            "metadata": {
                "executionInfo": {
                    "elapsed": 334,
                    "status": "ok",
                    "timestamp": 1714973918396,
                    "user": {
                        "displayName": "Jiacheng Pang",
                        "userId": "17495887600724079092"
                    },
                    "user_tz": 420
                },
                "id": "jI89SfvGq3um"
            },
            "outputs": [],
            "source": [
                "def compute_metrics(eval_pred):\n",
                "    metric = evaluate.load(\"accuracy\")\n",
                "    preds, labels = eval_pred\n",
                "    preds = np.argmax(preds, axis=1)\n",
                "    return metric.compute(predictions=preds, references=labels)\n",
                "\n",
                "\n",
                "train_args = TrainingArguments(\n",
                "    output_dir=os.path.join(OUTPUT_DIR, \"results\"),\n",
                "    logging_dir=os.path.join(OUTPUT_DIR, \"logs\"),\n",
                "    report_to=[],\n",
                "    evaluation_strategy=\"steps\",\n",
                "    eval_steps=200,\n",
                "    logging_steps=200,\n",
                "    save_steps=200,\n",
                "    per_device_eval_batch_size=16,\n",
                "    per_device_train_batch_size=16,\n",
                "    learning_rate=2e-5,\n",
                "    weight_decay=0.005,\n",
                "    num_train_epochs=1,\n",
                "    fp16=True,\n",
                "    load_best_model_at_end=True,\n",
                "    metric_for_best_model=\"accuracy\",\n",
                "    save_total_limit=3,\n",
                "    save_only_model=True,\n",
                ")"
            ]
        },
        {
            "cell_type": "code",
            "execution_count": 12,
            "metadata": {
                "colab": {
                    "base_uri": "https://localhost:8080/",
                    "height": 200
                },
                "id": "bJ0WNjBQq3un",
                "outputId": "8639b3f2-e538-4718-8fe4-d1f453b4de34"
            },
            "outputs": [
                {
                    "name": "stderr",
                    "output_type": "stream",
                    "text": [
                        "c:\\Users\\andyp\\AppData\\Local\\Programs\\Python\\Python311\\Lib\\site-packages\\accelerate\\accelerator.py:446: FutureWarning: Passing the following arguments to `Accelerator` is deprecated and will be removed in version 1.0 of Accelerate: dict_keys(['dispatch_batches', 'split_batches', 'even_batches', 'use_seedable_sampler']). Please pass an `accelerate.DataLoaderConfiguration` instead: \n",
                        "dataloader_config = DataLoaderConfiguration(dispatch_batches=None, split_batches=False, even_batches=True, use_seedable_sampler=True)\n",
                        "  warnings.warn(\n",
                        "  3%|▎         | 200/6618 [00:30<15:49,  6.76it/s]"
                    ]
                },
                {
                    "name": "stdout",
                    "output_type": "stream",
                    "text": [
                        "{'loss': 1.0891, 'grad_norm': 3.4674887657165527, 'learning_rate': 1.9395587790873378e-05, 'epoch': 0.03}\n"
                    ]
                },
                {
                    "name": "stderr",
                    "output_type": "stream",
                    "text": [
                        "                                                  \n",
                        "  3%|▎         | 200/6618 [00:35<15:49,  6.76it/s]Removed shared tensor {'classifier.rnn.bias_ih_l0', 'classifier.rnn.bias_hh_l0', 'classifier.rnn.weight_hh_l0'} while saving. This should be OK, but check by verifying that you don't receive any warning while reloading\n"
                    ]
                },
                {
                    "name": "stdout",
                    "output_type": "stream",
                    "text": [
                        "{'eval_loss': 1.0480149984359741, 'eval_accuracy': 0.45503300330033003, 'eval_runtime': 5.0071, 'eval_samples_per_second': 484.11, 'eval_steps_per_second': 30.357, 'epoch': 0.03}\n"
                    ]
                },
                {
                    "name": "stderr",
                    "output_type": "stream",
                    "text": [
                        "  6%|▌         | 400/6618 [01:06<14:39,  7.07it/s]  "
                    ]
                },
                {
                    "name": "stdout",
                    "output_type": "stream",
                    "text": [
                        "{'loss': 0.9799, 'grad_norm': 8.015278816223145, 'learning_rate': 1.8797219703838018e-05, 'epoch': 0.06}\n"
                    ]
                },
                {
                    "name": "stderr",
                    "output_type": "stream",
                    "text": [
                        "                                                  \n",
                        "  6%|▌         | 400/6618 [01:12<14:39,  7.07it/s]"
                    ]
                },
                {
                    "name": "stdout",
                    "output_type": "stream",
                    "text": [
                        "{'eval_loss': 0.9121776819229126, 'eval_accuracy': 0.5862211221122112, 'eval_runtime': 5.5772, 'eval_samples_per_second': 434.629, 'eval_steps_per_second': 27.254, 'epoch': 0.06}\n"
                    ]
                },
                {
                    "name": "stderr",
                    "output_type": "stream",
                    "text": [
                        "  9%|▉         | 600/6618 [01:43<14:59,  6.69it/s]  "
                    ]
                },
                {
                    "name": "stdout",
                    "output_type": "stream",
                    "text": [
                        "{'loss': 0.9624, 'grad_norm': 7.383638858795166, 'learning_rate': 1.8192807494711394e-05, 'epoch': 0.09}\n"
                    ]
                },
                {
                    "name": "stderr",
                    "output_type": "stream",
                    "text": [
                        "                                                  \n",
                        "  9%|▉         | 600/6618 [01:49<14:59,  6.69it/s]"
                    ]
                },
                {
                    "name": "stdout",
                    "output_type": "stream",
                    "text": [
                        "{'eval_loss': 0.9040164947509766, 'eval_accuracy': 0.5870462046204621, 'eval_runtime': 5.3574, 'eval_samples_per_second': 452.458, 'eval_steps_per_second': 28.372, 'epoch': 0.09}\n"
                    ]
                },
                {
                    "name": "stderr",
                    "output_type": "stream",
                    "text": [
                        " 12%|█▏        | 800/6618 [02:20<13:51,  7.00it/s]  "
                    ]
                },
                {
                    "name": "stdout",
                    "output_type": "stream",
                    "text": [
                        "{'loss': 0.9155, 'grad_norm': 9.521387100219727, 'learning_rate': 1.758839528558477e-05, 'epoch': 0.12}\n"
                    ]
                },
                {
                    "name": "stderr",
                    "output_type": "stream",
                    "text": [
                        "                                                  \n",
                        " 12%|█▏        | 800/6618 [02:26<13:51,  7.00it/s]"
                    ]
                },
                {
                    "name": "stdout",
                    "output_type": "stream",
                    "text": [
                        "{'eval_loss': 0.8522412180900574, 'eval_accuracy': 0.6283003300330033, 'eval_runtime': 5.6892, 'eval_samples_per_second': 426.068, 'eval_steps_per_second': 26.717, 'epoch': 0.12}\n"
                    ]
                },
                {
                    "name": "stderr",
                    "output_type": "stream",
                    "text": [
                        " 15%|█▌        | 1000/6618 [02:58<13:18,  7.04it/s] "
                    ]
                },
                {
                    "name": "stdout",
                    "output_type": "stream",
                    "text": [
                        "{'loss': 0.9134, 'grad_norm': 7.6052565574646, 'learning_rate': 1.6983983076458146e-05, 'epoch': 0.15}\n"
                    ]
                },
                {
                    "name": "stderr",
                    "output_type": "stream",
                    "text": [
                        "                                                   \n",
                        " 15%|█▌        | 1000/6618 [03:04<13:18,  7.04it/s]"
                    ]
                },
                {
                    "name": "stdout",
                    "output_type": "stream",
                    "text": [
                        "{'eval_loss': 0.8476641178131104, 'eval_accuracy': 0.6208745874587459, 'eval_runtime': 5.5288, 'eval_samples_per_second': 438.428, 'eval_steps_per_second': 27.492, 'epoch': 0.15}\n"
                    ]
                },
                {
                    "name": "stderr",
                    "output_type": "stream",
                    "text": [
                        " 18%|█▊        | 1200/6618 [03:35<12:58,  6.96it/s]  "
                    ]
                },
                {
                    "name": "stdout",
                    "output_type": "stream",
                    "text": [
                        "{'loss': 0.901, 'grad_norm': 8.199238777160645, 'learning_rate': 1.6379570867331522e-05, 'epoch': 0.18}\n"
                    ]
                },
                {
                    "name": "stderr",
                    "output_type": "stream",
                    "text": [
                        "                                                   \n",
                        " 18%|█▊        | 1200/6618 [03:41<12:58,  6.96it/s]"
                    ]
                },
                {
                    "name": "stdout",
                    "output_type": "stream",
                    "text": [
                        "{'eval_loss': 0.8399881720542908, 'eval_accuracy': 0.6192244224422442, 'eval_runtime': 5.6287, 'eval_samples_per_second': 430.651, 'eval_steps_per_second': 27.005, 'epoch': 0.18}\n"
                    ]
                },
                {
                    "name": "stderr",
                    "output_type": "stream",
                    "text": [
                        " 21%|██        | 1400/6618 [04:13<12:28,  6.97it/s]  "
                    ]
                },
                {
                    "name": "stdout",
                    "output_type": "stream",
                    "text": [
                        "{'loss': 0.878, 'grad_norm': 6.68585205078125, 'learning_rate': 1.5775158658204898e-05, 'epoch': 0.21}\n"
                    ]
                },
                {
                    "name": "stderr",
                    "output_type": "stream",
                    "text": [
                        "                                                   \n",
                        " 21%|██        | 1400/6618 [04:18<12:28,  6.97it/s]"
                    ]
                },
                {
                    "name": "stdout",
                    "output_type": "stream",
                    "text": [
                        "{'eval_loss': 0.8087708353996277, 'eval_accuracy': 0.6402640264026402, 'eval_runtime': 5.2864, 'eval_samples_per_second': 458.539, 'eval_steps_per_second': 28.753, 'epoch': 0.21}\n"
                    ]
                },
                {
                    "name": "stderr",
                    "output_type": "stream",
                    "text": [
                        " 24%|██▍       | 1600/6618 [04:50<12:20,  6.77it/s]  "
                    ]
                },
                {
                    "name": "stdout",
                    "output_type": "stream",
                    "text": [
                        "{'loss': 0.8485, 'grad_norm': 8.831063270568848, 'learning_rate': 1.5170746449078272e-05, 'epoch': 0.24}\n"
                    ]
                },
                {
                    "name": "stderr",
                    "output_type": "stream",
                    "text": [
                        "                                                   \n",
                        " 24%|██▍       | 1600/6618 [04:55<12:20,  6.77it/s]"
                    ]
                },
                {
                    "name": "stdout",
                    "output_type": "stream",
                    "text": [
                        "{'eval_loss': 0.80534428358078, 'eval_accuracy': 0.6406765676567657, 'eval_runtime': 5.2407, 'eval_samples_per_second': 462.533, 'eval_steps_per_second': 29.004, 'epoch': 0.24}\n"
                    ]
                },
                {
                    "name": "stderr",
                    "output_type": "stream",
                    "text": [
                        " 27%|██▋       | 1800/6618 [05:27<11:57,  6.72it/s]  "
                    ]
                },
                {
                    "name": "stdout",
                    "output_type": "stream",
                    "text": [
                        "{'loss': 0.8676, 'grad_norm': 8.429427146911621, 'learning_rate': 1.4566334239951647e-05, 'epoch': 0.27}\n"
                    ]
                },
                {
                    "name": "stderr",
                    "output_type": "stream",
                    "text": [
                        "                                                   \n",
                        " 27%|██▋       | 1800/6618 [05:32<11:57,  6.72it/s]"
                    ]
                },
                {
                    "name": "stdout",
                    "output_type": "stream",
                    "text": [
                        "{'eval_loss': 0.7841135263442993, 'eval_accuracy': 0.6600660066006601, 'eval_runtime': 5.4285, 'eval_samples_per_second': 446.534, 'eval_steps_per_second': 28.0, 'epoch': 0.27}\n"
                    ]
                },
                {
                    "name": "stderr",
                    "output_type": "stream",
                    "text": [
                        " 30%|███       | 2000/6618 [06:05<11:28,  6.71it/s]  "
                    ]
                },
                {
                    "name": "stdout",
                    "output_type": "stream",
                    "text": [
                        "{'loss': 0.8478, 'grad_norm': 8.009357452392578, 'learning_rate': 1.3961922030825024e-05, 'epoch': 0.3}\n"
                    ]
                },
                {
                    "name": "stderr",
                    "output_type": "stream",
                    "text": [
                        "                                                   \n",
                        " 30%|███       | 2000/6618 [06:10<11:28,  6.71it/s]"
                    ]
                },
                {
                    "name": "stdout",
                    "output_type": "stream",
                    "text": [
                        "{'eval_loss': 0.7918615341186523, 'eval_accuracy': 0.6485148514851485, 'eval_runtime': 5.6394, 'eval_samples_per_second': 429.833, 'eval_steps_per_second': 26.953, 'epoch': 0.3}\n"
                    ]
                },
                {
                    "name": "stderr",
                    "output_type": "stream",
                    "text": [
                        " 33%|███▎      | 2200/6618 [06:42<10:27,  7.04it/s]  "
                    ]
                },
                {
                    "name": "stdout",
                    "output_type": "stream",
                    "text": [
                        "{'loss': 0.8345, 'grad_norm': 7.976894855499268, 'learning_rate': 1.33575098216984e-05, 'epoch': 0.33}\n"
                    ]
                },
                {
                    "name": "stderr",
                    "output_type": "stream",
                    "text": [
                        "                                                   \n",
                        " 33%|███▎      | 2200/6618 [06:47<10:27,  7.04it/s]"
                    ]
                },
                {
                    "name": "stdout",
                    "output_type": "stream",
                    "text": [
                        "{'eval_loss': 0.7661153078079224, 'eval_accuracy': 0.6641914191419142, 'eval_runtime': 4.8131, 'eval_samples_per_second': 503.621, 'eval_steps_per_second': 31.58, 'epoch': 0.33}\n"
                    ]
                },
                {
                    "name": "stderr",
                    "output_type": "stream",
                    "text": [
                        " 36%|███▋      | 2400/6618 [07:18<10:13,  6.88it/s]  "
                    ]
                },
                {
                    "name": "stdout",
                    "output_type": "stream",
                    "text": [
                        "{'loss': 0.8047, 'grad_norm': 12.95920467376709, 'learning_rate': 1.2753097612571774e-05, 'epoch': 0.36}\n"
                    ]
                },
                {
                    "name": "stderr",
                    "output_type": "stream",
                    "text": [
                        "                                                   \n",
                        " 36%|███▋      | 2400/6618 [07:23<10:13,  6.88it/s]"
                    ]
                },
                {
                    "name": "stdout",
                    "output_type": "stream",
                    "text": [
                        "{'eval_loss': 0.7702425122261047, 'eval_accuracy': 0.6551155115511551, 'eval_runtime': 5.5569, 'eval_samples_per_second': 436.213, 'eval_steps_per_second': 27.353, 'epoch': 0.36}\n"
                    ]
                },
                {
                    "name": "stderr",
                    "output_type": "stream",
                    "text": [
                        " 39%|███▉      | 2600/6618 [07:55<09:26,  7.10it/s]  "
                    ]
                },
                {
                    "name": "stdout",
                    "output_type": "stream",
                    "text": [
                        "{'loss': 0.7891, 'grad_norm': 9.123123168945312, 'learning_rate': 1.2151707464490783e-05, 'epoch': 0.39}\n"
                    ]
                },
                {
                    "name": "stderr",
                    "output_type": "stream",
                    "text": [
                        "                                                   \n",
                        " 39%|███▉      | 2600/6618 [08:00<09:26,  7.10it/s]"
                    ]
                },
                {
                    "name": "stdout",
                    "output_type": "stream",
                    "text": [
                        "{'eval_loss': 0.751711905002594, 'eval_accuracy': 0.6712046204620462, 'eval_runtime': 5.3719, 'eval_samples_per_second': 451.239, 'eval_steps_per_second': 28.296, 'epoch': 0.39}\n"
                    ]
                },
                {
                    "name": "stderr",
                    "output_type": "stream",
                    "text": [
                        " 42%|████▏     | 2800/6618 [08:32<08:57,  7.11it/s]  "
                    ]
                },
                {
                    "name": "stdout",
                    "output_type": "stream",
                    "text": [
                        "{'loss': 0.8021, 'grad_norm': 10.875104904174805, 'learning_rate': 1.1547295255364159e-05, 'epoch': 0.42}\n"
                    ]
                },
                {
                    "name": "stderr",
                    "output_type": "stream",
                    "text": [
                        "                                                   \n",
                        " 42%|████▏     | 2800/6618 [08:37<08:57,  7.11it/s]"
                    ]
                },
                {
                    "name": "stdout",
                    "output_type": "stream",
                    "text": [
                        "{'eval_loss': 0.7391440868377686, 'eval_accuracy': 0.6872937293729373, 'eval_runtime': 4.6299, 'eval_samples_per_second': 523.552, 'eval_steps_per_second': 32.83, 'epoch': 0.42}\n"
                    ]
                },
                {
                    "name": "stderr",
                    "output_type": "stream",
                    "text": [
                        " 45%|████▌     | 3000/6618 [09:08<08:42,  6.93it/s]  "
                    ]
                },
                {
                    "name": "stdout",
                    "output_type": "stream",
                    "text": [
                        "{'loss': 0.7698, 'grad_norm': 8.786696434020996, 'learning_rate': 1.0942883046237536e-05, 'epoch': 0.45}\n"
                    ]
                },
                {
                    "name": "stderr",
                    "output_type": "stream",
                    "text": [
                        "                                                   \n",
                        " 45%|████▌     | 3000/6618 [09:14<08:42,  6.93it/s]"
                    ]
                },
                {
                    "name": "stdout",
                    "output_type": "stream",
                    "text": [
                        "{'eval_loss': 0.7455416917800903, 'eval_accuracy': 0.6765676567656765, 'eval_runtime': 5.5306, 'eval_samples_per_second': 438.286, 'eval_steps_per_second': 27.483, 'epoch': 0.45}\n"
                    ]
                },
                {
                    "name": "stderr",
                    "output_type": "stream",
                    "text": [
                        " 48%|████▊     | 3200/6618 [09:46<07:58,  7.14it/s]  "
                    ]
                },
                {
                    "name": "stdout",
                    "output_type": "stream",
                    "text": [
                        "{'loss': 0.797, 'grad_norm': 10.889054298400879, 'learning_rate': 1.033847083711091e-05, 'epoch': 0.48}\n"
                    ]
                },
                {
                    "name": "stderr",
                    "output_type": "stream",
                    "text": [
                        "                                                   \n",
                        " 48%|████▊     | 3200/6618 [09:52<07:58,  7.14it/s]"
                    ]
                },
                {
                    "name": "stdout",
                    "output_type": "stream",
                    "text": [
                        "{'eval_loss': 0.7351437211036682, 'eval_accuracy': 0.6786303630363036, 'eval_runtime': 5.6819, 'eval_samples_per_second': 426.62, 'eval_steps_per_second': 26.752, 'epoch': 0.48}\n"
                    ]
                },
                {
                    "name": "stderr",
                    "output_type": "stream",
                    "text": [
                        " 51%|█████▏    | 3400/6618 [10:25<07:48,  6.87it/s]  "
                    ]
                },
                {
                    "name": "stdout",
                    "output_type": "stream",
                    "text": [
                        "{'loss': 0.7802, 'grad_norm': 9.20958423614502, 'learning_rate': 9.734058627984287e-06, 'epoch': 0.51}\n"
                    ]
                },
                {
                    "name": "stderr",
                    "output_type": "stream",
                    "text": [
                        "                                                   \n",
                        " 51%|█████▏    | 3400/6618 [10:30<07:48,  6.87it/s]"
                    ]
                },
                {
                    "name": "stdout",
                    "output_type": "stream",
                    "text": [
                        "{'eval_loss': 0.7279499769210815, 'eval_accuracy': 0.6831683168316832, 'eval_runtime': 5.6278, 'eval_samples_per_second': 430.717, 'eval_steps_per_second': 27.009, 'epoch': 0.51}\n"
                    ]
                },
                {
                    "name": "stderr",
                    "output_type": "stream",
                    "text": [
                        " 54%|█████▍    | 3600/6618 [11:03<07:08,  7.05it/s]  "
                    ]
                },
                {
                    "name": "stdout",
                    "output_type": "stream",
                    "text": [
                        "{'loss': 0.761, 'grad_norm': 14.878654479980469, 'learning_rate': 9.129646418857661e-06, 'epoch': 0.54}\n"
                    ]
                },
                {
                    "name": "stderr",
                    "output_type": "stream",
                    "text": [
                        "                                                   \n",
                        " 54%|█████▍    | 3600/6618 [11:08<07:08,  7.05it/s]"
                    ]
                },
                {
                    "name": "stdout",
                    "output_type": "stream",
                    "text": [
                        "{'eval_loss': 0.7390096187591553, 'eval_accuracy': 0.6728547854785478, 'eval_runtime': 5.4154, 'eval_samples_per_second': 447.613, 'eval_steps_per_second': 28.068, 'epoch': 0.54}\n"
                    ]
                },
                {
                    "name": "stderr",
                    "output_type": "stream",
                    "text": [
                        " 57%|█████▋    | 3800/6618 [11:40<06:39,  7.06it/s]  "
                    ]
                },
                {
                    "name": "stdout",
                    "output_type": "stream",
                    "text": [
                        "{'loss': 0.7552, 'grad_norm': 13.915786743164062, 'learning_rate': 8.525234209731037e-06, 'epoch': 0.57}\n"
                    ]
                },
                {
                    "name": "stderr",
                    "output_type": "stream",
                    "text": [
                        "                                                   \n",
                        " 57%|█████▋    | 3800/6618 [11:45<06:39,  7.06it/s]"
                    ]
                },
                {
                    "name": "stdout",
                    "output_type": "stream",
                    "text": [
                        "{'eval_loss': 0.7388238906860352, 'eval_accuracy': 0.679042904290429, 'eval_runtime': 5.454, 'eval_samples_per_second': 444.447, 'eval_steps_per_second': 27.87, 'epoch': 0.57}\n"
                    ]
                },
                {
                    "name": "stderr",
                    "output_type": "stream",
                    "text": [
                        " 60%|██████    | 4000/6618 [12:18<06:11,  7.04it/s]  "
                    ]
                },
                {
                    "name": "stdout",
                    "output_type": "stream",
                    "text": [
                        "{'loss': 0.7596, 'grad_norm': 12.445393562316895, 'learning_rate': 7.920822000604413e-06, 'epoch': 0.6}\n"
                    ]
                },
                {
                    "name": "stderr",
                    "output_type": "stream",
                    "text": [
                        "                                                   \n",
                        " 60%|██████    | 4000/6618 [12:23<06:11,  7.04it/s]"
                    ]
                },
                {
                    "name": "stdout",
                    "output_type": "stream",
                    "text": [
                        "{'eval_loss': 0.7218323349952698, 'eval_accuracy': 0.6934818481848185, 'eval_runtime': 5.375, 'eval_samples_per_second': 450.981, 'eval_steps_per_second': 28.279, 'epoch': 0.6}\n"
                    ]
                },
                {
                    "name": "stderr",
                    "output_type": "stream",
                    "text": [
                        " 63%|██████▎   | 4200/6618 [12:56<05:27,  7.38it/s]  "
                    ]
                },
                {
                    "name": "stdout",
                    "output_type": "stream",
                    "text": [
                        "{'loss': 0.7395, 'grad_norm': 13.107863426208496, 'learning_rate': 7.316409791477789e-06, 'epoch': 0.63}\n"
                    ]
                },
                {
                    "name": "stderr",
                    "output_type": "stream",
                    "text": [
                        "                                                   \n",
                        " 63%|██████▎   | 4200/6618 [13:01<05:27,  7.38it/s]"
                    ]
                },
                {
                    "name": "stdout",
                    "output_type": "stream",
                    "text": [
                        "{'eval_loss': 0.7201048731803894, 'eval_accuracy': 0.6901815181518152, 'eval_runtime': 5.7417, 'eval_samples_per_second': 422.174, 'eval_steps_per_second': 26.473, 'epoch': 0.63}\n"
                    ]
                },
                {
                    "name": "stderr",
                    "output_type": "stream",
                    "text": [
                        " 66%|██████▋   | 4400/6618 [13:38<07:23,  5.00it/s]  "
                    ]
                },
                {
                    "name": "stdout",
                    "output_type": "stream",
                    "text": [
                        "{'loss': 0.7414, 'grad_norm': 8.498091697692871, 'learning_rate': 6.711997582351164e-06, 'epoch': 0.66}\n"
                    ]
                },
                {
                    "name": "stderr",
                    "output_type": "stream",
                    "text": [
                        "                                                   \n",
                        " 66%|██████▋   | 4400/6618 [13:42<07:23,  5.00it/s]"
                    ]
                },
                {
                    "name": "stdout",
                    "output_type": "stream",
                    "text": [
                        "{'eval_loss': 0.710347592830658, 'eval_accuracy': 0.6996699669966997, 'eval_runtime': 4.406, 'eval_samples_per_second': 550.165, 'eval_steps_per_second': 34.499, 'epoch': 0.66}\n"
                    ]
                },
                {
                    "name": "stderr",
                    "output_type": "stream",
                    "text": [
                        " 70%|██████▉   | 4600/6618 [14:20<06:15,  5.38it/s]  "
                    ]
                },
                {
                    "name": "stdout",
                    "output_type": "stream",
                    "text": [
                        "{'loss': 0.7211, 'grad_norm': 9.212361335754395, 'learning_rate': 6.107585373224539e-06, 'epoch': 0.7}\n"
                    ]
                },
                {
                    "name": "stderr",
                    "output_type": "stream",
                    "text": [
                        "                                                   \n",
                        " 70%|██████▉   | 4600/6618 [14:25<06:15,  5.38it/s]"
                    ]
                },
                {
                    "name": "stdout",
                    "output_type": "stream",
                    "text": [
                        "{'eval_loss': 0.7050771117210388, 'eval_accuracy': 0.7000825082508251, 'eval_runtime': 4.8828, 'eval_samples_per_second': 496.437, 'eval_steps_per_second': 31.13, 'epoch': 0.7}\n"
                    ]
                },
                {
                    "name": "stderr",
                    "output_type": "stream",
                    "text": [
                        " 73%|███████▎  | 4800/6618 [15:00<06:43,  4.51it/s]  "
                    ]
                },
                {
                    "name": "stdout",
                    "output_type": "stream",
                    "text": [
                        "{'loss': 0.7332, 'grad_norm': 11.973102569580078, 'learning_rate': 5.506195225143548e-06, 'epoch': 0.73}\n"
                    ]
                },
                {
                    "name": "stderr",
                    "output_type": "stream",
                    "text": [
                        "                                                   \n",
                        " 73%|███████▎  | 4800/6618 [15:05<06:43,  4.51it/s]"
                    ]
                },
                {
                    "name": "stdout",
                    "output_type": "stream",
                    "text": [
                        "{'eval_loss': 0.7179664373397827, 'eval_accuracy': 0.6976072607260726, 'eval_runtime': 4.5267, 'eval_samples_per_second': 535.485, 'eval_steps_per_second': 33.578, 'epoch': 0.73}\n"
                    ]
                },
                {
                    "name": "stderr",
                    "output_type": "stream",
                    "text": [
                        " 76%|███████▌  | 5000/6618 [15:45<05:53,  4.58it/s]"
                    ]
                },
                {
                    "name": "stdout",
                    "output_type": "stream",
                    "text": [
                        "{'loss': 0.728, 'grad_norm': 24.09558868408203, 'learning_rate': 4.901783016016924e-06, 'epoch': 0.76}\n"
                    ]
                },
                {
                    "name": "stderr",
                    "output_type": "stream",
                    "text": [
                        "                                                   \n",
                        " 76%|███████▌  | 5000/6618 [15:51<05:53,  4.58it/s]"
                    ]
                },
                {
                    "name": "stdout",
                    "output_type": "stream",
                    "text": [
                        "{'eval_loss': 0.7241004705429077, 'eval_accuracy': 0.6905940594059405, 'eval_runtime': 5.4662, 'eval_samples_per_second': 443.449, 'eval_steps_per_second': 27.807, 'epoch': 0.76}\n"
                    ]
                },
                {
                    "name": "stderr",
                    "output_type": "stream",
                    "text": [
                        " 79%|███████▊  | 5200/6618 [16:27<03:16,  7.22it/s]  "
                    ]
                },
                {
                    "name": "stdout",
                    "output_type": "stream",
                    "text": [
                        "{'loss': 0.7104, 'grad_norm': 12.56181526184082, 'learning_rate': 4.2973708068903e-06, 'epoch': 0.79}\n"
                    ]
                },
                {
                    "name": "stderr",
                    "output_type": "stream",
                    "text": [
                        "                                                   \n",
                        " 79%|███████▊  | 5200/6618 [16:32<03:16,  7.22it/s]"
                    ]
                },
                {
                    "name": "stdout",
                    "output_type": "stream",
                    "text": [
                        "{'eval_loss': 0.6977733373641968, 'eval_accuracy': 0.6988448844884488, 'eval_runtime': 5.5827, 'eval_samples_per_second': 434.202, 'eval_steps_per_second': 27.227, 'epoch': 0.79}\n"
                    ]
                },
                {
                    "name": "stderr",
                    "output_type": "stream",
                    "text": [
                        " 82%|████████▏ | 5400/6618 [17:11<03:05,  6.57it/s]"
                    ]
                },
                {
                    "name": "stdout",
                    "output_type": "stream",
                    "text": [
                        "{'loss': 0.7321, 'grad_norm': 12.190526962280273, 'learning_rate': 3.692958597763675e-06, 'epoch': 0.82}\n"
                    ]
                },
                {
                    "name": "stderr",
                    "output_type": "stream",
                    "text": [
                        "                                                   \n",
                        " 82%|████████▏ | 5400/6618 [17:17<03:05,  6.57it/s]"
                    ]
                },
                {
                    "name": "stdout",
                    "output_type": "stream",
                    "text": [
                        "{'eval_loss': 0.6835179924964905, 'eval_accuracy': 0.7108085808580858, 'eval_runtime': 5.3698, 'eval_samples_per_second': 451.412, 'eval_steps_per_second': 28.306, 'epoch': 0.82}\n"
                    ]
                },
                {
                    "name": "stderr",
                    "output_type": "stream",
                    "text": [
                        " 85%|████████▍ | 5600/6618 [17:56<03:33,  4.77it/s]"
                    ]
                },
                {
                    "name": "stdout",
                    "output_type": "stream",
                    "text": [
                        "{'loss': 0.7157, 'grad_norm': 7.305642604827881, 'learning_rate': 3.088546388637051e-06, 'epoch': 0.85}\n"
                    ]
                },
                {
                    "name": "stderr",
                    "output_type": "stream",
                    "text": [
                        "                                                   \n",
                        " 85%|████████▍ | 5600/6618 [18:01<03:33,  4.77it/s]"
                    ]
                },
                {
                    "name": "stdout",
                    "output_type": "stream",
                    "text": [
                        "{'eval_loss': 0.6906147599220276, 'eval_accuracy': 0.7091584158415841, 'eval_runtime': 5.1938, 'eval_samples_per_second': 466.713, 'eval_steps_per_second': 29.266, 'epoch': 0.85}\n"
                    ]
                },
                {
                    "name": "stderr",
                    "output_type": "stream",
                    "text": [
                        " 88%|████████▊ | 5800/6618 [18:42<02:24,  5.68it/s]"
                    ]
                },
                {
                    "name": "stdout",
                    "output_type": "stream",
                    "text": [
                        "{'loss': 0.7093, 'grad_norm': 19.10758399963379, 'learning_rate': 2.4841341795104264e-06, 'epoch': 0.88}\n"
                    ]
                },
                {
                    "name": "stderr",
                    "output_type": "stream",
                    "text": [
                        "                                                   \n",
                        " 88%|████████▊ | 5800/6618 [18:46<02:24,  5.68it/s]"
                    ]
                },
                {
                    "name": "stdout",
                    "output_type": "stream",
                    "text": [
                        "{'eval_loss': 0.6857695579528809, 'eval_accuracy': 0.7066831683168316, 'eval_runtime': 4.4925, 'eval_samples_per_second': 539.562, 'eval_steps_per_second': 33.834, 'epoch': 0.88}\n"
                    ]
                },
                {
                    "name": "stderr",
                    "output_type": "stream",
                    "text": [
                        " 91%|█████████ | 6000/6618 [19:22<01:36,  6.42it/s]"
                    ]
                },
                {
                    "name": "stdout",
                    "output_type": "stream",
                    "text": [
                        "{'loss': 0.7184, 'grad_norm': 13.344358444213867, 'learning_rate': 1.879721970383802e-06, 'epoch': 0.91}\n"
                    ]
                },
                {
                    "name": "stderr",
                    "output_type": "stream",
                    "text": [
                        "                                                   \n",
                        " 91%|█████████ | 6000/6618 [19:27<01:36,  6.42it/s]"
                    ]
                },
                {
                    "name": "stdout",
                    "output_type": "stream",
                    "text": [
                        "{'eval_loss': 0.6897754073143005, 'eval_accuracy': 0.7165841584158416, 'eval_runtime': 4.3875, 'eval_samples_per_second': 552.473, 'eval_steps_per_second': 34.643, 'epoch': 0.91}\n"
                    ]
                },
                {
                    "name": "stderr",
                    "output_type": "stream",
                    "text": [
                        " 94%|█████████▎| 6200/6618 [20:03<01:06,  6.27it/s]"
                    ]
                },
                {
                    "name": "stdout",
                    "output_type": "stream",
                    "text": [
                        "{'loss': 0.7041, 'grad_norm': 11.30181884765625, 'learning_rate': 1.2753097612571774e-06, 'epoch': 0.94}\n"
                    ]
                },
                {
                    "name": "stderr",
                    "output_type": "stream",
                    "text": [
                        "                                                   \n",
                        " 94%|█████████▎| 6200/6618 [20:08<01:06,  6.27it/s]"
                    ]
                },
                {
                    "name": "stdout",
                    "output_type": "stream",
                    "text": [
                        "{'eval_loss': 0.6907715201377869, 'eval_accuracy': 0.7161716171617162, 'eval_runtime': 4.4518, 'eval_samples_per_second': 544.504, 'eval_steps_per_second': 34.144, 'epoch': 0.94}\n"
                    ]
                },
                {
                    "name": "stderr",
                    "output_type": "stream",
                    "text": [
                        " 97%|█████████▋| 6400/6618 [20:46<00:43,  5.00it/s]"
                    ]
                },
                {
                    "name": "stdout",
                    "output_type": "stream",
                    "text": [
                        "{'loss': 0.6804, 'grad_norm': 13.407471656799316, 'learning_rate': 6.708975521305532e-07, 'epoch': 0.97}\n"
                    ]
                },
                {
                    "name": "stderr",
                    "output_type": "stream",
                    "text": [
                        "                                                   \n",
                        " 97%|█████████▋| 6400/6618 [20:51<00:43,  5.00it/s]"
                    ]
                },
                {
                    "name": "stdout",
                    "output_type": "stream",
                    "text": [
                        "{'eval_loss': 0.686680793762207, 'eval_accuracy': 0.7186468646864687, 'eval_runtime': 4.4399, 'eval_samples_per_second': 545.958, 'eval_steps_per_second': 34.235, 'epoch': 0.97}\n"
                    ]
                },
                {
                    "name": "stderr",
                    "output_type": "stream",
                    "text": [
                        "100%|█████████▉| 6600/6618 [21:27<00:03,  5.98it/s]"
                    ]
                },
                {
                    "name": "stdout",
                    "output_type": "stream",
                    "text": [
                        "{'loss': 0.7108, 'grad_norm': 12.52430534362793, 'learning_rate': 6.648534300392869e-08, 'epoch': 1.0}\n"
                    ]
                },
                {
                    "name": "stderr",
                    "output_type": "stream",
                    "text": [
                        "                                                   \n",
                        "100%|█████████▉| 6600/6618 [21:32<00:03,  5.98it/s]"
                    ]
                },
                {
                    "name": "stdout",
                    "output_type": "stream",
                    "text": [
                        "{'eval_loss': 0.6871473789215088, 'eval_accuracy': 0.7149339933993399, 'eval_runtime': 4.389, 'eval_samples_per_second': 552.286, 'eval_steps_per_second': 34.632, 'epoch': 1.0}\n"
                    ]
                },
                {
                    "name": "stderr",
                    "output_type": "stream",
                    "text": [
                        "100%|██████████| 6618/6618 [21:36<00:00,  6.52it/s]There were missing keys in the checkpoint model loaded: ['classifier.rnn.weight_hh_l0', 'classifier.rnn.bias_ih_l0', 'classifier.rnn.bias_hh_l0'].\n",
                        "100%|██████████| 6618/6618 [21:36<00:00,  5.10it/s]"
                    ]
                },
                {
                    "name": "stdout",
                    "output_type": "stream",
                    "text": [
                        "{'train_runtime': 1296.4242, 'train_samples_per_second': 81.668, 'train_steps_per_second': 5.105, 'train_loss': 0.7995945851800664, 'epoch': 1.0}\n"
                    ]
                },
                {
                    "name": "stderr",
                    "output_type": "stream",
                    "text": [
                        "\n"
                    ]
                },
                {
                    "data": {
                        "text/plain": [
                            "TrainOutput(global_step=6618, training_loss=0.7995945851800664, metrics={'train_runtime': 1296.4242, 'train_samples_per_second': 81.668, 'train_steps_per_second': 5.105, 'train_loss': 0.7995945851800664, 'epoch': 1.0})"
                        ]
                    },
                    "execution_count": 12,
                    "metadata": {},
                    "output_type": "execute_result"
                }
            ],
            "source": [
                "trainer = Trainer(\n",
                "    model=model,\n",
                "    args=train_args,\n",
                "    data_collator=data_collator,\n",
                "    train_dataset=data[\"train\"],\n",
                "    eval_dataset=data[\"val\"],\n",
                "    tokenizer=tokenizer,\n",
                "    compute_metrics=compute_metrics,\n",
                ")\n",
                "\n",
                "trainer.train()"
            ]
        },
        {
            "cell_type": "code",
            "execution_count": 13,
            "metadata": {
                "executionInfo": {
                    "elapsed": 341,
                    "status": "ok",
                    "timestamp": 1714973827365,
                    "user": {
                        "displayName": "Jiacheng Pang",
                        "userId": "17495887600724079092"
                    },
                    "user_tz": 420
                },
                "id": "tqmXK01fq3un"
            },
            "outputs": [
                {
                    "data": {
                        "text/plain": [
                            "[{'loss': 1.0891,\n",
                            "  'grad_norm': 3.4674887657165527,\n",
                            "  'learning_rate': 1.9395587790873378e-05,\n",
                            "  'epoch': 0.03,\n",
                            "  'step': 200},\n",
                            " {'eval_loss': 1.0480149984359741,\n",
                            "  'eval_accuracy': 0.45503300330033003,\n",
                            "  'eval_runtime': 5.0071,\n",
                            "  'eval_samples_per_second': 484.11,\n",
                            "  'eval_steps_per_second': 30.357,\n",
                            "  'epoch': 0.03,\n",
                            "  'step': 200},\n",
                            " {'loss': 0.9799,\n",
                            "  'grad_norm': 8.015278816223145,\n",
                            "  'learning_rate': 1.8797219703838018e-05,\n",
                            "  'epoch': 0.06,\n",
                            "  'step': 400},\n",
                            " {'eval_loss': 0.9121776819229126,\n",
                            "  'eval_accuracy': 0.5862211221122112,\n",
                            "  'eval_runtime': 5.5772,\n",
                            "  'eval_samples_per_second': 434.629,\n",
                            "  'eval_steps_per_second': 27.254,\n",
                            "  'epoch': 0.06,\n",
                            "  'step': 400},\n",
                            " {'loss': 0.9624,\n",
                            "  'grad_norm': 7.383638858795166,\n",
                            "  'learning_rate': 1.8192807494711394e-05,\n",
                            "  'epoch': 0.09,\n",
                            "  'step': 600},\n",
                            " {'eval_loss': 0.9040164947509766,\n",
                            "  'eval_accuracy': 0.5870462046204621,\n",
                            "  'eval_runtime': 5.3574,\n",
                            "  'eval_samples_per_second': 452.458,\n",
                            "  'eval_steps_per_second': 28.372,\n",
                            "  'epoch': 0.09,\n",
                            "  'step': 600},\n",
                            " {'loss': 0.9155,\n",
                            "  'grad_norm': 9.521387100219727,\n",
                            "  'learning_rate': 1.758839528558477e-05,\n",
                            "  'epoch': 0.12,\n",
                            "  'step': 800},\n",
                            " {'eval_loss': 0.8522412180900574,\n",
                            "  'eval_accuracy': 0.6283003300330033,\n",
                            "  'eval_runtime': 5.6892,\n",
                            "  'eval_samples_per_second': 426.068,\n",
                            "  'eval_steps_per_second': 26.717,\n",
                            "  'epoch': 0.12,\n",
                            "  'step': 800},\n",
                            " {'loss': 0.9134,\n",
                            "  'grad_norm': 7.6052565574646,\n",
                            "  'learning_rate': 1.6983983076458146e-05,\n",
                            "  'epoch': 0.15,\n",
                            "  'step': 1000},\n",
                            " {'eval_loss': 0.8476641178131104,\n",
                            "  'eval_accuracy': 0.6208745874587459,\n",
                            "  'eval_runtime': 5.5288,\n",
                            "  'eval_samples_per_second': 438.428,\n",
                            "  'eval_steps_per_second': 27.492,\n",
                            "  'epoch': 0.15,\n",
                            "  'step': 1000},\n",
                            " {'loss': 0.901,\n",
                            "  'grad_norm': 8.199238777160645,\n",
                            "  'learning_rate': 1.6379570867331522e-05,\n",
                            "  'epoch': 0.18,\n",
                            "  'step': 1200},\n",
                            " {'eval_loss': 0.8399881720542908,\n",
                            "  'eval_accuracy': 0.6192244224422442,\n",
                            "  'eval_runtime': 5.6287,\n",
                            "  'eval_samples_per_second': 430.651,\n",
                            "  'eval_steps_per_second': 27.005,\n",
                            "  'epoch': 0.18,\n",
                            "  'step': 1200},\n",
                            " {'loss': 0.878,\n",
                            "  'grad_norm': 6.68585205078125,\n",
                            "  'learning_rate': 1.5775158658204898e-05,\n",
                            "  'epoch': 0.21,\n",
                            "  'step': 1400},\n",
                            " {'eval_loss': 0.8087708353996277,\n",
                            "  'eval_accuracy': 0.6402640264026402,\n",
                            "  'eval_runtime': 5.2864,\n",
                            "  'eval_samples_per_second': 458.539,\n",
                            "  'eval_steps_per_second': 28.753,\n",
                            "  'epoch': 0.21,\n",
                            "  'step': 1400},\n",
                            " {'loss': 0.8485,\n",
                            "  'grad_norm': 8.831063270568848,\n",
                            "  'learning_rate': 1.5170746449078272e-05,\n",
                            "  'epoch': 0.24,\n",
                            "  'step': 1600},\n",
                            " {'eval_loss': 0.80534428358078,\n",
                            "  'eval_accuracy': 0.6406765676567657,\n",
                            "  'eval_runtime': 5.2407,\n",
                            "  'eval_samples_per_second': 462.533,\n",
                            "  'eval_steps_per_second': 29.004,\n",
                            "  'epoch': 0.24,\n",
                            "  'step': 1600},\n",
                            " {'loss': 0.8676,\n",
                            "  'grad_norm': 8.429427146911621,\n",
                            "  'learning_rate': 1.4566334239951647e-05,\n",
                            "  'epoch': 0.27,\n",
                            "  'step': 1800},\n",
                            " {'eval_loss': 0.7841135263442993,\n",
                            "  'eval_accuracy': 0.6600660066006601,\n",
                            "  'eval_runtime': 5.4285,\n",
                            "  'eval_samples_per_second': 446.534,\n",
                            "  'eval_steps_per_second': 28.0,\n",
                            "  'epoch': 0.27,\n",
                            "  'step': 1800},\n",
                            " {'loss': 0.8478,\n",
                            "  'grad_norm': 8.009357452392578,\n",
                            "  'learning_rate': 1.3961922030825024e-05,\n",
                            "  'epoch': 0.3,\n",
                            "  'step': 2000},\n",
                            " {'eval_loss': 0.7918615341186523,\n",
                            "  'eval_accuracy': 0.6485148514851485,\n",
                            "  'eval_runtime': 5.6394,\n",
                            "  'eval_samples_per_second': 429.833,\n",
                            "  'eval_steps_per_second': 26.953,\n",
                            "  'epoch': 0.3,\n",
                            "  'step': 2000},\n",
                            " {'loss': 0.8345,\n",
                            "  'grad_norm': 7.976894855499268,\n",
                            "  'learning_rate': 1.33575098216984e-05,\n",
                            "  'epoch': 0.33,\n",
                            "  'step': 2200},\n",
                            " {'eval_loss': 0.7661153078079224,\n",
                            "  'eval_accuracy': 0.6641914191419142,\n",
                            "  'eval_runtime': 4.8131,\n",
                            "  'eval_samples_per_second': 503.621,\n",
                            "  'eval_steps_per_second': 31.58,\n",
                            "  'epoch': 0.33,\n",
                            "  'step': 2200},\n",
                            " {'loss': 0.8047,\n",
                            "  'grad_norm': 12.95920467376709,\n",
                            "  'learning_rate': 1.2753097612571774e-05,\n",
                            "  'epoch': 0.36,\n",
                            "  'step': 2400},\n",
                            " {'eval_loss': 0.7702425122261047,\n",
                            "  'eval_accuracy': 0.6551155115511551,\n",
                            "  'eval_runtime': 5.5569,\n",
                            "  'eval_samples_per_second': 436.213,\n",
                            "  'eval_steps_per_second': 27.353,\n",
                            "  'epoch': 0.36,\n",
                            "  'step': 2400},\n",
                            " {'loss': 0.7891,\n",
                            "  'grad_norm': 9.123123168945312,\n",
                            "  'learning_rate': 1.2151707464490783e-05,\n",
                            "  'epoch': 0.39,\n",
                            "  'step': 2600},\n",
                            " {'eval_loss': 0.751711905002594,\n",
                            "  'eval_accuracy': 0.6712046204620462,\n",
                            "  'eval_runtime': 5.3719,\n",
                            "  'eval_samples_per_second': 451.239,\n",
                            "  'eval_steps_per_second': 28.296,\n",
                            "  'epoch': 0.39,\n",
                            "  'step': 2600},\n",
                            " {'loss': 0.8021,\n",
                            "  'grad_norm': 10.875104904174805,\n",
                            "  'learning_rate': 1.1547295255364159e-05,\n",
                            "  'epoch': 0.42,\n",
                            "  'step': 2800},\n",
                            " {'eval_loss': 0.7391440868377686,\n",
                            "  'eval_accuracy': 0.6872937293729373,\n",
                            "  'eval_runtime': 4.6299,\n",
                            "  'eval_samples_per_second': 523.552,\n",
                            "  'eval_steps_per_second': 32.83,\n",
                            "  'epoch': 0.42,\n",
                            "  'step': 2800},\n",
                            " {'loss': 0.7698,\n",
                            "  'grad_norm': 8.786696434020996,\n",
                            "  'learning_rate': 1.0942883046237536e-05,\n",
                            "  'epoch': 0.45,\n",
                            "  'step': 3000},\n",
                            " {'eval_loss': 0.7455416917800903,\n",
                            "  'eval_accuracy': 0.6765676567656765,\n",
                            "  'eval_runtime': 5.5306,\n",
                            "  'eval_samples_per_second': 438.286,\n",
                            "  'eval_steps_per_second': 27.483,\n",
                            "  'epoch': 0.45,\n",
                            "  'step': 3000},\n",
                            " {'loss': 0.797,\n",
                            "  'grad_norm': 10.889054298400879,\n",
                            "  'learning_rate': 1.033847083711091e-05,\n",
                            "  'epoch': 0.48,\n",
                            "  'step': 3200},\n",
                            " {'eval_loss': 0.7351437211036682,\n",
                            "  'eval_accuracy': 0.6786303630363036,\n",
                            "  'eval_runtime': 5.6819,\n",
                            "  'eval_samples_per_second': 426.62,\n",
                            "  'eval_steps_per_second': 26.752,\n",
                            "  'epoch': 0.48,\n",
                            "  'step': 3200},\n",
                            " {'loss': 0.7802,\n",
                            "  'grad_norm': 9.20958423614502,\n",
                            "  'learning_rate': 9.734058627984287e-06,\n",
                            "  'epoch': 0.51,\n",
                            "  'step': 3400},\n",
                            " {'eval_loss': 0.7279499769210815,\n",
                            "  'eval_accuracy': 0.6831683168316832,\n",
                            "  'eval_runtime': 5.6278,\n",
                            "  'eval_samples_per_second': 430.717,\n",
                            "  'eval_steps_per_second': 27.009,\n",
                            "  'epoch': 0.51,\n",
                            "  'step': 3400},\n",
                            " {'loss': 0.761,\n",
                            "  'grad_norm': 14.878654479980469,\n",
                            "  'learning_rate': 9.129646418857661e-06,\n",
                            "  'epoch': 0.54,\n",
                            "  'step': 3600},\n",
                            " {'eval_loss': 0.7390096187591553,\n",
                            "  'eval_accuracy': 0.6728547854785478,\n",
                            "  'eval_runtime': 5.4154,\n",
                            "  'eval_samples_per_second': 447.613,\n",
                            "  'eval_steps_per_second': 28.068,\n",
                            "  'epoch': 0.54,\n",
                            "  'step': 3600},\n",
                            " {'loss': 0.7552,\n",
                            "  'grad_norm': 13.915786743164062,\n",
                            "  'learning_rate': 8.525234209731037e-06,\n",
                            "  'epoch': 0.57,\n",
                            "  'step': 3800},\n",
                            " {'eval_loss': 0.7388238906860352,\n",
                            "  'eval_accuracy': 0.679042904290429,\n",
                            "  'eval_runtime': 5.454,\n",
                            "  'eval_samples_per_second': 444.447,\n",
                            "  'eval_steps_per_second': 27.87,\n",
                            "  'epoch': 0.57,\n",
                            "  'step': 3800},\n",
                            " {'loss': 0.7596,\n",
                            "  'grad_norm': 12.445393562316895,\n",
                            "  'learning_rate': 7.920822000604413e-06,\n",
                            "  'epoch': 0.6,\n",
                            "  'step': 4000},\n",
                            " {'eval_loss': 0.7218323349952698,\n",
                            "  'eval_accuracy': 0.6934818481848185,\n",
                            "  'eval_runtime': 5.375,\n",
                            "  'eval_samples_per_second': 450.981,\n",
                            "  'eval_steps_per_second': 28.279,\n",
                            "  'epoch': 0.6,\n",
                            "  'step': 4000},\n",
                            " {'loss': 0.7395,\n",
                            "  'grad_norm': 13.107863426208496,\n",
                            "  'learning_rate': 7.316409791477789e-06,\n",
                            "  'epoch': 0.63,\n",
                            "  'step': 4200},\n",
                            " {'eval_loss': 0.7201048731803894,\n",
                            "  'eval_accuracy': 0.6901815181518152,\n",
                            "  'eval_runtime': 5.7417,\n",
                            "  'eval_samples_per_second': 422.174,\n",
                            "  'eval_steps_per_second': 26.473,\n",
                            "  'epoch': 0.63,\n",
                            "  'step': 4200},\n",
                            " {'loss': 0.7414,\n",
                            "  'grad_norm': 8.498091697692871,\n",
                            "  'learning_rate': 6.711997582351164e-06,\n",
                            "  'epoch': 0.66,\n",
                            "  'step': 4400},\n",
                            " {'eval_loss': 0.710347592830658,\n",
                            "  'eval_accuracy': 0.6996699669966997,\n",
                            "  'eval_runtime': 4.406,\n",
                            "  'eval_samples_per_second': 550.165,\n",
                            "  'eval_steps_per_second': 34.499,\n",
                            "  'epoch': 0.66,\n",
                            "  'step': 4400},\n",
                            " {'loss': 0.7211,\n",
                            "  'grad_norm': 9.212361335754395,\n",
                            "  'learning_rate': 6.107585373224539e-06,\n",
                            "  'epoch': 0.7,\n",
                            "  'step': 4600},\n",
                            " {'eval_loss': 0.7050771117210388,\n",
                            "  'eval_accuracy': 0.7000825082508251,\n",
                            "  'eval_runtime': 4.8828,\n",
                            "  'eval_samples_per_second': 496.437,\n",
                            "  'eval_steps_per_second': 31.13,\n",
                            "  'epoch': 0.7,\n",
                            "  'step': 4600},\n",
                            " {'loss': 0.7332,\n",
                            "  'grad_norm': 11.973102569580078,\n",
                            "  'learning_rate': 5.506195225143548e-06,\n",
                            "  'epoch': 0.73,\n",
                            "  'step': 4800},\n",
                            " {'eval_loss': 0.7179664373397827,\n",
                            "  'eval_accuracy': 0.6976072607260726,\n",
                            "  'eval_runtime': 4.5267,\n",
                            "  'eval_samples_per_second': 535.485,\n",
                            "  'eval_steps_per_second': 33.578,\n",
                            "  'epoch': 0.73,\n",
                            "  'step': 4800},\n",
                            " {'loss': 0.728,\n",
                            "  'grad_norm': 24.09558868408203,\n",
                            "  'learning_rate': 4.901783016016924e-06,\n",
                            "  'epoch': 0.76,\n",
                            "  'step': 5000},\n",
                            " {'eval_loss': 0.7241004705429077,\n",
                            "  'eval_accuracy': 0.6905940594059405,\n",
                            "  'eval_runtime': 5.4662,\n",
                            "  'eval_samples_per_second': 443.449,\n",
                            "  'eval_steps_per_second': 27.807,\n",
                            "  'epoch': 0.76,\n",
                            "  'step': 5000},\n",
                            " {'loss': 0.7104,\n",
                            "  'grad_norm': 12.56181526184082,\n",
                            "  'learning_rate': 4.2973708068903e-06,\n",
                            "  'epoch': 0.79,\n",
                            "  'step': 5200},\n",
                            " {'eval_loss': 0.6977733373641968,\n",
                            "  'eval_accuracy': 0.6988448844884488,\n",
                            "  'eval_runtime': 5.5827,\n",
                            "  'eval_samples_per_second': 434.202,\n",
                            "  'eval_steps_per_second': 27.227,\n",
                            "  'epoch': 0.79,\n",
                            "  'step': 5200},\n",
                            " {'loss': 0.7321,\n",
                            "  'grad_norm': 12.190526962280273,\n",
                            "  'learning_rate': 3.692958597763675e-06,\n",
                            "  'epoch': 0.82,\n",
                            "  'step': 5400},\n",
                            " {'eval_loss': 0.6835179924964905,\n",
                            "  'eval_accuracy': 0.7108085808580858,\n",
                            "  'eval_runtime': 5.3698,\n",
                            "  'eval_samples_per_second': 451.412,\n",
                            "  'eval_steps_per_second': 28.306,\n",
                            "  'epoch': 0.82,\n",
                            "  'step': 5400},\n",
                            " {'loss': 0.7157,\n",
                            "  'grad_norm': 7.305642604827881,\n",
                            "  'learning_rate': 3.088546388637051e-06,\n",
                            "  'epoch': 0.85,\n",
                            "  'step': 5600},\n",
                            " {'eval_loss': 0.6906147599220276,\n",
                            "  'eval_accuracy': 0.7091584158415841,\n",
                            "  'eval_runtime': 5.1938,\n",
                            "  'eval_samples_per_second': 466.713,\n",
                            "  'eval_steps_per_second': 29.266,\n",
                            "  'epoch': 0.85,\n",
                            "  'step': 5600},\n",
                            " {'loss': 0.7093,\n",
                            "  'grad_norm': 19.10758399963379,\n",
                            "  'learning_rate': 2.4841341795104264e-06,\n",
                            "  'epoch': 0.88,\n",
                            "  'step': 5800},\n",
                            " {'eval_loss': 0.6857695579528809,\n",
                            "  'eval_accuracy': 0.7066831683168316,\n",
                            "  'eval_runtime': 4.4925,\n",
                            "  'eval_samples_per_second': 539.562,\n",
                            "  'eval_steps_per_second': 33.834,\n",
                            "  'epoch': 0.88,\n",
                            "  'step': 5800},\n",
                            " {'loss': 0.7184,\n",
                            "  'grad_norm': 13.344358444213867,\n",
                            "  'learning_rate': 1.879721970383802e-06,\n",
                            "  'epoch': 0.91,\n",
                            "  'step': 6000},\n",
                            " {'eval_loss': 0.6897754073143005,\n",
                            "  'eval_accuracy': 0.7165841584158416,\n",
                            "  'eval_runtime': 4.3875,\n",
                            "  'eval_samples_per_second': 552.473,\n",
                            "  'eval_steps_per_second': 34.643,\n",
                            "  'epoch': 0.91,\n",
                            "  'step': 6000},\n",
                            " {'loss': 0.7041,\n",
                            "  'grad_norm': 11.30181884765625,\n",
                            "  'learning_rate': 1.2753097612571774e-06,\n",
                            "  'epoch': 0.94,\n",
                            "  'step': 6200},\n",
                            " {'eval_loss': 0.6907715201377869,\n",
                            "  'eval_accuracy': 0.7161716171617162,\n",
                            "  'eval_runtime': 4.4518,\n",
                            "  'eval_samples_per_second': 544.504,\n",
                            "  'eval_steps_per_second': 34.144,\n",
                            "  'epoch': 0.94,\n",
                            "  'step': 6200},\n",
                            " {'loss': 0.6804,\n",
                            "  'grad_norm': 13.407471656799316,\n",
                            "  'learning_rate': 6.708975521305532e-07,\n",
                            "  'epoch': 0.97,\n",
                            "  'step': 6400},\n",
                            " {'eval_loss': 0.686680793762207,\n",
                            "  'eval_accuracy': 0.7186468646864687,\n",
                            "  'eval_runtime': 4.4399,\n",
                            "  'eval_samples_per_second': 545.958,\n",
                            "  'eval_steps_per_second': 34.235,\n",
                            "  'epoch': 0.97,\n",
                            "  'step': 6400},\n",
                            " {'loss': 0.7108,\n",
                            "  'grad_norm': 12.52430534362793,\n",
                            "  'learning_rate': 6.648534300392869e-08,\n",
                            "  'epoch': 1.0,\n",
                            "  'step': 6600},\n",
                            " {'eval_loss': 0.6871473789215088,\n",
                            "  'eval_accuracy': 0.7149339933993399,\n",
                            "  'eval_runtime': 4.389,\n",
                            "  'eval_samples_per_second': 552.286,\n",
                            "  'eval_steps_per_second': 34.632,\n",
                            "  'epoch': 1.0,\n",
                            "  'step': 6600},\n",
                            " {'train_runtime': 1296.4242,\n",
                            "  'train_samples_per_second': 81.668,\n",
                            "  'train_steps_per_second': 5.105,\n",
                            "  'total_flos': 6513789048840216.0,\n",
                            "  'train_loss': 0.7995945851800664,\n",
                            "  'epoch': 1.0,\n",
                            "  'step': 6618}]"
                        ]
                    },
                    "execution_count": 13,
                    "metadata": {},
                    "output_type": "execute_result"
                }
            ],
            "source": [
                "log = trainer.state.log_history\n",
                "log"
            ]
        },
        {
            "cell_type": "code",
            "execution_count": 14,
            "metadata": {
                "colab": {
                    "base_uri": "https://localhost:8080/",
                    "height": 507
                },
                "executionInfo": {
                    "elapsed": 805,
                    "status": "ok",
                    "timestamp": 1714973830106,
                    "user": {
                        "displayName": "Jiacheng Pang",
                        "userId": "17495887600724079092"
                    },
                    "user_tz": 420
                },
                "id": "l1rBSzP_q3un",
                "outputId": "b285280e-d996-4690-c18e-987cf03b7e7c"
            },
            "outputs": [
                {
                    "data": {
                        "image/png": "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",
                        "text/plain": [
                            "<Figure size 1000x500 with 2 Axes>"
                        ]
                    },
                    "metadata": {},
                    "output_type": "display_data"
                }
            ],
            "source": [
                "model_name = \"BERTRNN\"\n",
                "\n",
                "steps = []\n",
                "train_loss = []\n",
                "eval_loss = []\n",
                "eval_acc = []\n",
                "\n",
                "for i in range(0, len(log) - 1, 2):\n",
                "    train_log = log[i]\n",
                "    eval_log = log[i + 1]\n",
                "    steps.append(train_log[\"step\"])\n",
                "    train_loss.append(train_log[\"loss\"])\n",
                "    eval_loss.append(eval_log[\"eval_loss\"])\n",
                "    eval_acc.append(eval_log[\"eval_accuracy\"])\n",
                "\n",
                "plt.figure(figsize=(10, 5))\n",
                "\n",
                "\n",
                "plt.subplot(1, 2, 1)\n",
                "plt.title(f\"{model_name} loss vs step\")\n",
                "plt.xlabel(\"# steps\")\n",
                "plt.ylabel(\"loss\")\n",
                "plt.plot(steps, train_loss, label=\"training loss\")\n",
                "plt.plot(steps, eval_loss, label=\"eval loss\")\n",
                "plt.legend()\n",
                "\n",
                "plt.subplot(1, 2, 2)\n",
                "plt.title(f\"{model_name} acc vs step\")\n",
                "plt.xlabel(\"# steps\")\n",
                "plt.ylabel(\"acc\")\n",
                "plt.plot(steps, eval_acc, label=\"eval acc\")\n",
                "plt.legend()\n",
                "\n",
                "plt.tight_layout()\n",
                "plt.show()"
            ]
        },
        {
            "cell_type": "code",
            "execution_count": 15,
            "metadata": {},
            "outputs": [],
            "source": [
                "import json\n",
                "\n",
                "\n",
                "with open(f\"{model_name}_aug.json\", \"w\") as f:\n",
                "    json.dump(\n",
                "        {\n",
                "            \"steps\": steps,\n",
                "            \"train_loss\": train_loss,\n",
                "            \"eval_loss\": eval_loss,\n",
                "            \"eval_acc\": eval_acc,\n",
                "        },\n",
                "        f,\n",
                "        indent=4,\n",
                "    )"
            ]
        },
        {
            "cell_type": "code",
            "execution_count": null,
            "metadata": {
                "colab": {
                    "base_uri": "https://localhost:8080/",
                    "height": 17
                },
                "executionInfo": {
                    "elapsed": 5215,
                    "status": "ok",
                    "timestamp": 1714785682353,
                    "user": {
                        "displayName": "葛雨辰",
                        "userId": "00590051304935450237"
                    },
                    "user_tz": -480
                },
                "id": "JpYkFjDTq3un",
                "outputId": "8b86794c-65d7-45a8-c0b9-2c0bd1527057"
            },
            "outputs": [
                {
                    "data": {
                        "text/html": [],
                        "text/plain": [
                            "<IPython.core.display.HTML object>"
                        ]
                    },
                    "metadata": {},
                    "output_type": "display_data"
                }
            ],
            "source": [
                "preds = trainer.predict(data[\"test\"])"
            ]
        },
        {
            "cell_type": "code",
            "execution_count": null,
            "metadata": {
                "id": "ilmdYTzkq3uo"
            },
            "outputs": [],
            "source": [
                "pd.DataFrame(\n",
                "    {\"id\": data[\"test\"][\"id\"], \"prediction\": np.argmax(preds.predictions, axis=1)}\n",
                ").to_csv(os.path.join(OUTPUT_DIR, \"submission.csv\"), header=True, index=False)"
            ]
        },
        {
            "cell_type": "code",
            "execution_count": null,
            "metadata": {
                "id": "cMqemUOXq3uo"
            },
            "outputs": [],
            "source": []
        }
    ],
    "metadata": {
        "accelerator": "GPU",
        "colab": {
            "gpuType": "T4",
            "provenance": []
        },
        "kernelspec": {
            "display_name": "Python 3",
            "name": "python3"
        },
        "language_info": {
            "codemirror_mode": {
                "name": "ipython",
                "version": 3
            },
            "file_extension": ".py",
            "mimetype": "text/x-python",
            "name": "python",
            "nbconvert_exporter": "python",
            "pygments_lexer": "ipython3",
            "version": "3.11.9"
        },
        "widgets": {
            "application/vnd.jupyter.widget-state+json": {
                "0098426f0ee443e5b9885018c2f91ba4": {
                    "model_module": "@jupyter-widgets/base",
                    "model_module_version": "1.2.0",
                    "model_name": "LayoutModel",
                    "state": {
                        "_model_module": "@jupyter-widgets/base",
                        "_model_module_version": "1.2.0",
                        "_model_name": "LayoutModel",
                        "_view_count": null,
                        "_view_module": "@jupyter-widgets/base",
                        "_view_module_version": "1.2.0",
                        "_view_name": "LayoutView",
                        "align_content": null,
                        "align_items": null,
                        "align_self": null,
                        "border": null,
                        "bottom": null,
                        "display": null,
                        "flex": null,
                        "flex_flow": null,
                        "grid_area": null,
                        "grid_auto_columns": null,
                        "grid_auto_flow": null,
                        "grid_auto_rows": null,
                        "grid_column": null,
                        "grid_gap": null,
                        "grid_row": null,
                        "grid_template_areas": null,
                        "grid_template_columns": null,
                        "grid_template_rows": null,
                        "height": null,
                        "justify_content": null,
                        "justify_items": null,
                        "left": null,
                        "margin": null,
                        "max_height": null,
                        "max_width": null,
                        "min_height": null,
                        "min_width": null,
                        "object_fit": null,
                        "object_position": null,
                        "order": null,
                        "overflow": null,
                        "overflow_x": null,
                        "overflow_y": null,
                        "padding": null,
                        "right": null,
                        "top": null,
                        "visibility": null,
                        "width": null
                    }
                },
                "06ddd7a38962449796e37770ec55cb2a": {
                    "model_module": "@jupyter-widgets/controls",
                    "model_module_version": "1.5.0",
                    "model_name": "HTMLModel",
                    "state": {
                        "_dom_classes": [],
                        "_model_module": "@jupyter-widgets/controls",
                        "_model_module_version": "1.5.0",
                        "_model_name": "HTMLModel",
                        "_view_count": null,
                        "_view_module": "@jupyter-widgets/controls",
                        "_view_module_version": "1.5.0",
                        "_view_name": "HTMLView",
                        "description": "",
                        "description_tooltip": null,
                        "layout": "IPY_MODEL_a2ce41c01db24dec8bfc1c15678c927e",
                        "placeholder": "​",
                        "style": "IPY_MODEL_83bedd2221444b2a9807d4db5e5017be",
                        "value": " 2424/2424 [00:00&lt;00:00, 5310.79 examples/s]"
                    }
                },
                "09718005a28a407ab277bc8fbe4d3dbb": {
                    "model_module": "@jupyter-widgets/controls",
                    "model_module_version": "1.5.0",
                    "model_name": "HTMLModel",
                    "state": {
                        "_dom_classes": [],
                        "_model_module": "@jupyter-widgets/controls",
                        "_model_module_version": "1.5.0",
                        "_model_name": "HTMLModel",
                        "_view_count": null,
                        "_view_module": "@jupyter-widgets/controls",
                        "_view_module_version": "1.5.0",
                        "_view_name": "HTMLView",
                        "description": "",
                        "description_tooltip": null,
                        "layout": "IPY_MODEL_bb8ed0bc72d24383a08b501b0faf8df9",
                        "placeholder": "​",
                        "style": "IPY_MODEL_9a17fe458d034bc689d56561f22bda21",
                        "value": "Map: 100%"
                    }
                },
                "1329fa7ff30d43079837fddc4ba69a09": {
                    "model_module": "@jupyter-widgets/controls",
                    "model_module_version": "1.5.0",
                    "model_name": "HBoxModel",
                    "state": {
                        "_dom_classes": [],
                        "_model_module": "@jupyter-widgets/controls",
                        "_model_module_version": "1.5.0",
                        "_model_name": "HBoxModel",
                        "_view_count": null,
                        "_view_module": "@jupyter-widgets/controls",
                        "_view_module_version": "1.5.0",
                        "_view_name": "HBoxView",
                        "box_style": "",
                        "children": [
                            "IPY_MODEL_c7f207714c5c4f59afac3e999fd4b6c5",
                            "IPY_MODEL_975d2f3c015f4df180c3f43b5489a387",
                            "IPY_MODEL_06ddd7a38962449796e37770ec55cb2a"
                        ],
                        "layout": "IPY_MODEL_816c3bae88d941f0beef7fa8726a9f0c"
                    }
                },
                "1380e8049c84476b9983229eb8582cf3": {
                    "model_module": "@jupyter-widgets/base",
                    "model_module_version": "1.2.0",
                    "model_name": "LayoutModel",
                    "state": {
                        "_model_module": "@jupyter-widgets/base",
                        "_model_module_version": "1.2.0",
                        "_model_name": "LayoutModel",
                        "_view_count": null,
                        "_view_module": "@jupyter-widgets/base",
                        "_view_module_version": "1.2.0",
                        "_view_name": "LayoutView",
                        "align_content": null,
                        "align_items": null,
                        "align_self": null,
                        "border": null,
                        "bottom": null,
                        "display": null,
                        "flex": null,
                        "flex_flow": null,
                        "grid_area": null,
                        "grid_auto_columns": null,
                        "grid_auto_flow": null,
                        "grid_auto_rows": null,
                        "grid_column": null,
                        "grid_gap": null,
                        "grid_row": null,
                        "grid_template_areas": null,
                        "grid_template_columns": null,
                        "grid_template_rows": null,
                        "height": null,
                        "justify_content": null,
                        "justify_items": null,
                        "left": null,
                        "margin": null,
                        "max_height": null,
                        "max_width": null,
                        "min_height": null,
                        "min_width": null,
                        "object_fit": null,
                        "object_position": null,
                        "order": null,
                        "overflow": null,
                        "overflow_x": null,
                        "overflow_y": null,
                        "padding": null,
                        "right": null,
                        "top": null,
                        "visibility": null,
                        "width": null
                    }
                },
                "1eb33c810e854ccd875b48ec3c2743b8": {
                    "model_module": "@jupyter-widgets/base",
                    "model_module_version": "1.2.0",
                    "model_name": "LayoutModel",
                    "state": {
                        "_model_module": "@jupyter-widgets/base",
                        "_model_module_version": "1.2.0",
                        "_model_name": "LayoutModel",
                        "_view_count": null,
                        "_view_module": "@jupyter-widgets/base",
                        "_view_module_version": "1.2.0",
                        "_view_name": "LayoutView",
                        "align_content": null,
                        "align_items": null,
                        "align_self": null,
                        "border": null,
                        "bottom": null,
                        "display": null,
                        "flex": null,
                        "flex_flow": null,
                        "grid_area": null,
                        "grid_auto_columns": null,
                        "grid_auto_flow": null,
                        "grid_auto_rows": null,
                        "grid_column": null,
                        "grid_gap": null,
                        "grid_row": null,
                        "grid_template_areas": null,
                        "grid_template_columns": null,
                        "grid_template_rows": null,
                        "height": null,
                        "justify_content": null,
                        "justify_items": null,
                        "left": null,
                        "margin": null,
                        "max_height": null,
                        "max_width": null,
                        "min_height": null,
                        "min_width": null,
                        "object_fit": null,
                        "object_position": null,
                        "order": null,
                        "overflow": null,
                        "overflow_x": null,
                        "overflow_y": null,
                        "padding": null,
                        "right": null,
                        "top": null,
                        "visibility": null,
                        "width": null
                    }
                },
                "2bafe01dd39f42f790c24b1e629690c1": {
                    "model_module": "@jupyter-widgets/controls",
                    "model_module_version": "1.5.0",
                    "model_name": "HTMLModel",
                    "state": {
                        "_dom_classes": [],
                        "_model_module": "@jupyter-widgets/controls",
                        "_model_module_version": "1.5.0",
                        "_model_name": "HTMLModel",
                        "_view_count": null,
                        "_view_module": "@jupyter-widgets/controls",
                        "_view_module_version": "1.5.0",
                        "_view_name": "HTMLView",
                        "description": "",
                        "description_tooltip": null,
                        "layout": "IPY_MODEL_b71b6243b8e54c1aa90db36d31a3bca2",
                        "placeholder": "​",
                        "style": "IPY_MODEL_b2627e72342643c7b673e0155a8f9b84",
                        "value": "Map: 100%"
                    }
                },
                "5a2cbee445f845869412fa067b7a25f5": {
                    "model_module": "@jupyter-widgets/controls",
                    "model_module_version": "1.5.0",
                    "model_name": "HTMLModel",
                    "state": {
                        "_dom_classes": [],
                        "_model_module": "@jupyter-widgets/controls",
                        "_model_module_version": "1.5.0",
                        "_model_name": "HTMLModel",
                        "_view_count": null,
                        "_view_module": "@jupyter-widgets/controls",
                        "_view_module_version": "1.5.0",
                        "_view_name": "HTMLView",
                        "description": "",
                        "description_tooltip": null,
                        "layout": "IPY_MODEL_1380e8049c84476b9983229eb8582cf3",
                        "placeholder": "​",
                        "style": "IPY_MODEL_73003844b63c48af91650c7f8e88b32b",
                        "value": " 105876/105876 [00:24&lt;00:00, 5148.14 examples/s]"
                    }
                },
                "60e4be7603134252857d989e657e4589": {
                    "model_module": "@jupyter-widgets/controls",
                    "model_module_version": "1.5.0",
                    "model_name": "ProgressStyleModel",
                    "state": {
                        "_model_module": "@jupyter-widgets/controls",
                        "_model_module_version": "1.5.0",
                        "_model_name": "ProgressStyleModel",
                        "_view_count": null,
                        "_view_module": "@jupyter-widgets/base",
                        "_view_module_version": "1.2.0",
                        "_view_name": "StyleView",
                        "bar_color": null,
                        "description_width": ""
                    }
                },
                "73003844b63c48af91650c7f8e88b32b": {
                    "model_module": "@jupyter-widgets/controls",
                    "model_module_version": "1.5.0",
                    "model_name": "DescriptionStyleModel",
                    "state": {
                        "_model_module": "@jupyter-widgets/controls",
                        "_model_module_version": "1.5.0",
                        "_model_name": "DescriptionStyleModel",
                        "_view_count": null,
                        "_view_module": "@jupyter-widgets/base",
                        "_view_module_version": "1.2.0",
                        "_view_name": "StyleView",
                        "description_width": ""
                    }
                },
                "7a82e80258fb4306ad29e0e265ae757c": {
                    "model_module": "@jupyter-widgets/controls",
                    "model_module_version": "1.5.0",
                    "model_name": "HBoxModel",
                    "state": {
                        "_dom_classes": [],
                        "_model_module": "@jupyter-widgets/controls",
                        "_model_module_version": "1.5.0",
                        "_model_name": "HBoxModel",
                        "_view_count": null,
                        "_view_module": "@jupyter-widgets/controls",
                        "_view_module_version": "1.5.0",
                        "_view_name": "HBoxView",
                        "box_style": "",
                        "children": [
                            "IPY_MODEL_2bafe01dd39f42f790c24b1e629690c1",
                            "IPY_MODEL_9f849ee0c958433387fa1811ae907b15",
                            "IPY_MODEL_fcb39b9156564c129d1e2875a28dc885"
                        ],
                        "layout": "IPY_MODEL_a3bf2daf12b14325a1d72bf4048abf05"
                    }
                },
                "816c3bae88d941f0beef7fa8726a9f0c": {
                    "model_module": "@jupyter-widgets/base",
                    "model_module_version": "1.2.0",
                    "model_name": "LayoutModel",
                    "state": {
                        "_model_module": "@jupyter-widgets/base",
                        "_model_module_version": "1.2.0",
                        "_model_name": "LayoutModel",
                        "_view_count": null,
                        "_view_module": "@jupyter-widgets/base",
                        "_view_module_version": "1.2.0",
                        "_view_name": "LayoutView",
                        "align_content": null,
                        "align_items": null,
                        "align_self": null,
                        "border": null,
                        "bottom": null,
                        "display": null,
                        "flex": null,
                        "flex_flow": null,
                        "grid_area": null,
                        "grid_auto_columns": null,
                        "grid_auto_flow": null,
                        "grid_auto_rows": null,
                        "grid_column": null,
                        "grid_gap": null,
                        "grid_row": null,
                        "grid_template_areas": null,
                        "grid_template_columns": null,
                        "grid_template_rows": null,
                        "height": null,
                        "justify_content": null,
                        "justify_items": null,
                        "left": null,
                        "margin": null,
                        "max_height": null,
                        "max_width": null,
                        "min_height": null,
                        "min_width": null,
                        "object_fit": null,
                        "object_position": null,
                        "order": null,
                        "overflow": null,
                        "overflow_x": null,
                        "overflow_y": null,
                        "padding": null,
                        "right": null,
                        "top": null,
                        "visibility": null,
                        "width": null
                    }
                },
                "83bedd2221444b2a9807d4db5e5017be": {
                    "model_module": "@jupyter-widgets/controls",
                    "model_module_version": "1.5.0",
                    "model_name": "DescriptionStyleModel",
                    "state": {
                        "_model_module": "@jupyter-widgets/controls",
                        "_model_module_version": "1.5.0",
                        "_model_name": "DescriptionStyleModel",
                        "_view_count": null,
                        "_view_module": "@jupyter-widgets/base",
                        "_view_module_version": "1.2.0",
                        "_view_name": "StyleView",
                        "description_width": ""
                    }
                },
                "8f9cec77f2c941478c31579e3ec25720": {
                    "model_module": "@jupyter-widgets/controls",
                    "model_module_version": "1.5.0",
                    "model_name": "ProgressStyleModel",
                    "state": {
                        "_model_module": "@jupyter-widgets/controls",
                        "_model_module_version": "1.5.0",
                        "_model_name": "ProgressStyleModel",
                        "_view_count": null,
                        "_view_module": "@jupyter-widgets/base",
                        "_view_module_version": "1.2.0",
                        "_view_name": "StyleView",
                        "bar_color": null,
                        "description_width": ""
                    }
                },
                "975d2f3c015f4df180c3f43b5489a387": {
                    "model_module": "@jupyter-widgets/controls",
                    "model_module_version": "1.5.0",
                    "model_name": "FloatProgressModel",
                    "state": {
                        "_dom_classes": [],
                        "_model_module": "@jupyter-widgets/controls",
                        "_model_module_version": "1.5.0",
                        "_model_name": "FloatProgressModel",
                        "_view_count": null,
                        "_view_module": "@jupyter-widgets/controls",
                        "_view_module_version": "1.5.0",
                        "_view_name": "ProgressView",
                        "bar_style": "success",
                        "description": "",
                        "description_tooltip": null,
                        "layout": "IPY_MODEL_c1415dea0f934239aea7f9723152a825",
                        "max": 2424,
                        "min": 0,
                        "orientation": "horizontal",
                        "style": "IPY_MODEL_abf0b990f1fa41fb93ec3d157a55a5a3",
                        "value": 2424
                    }
                },
                "9a17fe458d034bc689d56561f22bda21": {
                    "model_module": "@jupyter-widgets/controls",
                    "model_module_version": "1.5.0",
                    "model_name": "DescriptionStyleModel",
                    "state": {
                        "_model_module": "@jupyter-widgets/controls",
                        "_model_module_version": "1.5.0",
                        "_model_name": "DescriptionStyleModel",
                        "_view_count": null,
                        "_view_module": "@jupyter-widgets/base",
                        "_view_module_version": "1.2.0",
                        "_view_name": "StyleView",
                        "description_width": ""
                    }
                },
                "9c837ee3f461481197abf8f40e135a4a": {
                    "model_module": "@jupyter-widgets/base",
                    "model_module_version": "1.2.0",
                    "model_name": "LayoutModel",
                    "state": {
                        "_model_module": "@jupyter-widgets/base",
                        "_model_module_version": "1.2.0",
                        "_model_name": "LayoutModel",
                        "_view_count": null,
                        "_view_module": "@jupyter-widgets/base",
                        "_view_module_version": "1.2.0",
                        "_view_name": "LayoutView",
                        "align_content": null,
                        "align_items": null,
                        "align_self": null,
                        "border": null,
                        "bottom": null,
                        "display": null,
                        "flex": null,
                        "flex_flow": null,
                        "grid_area": null,
                        "grid_auto_columns": null,
                        "grid_auto_flow": null,
                        "grid_auto_rows": null,
                        "grid_column": null,
                        "grid_gap": null,
                        "grid_row": null,
                        "grid_template_areas": null,
                        "grid_template_columns": null,
                        "grid_template_rows": null,
                        "height": null,
                        "justify_content": null,
                        "justify_items": null,
                        "left": null,
                        "margin": null,
                        "max_height": null,
                        "max_width": null,
                        "min_height": null,
                        "min_width": null,
                        "object_fit": null,
                        "object_position": null,
                        "order": null,
                        "overflow": null,
                        "overflow_x": null,
                        "overflow_y": null,
                        "padding": null,
                        "right": null,
                        "top": null,
                        "visibility": null,
                        "width": null
                    }
                },
                "9f849ee0c958433387fa1811ae907b15": {
                    "model_module": "@jupyter-widgets/controls",
                    "model_module_version": "1.5.0",
                    "model_name": "FloatProgressModel",
                    "state": {
                        "_dom_classes": [],
                        "_model_module": "@jupyter-widgets/controls",
                        "_model_module_version": "1.5.0",
                        "_model_name": "FloatProgressModel",
                        "_view_count": null,
                        "_view_module": "@jupyter-widgets/controls",
                        "_view_module_version": "1.5.0",
                        "_view_name": "ProgressView",
                        "bar_style": "success",
                        "description": "",
                        "description_tooltip": null,
                        "layout": "IPY_MODEL_c618c60dd9ae43d4a14c0c2e77d6e2ed",
                        "max": 5195,
                        "min": 0,
                        "orientation": "horizontal",
                        "style": "IPY_MODEL_8f9cec77f2c941478c31579e3ec25720",
                        "value": 5195
                    }
                },
                "a2ce41c01db24dec8bfc1c15678c927e": {
                    "model_module": "@jupyter-widgets/base",
                    "model_module_version": "1.2.0",
                    "model_name": "LayoutModel",
                    "state": {
                        "_model_module": "@jupyter-widgets/base",
                        "_model_module_version": "1.2.0",
                        "_model_name": "LayoutModel",
                        "_view_count": null,
                        "_view_module": "@jupyter-widgets/base",
                        "_view_module_version": "1.2.0",
                        "_view_name": "LayoutView",
                        "align_content": null,
                        "align_items": null,
                        "align_self": null,
                        "border": null,
                        "bottom": null,
                        "display": null,
                        "flex": null,
                        "flex_flow": null,
                        "grid_area": null,
                        "grid_auto_columns": null,
                        "grid_auto_flow": null,
                        "grid_auto_rows": null,
                        "grid_column": null,
                        "grid_gap": null,
                        "grid_row": null,
                        "grid_template_areas": null,
                        "grid_template_columns": null,
                        "grid_template_rows": null,
                        "height": null,
                        "justify_content": null,
                        "justify_items": null,
                        "left": null,
                        "margin": null,
                        "max_height": null,
                        "max_width": null,
                        "min_height": null,
                        "min_width": null,
                        "object_fit": null,
                        "object_position": null,
                        "order": null,
                        "overflow": null,
                        "overflow_x": null,
                        "overflow_y": null,
                        "padding": null,
                        "right": null,
                        "top": null,
                        "visibility": null,
                        "width": null
                    }
                },
                "a3bf2daf12b14325a1d72bf4048abf05": {
                    "model_module": "@jupyter-widgets/base",
                    "model_module_version": "1.2.0",
                    "model_name": "LayoutModel",
                    "state": {
                        "_model_module": "@jupyter-widgets/base",
                        "_model_module_version": "1.2.0",
                        "_model_name": "LayoutModel",
                        "_view_count": null,
                        "_view_module": "@jupyter-widgets/base",
                        "_view_module_version": "1.2.0",
                        "_view_name": "LayoutView",
                        "align_content": null,
                        "align_items": null,
                        "align_self": null,
                        "border": null,
                        "bottom": null,
                        "display": null,
                        "flex": null,
                        "flex_flow": null,
                        "grid_area": null,
                        "grid_auto_columns": null,
                        "grid_auto_flow": null,
                        "grid_auto_rows": null,
                        "grid_column": null,
                        "grid_gap": null,
                        "grid_row": null,
                        "grid_template_areas": null,
                        "grid_template_columns": null,
                        "grid_template_rows": null,
                        "height": null,
                        "justify_content": null,
                        "justify_items": null,
                        "left": null,
                        "margin": null,
                        "max_height": null,
                        "max_width": null,
                        "min_height": null,
                        "min_width": null,
                        "object_fit": null,
                        "object_position": null,
                        "order": null,
                        "overflow": null,
                        "overflow_x": null,
                        "overflow_y": null,
                        "padding": null,
                        "right": null,
                        "top": null,
                        "visibility": null,
                        "width": null
                    }
                },
                "abf0b990f1fa41fb93ec3d157a55a5a3": {
                    "model_module": "@jupyter-widgets/controls",
                    "model_module_version": "1.5.0",
                    "model_name": "ProgressStyleModel",
                    "state": {
                        "_model_module": "@jupyter-widgets/controls",
                        "_model_module_version": "1.5.0",
                        "_model_name": "ProgressStyleModel",
                        "_view_count": null,
                        "_view_module": "@jupyter-widgets/base",
                        "_view_module_version": "1.2.0",
                        "_view_name": "StyleView",
                        "bar_color": null,
                        "description_width": ""
                    }
                },
                "b2627e72342643c7b673e0155a8f9b84": {
                    "model_module": "@jupyter-widgets/controls",
                    "model_module_version": "1.5.0",
                    "model_name": "DescriptionStyleModel",
                    "state": {
                        "_model_module": "@jupyter-widgets/controls",
                        "_model_module_version": "1.5.0",
                        "_model_name": "DescriptionStyleModel",
                        "_view_count": null,
                        "_view_module": "@jupyter-widgets/base",
                        "_view_module_version": "1.2.0",
                        "_view_name": "StyleView",
                        "description_width": ""
                    }
                },
                "b2fdecbaad9c46379b8ceda1697c20fc": {
                    "model_module": "@jupyter-widgets/controls",
                    "model_module_version": "1.5.0",
                    "model_name": "HBoxModel",
                    "state": {
                        "_dom_classes": [],
                        "_model_module": "@jupyter-widgets/controls",
                        "_model_module_version": "1.5.0",
                        "_model_name": "HBoxModel",
                        "_view_count": null,
                        "_view_module": "@jupyter-widgets/controls",
                        "_view_module_version": "1.5.0",
                        "_view_name": "HBoxView",
                        "box_style": "",
                        "children": [
                            "IPY_MODEL_09718005a28a407ab277bc8fbe4d3dbb",
                            "IPY_MODEL_ce0015c8278d4d2795c83838e8ff1694",
                            "IPY_MODEL_5a2cbee445f845869412fa067b7a25f5"
                        ],
                        "layout": "IPY_MODEL_cb5524f99ed84eb78f898fbcc2068eb7"
                    }
                },
                "b3ba70a9ea6c4861a8a3e9fe4d4dc67b": {
                    "model_module": "@jupyter-widgets/controls",
                    "model_module_version": "1.5.0",
                    "model_name": "DescriptionStyleModel",
                    "state": {
                        "_model_module": "@jupyter-widgets/controls",
                        "_model_module_version": "1.5.0",
                        "_model_name": "DescriptionStyleModel",
                        "_view_count": null,
                        "_view_module": "@jupyter-widgets/base",
                        "_view_module_version": "1.2.0",
                        "_view_name": "StyleView",
                        "description_width": ""
                    }
                },
                "b71b6243b8e54c1aa90db36d31a3bca2": {
                    "model_module": "@jupyter-widgets/base",
                    "model_module_version": "1.2.0",
                    "model_name": "LayoutModel",
                    "state": {
                        "_model_module": "@jupyter-widgets/base",
                        "_model_module_version": "1.2.0",
                        "_model_name": "LayoutModel",
                        "_view_count": null,
                        "_view_module": "@jupyter-widgets/base",
                        "_view_module_version": "1.2.0",
                        "_view_name": "LayoutView",
                        "align_content": null,
                        "align_items": null,
                        "align_self": null,
                        "border": null,
                        "bottom": null,
                        "display": null,
                        "flex": null,
                        "flex_flow": null,
                        "grid_area": null,
                        "grid_auto_columns": null,
                        "grid_auto_flow": null,
                        "grid_auto_rows": null,
                        "grid_column": null,
                        "grid_gap": null,
                        "grid_row": null,
                        "grid_template_areas": null,
                        "grid_template_columns": null,
                        "grid_template_rows": null,
                        "height": null,
                        "justify_content": null,
                        "justify_items": null,
                        "left": null,
                        "margin": null,
                        "max_height": null,
                        "max_width": null,
                        "min_height": null,
                        "min_width": null,
                        "object_fit": null,
                        "object_position": null,
                        "order": null,
                        "overflow": null,
                        "overflow_x": null,
                        "overflow_y": null,
                        "padding": null,
                        "right": null,
                        "top": null,
                        "visibility": null,
                        "width": null
                    }
                },
                "bb8ed0bc72d24383a08b501b0faf8df9": {
                    "model_module": "@jupyter-widgets/base",
                    "model_module_version": "1.2.0",
                    "model_name": "LayoutModel",
                    "state": {
                        "_model_module": "@jupyter-widgets/base",
                        "_model_module_version": "1.2.0",
                        "_model_name": "LayoutModel",
                        "_view_count": null,
                        "_view_module": "@jupyter-widgets/base",
                        "_view_module_version": "1.2.0",
                        "_view_name": "LayoutView",
                        "align_content": null,
                        "align_items": null,
                        "align_self": null,
                        "border": null,
                        "bottom": null,
                        "display": null,
                        "flex": null,
                        "flex_flow": null,
                        "grid_area": null,
                        "grid_auto_columns": null,
                        "grid_auto_flow": null,
                        "grid_auto_rows": null,
                        "grid_column": null,
                        "grid_gap": null,
                        "grid_row": null,
                        "grid_template_areas": null,
                        "grid_template_columns": null,
                        "grid_template_rows": null,
                        "height": null,
                        "justify_content": null,
                        "justify_items": null,
                        "left": null,
                        "margin": null,
                        "max_height": null,
                        "max_width": null,
                        "min_height": null,
                        "min_width": null,
                        "object_fit": null,
                        "object_position": null,
                        "order": null,
                        "overflow": null,
                        "overflow_x": null,
                        "overflow_y": null,
                        "padding": null,
                        "right": null,
                        "top": null,
                        "visibility": null,
                        "width": null
                    }
                },
                "c1415dea0f934239aea7f9723152a825": {
                    "model_module": "@jupyter-widgets/base",
                    "model_module_version": "1.2.0",
                    "model_name": "LayoutModel",
                    "state": {
                        "_model_module": "@jupyter-widgets/base",
                        "_model_module_version": "1.2.0",
                        "_model_name": "LayoutModel",
                        "_view_count": null,
                        "_view_module": "@jupyter-widgets/base",
                        "_view_module_version": "1.2.0",
                        "_view_name": "LayoutView",
                        "align_content": null,
                        "align_items": null,
                        "align_self": null,
                        "border": null,
                        "bottom": null,
                        "display": null,
                        "flex": null,
                        "flex_flow": null,
                        "grid_area": null,
                        "grid_auto_columns": null,
                        "grid_auto_flow": null,
                        "grid_auto_rows": null,
                        "grid_column": null,
                        "grid_gap": null,
                        "grid_row": null,
                        "grid_template_areas": null,
                        "grid_template_columns": null,
                        "grid_template_rows": null,
                        "height": null,
                        "justify_content": null,
                        "justify_items": null,
                        "left": null,
                        "margin": null,
                        "max_height": null,
                        "max_width": null,
                        "min_height": null,
                        "min_width": null,
                        "object_fit": null,
                        "object_position": null,
                        "order": null,
                        "overflow": null,
                        "overflow_x": null,
                        "overflow_y": null,
                        "padding": null,
                        "right": null,
                        "top": null,
                        "visibility": null,
                        "width": null
                    }
                },
                "c618c60dd9ae43d4a14c0c2e77d6e2ed": {
                    "model_module": "@jupyter-widgets/base",
                    "model_module_version": "1.2.0",
                    "model_name": "LayoutModel",
                    "state": {
                        "_model_module": "@jupyter-widgets/base",
                        "_model_module_version": "1.2.0",
                        "_model_name": "LayoutModel",
                        "_view_count": null,
                        "_view_module": "@jupyter-widgets/base",
                        "_view_module_version": "1.2.0",
                        "_view_name": "LayoutView",
                        "align_content": null,
                        "align_items": null,
                        "align_self": null,
                        "border": null,
                        "bottom": null,
                        "display": null,
                        "flex": null,
                        "flex_flow": null,
                        "grid_area": null,
                        "grid_auto_columns": null,
                        "grid_auto_flow": null,
                        "grid_auto_rows": null,
                        "grid_column": null,
                        "grid_gap": null,
                        "grid_row": null,
                        "grid_template_areas": null,
                        "grid_template_columns": null,
                        "grid_template_rows": null,
                        "height": null,
                        "justify_content": null,
                        "justify_items": null,
                        "left": null,
                        "margin": null,
                        "max_height": null,
                        "max_width": null,
                        "min_height": null,
                        "min_width": null,
                        "object_fit": null,
                        "object_position": null,
                        "order": null,
                        "overflow": null,
                        "overflow_x": null,
                        "overflow_y": null,
                        "padding": null,
                        "right": null,
                        "top": null,
                        "visibility": null,
                        "width": null
                    }
                },
                "c7f207714c5c4f59afac3e999fd4b6c5": {
                    "model_module": "@jupyter-widgets/controls",
                    "model_module_version": "1.5.0",
                    "model_name": "HTMLModel",
                    "state": {
                        "_dom_classes": [],
                        "_model_module": "@jupyter-widgets/controls",
                        "_model_module_version": "1.5.0",
                        "_model_name": "HTMLModel",
                        "_view_count": null,
                        "_view_module": "@jupyter-widgets/controls",
                        "_view_module_version": "1.5.0",
                        "_view_name": "HTMLView",
                        "description": "",
                        "description_tooltip": null,
                        "layout": "IPY_MODEL_1eb33c810e854ccd875b48ec3c2743b8",
                        "placeholder": "​",
                        "style": "IPY_MODEL_f368710185014fa09924135d17fa86d5",
                        "value": "Map: 100%"
                    }
                },
                "cb5524f99ed84eb78f898fbcc2068eb7": {
                    "model_module": "@jupyter-widgets/base",
                    "model_module_version": "1.2.0",
                    "model_name": "LayoutModel",
                    "state": {
                        "_model_module": "@jupyter-widgets/base",
                        "_model_module_version": "1.2.0",
                        "_model_name": "LayoutModel",
                        "_view_count": null,
                        "_view_module": "@jupyter-widgets/base",
                        "_view_module_version": "1.2.0",
                        "_view_name": "LayoutView",
                        "align_content": null,
                        "align_items": null,
                        "align_self": null,
                        "border": null,
                        "bottom": null,
                        "display": null,
                        "flex": null,
                        "flex_flow": null,
                        "grid_area": null,
                        "grid_auto_columns": null,
                        "grid_auto_flow": null,
                        "grid_auto_rows": null,
                        "grid_column": null,
                        "grid_gap": null,
                        "grid_row": null,
                        "grid_template_areas": null,
                        "grid_template_columns": null,
                        "grid_template_rows": null,
                        "height": null,
                        "justify_content": null,
                        "justify_items": null,
                        "left": null,
                        "margin": null,
                        "max_height": null,
                        "max_width": null,
                        "min_height": null,
                        "min_width": null,
                        "object_fit": null,
                        "object_position": null,
                        "order": null,
                        "overflow": null,
                        "overflow_x": null,
                        "overflow_y": null,
                        "padding": null,
                        "right": null,
                        "top": null,
                        "visibility": null,
                        "width": null
                    }
                },
                "ce0015c8278d4d2795c83838e8ff1694": {
                    "model_module": "@jupyter-widgets/controls",
                    "model_module_version": "1.5.0",
                    "model_name": "FloatProgressModel",
                    "state": {
                        "_dom_classes": [],
                        "_model_module": "@jupyter-widgets/controls",
                        "_model_module_version": "1.5.0",
                        "_model_name": "FloatProgressModel",
                        "_view_count": null,
                        "_view_module": "@jupyter-widgets/controls",
                        "_view_module_version": "1.5.0",
                        "_view_name": "ProgressView",
                        "bar_style": "success",
                        "description": "",
                        "description_tooltip": null,
                        "layout": "IPY_MODEL_0098426f0ee443e5b9885018c2f91ba4",
                        "max": 105876,
                        "min": 0,
                        "orientation": "horizontal",
                        "style": "IPY_MODEL_60e4be7603134252857d989e657e4589",
                        "value": 105876
                    }
                },
                "f368710185014fa09924135d17fa86d5": {
                    "model_module": "@jupyter-widgets/controls",
                    "model_module_version": "1.5.0",
                    "model_name": "DescriptionStyleModel",
                    "state": {
                        "_model_module": "@jupyter-widgets/controls",
                        "_model_module_version": "1.5.0",
                        "_model_name": "DescriptionStyleModel",
                        "_view_count": null,
                        "_view_module": "@jupyter-widgets/base",
                        "_view_module_version": "1.2.0",
                        "_view_name": "StyleView",
                        "description_width": ""
                    }
                },
                "fcb39b9156564c129d1e2875a28dc885": {
                    "model_module": "@jupyter-widgets/controls",
                    "model_module_version": "1.5.0",
                    "model_name": "HTMLModel",
                    "state": {
                        "_dom_classes": [],
                        "_model_module": "@jupyter-widgets/controls",
                        "_model_module_version": "1.5.0",
                        "_model_name": "HTMLModel",
                        "_view_count": null,
                        "_view_module": "@jupyter-widgets/controls",
                        "_view_module_version": "1.5.0",
                        "_view_name": "HTMLView",
                        "description": "",
                        "description_tooltip": null,
                        "layout": "IPY_MODEL_9c837ee3f461481197abf8f40e135a4a",
                        "placeholder": "​",
                        "style": "IPY_MODEL_b3ba70a9ea6c4861a8a3e9fe4d4dc67b",
                        "value": " 5195/5195 [00:00&lt;00:00, 5970.26 examples/s]"
                    }
                }
            }
        }
    },
    "nbformat": 4,
    "nbformat_minor": 0
}
>>>>>>> cd75cc60a67b2e8b319e37963ffa63eb61528d7f

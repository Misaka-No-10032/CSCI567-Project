{
 "cells": [
  {
   "cell_type": "code",
   "execution_count": 1,
   "metadata": {},
   "outputs": [],
   "source": [
    "import numpy as np\n",
    "import pandas as pd\n",
    "import os\n",
    "\n",
    "from datasets import load_dataset, DatasetDict\n",
    "\n",
    "import evaluate\n",
    "\n",
    "from transformers import (\n",
    "    AutoTokenizer,\n",
    "    AutoModelForSequenceClassification,\n",
    "    DataCollatorWithPadding,\n",
    "    TrainingArguments,\n",
    "    Trainer,\n",
    "    EarlyStoppingCallback,\n",
    ")\n",
    "\n",
    "import matplotlib.pyplot as plt"
   ]
  },
  {
   "cell_type": "code",
   "execution_count": 2,
   "metadata": {},
   "outputs": [],
   "source": [
    "INPUT_DIR = \"/input0\"\n",
    "OUTPUT_DIR = \"/output/output/bert\"\n",
    "CHECKPOINT = \"google-bert/bert-base-multilingual-uncased\""
   ]
  },
  {
   "cell_type": "code",
   "execution_count": 3,
   "metadata": {},
   "outputs": [
    {
     "data": {
      "text/plain": [
       "DatasetDict({\n",
       "    train: Dataset({\n",
       "        features: ['id', 'premise', 'hypothesis', 'lang_abv', 'language', 'label'],\n",
       "        num_rows: 9696\n",
       "    })\n",
       "    val: Dataset({\n",
       "        features: ['id', 'premise', 'hypothesis', 'lang_abv', 'language', 'label'],\n",
       "        num_rows: 2424\n",
       "    })\n",
       "    test: Dataset({\n",
       "        features: ['id', 'premise', 'hypothesis', 'lang_abv', 'language'],\n",
       "        num_rows: 5195\n",
       "    })\n",
       "})"
      ]
     },
     "execution_count": 3,
     "metadata": {},
     "output_type": "execute_result"
    }
   ],
   "source": [
    "# Load data\n",
    "data = load_dataset(\"csv\", data_files=os.path.join(INPUT_DIR, \"train.csv\"), trust_remote_code=True, split=\"train\")\n",
    "data = data.train_test_split(0.2)\n",
    "\n",
    "data = DatasetDict(\n",
    "    {\n",
    "        \"train\": data[\"train\"],\n",
    "        \"val\": data[\"test\"],\n",
    "        \"test\": load_dataset(\"csv\", data_files=os.path.join(INPUT_DIR, \"test.csv\"), trust_remote_code=True, split=\"train\"),\n",
    "    }\n",
    ")\n",
    "data"
   ]
  },
  {
   "cell_type": "code",
   "execution_count": 4,
   "metadata": {},
   "outputs": [
    {
     "name": "stderr",
     "output_type": "stream",
     "text": [
      "Some weights of BertForSequenceClassification were not initialized from the model checkpoint at google-bert/bert-base-multilingual-uncased and are newly initialized: ['classifier.bias', 'classifier.weight']\n",
      "You should probably TRAIN this model on a down-stream task to be able to use it for predictions and inference.\n"
     ]
    }
   ],
   "source": [
    "tokenizer = AutoTokenizer.from_pretrained(CHECKPOINT, truncation=True)\n",
    "\n",
    "data_collator = DataCollatorWithPadding(tokenizer=tokenizer)\n",
    "\n",
    "model = AutoModelForSequenceClassification.from_pretrained(CHECKPOINT, num_labels=3)\n",
    "model\n",
    "\n",
    "import torch\n",
    "import torch.nn as nn\n",
    "\n",
    "class CNNCls(nn.Module):\n",
    "    def __init__(self):\n",
    "        super(CNNCls, self).__init__()\n",
    "        self.conv1 = nn.Conv1d(in_channels=768, out_channels=256, kernel_size=3, padding=1)\n",
    "        self.relu = nn.ReLU()\n",
    "        self.dropout = nn.Dropout(0.2)\n",
    "        self.fc = nn.Linear(256, 3)\n",
    "\n",
    "    def forward(self, x):\n",
    "        x = torch.unsqueeze(x, 1)\n",
    "        x = x.permute(0, 2, 1)\n",
    "        x = self.conv1(x)\n",
    "        x = self.relu(x)\n",
    "        x = x.permute(0, 2, 1)\n",
    "        x = x.mean(dim=1)\n",
    "        x = self.dropout(x)\n",
    "        x = self.fc(x)\n",
    "        return x\n",
    "\n",
    "\n",
    "model.classifier = CNNCls()"
   ]
  },
  {
   "cell_type": "code",
   "execution_count": 5,
   "metadata": {},
   "outputs": [
    {
     "data": {
      "application/vnd.jupyter.widget-view+json": {
       "model_id": "ada91cc92a3e4a37aa323b4d2d5cc0db",
       "version_major": 2,
       "version_minor": 0
      },
      "text/plain": [
       "Map:   0%|          | 0/9696 [00:00<?, ? examples/s]"
      ]
     },
     "metadata": {},
     "output_type": "display_data"
    },
    {
     "data": {
      "application/vnd.jupyter.widget-view+json": {
       "model_id": "2000445e5ecf4c888b68ce1e77bf276c",
       "version_major": 2,
       "version_minor": 0
      },
      "text/plain": [
       "Map:   0%|          | 0/2424 [00:00<?, ? examples/s]"
      ]
     },
     "metadata": {},
     "output_type": "display_data"
    }
   ],
   "source": [
    "def preprocess_data(batch):\n",
    "    batch[\"text\"] = [\n",
    "        x1 + f\" {tokenizer.sep_token} \" + x2\n",
    "        for x1, x2 in zip(batch[\"premise\"], batch[\"hypothesis\"])\n",
    "    ]\n",
    "    return tokenizer(batch[\"text\"])\n",
    "\n",
    "data = data.map(preprocess_data, batched=True)"
   ]
  },
  {
   "cell_type": "code",
   "execution_count": 6,
   "metadata": {},
   "outputs": [
    {
     "name": "stderr",
     "output_type": "stream",
     "text": [
      "huggingface/tokenizers: The current process just got forked, after parallelism has already been used. Disabling parallelism to avoid deadlocks...\n",
      "To disable this warning, you can either:\n",
      "\t- Avoid using `tokenizers` before the fork if possible\n",
      "\t- Explicitly set the environment variable TOKENIZERS_PARALLELISM=(true | false)\n"
     ]
    }
   ],
   "source": [
    "def compute_metrics(eval_pred):\n",
    "    metric = evaluate.load(\"accuracy\")\n",
    "    preds, labels = eval_pred\n",
    "    preds = np.argmax(preds, axis=1)\n",
    "    return metric.compute(predictions=preds, references=labels)\n",
    "\n",
    "\n",
    "train_args = TrainingArguments(\n",
    "    output_dir=os.path.join(OUTPUT_DIR, \"results\"),\n",
    "    logging_dir=os.path.join(OUTPUT_DIR, \"logs\"),\n",
    "    report_to=[],\n",
    "    evaluation_strategy=\"steps\",\n",
    "    eval_steps=200,\n",
    "    logging_steps=200,\n",
    "    save_steps=200,\n",
    "    per_device_eval_batch_size=16,\n",
    "    per_device_train_batch_size=16,\n",
    "    learning_rate=2e-5,\n",
    "    weight_decay=0.005,\n",
    "    num_train_epochs=5,\n",
    "    fp16=True,\n",
    "    load_best_model_at_end=True,\n",
    "    metric_for_best_model=\"accuracy\",\n",
    "    save_total_limit=3,\n",
    "    save_only_model=True,\n",
    ")"
   ]
  },
  {
   "cell_type": "code",
   "execution_count": 7,
   "metadata": {},
   "outputs": [
    {
     "data": {
      "text/html": [
       "\n",
       "    <div>\n",
       "      \n",
       "      <progress value='3030' max='3030' style='width:300px; height:20px; vertical-align: middle;'></progress>\n",
       "      [3030/3030 03:46, Epoch 5/5]\n",
       "    </div>\n",
       "    <table border=\"1\" class=\"dataframe\">\n",
       "  <thead>\n",
       " <tr style=\"text-align: left;\">\n",
       "      <th>Step</th>\n",
       "      <th>Training Loss</th>\n",
       "      <th>Validation Loss</th>\n",
       "      <th>Accuracy</th>\n",
       "    </tr>\n",
       "  </thead>\n",
       "  <tbody>\n",
       "    <tr>\n",
       "      <td>200</td>\n",
       "      <td>1.099800</td>\n",
       "      <td>1.071912</td>\n",
       "      <td>0.444719</td>\n",
       "    </tr>\n",
       "    <tr>\n",
       "      <td>400</td>\n",
       "      <td>1.015700</td>\n",
       "      <td>0.980441</td>\n",
       "      <td>0.518564</td>\n",
       "    </tr>\n",
       "    <tr>\n",
       "      <td>600</td>\n",
       "      <td>0.960700</td>\n",
       "      <td>0.940750</td>\n",
       "      <td>0.585396</td>\n",
       "    </tr>\n",
       "    <tr>\n",
       "      <td>800</td>\n",
       "      <td>0.860900</td>\n",
       "      <td>0.919745</td>\n",
       "      <td>0.594472</td>\n",
       "    </tr>\n",
       "    <tr>\n",
       "      <td>1000</td>\n",
       "      <td>0.848300</td>\n",
       "      <td>0.889830</td>\n",
       "      <td>0.596122</td>\n",
       "    </tr>\n",
       "    <tr>\n",
       "      <td>1200</td>\n",
       "      <td>0.851900</td>\n",
       "      <td>0.872828</td>\n",
       "      <td>0.606023</td>\n",
       "    </tr>\n",
       "    <tr>\n",
       "      <td>1400</td>\n",
       "      <td>0.683200</td>\n",
       "      <td>0.889967</td>\n",
       "      <td>0.625000</td>\n",
       "    </tr>\n",
       "    <tr>\n",
       "      <td>1600</td>\n",
       "      <td>0.688400</td>\n",
       "      <td>0.910510</td>\n",
       "      <td>0.616749</td>\n",
       "    </tr>\n",
       "    <tr>\n",
       "      <td>1800</td>\n",
       "      <td>0.678200</td>\n",
       "      <td>0.900220</td>\n",
       "      <td>0.619637</td>\n",
       "    </tr>\n",
       "    <tr>\n",
       "      <td>2000</td>\n",
       "      <td>0.552800</td>\n",
       "      <td>0.950161</td>\n",
       "      <td>0.627888</td>\n",
       "    </tr>\n",
       "    <tr>\n",
       "      <td>2200</td>\n",
       "      <td>0.537600</td>\n",
       "      <td>0.986326</td>\n",
       "      <td>0.620462</td>\n",
       "    </tr>\n",
       "    <tr>\n",
       "      <td>2400</td>\n",
       "      <td>0.564300</td>\n",
       "      <td>0.974013</td>\n",
       "      <td>0.615099</td>\n",
       "    </tr>\n",
       "    <tr>\n",
       "      <td>2600</td>\n",
       "      <td>0.437300</td>\n",
       "      <td>1.031703</td>\n",
       "      <td>0.629950</td>\n",
       "    </tr>\n",
       "    <tr>\n",
       "      <td>2800</td>\n",
       "      <td>0.473200</td>\n",
       "      <td>1.007311</td>\n",
       "      <td>0.625413</td>\n",
       "    </tr>\n",
       "    <tr>\n",
       "      <td>3000</td>\n",
       "      <td>0.455800</td>\n",
       "      <td>1.023914</td>\n",
       "      <td>0.625000</td>\n",
       "    </tr>\n",
       "  </tbody>\n",
       "</table><p>"
      ],
      "text/plain": [
       "<IPython.core.display.HTML object>"
      ]
     },
     "metadata": {},
     "output_type": "display_data"
    },
    {
     "data": {
      "text/plain": [
       "TrainOutput(global_step=3030, training_loss=0.7106497153984045, metrics={'train_runtime': 226.4179, 'train_samples_per_second': 214.117, 'train_steps_per_second': 13.382, 'total_flos': 2203376327243616.0, 'train_loss': 0.7106497153984045, 'epoch': 5.0})"
      ]
     },
     "execution_count": 7,
     "metadata": {},
     "output_type": "execute_result"
    }
   ],
   "source": [
    "trainer = Trainer(\n",
    "    model=model,\n",
    "    args=train_args,\n",
    "    data_collator=data_collator,\n",
    "    train_dataset=data[\"train\"],\n",
    "    eval_dataset=data[\"val\"],\n",
    "    tokenizer=tokenizer,\n",
    "    compute_metrics=compute_metrics,\n",
    "    callbacks=[EarlyStoppingCallback(3)],\n",
    ")\n",
    "\n",
    "trainer.train()"
   ]
  },
  {
   "cell_type": "code",
   "execution_count": 8,
   "metadata": {},
   "outputs": [],
   "source": [
    "log = trainer.state.log_history"
   ]
  },
  {
   "cell_type": "code",
   "execution_count": 9,
   "metadata": {},
   "outputs": [
    {
     "data": {
      "image/png": "[encoded data removed]",
      "text/plain": [
       "<Figure size 1000x500 with 2 Axes>"
      ]
     },
     "metadata": {},
     "output_type": "display_data"
    }
   ],
   "source": [
    "steps = []\n",
    "train_loss = []\n",
    "eval_loss = []\n",
    "eval_acc = []\n",
    "\n",
    "for i in range(0, len(log) - 1, 2):\n",
    "    train_log = log[i]\n",
    "    eval_log = log[i + 1]\n",
    "    steps.append(train_log[\"step\"])\n",
    "    train_loss.append(train_log[\"loss\"])\n",
    "    eval_loss.append(eval_log[\"eval_loss\"])\n",
    "    eval_acc.append(eval_log[\"eval_accuracy\"])\n",
    "\n",
    "plt.figure(figsize=(10, 5))\n",
    "\n",
    "\n",
    "plt.subplot(1, 2, 1)\n",
    "plt.title(\"xlm-roberta loss vs step\")\n",
    "plt.xlabel(\"# steps\")\n",
    "plt.ylabel(\"loss\")\n",
    "plt.plot(steps, train_loss, label=\"training loss\")\n",
    "plt.plot(steps, eval_loss, label=\"eval loss\")\n",
    "plt.legend()\n",
    "\n",
    "plt.subplot(1, 2, 2)\n",
    "plt.title(\"xlm-roberta acc vs step\")\n",
    "plt.xlabel(\"# steps\")\n",
    "plt.ylabel(\"acc\")\n",
    "plt.plot(steps, eval_acc, label=\"eval acc\")\n",
    "plt.legend()\n",
    "\n",
    "plt.tight_layout()\n",
    "plt.show()"
   ]
  },
  {
   "cell_type": "code",
   "execution_count": 10,
   "metadata": {},
   "outputs": [
    {
     "data": {
      "text/html": [
       "\n",
       "    <div>\n",
       "      \n",
       "      <progress value='6' max='325' style='width:300px; height:20px; vertical-align: middle;'></progress>\n",
       "      [  6/325 00:00 < 00:03, 84.97 it/s]\n",
       "    </div>\n",
       "    "
      ],
      "text/plain": [
       "<IPython.core.display.HTML object>"
      ]
     },
     "metadata": {},
     "output_type": "display_data"
    }
   ],
   "source": [
    "preds = trainer.predict(data[\"test\"])"
   ]
  },
  {
   "cell_type": "code",
   "execution_count": 11,
   "metadata": {},
   "outputs": [],
   "source": [
    "pd.DataFrame(\n",
    "    {\"id\": data[\"test\"][\"id\"], \"prediction\": np.argmax(preds.predictions, axis=1)}\n",
    ").to_csv(os.path.join(OUTPUT_DIR, \"submission.csv\"), header=True, index=False)"
   ]
  },
  {
   "cell_type": "code",
   "execution_count": null,
   "metadata": {},
   "outputs": [],
   "source": []
  }
 ],
 "metadata": {
  "kernelspec": {
   "display_name": "Python 3 (ipykernel)",
   "language": "python",
   "name": "python3"
  },
  "language_info": {
   "codemirror_mode": {
    "name": "ipython",
    "version": 3
   },
   "file_extension": ".py",
   "mimetype": "text/x-python",
   "name": "python",
   "nbconvert_exporter": "python",
   "pygments_lexer": "ipython3",
   "version": "3.11.9"
  }
 },
 "nbformat": 4,
 "nbformat_minor": 4
}
